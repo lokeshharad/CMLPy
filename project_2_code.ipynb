{
 "cells": [
  {
   "cell_type": "code",
   "execution_count": 1,
   "metadata": {},
   "outputs": [
    {
     "name": "stderr",
     "output_type": "stream",
     "text": [
      "C:\\Users\\dell\\AppData\\Local\\conda\\conda\\envs\\tensorflow\\lib\\site-packages\\sklearn\\cross_validation.py:41: DeprecationWarning: This module was deprecated in version 0.18 in favor of the model_selection module into which all the refactored classes and functions are moved. Also note that the interface of the new CV iterators are different from that of this module. This module will be removed in 0.20.\n",
      "  \"This module will be removed in 0.20.\", DeprecationWarning)\n",
      "C:\\Users\\dell\\AppData\\Local\\conda\\conda\\envs\\tensorflow\\lib\\site-packages\\sklearn\\ensemble\\weight_boosting.py:29: DeprecationWarning: numpy.core.umath_tests is an internal NumPy module and should not be imported. It will be removed in a future NumPy release.\n",
      "  from numpy.core.umath_tests import inner1d\n"
     ]
    }
   ],
   "source": [
    "import warnings\n",
    "warnings.filterwarnings('ignore')\n",
    "import re\n",
    "import math as m\n",
    "import numpy as np\n",
    "import pandas as pd\n",
    "import scipy\n",
    "\n",
    "import matplotlib.pyplot as plt\n",
    "%matplotlib inline\n",
    "import seaborn as sns\n",
    "\n",
    "\n",
    "import sklearn\n",
    "from sklearn.feature_selection import SelectKBest, chi2\n",
    "from sklearn.feature_extraction.text import TfidfVectorizer,CountVectorizer\n",
    "\n",
    "from sklearn.feature_selection import chi2, SelectKBest\n",
    "\n",
    "from sklearn.cross_validation import train_test_split,KFold\n",
    "\n",
    "from sklearn.preprocessing import StandardScaler\n",
    "\n",
    "from sklearn.linear_model import LogisticRegression\n",
    "from sklearn.ensemble import RandomForestClassifier\n",
    "from sklearn.neural_network import MLPClassifier\n",
    "# from sklearn.model_selection import train_test_split\n",
    "\n",
    "from sklearn.model_selection import GridSearchCV,RandomizedSearchCV \n",
    "\n",
    "from sklearn import metrics\n",
    "from sklearn.metrics import auc, accuracy_score,roc_auc_score,confusion_matrix,classification_report,fbeta_score,make_scorer\n"
   ]
  },
  {
   "cell_type": "code",
   "execution_count": 2,
   "metadata": {},
   "outputs": [
    {
     "name": "stdout",
     "output_type": "stream",
     "text": [
      "Shape of training data set:(5822, 86)\n",
      "Shape of test data set:(4000, 85)\n"
     ]
    }
   ],
   "source": [
    "train_data = pd.read_csv(\"carvan_train.csv\")\n",
    "test_data = pd.read_csv(\"carvan_test.csv\")\n",
    "print(\"Shape of training data set:{}\".format(train_data.shape))\n",
    "print(\"Shape of test data set:{}\".format(test_data.shape))"
   ]
  },
  {
   "cell_type": "code",
   "execution_count": 3,
   "metadata": {},
   "outputs": [
    {
     "data": {
      "text/plain": [
       "(9822, 87)"
      ]
     },
     "execution_count": 3,
     "metadata": {},
     "output_type": "execute_result"
    }
   ],
   "source": [
    "test_data[\"V86\"] = np.nan\n",
    "\n",
    "train_data[\"data\"] = \"train\"\n",
    "test_data[\"data\"]  = \"test\"\n",
    "\n",
    "test_data = test_data[train_data.columns]\n",
    "all_data  = pd.concat([train_data, test_data], axis=0)\n",
    "\n",
    "all_data.shape"
   ]
  },
  {
   "cell_type": "code",
   "execution_count": 4,
   "metadata": {},
   "outputs": [
    {
     "data": {
      "text/plain": [
       "V1        int64\n",
       "V2        int64\n",
       "V3        int64\n",
       "V4        int64\n",
       "V5        int64\n",
       "V6        int64\n",
       "V7        int64\n",
       "V8        int64\n",
       "V9        int64\n",
       "V10       int64\n",
       "V11       int64\n",
       "V12       int64\n",
       "V13       int64\n",
       "V14       int64\n",
       "V15       int64\n",
       "V16       int64\n",
       "V17       int64\n",
       "V18       int64\n",
       "V19       int64\n",
       "V20       int64\n",
       "V21       int64\n",
       "V22       int64\n",
       "V23       int64\n",
       "V24       int64\n",
       "V25       int64\n",
       "V26       int64\n",
       "V27       int64\n",
       "V28       int64\n",
       "V29       int64\n",
       "V30       int64\n",
       "         ...   \n",
       "V58       int64\n",
       "V59       int64\n",
       "V60       int64\n",
       "V61       int64\n",
       "V62       int64\n",
       "V63       int64\n",
       "V64       int64\n",
       "V65       int64\n",
       "V66       int64\n",
       "V67       int64\n",
       "V68       int64\n",
       "V69       int64\n",
       "V70       int64\n",
       "V71       int64\n",
       "V72       int64\n",
       "V73       int64\n",
       "V74       int64\n",
       "V75       int64\n",
       "V76       int64\n",
       "V77       int64\n",
       "V78       int64\n",
       "V79       int64\n",
       "V80       int64\n",
       "V81       int64\n",
       "V82       int64\n",
       "V83       int64\n",
       "V84       int64\n",
       "V85       int64\n",
       "V86     float64\n",
       "data     object\n",
       "Length: 87, dtype: object"
      ]
     },
     "execution_count": 4,
     "metadata": {},
     "output_type": "execute_result"
    }
   ],
   "source": [
    "all_data.dtypes"
   ]
  },
  {
   "cell_type": "code",
   "execution_count": 5,
   "metadata": {},
   "outputs": [
    {
     "data": {
      "text/plain": [
       "V1      40\n",
       "V2       9\n",
       "V3       6\n",
       "V4       6\n",
       "V5      10\n",
       "V6      10\n",
       "V7      10\n",
       "V8       6\n",
       "V9      10\n",
       "V10     10\n",
       "V11      8\n",
       "V12     10\n",
       "V13     10\n",
       "V14     10\n",
       "V15     10\n",
       "V16     10\n",
       "V17     10\n",
       "V18     10\n",
       "V19     10\n",
       "V20      6\n",
       "V21     10\n",
       "V22     10\n",
       "V23     10\n",
       "V24     10\n",
       "V25     10\n",
       "V26     10\n",
       "V27     10\n",
       "V28     10\n",
       "V29     10\n",
       "V30     10\n",
       "        ..\n",
       "V58      5\n",
       "V59      9\n",
       "V60      4\n",
       "V61      7\n",
       "V62      2\n",
       "V63      7\n",
       "V64      5\n",
       "V65      3\n",
       "V66      3\n",
       "V67      2\n",
       "V68      9\n",
       "V69      6\n",
       "V70      5\n",
       "V71      5\n",
       "V72      4\n",
       "V73      7\n",
       "V74      6\n",
       "V75      4\n",
       "V76      7\n",
       "V77      2\n",
       "V78      2\n",
       "V79      3\n",
       "V80      8\n",
       "V81      2\n",
       "V82      3\n",
       "V83      5\n",
       "V84      3\n",
       "V85      3\n",
       "V86      3\n",
       "data     2\n",
       "Length: 87, dtype: int64"
      ]
     },
     "execution_count": 5,
     "metadata": {},
     "output_type": "execute_result"
    }
   ],
   "source": [
    "all_data.nunique(dropna=False)"
   ]
  },
  {
   "cell_type": "code",
   "execution_count": 6,
   "metadata": {},
   "outputs": [
    {
     "data": {
      "text/plain": [
       "Index(['V1', 'V2', 'V3', 'V4', 'V5', 'V6', 'V7', 'V8', 'V9', 'V10', 'V11',\n",
       "       'V12', 'V13', 'V14', 'V15', 'V16', 'V17', 'V18', 'V19', 'V20', 'V21',\n",
       "       'V22', 'V23', 'V24', 'V25', 'V26', 'V27', 'V28', 'V29', 'V30', 'V31',\n",
       "       'V32', 'V33', 'V34', 'V35', 'V36', 'V37', 'V38', 'V39', 'V40', 'V41',\n",
       "       'V42', 'V43', 'V44', 'V45', 'V46', 'V47', 'V48', 'V49', 'V50', 'V51',\n",
       "       'V52', 'V53', 'V54', 'V55', 'V56', 'V57', 'V58', 'V59', 'V60', 'V61',\n",
       "       'V62', 'V63', 'V64', 'V65', 'V66', 'V67', 'V68', 'V69', 'V70', 'V71',\n",
       "       'V72', 'V73', 'V74', 'V75', 'V76', 'V77', 'V78', 'V79', 'V80', 'V81',\n",
       "       'V82', 'V83', 'V84', 'V85'],\n",
       "      dtype='object')"
      ]
     },
     "execution_count": 6,
     "metadata": {},
     "output_type": "execute_result"
    }
   ],
   "source": [
    "all_data.columns[:85]"
   ]
  },
  {
   "cell_type": "code",
   "execution_count": null,
   "metadata": {},
   "outputs": [],
   "source": []
  },
  {
   "cell_type": "code",
   "execution_count": 7,
   "metadata": {},
   "outputs": [],
   "source": [
    "for col in all_data.columns[:85]:\n",
    "    all_data[col]=all_data[col].astype(str)"
   ]
  },
  {
   "cell_type": "code",
   "execution_count": 8,
   "metadata": {},
   "outputs": [
    {
     "data": {
      "text/plain": [
       "V1       object\n",
       "V2       object\n",
       "V3       object\n",
       "V4       object\n",
       "V5       object\n",
       "V6       object\n",
       "V7       object\n",
       "V8       object\n",
       "V9       object\n",
       "V10      object\n",
       "V11      object\n",
       "V12      object\n",
       "V13      object\n",
       "V14      object\n",
       "V15      object\n",
       "V16      object\n",
       "V17      object\n",
       "V18      object\n",
       "V19      object\n",
       "V20      object\n",
       "V21      object\n",
       "V22      object\n",
       "V23      object\n",
       "V24      object\n",
       "V25      object\n",
       "V26      object\n",
       "V27      object\n",
       "V28      object\n",
       "V29      object\n",
       "V30      object\n",
       "         ...   \n",
       "V58      object\n",
       "V59      object\n",
       "V60      object\n",
       "V61      object\n",
       "V62      object\n",
       "V63      object\n",
       "V64      object\n",
       "V65      object\n",
       "V66      object\n",
       "V67      object\n",
       "V68      object\n",
       "V69      object\n",
       "V70      object\n",
       "V71      object\n",
       "V72      object\n",
       "V73      object\n",
       "V74      object\n",
       "V75      object\n",
       "V76      object\n",
       "V77      object\n",
       "V78      object\n",
       "V79      object\n",
       "V80      object\n",
       "V81      object\n",
       "V82      object\n",
       "V83      object\n",
       "V84      object\n",
       "V85      object\n",
       "V86     float64\n",
       "data     object\n",
       "Length: 87, dtype: object"
      ]
     },
     "execution_count": 8,
     "metadata": {},
     "output_type": "execute_result"
    }
   ],
   "source": [
    "all_data.dtypes"
   ]
  },
  {
   "cell_type": "code",
   "execution_count": 9,
   "metadata": {},
   "outputs": [],
   "source": [
    "def Create_dummies(data, col, cutoff=0):\n",
    "    t = data[col].value_counts(dropna=False)\n",
    "    t = t[t>cutoff]\n",
    "    categories = t.index[:-1].astype(str)\n",
    "    for cat in categories:\n",
    "        name = col+\"_\"+cat\n",
    "        name = re.sub(\"\\.\",\"_\",name)\n",
    "        name = re.sub(\" \",\"_\",name)\n",
    "        name = re.sub(\",\",\"\",name)\n",
    "        name = re.sub(\"<\",\"LT_\",name)\n",
    "        name = re.sub(\">\",\"GT_\",name)\n",
    "        name = re.sub(\"\\+\",\"_\",name)\n",
    "        name = re.sub(\"/\",\"_\",name)\n",
    "        name = re.sub(\"=\",\"EQ_\",name)\n",
    "        name = re.sub(\"\\?\",\"Q\",name)\n",
    "        \n",
    "        data[name] = np.where(data[col]==cat,1,0)\n",
    "        \n",
    "    data.drop([col],1, inplace=True)\n",
    "    return(data)\n"
   ]
  },
  {
   "cell_type": "code",
   "execution_count": 10,
   "metadata": {},
   "outputs": [],
   "source": [
    "for col in all_data.columns[:85]:\n",
    "    Create_dummies(all_data,col,cutoff=75)\n",
    "#     Create_dummies(all_data,col, cutoff=100)"
   ]
  },
  {
   "cell_type": "code",
   "execution_count": 11,
   "metadata": {},
   "outputs": [
    {
     "data": {
      "text/plain": [
       "(9822, 346)"
      ]
     },
     "execution_count": 11,
     "metadata": {},
     "output_type": "execute_result"
    }
   ],
   "source": [
    "all_data.shape"
   ]
  },
  {
   "cell_type": "code",
   "execution_count": 12,
   "metadata": {},
   "outputs": [
    {
     "data": {
      "text/html": [
       "<div>\n",
       "<style scoped>\n",
       "    .dataframe tbody tr th:only-of-type {\n",
       "        vertical-align: middle;\n",
       "    }\n",
       "\n",
       "    .dataframe tbody tr th {\n",
       "        vertical-align: top;\n",
       "    }\n",
       "\n",
       "    .dataframe thead th {\n",
       "        text-align: right;\n",
       "    }\n",
       "</style>\n",
       "<table border=\"1\" class=\"dataframe\">\n",
       "  <thead>\n",
       "    <tr style=\"text-align: right;\">\n",
       "      <th></th>\n",
       "      <th>V86</th>\n",
       "      <th>data</th>\n",
       "      <th>V1_33</th>\n",
       "      <th>V1_38</th>\n",
       "      <th>V1_8</th>\n",
       "      <th>V1_39</th>\n",
       "      <th>V1_9</th>\n",
       "      <th>V1_3</th>\n",
       "      <th>V1_23</th>\n",
       "      <th>V1_36</th>\n",
       "      <th>...</th>\n",
       "      <th>V73_0</th>\n",
       "      <th>V75_0</th>\n",
       "      <th>V76_0</th>\n",
       "      <th>V76_1</th>\n",
       "      <th>V78_0</th>\n",
       "      <th>V80_1</th>\n",
       "      <th>V80_0</th>\n",
       "      <th>V83_0</th>\n",
       "      <th>V84_0</th>\n",
       "      <th>V85_0</th>\n",
       "    </tr>\n",
       "  </thead>\n",
       "  <tbody>\n",
       "    <tr>\n",
       "      <th>0</th>\n",
       "      <td>0.0</td>\n",
       "      <td>train</td>\n",
       "      <td>1</td>\n",
       "      <td>0</td>\n",
       "      <td>0</td>\n",
       "      <td>0</td>\n",
       "      <td>0</td>\n",
       "      <td>0</td>\n",
       "      <td>0</td>\n",
       "      <td>0</td>\n",
       "      <td>...</td>\n",
       "      <td>1</td>\n",
       "      <td>1</td>\n",
       "      <td>1</td>\n",
       "      <td>0</td>\n",
       "      <td>1</td>\n",
       "      <td>1</td>\n",
       "      <td>0</td>\n",
       "      <td>1</td>\n",
       "      <td>1</td>\n",
       "      <td>1</td>\n",
       "    </tr>\n",
       "    <tr>\n",
       "      <th>1</th>\n",
       "      <td>0.0</td>\n",
       "      <td>train</td>\n",
       "      <td>0</td>\n",
       "      <td>0</td>\n",
       "      <td>0</td>\n",
       "      <td>0</td>\n",
       "      <td>0</td>\n",
       "      <td>0</td>\n",
       "      <td>0</td>\n",
       "      <td>0</td>\n",
       "      <td>...</td>\n",
       "      <td>1</td>\n",
       "      <td>1</td>\n",
       "      <td>1</td>\n",
       "      <td>0</td>\n",
       "      <td>1</td>\n",
       "      <td>1</td>\n",
       "      <td>0</td>\n",
       "      <td>1</td>\n",
       "      <td>1</td>\n",
       "      <td>1</td>\n",
       "    </tr>\n",
       "    <tr>\n",
       "      <th>2</th>\n",
       "      <td>0.0</td>\n",
       "      <td>train</td>\n",
       "      <td>0</td>\n",
       "      <td>0</td>\n",
       "      <td>0</td>\n",
       "      <td>0</td>\n",
       "      <td>0</td>\n",
       "      <td>0</td>\n",
       "      <td>0</td>\n",
       "      <td>0</td>\n",
       "      <td>...</td>\n",
       "      <td>1</td>\n",
       "      <td>1</td>\n",
       "      <td>1</td>\n",
       "      <td>0</td>\n",
       "      <td>1</td>\n",
       "      <td>1</td>\n",
       "      <td>0</td>\n",
       "      <td>1</td>\n",
       "      <td>1</td>\n",
       "      <td>1</td>\n",
       "    </tr>\n",
       "    <tr>\n",
       "      <th>3</th>\n",
       "      <td>0.0</td>\n",
       "      <td>train</td>\n",
       "      <td>0</td>\n",
       "      <td>0</td>\n",
       "      <td>0</td>\n",
       "      <td>0</td>\n",
       "      <td>1</td>\n",
       "      <td>0</td>\n",
       "      <td>0</td>\n",
       "      <td>0</td>\n",
       "      <td>...</td>\n",
       "      <td>1</td>\n",
       "      <td>1</td>\n",
       "      <td>1</td>\n",
       "      <td>0</td>\n",
       "      <td>1</td>\n",
       "      <td>1</td>\n",
       "      <td>0</td>\n",
       "      <td>1</td>\n",
       "      <td>1</td>\n",
       "      <td>1</td>\n",
       "    </tr>\n",
       "    <tr>\n",
       "      <th>4</th>\n",
       "      <td>0.0</td>\n",
       "      <td>train</td>\n",
       "      <td>0</td>\n",
       "      <td>0</td>\n",
       "      <td>0</td>\n",
       "      <td>0</td>\n",
       "      <td>0</td>\n",
       "      <td>0</td>\n",
       "      <td>0</td>\n",
       "      <td>0</td>\n",
       "      <td>...</td>\n",
       "      <td>1</td>\n",
       "      <td>1</td>\n",
       "      <td>1</td>\n",
       "      <td>0</td>\n",
       "      <td>1</td>\n",
       "      <td>1</td>\n",
       "      <td>0</td>\n",
       "      <td>1</td>\n",
       "      <td>1</td>\n",
       "      <td>1</td>\n",
       "    </tr>\n",
       "  </tbody>\n",
       "</table>\n",
       "<p>5 rows × 346 columns</p>\n",
       "</div>"
      ],
      "text/plain": [
       "   V86   data  V1_33  V1_38  V1_8  V1_39  V1_9  V1_3  V1_23  V1_36  ...    \\\n",
       "0  0.0  train      1      0     0      0     0     0      0      0  ...     \n",
       "1  0.0  train      0      0     0      0     0     0      0      0  ...     \n",
       "2  0.0  train      0      0     0      0     0     0      0      0  ...     \n",
       "3  0.0  train      0      0     0      0     1     0      0      0  ...     \n",
       "4  0.0  train      0      0     0      0     0     0      0      0  ...     \n",
       "\n",
       "   V73_0  V75_0  V76_0  V76_1  V78_0  V80_1  V80_0  V83_0  V84_0  V85_0  \n",
       "0      1      1      1      0      1      1      0      1      1      1  \n",
       "1      1      1      1      0      1      1      0      1      1      1  \n",
       "2      1      1      1      0      1      1      0      1      1      1  \n",
       "3      1      1      1      0      1      1      0      1      1      1  \n",
       "4      1      1      1      0      1      1      0      1      1      1  \n",
       "\n",
       "[5 rows x 346 columns]"
      ]
     },
     "execution_count": 12,
     "metadata": {},
     "output_type": "execute_result"
    }
   ],
   "source": [
    "all_data.head()"
   ]
  },
  {
   "cell_type": "code",
   "execution_count": 13,
   "metadata": {},
   "outputs": [
    {
     "data": {
      "text/plain": [
       "0.0    5474\n",
       "1.0     348\n",
       "Name: V86, dtype: int64"
      ]
     },
     "execution_count": 13,
     "metadata": {},
     "output_type": "execute_result"
    }
   ],
   "source": [
    "all_data[\"V86\"].value_counts()#95%,5% : 0 and 1"
   ]
  },
  {
   "cell_type": "code",
   "execution_count": 14,
   "metadata": {},
   "outputs": [
    {
     "name": "stdout",
     "output_type": "stream",
     "text": [
      "(5822, 345)\n",
      "(4000, 344)\n"
     ]
    }
   ],
   "source": [
    "train_data = all_data[all_data[\"data\"]==\"train\"]\n",
    "del train_data[\"data\"]\n",
    "print(train_data.shape)\n",
    "\n",
    "test_data = all_data[all_data[\"data\"]==\"test\"]\n",
    "del test_data[\"data\"]\n",
    "del test_data[\"V86\"]\n",
    "print(test_data.shape)"
   ]
  },
  {
   "cell_type": "code",
   "execution_count": 15,
   "metadata": {},
   "outputs": [
    {
     "name": "stdout",
     "output_type": "stream",
     "text": [
      "(5822, 344) (5822,)\n",
      "(4366, 344) (4366,) (1456, 344) (1456,)\n"
     ]
    }
   ],
   "source": [
    "Tr_x = train_data.drop([\"V86\"],1)\n",
    "Tr_y = train_data[\"V86\"]\n",
    "print(Tr_x.shape,Tr_y.shape)\n",
    "x_train, x_test, y_train, y_test = train_test_split(Tr_x,Tr_y)\n",
    "print(x_train.shape,y_train.shape,x_test.shape,y_test.shape)"
   ]
  },
  {
   "cell_type": "code",
   "execution_count": 16,
   "metadata": {},
   "outputs": [],
   "source": [
    "# Tr_x_new = SelectKBest(chi2,k=150).fit_transform(Tr_x,Tr_y)\n",
    "# Tr_x_new.shape"
   ]
  },
  {
   "cell_type": "code",
   "execution_count": null,
   "metadata": {},
   "outputs": [],
   "source": []
  },
  {
   "cell_type": "code",
   "execution_count": 17,
   "metadata": {},
   "outputs": [],
   "source": [
    "# scaler = StandardScaler()\n",
    "# scaler.fit(x_train)\n",
    "# x_train = scaler.transform(x_train)\n",
    "# x_test = scaler.transform(x_test)\n",
    "\n",
    "# X_Tr = train_data.drop([\"V86\"],1)\n",
    "# Y_Tr = train_data[\"V86\"]\n",
    "# scaler.fit(X_Tr)\n",
    "# X_Tr = scaler.transform(X_Tr)\n",
    "# X_Ts = scaler.transform(test_data)"
   ]
  },
  {
   "cell_type": "code",
   "execution_count": 18,
   "metadata": {},
   "outputs": [],
   "source": [
    "# modelnn = MLPClassifier(max_iter=500,random_state=1)\n",
    "# modellr = LogisticRegression(fit_intercept=True,max_iter=500,random_state=10)\n",
    "modelrf = RandomForestClassifier(random_state=10)"
   ]
  },
  {
   "cell_type": "code",
   "execution_count": 19,
   "metadata": {},
   "outputs": [],
   "source": [
    "# paramsnn = {\"hidden_layer_sizes\":[(50,40,20),(50,40,10)],\n",
    "#            \"alpha\":np.arange(0.0002,0.0003,0.00001),\n",
    "#            \"activation\":[\"relu\"]}\n",
    "\n",
    "# paramslg={'class_weight':['balanced',None],\n",
    "#         'penalty':['l1','l2'],\n",
    "#         'C':np.linspace(35,37,10)}\n",
    "\n",
    "param_dist = {\"n_estimators\":[100,200,300],\n",
    "              \"max_features\": [5,10,20,25],\n",
    "              \"bootstrap\": [True, False],\n",
    "              'class_weight':[None,'balanced'], \n",
    "                'criterion':['entropy','gini'],\n",
    "                'max_depth':[None,5,10,15,20],\n",
    "                'min_samples_leaf':[10,15,20], \n",
    "                'min_samples_split':[10,15,20]\n",
    "                  }"
   ]
  },
  {
   "cell_type": "code",
   "execution_count": 20,
   "metadata": {},
   "outputs": [
    {
     "data": {
      "text/plain": [
       "{'bootstrap': [True, False],\n",
       " 'class_weight': [None, 'balanced'],\n",
       " 'criterion': ['entropy', 'gini'],\n",
       " 'max_depth': [None, 5, 10, 15, 20],\n",
       " 'max_features': [5, 10, 20, 25],\n",
       " 'min_samples_leaf': [10, 15, 20],\n",
       " 'min_samples_split': [10, 15, 20],\n",
       " 'n_estimators': [100, 200, 300]}"
      ]
     },
     "execution_count": 20,
     "metadata": {},
     "output_type": "execute_result"
    }
   ],
   "source": [
    "# paramslg\n",
    "param_dist"
   ]
  },
  {
   "cell_type": "code",
   "execution_count": 21,
   "metadata": {},
   "outputs": [],
   "source": [
    "f2_score = make_scorer(fbeta_score,beta=2)"
   ]
  },
  {
   "cell_type": "code",
   "execution_count": 22,
   "metadata": {},
   "outputs": [
    {
     "data": {
      "text/plain": [
       "make_scorer(fbeta_score, beta=2)"
      ]
     },
     "execution_count": 22,
     "metadata": {},
     "output_type": "execute_result"
    }
   ],
   "source": [
    "f2_score"
   ]
  },
  {
   "cell_type": "code",
   "execution_count": 23,
   "metadata": {},
   "outputs": [],
   "source": [
    "# grid_search=GridSearchCV(modellr,cv=10,param_grid=paramslg,scoring=f2_score,verbose=50)\n",
    "# grid_search=GridSearchCV(modellr,cv=10,param_grid=param_dist,scoring=f2_score,verbose=50)\n",
    "\n",
    "random_search=RandomizedSearchCV(modelrf,cv=10,\n",
    "                                 param_distributions=param_dist,\n",
    "                                 scoring=f2_score,\n",
    "                                 n_iter=50,verbose=500\n",
    "                                    )"
   ]
  },
  {
   "cell_type": "code",
   "execution_count": 24,
   "metadata": {},
   "outputs": [
    {
     "data": {
      "text/plain": [
       "RandomizedSearchCV(cv=10, error_score='raise',\n",
       "          estimator=RandomForestClassifier(bootstrap=True, class_weight=None, criterion='gini',\n",
       "            max_depth=None, max_features='auto', max_leaf_nodes=None,\n",
       "            min_impurity_decrease=0.0, min_impurity_split=None,\n",
       "            min_samples_leaf=1, min_samples_split=2,\n",
       "            min_weight_fraction_leaf=0.0, n_estimators=10, n_jobs=1,\n",
       "            oob_score=False, random_state=10, verbose=0, warm_start=False),\n",
       "          fit_params=None, iid=True, n_iter=50, n_jobs=1,\n",
       "          param_distributions={'criterion': ['entropy', 'gini'], 'bootstrap': [True, False], 'n_estimators': [100, 200, 300], 'max_features': [5, 10, 20, 25], 'class_weight': [None, 'balanced'], 'min_samples_split': [10, 15, 20], 'max_depth': [None, 5, 10, 15, 20], 'min_samples_leaf': [10, 15, 20]},\n",
       "          pre_dispatch='2*n_jobs', random_state=None, refit=True,\n",
       "          return_train_score='warn',\n",
       "          scoring=make_scorer(fbeta_score, beta=2), verbose=500)"
      ]
     },
     "execution_count": 24,
     "metadata": {},
     "output_type": "execute_result"
    }
   ],
   "source": [
    "# grid_search\n",
    "random_search"
   ]
  },
  {
   "cell_type": "code",
   "execution_count": 25,
   "metadata": {
    "scrolled": true
   },
   "outputs": [
    {
     "name": "stdout",
     "output_type": "stream",
     "text": [
      "Fitting 10 folds for each of 50 candidates, totalling 500 fits\n",
      "[CV] criterion=gini, bootstrap=True, n_estimators=100, max_features=5, class_weight=None, max_depth=15, min_samples_split=15, min_samples_leaf=15 \n"
     ]
    },
    {
     "name": "stderr",
     "output_type": "stream",
     "text": [
      "C:\\Users\\dell\\AppData\\Local\\conda\\conda\\envs\\tensorflow\\lib\\site-packages\\sklearn\\metrics\\classification.py:1135: UndefinedMetricWarning: F-score is ill-defined and being set to 0.0 due to no predicted samples.\n",
      "  'precision', 'predicted', average, warn_for)\n",
      "C:\\Users\\dell\\AppData\\Local\\conda\\conda\\envs\\tensorflow\\lib\\site-packages\\sklearn\\metrics\\classification.py:1135: UndefinedMetricWarning: F-score is ill-defined and being set to 0.0 due to no predicted samples.\n",
      "  'precision', 'predicted', average, warn_for)\n"
     ]
    },
    {
     "name": "stdout",
     "output_type": "stream",
     "text": [
      "[CV]  criterion=gini, bootstrap=True, n_estimators=100, max_features=5, class_weight=None, max_depth=15, min_samples_split=15, min_samples_leaf=15, score=0.0, total=   0.5s\n",
      "[Parallel(n_jobs=1)]: Done   1 out of   1 | elapsed:    0.6s remaining:    0.0s\n",
      "[CV] criterion=gini, bootstrap=True, n_estimators=100, max_features=5, class_weight=None, max_depth=15, min_samples_split=15, min_samples_leaf=15 \n"
     ]
    },
    {
     "name": "stderr",
     "output_type": "stream",
     "text": [
      "C:\\Users\\dell\\AppData\\Local\\conda\\conda\\envs\\tensorflow\\lib\\site-packages\\sklearn\\metrics\\classification.py:1135: UndefinedMetricWarning: F-score is ill-defined and being set to 0.0 due to no predicted samples.\n",
      "  'precision', 'predicted', average, warn_for)\n",
      "C:\\Users\\dell\\AppData\\Local\\conda\\conda\\envs\\tensorflow\\lib\\site-packages\\sklearn\\metrics\\classification.py:1135: UndefinedMetricWarning: F-score is ill-defined and being set to 0.0 due to no predicted samples.\n",
      "  'precision', 'predicted', average, warn_for)\n"
     ]
    },
    {
     "name": "stdout",
     "output_type": "stream",
     "text": [
      "[CV]  criterion=gini, bootstrap=True, n_estimators=100, max_features=5, class_weight=None, max_depth=15, min_samples_split=15, min_samples_leaf=15, score=0.0, total=   0.5s\n",
      "[Parallel(n_jobs=1)]: Done   2 out of   2 | elapsed:    1.4s remaining:    0.0s\n",
      "[CV] criterion=gini, bootstrap=True, n_estimators=100, max_features=5, class_weight=None, max_depth=15, min_samples_split=15, min_samples_leaf=15 \n"
     ]
    },
    {
     "name": "stderr",
     "output_type": "stream",
     "text": [
      "C:\\Users\\dell\\AppData\\Local\\conda\\conda\\envs\\tensorflow\\lib\\site-packages\\sklearn\\metrics\\classification.py:1135: UndefinedMetricWarning: F-score is ill-defined and being set to 0.0 due to no predicted samples.\n",
      "  'precision', 'predicted', average, warn_for)\n",
      "C:\\Users\\dell\\AppData\\Local\\conda\\conda\\envs\\tensorflow\\lib\\site-packages\\sklearn\\metrics\\classification.py:1135: UndefinedMetricWarning: F-score is ill-defined and being set to 0.0 due to no predicted samples.\n",
      "  'precision', 'predicted', average, warn_for)\n"
     ]
    },
    {
     "name": "stdout",
     "output_type": "stream",
     "text": [
      "[CV]  criterion=gini, bootstrap=True, n_estimators=100, max_features=5, class_weight=None, max_depth=15, min_samples_split=15, min_samples_leaf=15, score=0.0, total=   0.5s\n",
      "[Parallel(n_jobs=1)]: Done   3 out of   3 | elapsed:    2.2s remaining:    0.0s\n",
      "[CV] criterion=gini, bootstrap=True, n_estimators=100, max_features=5, class_weight=None, max_depth=15, min_samples_split=15, min_samples_leaf=15 \n"
     ]
    },
    {
     "name": "stderr",
     "output_type": "stream",
     "text": [
      "C:\\Users\\dell\\AppData\\Local\\conda\\conda\\envs\\tensorflow\\lib\\site-packages\\sklearn\\metrics\\classification.py:1135: UndefinedMetricWarning: F-score is ill-defined and being set to 0.0 due to no predicted samples.\n",
      "  'precision', 'predicted', average, warn_for)\n",
      "C:\\Users\\dell\\AppData\\Local\\conda\\conda\\envs\\tensorflow\\lib\\site-packages\\sklearn\\metrics\\classification.py:1135: UndefinedMetricWarning: F-score is ill-defined and being set to 0.0 due to no predicted samples.\n",
      "  'precision', 'predicted', average, warn_for)\n"
     ]
    },
    {
     "name": "stdout",
     "output_type": "stream",
     "text": [
      "[CV]  criterion=gini, bootstrap=True, n_estimators=100, max_features=5, class_weight=None, max_depth=15, min_samples_split=15, min_samples_leaf=15, score=0.0, total=   0.6s\n",
      "[Parallel(n_jobs=1)]: Done   4 out of   4 | elapsed:    3.1s remaining:    0.0s\n",
      "[CV] criterion=gini, bootstrap=True, n_estimators=100, max_features=5, class_weight=None, max_depth=15, min_samples_split=15, min_samples_leaf=15 \n"
     ]
    },
    {
     "name": "stderr",
     "output_type": "stream",
     "text": [
      "C:\\Users\\dell\\AppData\\Local\\conda\\conda\\envs\\tensorflow\\lib\\site-packages\\sklearn\\metrics\\classification.py:1135: UndefinedMetricWarning: F-score is ill-defined and being set to 0.0 due to no predicted samples.\n",
      "  'precision', 'predicted', average, warn_for)\n",
      "C:\\Users\\dell\\AppData\\Local\\conda\\conda\\envs\\tensorflow\\lib\\site-packages\\sklearn\\metrics\\classification.py:1135: UndefinedMetricWarning: F-score is ill-defined and being set to 0.0 due to no predicted samples.\n",
      "  'precision', 'predicted', average, warn_for)\n"
     ]
    },
    {
     "name": "stdout",
     "output_type": "stream",
     "text": [
      "[CV]  criterion=gini, bootstrap=True, n_estimators=100, max_features=5, class_weight=None, max_depth=15, min_samples_split=15, min_samples_leaf=15, score=0.0, total=   0.7s\n",
      "[Parallel(n_jobs=1)]: Done   5 out of   5 | elapsed:    4.0s remaining:    0.0s\n",
      "[CV] criterion=gini, bootstrap=True, n_estimators=100, max_features=5, class_weight=None, max_depth=15, min_samples_split=15, min_samples_leaf=15 \n"
     ]
    },
    {
     "name": "stderr",
     "output_type": "stream",
     "text": [
      "C:\\Users\\dell\\AppData\\Local\\conda\\conda\\envs\\tensorflow\\lib\\site-packages\\sklearn\\metrics\\classification.py:1135: UndefinedMetricWarning: F-score is ill-defined and being set to 0.0 due to no predicted samples.\n",
      "  'precision', 'predicted', average, warn_for)\n",
      "C:\\Users\\dell\\AppData\\Local\\conda\\conda\\envs\\tensorflow\\lib\\site-packages\\sklearn\\metrics\\classification.py:1135: UndefinedMetricWarning: F-score is ill-defined and being set to 0.0 due to no predicted samples.\n",
      "  'precision', 'predicted', average, warn_for)\n"
     ]
    },
    {
     "name": "stdout",
     "output_type": "stream",
     "text": [
      "[CV]  criterion=gini, bootstrap=True, n_estimators=100, max_features=5, class_weight=None, max_depth=15, min_samples_split=15, min_samples_leaf=15, score=0.0, total=   0.7s\n",
      "[Parallel(n_jobs=1)]: Done   6 out of   6 | elapsed:    5.0s remaining:    0.0s\n",
      "[CV] criterion=gini, bootstrap=True, n_estimators=100, max_features=5, class_weight=None, max_depth=15, min_samples_split=15, min_samples_leaf=15 \n"
     ]
    },
    {
     "name": "stderr",
     "output_type": "stream",
     "text": [
      "C:\\Users\\dell\\AppData\\Local\\conda\\conda\\envs\\tensorflow\\lib\\site-packages\\sklearn\\metrics\\classification.py:1135: UndefinedMetricWarning: F-score is ill-defined and being set to 0.0 due to no predicted samples.\n",
      "  'precision', 'predicted', average, warn_for)\n",
      "C:\\Users\\dell\\AppData\\Local\\conda\\conda\\envs\\tensorflow\\lib\\site-packages\\sklearn\\metrics\\classification.py:1135: UndefinedMetricWarning: F-score is ill-defined and being set to 0.0 due to no predicted samples.\n",
      "  'precision', 'predicted', average, warn_for)\n"
     ]
    },
    {
     "name": "stdout",
     "output_type": "stream",
     "text": [
      "[CV]  criterion=gini, bootstrap=True, n_estimators=100, max_features=5, class_weight=None, max_depth=15, min_samples_split=15, min_samples_leaf=15, score=0.0, total=   0.6s\n",
      "[Parallel(n_jobs=1)]: Done   7 out of   7 | elapsed:    5.9s remaining:    0.0s\n",
      "[CV] criterion=gini, bootstrap=True, n_estimators=100, max_features=5, class_weight=None, max_depth=15, min_samples_split=15, min_samples_leaf=15 \n"
     ]
    },
    {
     "name": "stderr",
     "output_type": "stream",
     "text": [
      "C:\\Users\\dell\\AppData\\Local\\conda\\conda\\envs\\tensorflow\\lib\\site-packages\\sklearn\\metrics\\classification.py:1135: UndefinedMetricWarning: F-score is ill-defined and being set to 0.0 due to no predicted samples.\n",
      "  'precision', 'predicted', average, warn_for)\n",
      "C:\\Users\\dell\\AppData\\Local\\conda\\conda\\envs\\tensorflow\\lib\\site-packages\\sklearn\\metrics\\classification.py:1135: UndefinedMetricWarning: F-score is ill-defined and being set to 0.0 due to no predicted samples.\n",
      "  'precision', 'predicted', average, warn_for)\n"
     ]
    },
    {
     "name": "stdout",
     "output_type": "stream",
     "text": [
      "[CV]  criterion=gini, bootstrap=True, n_estimators=100, max_features=5, class_weight=None, max_depth=15, min_samples_split=15, min_samples_leaf=15, score=0.0, total=   0.6s\n",
      "[Parallel(n_jobs=1)]: Done   8 out of   8 | elapsed:    6.8s remaining:    0.0s\n",
      "[CV] criterion=gini, bootstrap=True, n_estimators=100, max_features=5, class_weight=None, max_depth=15, min_samples_split=15, min_samples_leaf=15 \n"
     ]
    },
    {
     "name": "stderr",
     "output_type": "stream",
     "text": [
      "C:\\Users\\dell\\AppData\\Local\\conda\\conda\\envs\\tensorflow\\lib\\site-packages\\sklearn\\metrics\\classification.py:1135: UndefinedMetricWarning: F-score is ill-defined and being set to 0.0 due to no predicted samples.\n",
      "  'precision', 'predicted', average, warn_for)\n",
      "C:\\Users\\dell\\AppData\\Local\\conda\\conda\\envs\\tensorflow\\lib\\site-packages\\sklearn\\metrics\\classification.py:1135: UndefinedMetricWarning: F-score is ill-defined and being set to 0.0 due to no predicted samples.\n",
      "  'precision', 'predicted', average, warn_for)\n"
     ]
    },
    {
     "name": "stdout",
     "output_type": "stream",
     "text": [
      "[CV]  criterion=gini, bootstrap=True, n_estimators=100, max_features=5, class_weight=None, max_depth=15, min_samples_split=15, min_samples_leaf=15, score=0.0, total=   0.6s\n",
      "[Parallel(n_jobs=1)]: Done   9 out of   9 | elapsed:    7.7s remaining:    0.0s\n",
      "[CV] criterion=gini, bootstrap=True, n_estimators=100, max_features=5, class_weight=None, max_depth=15, min_samples_split=15, min_samples_leaf=15 \n"
     ]
    },
    {
     "name": "stderr",
     "output_type": "stream",
     "text": [
      "C:\\Users\\dell\\AppData\\Local\\conda\\conda\\envs\\tensorflow\\lib\\site-packages\\sklearn\\metrics\\classification.py:1135: UndefinedMetricWarning: F-score is ill-defined and being set to 0.0 due to no predicted samples.\n",
      "  'precision', 'predicted', average, warn_for)\n",
      "C:\\Users\\dell\\AppData\\Local\\conda\\conda\\envs\\tensorflow\\lib\\site-packages\\sklearn\\metrics\\classification.py:1135: UndefinedMetricWarning: F-score is ill-defined and being set to 0.0 due to no predicted samples.\n",
      "  'precision', 'predicted', average, warn_for)\n"
     ]
    },
    {
     "name": "stdout",
     "output_type": "stream",
     "text": [
      "[CV]  criterion=gini, bootstrap=True, n_estimators=100, max_features=5, class_weight=None, max_depth=15, min_samples_split=15, min_samples_leaf=15, score=0.0, total=   0.5s\n",
      "[Parallel(n_jobs=1)]: Done  10 out of  10 | elapsed:    8.4s remaining:    0.0s\n",
      "[CV] criterion=gini, bootstrap=True, n_estimators=300, max_features=10, class_weight=None, max_depth=15, min_samples_split=10, min_samples_leaf=10 \n"
     ]
    },
    {
     "name": "stderr",
     "output_type": "stream",
     "text": [
      "C:\\Users\\dell\\AppData\\Local\\conda\\conda\\envs\\tensorflow\\lib\\site-packages\\sklearn\\metrics\\classification.py:1135: UndefinedMetricWarning: F-score is ill-defined and being set to 0.0 due to no predicted samples.\n",
      "  'precision', 'predicted', average, warn_for)\n",
      "C:\\Users\\dell\\AppData\\Local\\conda\\conda\\envs\\tensorflow\\lib\\site-packages\\sklearn\\metrics\\classification.py:1135: UndefinedMetricWarning: F-score is ill-defined and being set to 0.0 due to no predicted samples.\n",
      "  'precision', 'predicted', average, warn_for)\n"
     ]
    },
    {
     "name": "stdout",
     "output_type": "stream",
     "text": [
      "[CV]  criterion=gini, bootstrap=True, n_estimators=300, max_features=10, class_weight=None, max_depth=15, min_samples_split=10, min_samples_leaf=10, score=0.0, total=   2.3s\n",
      "[Parallel(n_jobs=1)]: Done  11 out of  11 | elapsed:   11.3s remaining:    0.0s\n",
      "[CV] criterion=gini, bootstrap=True, n_estimators=300, max_features=10, class_weight=None, max_depth=15, min_samples_split=10, min_samples_leaf=10 \n"
     ]
    },
    {
     "name": "stderr",
     "output_type": "stream",
     "text": [
      "C:\\Users\\dell\\AppData\\Local\\conda\\conda\\envs\\tensorflow\\lib\\site-packages\\sklearn\\metrics\\classification.py:1135: UndefinedMetricWarning: F-score is ill-defined and being set to 0.0 due to no predicted samples.\n",
      "  'precision', 'predicted', average, warn_for)\n",
      "C:\\Users\\dell\\AppData\\Local\\conda\\conda\\envs\\tensorflow\\lib\\site-packages\\sklearn\\metrics\\classification.py:1135: UndefinedMetricWarning: F-score is ill-defined and being set to 0.0 due to no predicted samples.\n",
      "  'precision', 'predicted', average, warn_for)\n"
     ]
    },
    {
     "name": "stdout",
     "output_type": "stream",
     "text": [
      "[CV]  criterion=gini, bootstrap=True, n_estimators=300, max_features=10, class_weight=None, max_depth=15, min_samples_split=10, min_samples_leaf=10, score=0.0, total=   2.3s\n",
      "[Parallel(n_jobs=1)]: Done  12 out of  12 | elapsed:   14.2s remaining:    0.0s\n",
      "[CV] criterion=gini, bootstrap=True, n_estimators=300, max_features=10, class_weight=None, max_depth=15, min_samples_split=10, min_samples_leaf=10 \n"
     ]
    },
    {
     "name": "stderr",
     "output_type": "stream",
     "text": [
      "C:\\Users\\dell\\AppData\\Local\\conda\\conda\\envs\\tensorflow\\lib\\site-packages\\sklearn\\metrics\\classification.py:1135: UndefinedMetricWarning: F-score is ill-defined and being set to 0.0 due to no predicted samples.\n",
      "  'precision', 'predicted', average, warn_for)\n",
      "C:\\Users\\dell\\AppData\\Local\\conda\\conda\\envs\\tensorflow\\lib\\site-packages\\sklearn\\metrics\\classification.py:1135: UndefinedMetricWarning: F-score is ill-defined and being set to 0.0 due to no predicted samples.\n",
      "  'precision', 'predicted', average, warn_for)\n"
     ]
    },
    {
     "name": "stdout",
     "output_type": "stream",
     "text": [
      "[CV]  criterion=gini, bootstrap=True, n_estimators=300, max_features=10, class_weight=None, max_depth=15, min_samples_split=10, min_samples_leaf=10, score=0.0, total=   2.3s\n",
      "[Parallel(n_jobs=1)]: Done  13 out of  13 | elapsed:   17.1s remaining:    0.0s\n",
      "[CV] criterion=gini, bootstrap=True, n_estimators=300, max_features=10, class_weight=None, max_depth=15, min_samples_split=10, min_samples_leaf=10 \n"
     ]
    },
    {
     "name": "stderr",
     "output_type": "stream",
     "text": [
      "C:\\Users\\dell\\AppData\\Local\\conda\\conda\\envs\\tensorflow\\lib\\site-packages\\sklearn\\metrics\\classification.py:1135: UndefinedMetricWarning: F-score is ill-defined and being set to 0.0 due to no predicted samples.\n",
      "  'precision', 'predicted', average, warn_for)\n",
      "C:\\Users\\dell\\AppData\\Local\\conda\\conda\\envs\\tensorflow\\lib\\site-packages\\sklearn\\metrics\\classification.py:1135: UndefinedMetricWarning: F-score is ill-defined and being set to 0.0 due to no predicted samples.\n",
      "  'precision', 'predicted', average, warn_for)\n"
     ]
    },
    {
     "name": "stdout",
     "output_type": "stream",
     "text": [
      "[CV]  criterion=gini, bootstrap=True, n_estimators=300, max_features=10, class_weight=None, max_depth=15, min_samples_split=10, min_samples_leaf=10, score=0.0, total=   2.8s\n",
      "[Parallel(n_jobs=1)]: Done  14 out of  14 | elapsed:   20.7s remaining:    0.0s\n",
      "[CV] criterion=gini, bootstrap=True, n_estimators=300, max_features=10, class_weight=None, max_depth=15, min_samples_split=10, min_samples_leaf=10 \n"
     ]
    },
    {
     "name": "stderr",
     "output_type": "stream",
     "text": [
      "C:\\Users\\dell\\AppData\\Local\\conda\\conda\\envs\\tensorflow\\lib\\site-packages\\sklearn\\metrics\\classification.py:1135: UndefinedMetricWarning: F-score is ill-defined and being set to 0.0 due to no predicted samples.\n",
      "  'precision', 'predicted', average, warn_for)\n",
      "C:\\Users\\dell\\AppData\\Local\\conda\\conda\\envs\\tensorflow\\lib\\site-packages\\sklearn\\metrics\\classification.py:1135: UndefinedMetricWarning: F-score is ill-defined and being set to 0.0 due to no predicted samples.\n",
      "  'precision', 'predicted', average, warn_for)\n"
     ]
    },
    {
     "name": "stdout",
     "output_type": "stream",
     "text": [
      "[CV]  criterion=gini, bootstrap=True, n_estimators=300, max_features=10, class_weight=None, max_depth=15, min_samples_split=10, min_samples_leaf=10, score=0.0, total=   3.0s\n",
      "[Parallel(n_jobs=1)]: Done  15 out of  15 | elapsed:   24.3s remaining:    0.0s\n",
      "[CV] criterion=gini, bootstrap=True, n_estimators=300, max_features=10, class_weight=None, max_depth=15, min_samples_split=10, min_samples_leaf=10 \n"
     ]
    },
    {
     "name": "stderr",
     "output_type": "stream",
     "text": [
      "C:\\Users\\dell\\AppData\\Local\\conda\\conda\\envs\\tensorflow\\lib\\site-packages\\sklearn\\metrics\\classification.py:1135: UndefinedMetricWarning: F-score is ill-defined and being set to 0.0 due to no predicted samples.\n",
      "  'precision', 'predicted', average, warn_for)\n",
      "C:\\Users\\dell\\AppData\\Local\\conda\\conda\\envs\\tensorflow\\lib\\site-packages\\sklearn\\metrics\\classification.py:1135: UndefinedMetricWarning: F-score is ill-defined and being set to 0.0 due to no predicted samples.\n",
      "  'precision', 'predicted', average, warn_for)\n"
     ]
    },
    {
     "name": "stdout",
     "output_type": "stream",
     "text": [
      "[CV]  criterion=gini, bootstrap=True, n_estimators=300, max_features=10, class_weight=None, max_depth=15, min_samples_split=10, min_samples_leaf=10, score=0.0, total=   2.3s\n",
      "[Parallel(n_jobs=1)]: Done  16 out of  16 | elapsed:   27.2s remaining:    0.0s\n",
      "[CV] criterion=gini, bootstrap=True, n_estimators=300, max_features=10, class_weight=None, max_depth=15, min_samples_split=10, min_samples_leaf=10 \n"
     ]
    },
    {
     "name": "stderr",
     "output_type": "stream",
     "text": [
      "C:\\Users\\dell\\AppData\\Local\\conda\\conda\\envs\\tensorflow\\lib\\site-packages\\sklearn\\metrics\\classification.py:1135: UndefinedMetricWarning: F-score is ill-defined and being set to 0.0 due to no predicted samples.\n",
      "  'precision', 'predicted', average, warn_for)\n",
      "C:\\Users\\dell\\AppData\\Local\\conda\\conda\\envs\\tensorflow\\lib\\site-packages\\sklearn\\metrics\\classification.py:1135: UndefinedMetricWarning: F-score is ill-defined and being set to 0.0 due to no predicted samples.\n",
      "  'precision', 'predicted', average, warn_for)\n"
     ]
    },
    {
     "name": "stdout",
     "output_type": "stream",
     "text": [
      "[CV]  criterion=gini, bootstrap=True, n_estimators=300, max_features=10, class_weight=None, max_depth=15, min_samples_split=10, min_samples_leaf=10, score=0.0, total=   2.3s\n",
      "[Parallel(n_jobs=1)]: Done  17 out of  17 | elapsed:   30.0s remaining:    0.0s\n",
      "[CV] criterion=gini, bootstrap=True, n_estimators=300, max_features=10, class_weight=None, max_depth=15, min_samples_split=10, min_samples_leaf=10 \n"
     ]
    },
    {
     "name": "stderr",
     "output_type": "stream",
     "text": [
      "C:\\Users\\dell\\AppData\\Local\\conda\\conda\\envs\\tensorflow\\lib\\site-packages\\sklearn\\metrics\\classification.py:1135: UndefinedMetricWarning: F-score is ill-defined and being set to 0.0 due to no predicted samples.\n",
      "  'precision', 'predicted', average, warn_for)\n",
      "C:\\Users\\dell\\AppData\\Local\\conda\\conda\\envs\\tensorflow\\lib\\site-packages\\sklearn\\metrics\\classification.py:1135: UndefinedMetricWarning: F-score is ill-defined and being set to 0.0 due to no predicted samples.\n",
      "  'precision', 'predicted', average, warn_for)\n"
     ]
    },
    {
     "name": "stdout",
     "output_type": "stream",
     "text": [
      "[CV]  criterion=gini, bootstrap=True, n_estimators=300, max_features=10, class_weight=None, max_depth=15, min_samples_split=10, min_samples_leaf=10, score=0.0, total=   2.3s\n",
      "[Parallel(n_jobs=1)]: Done  18 out of  18 | elapsed:   33.0s remaining:    0.0s\n",
      "[CV] criterion=gini, bootstrap=True, n_estimators=300, max_features=10, class_weight=None, max_depth=15, min_samples_split=10, min_samples_leaf=10 \n"
     ]
    },
    {
     "name": "stderr",
     "output_type": "stream",
     "text": [
      "C:\\Users\\dell\\AppData\\Local\\conda\\conda\\envs\\tensorflow\\lib\\site-packages\\sklearn\\metrics\\classification.py:1135: UndefinedMetricWarning: F-score is ill-defined and being set to 0.0 due to no predicted samples.\n",
      "  'precision', 'predicted', average, warn_for)\n",
      "C:\\Users\\dell\\AppData\\Local\\conda\\conda\\envs\\tensorflow\\lib\\site-packages\\sklearn\\metrics\\classification.py:1135: UndefinedMetricWarning: F-score is ill-defined and being set to 0.0 due to no predicted samples.\n",
      "  'precision', 'predicted', average, warn_for)\n"
     ]
    },
    {
     "name": "stdout",
     "output_type": "stream",
     "text": [
      "[CV]  criterion=gini, bootstrap=True, n_estimators=300, max_features=10, class_weight=None, max_depth=15, min_samples_split=10, min_samples_leaf=10, score=0.0, total=   2.8s\n",
      "[Parallel(n_jobs=1)]: Done  19 out of  19 | elapsed:   36.4s remaining:    0.0s\n",
      "[CV] criterion=gini, bootstrap=True, n_estimators=300, max_features=10, class_weight=None, max_depth=15, min_samples_split=10, min_samples_leaf=10 \n"
     ]
    },
    {
     "name": "stderr",
     "output_type": "stream",
     "text": [
      "C:\\Users\\dell\\AppData\\Local\\conda\\conda\\envs\\tensorflow\\lib\\site-packages\\sklearn\\metrics\\classification.py:1135: UndefinedMetricWarning: F-score is ill-defined and being set to 0.0 due to no predicted samples.\n",
      "  'precision', 'predicted', average, warn_for)\n",
      "C:\\Users\\dell\\AppData\\Local\\conda\\conda\\envs\\tensorflow\\lib\\site-packages\\sklearn\\metrics\\classification.py:1135: UndefinedMetricWarning: F-score is ill-defined and being set to 0.0 due to no predicted samples.\n",
      "  'precision', 'predicted', average, warn_for)\n"
     ]
    },
    {
     "name": "stdout",
     "output_type": "stream",
     "text": [
      "[CV]  criterion=gini, bootstrap=True, n_estimators=300, max_features=10, class_weight=None, max_depth=15, min_samples_split=10, min_samples_leaf=10, score=0.0, total=   2.9s\n",
      "[Parallel(n_jobs=1)]: Done  20 out of  20 | elapsed:   40.0s remaining:    0.0s\n",
      "[CV] criterion=gini, bootstrap=False, n_estimators=200, max_features=5, class_weight=balanced, max_depth=10, min_samples_split=15, min_samples_leaf=20 \n",
      "[CV]  criterion=gini, bootstrap=False, n_estimators=200, max_features=5, class_weight=balanced, max_depth=10, min_samples_split=15, min_samples_leaf=20, score=0.3310104529616725, total=   1.1s\n",
      "[Parallel(n_jobs=1)]: Done  21 out of  21 | elapsed:   41.5s remaining:    0.0s\n",
      "[CV] criterion=gini, bootstrap=False, n_estimators=200, max_features=5, class_weight=balanced, max_depth=10, min_samples_split=15, min_samples_leaf=20 \n",
      "[CV]  criterion=gini, bootstrap=False, n_estimators=200, max_features=5, class_weight=balanced, max_depth=10, min_samples_split=15, min_samples_leaf=20, score=0.3007518796992481, total=   1.1s\n",
      "[Parallel(n_jobs=1)]: Done  22 out of  22 | elapsed:   43.0s remaining:    0.0s\n",
      "[CV] criterion=gini, bootstrap=False, n_estimators=200, max_features=5, class_weight=balanced, max_depth=10, min_samples_split=15, min_samples_leaf=20 \n",
      "[CV]  criterion=gini, bootstrap=False, n_estimators=200, max_features=5, class_weight=balanced, max_depth=10, min_samples_split=15, min_samples_leaf=20, score=0.3505535055350554, total=   1.1s\n",
      "[Parallel(n_jobs=1)]: Done  23 out of  23 | elapsed:   44.5s remaining:    0.0s\n",
      "[CV] criterion=gini, bootstrap=False, n_estimators=200, max_features=5, class_weight=balanced, max_depth=10, min_samples_split=15, min_samples_leaf=20 \n",
      "[CV]  criterion=gini, bootstrap=False, n_estimators=200, max_features=5, class_weight=balanced, max_depth=10, min_samples_split=15, min_samples_leaf=20, score=0.32490974729241884, total=   1.1s\n",
      "[Parallel(n_jobs=1)]: Done  24 out of  24 | elapsed:   45.9s remaining:    0.0s\n",
      "[CV] criterion=gini, bootstrap=False, n_estimators=200, max_features=5, class_weight=balanced, max_depth=10, min_samples_split=15, min_samples_leaf=20 \n",
      "[CV]  criterion=gini, bootstrap=False, n_estimators=200, max_features=5, class_weight=balanced, max_depth=10, min_samples_split=15, min_samples_leaf=20, score=0.3956834532374101, total=   1.1s\n",
      "[Parallel(n_jobs=1)]: Done  25 out of  25 | elapsed:   47.4s remaining:    0.0s\n",
      "[CV] criterion=gini, bootstrap=False, n_estimators=200, max_features=5, class_weight=balanced, max_depth=10, min_samples_split=15, min_samples_leaf=20 \n",
      "[CV]  criterion=gini, bootstrap=False, n_estimators=200, max_features=5, class_weight=balanced, max_depth=10, min_samples_split=15, min_samples_leaf=20, score=0.37174721189591076, total=   1.1s\n",
      "[Parallel(n_jobs=1)]: Done  26 out of  26 | elapsed:   48.9s remaining:    0.0s\n",
      "[CV] criterion=gini, bootstrap=False, n_estimators=200, max_features=5, class_weight=balanced, max_depth=10, min_samples_split=15, min_samples_leaf=20 \n",
      "[CV]  criterion=gini, bootstrap=False, n_estimators=200, max_features=5, class_weight=balanced, max_depth=10, min_samples_split=15, min_samples_leaf=20, score=0.3584905660377358, total=   1.2s\n",
      "[Parallel(n_jobs=1)]: Done  27 out of  27 | elapsed:   50.5s remaining:    0.0s\n",
      "[CV] criterion=gini, bootstrap=False, n_estimators=200, max_features=5, class_weight=balanced, max_depth=10, min_samples_split=15, min_samples_leaf=20 \n",
      "[CV]  criterion=gini, bootstrap=False, n_estimators=200, max_features=5, class_weight=balanced, max_depth=10, min_samples_split=15, min_samples_leaf=20, score=0.2777777777777778, total=   1.5s\n",
      "[Parallel(n_jobs=1)]: Done  28 out of  28 | elapsed:   52.4s remaining:    0.0s\n",
      "[CV] criterion=gini, bootstrap=False, n_estimators=200, max_features=5, class_weight=balanced, max_depth=10, min_samples_split=15, min_samples_leaf=20 \n",
      "[CV]  criterion=gini, bootstrap=False, n_estimators=200, max_features=5, class_weight=balanced, max_depth=10, min_samples_split=15, min_samples_leaf=20, score=0.3333333333333333, total=   1.5s\n",
      "[Parallel(n_jobs=1)]: Done  29 out of  29 | elapsed:   54.4s remaining:    0.0s\n",
      "[CV] criterion=gini, bootstrap=False, n_estimators=200, max_features=5, class_weight=balanced, max_depth=10, min_samples_split=15, min_samples_leaf=20 \n",
      "[CV]  criterion=gini, bootstrap=False, n_estimators=200, max_features=5, class_weight=balanced, max_depth=10, min_samples_split=15, min_samples_leaf=20, score=0.43893129770992373, total=   1.3s\n",
      "[Parallel(n_jobs=1)]: Done  30 out of  30 | elapsed:   56.1s remaining:    0.0s\n",
      "[CV] criterion=entropy, bootstrap=True, n_estimators=200, max_features=20, class_weight=balanced, max_depth=5, min_samples_split=10, min_samples_leaf=20 \n",
      "[CV]  criterion=entropy, bootstrap=True, n_estimators=200, max_features=20, class_weight=balanced, max_depth=5, min_samples_split=10, min_samples_leaf=20, score=0.31456953642384106, total=   1.3s\n",
      "[Parallel(n_jobs=1)]: Done  31 out of  31 | elapsed:   57.7s remaining:    0.0s\n",
      "[CV] criterion=entropy, bootstrap=True, n_estimators=200, max_features=20, class_weight=balanced, max_depth=5, min_samples_split=10, min_samples_leaf=20 \n",
      "[CV]  criterion=entropy, bootstrap=True, n_estimators=200, max_features=20, class_weight=balanced, max_depth=5, min_samples_split=10, min_samples_leaf=20, score=0.4092526690391459, total=   1.3s\n",
      "[Parallel(n_jobs=1)]: Done  32 out of  32 | elapsed:   59.3s remaining:    0.0s\n",
      "[CV] criterion=entropy, bootstrap=True, n_estimators=200, max_features=20, class_weight=balanced, max_depth=5, min_samples_split=10, min_samples_leaf=20 \n",
      "[CV]  criterion=entropy, bootstrap=True, n_estimators=200, max_features=20, class_weight=balanced, max_depth=5, min_samples_split=10, min_samples_leaf=20, score=0.30716723549488056, total=   1.3s\n",
      "[Parallel(n_jobs=1)]: Done  33 out of  33 | elapsed:  1.0min remaining:    0.0s\n",
      "[CV] criterion=entropy, bootstrap=True, n_estimators=200, max_features=20, class_weight=balanced, max_depth=5, min_samples_split=10, min_samples_leaf=20 \n",
      "[CV]  criterion=entropy, bootstrap=True, n_estimators=200, max_features=20, class_weight=balanced, max_depth=5, min_samples_split=10, min_samples_leaf=20, score=0.3264604810996563, total=   1.3s\n",
      "[Parallel(n_jobs=1)]: Done  34 out of  34 | elapsed:  1.0min remaining:    0.0s\n",
      "[CV] criterion=entropy, bootstrap=True, n_estimators=200, max_features=20, class_weight=balanced, max_depth=5, min_samples_split=10, min_samples_leaf=20 \n",
      "[CV]  criterion=entropy, bootstrap=True, n_estimators=200, max_features=20, class_weight=balanced, max_depth=5, min_samples_split=10, min_samples_leaf=20, score=0.3780068728522337, total=   1.3s\n",
      "[Parallel(n_jobs=1)]: Done  35 out of  35 | elapsed:  1.1min remaining:    0.0s\n",
      "[CV] criterion=entropy, bootstrap=True, n_estimators=200, max_features=20, class_weight=balanced, max_depth=5, min_samples_split=10, min_samples_leaf=20 \n",
      "[CV]  criterion=entropy, bootstrap=True, n_estimators=200, max_features=20, class_weight=balanced, max_depth=5, min_samples_split=10, min_samples_leaf=20, score=0.38327526132404177, total=   1.3s\n",
      "[Parallel(n_jobs=1)]: Done  36 out of  36 | elapsed:  1.1min remaining:    0.0s\n",
      "[CV] criterion=entropy, bootstrap=True, n_estimators=200, max_features=20, class_weight=balanced, max_depth=5, min_samples_split=10, min_samples_leaf=20 \n",
      "[CV]  criterion=entropy, bootstrap=True, n_estimators=200, max_features=20, class_weight=balanced, max_depth=5, min_samples_split=10, min_samples_leaf=20, score=0.39383561643835613, total=   1.7s\n",
      "[Parallel(n_jobs=1)]: Done  37 out of  37 | elapsed:  1.1min remaining:    0.0s\n",
      "[CV] criterion=entropy, bootstrap=True, n_estimators=200, max_features=20, class_weight=balanced, max_depth=5, min_samples_split=10, min_samples_leaf=20 \n",
      "[CV]  criterion=entropy, bootstrap=True, n_estimators=200, max_features=20, class_weight=balanced, max_depth=5, min_samples_split=10, min_samples_leaf=20, score=0.32758620689655177, total=   1.7s\n",
      "[Parallel(n_jobs=1)]: Done  38 out of  38 | elapsed:  1.2min remaining:    0.0s\n",
      "[CV] criterion=entropy, bootstrap=True, n_estimators=200, max_features=20, class_weight=balanced, max_depth=5, min_samples_split=10, min_samples_leaf=20 \n",
      "[CV]  criterion=entropy, bootstrap=True, n_estimators=200, max_features=20, class_weight=balanced, max_depth=5, min_samples_split=10, min_samples_leaf=20, score=0.35460992907801414, total=   1.6s\n",
      "[Parallel(n_jobs=1)]: Done  39 out of  39 | elapsed:  1.2min remaining:    0.0s\n",
      "[CV] criterion=entropy, bootstrap=True, n_estimators=200, max_features=20, class_weight=balanced, max_depth=5, min_samples_split=10, min_samples_leaf=20 \n"
     ]
    },
    {
     "name": "stdout",
     "output_type": "stream",
     "text": [
      "[CV]  criterion=entropy, bootstrap=True, n_estimators=200, max_features=20, class_weight=balanced, max_depth=5, min_samples_split=10, min_samples_leaf=20, score=0.45608108108108103, total=   1.3s\n",
      "[Parallel(n_jobs=1)]: Done  40 out of  40 | elapsed:  1.2min remaining:    0.0s\n",
      "[CV] criterion=gini, bootstrap=False, n_estimators=300, max_features=10, class_weight=None, max_depth=20, min_samples_split=15, min_samples_leaf=10 \n"
     ]
    },
    {
     "name": "stderr",
     "output_type": "stream",
     "text": [
      "C:\\Users\\dell\\AppData\\Local\\conda\\conda\\envs\\tensorflow\\lib\\site-packages\\sklearn\\metrics\\classification.py:1135: UndefinedMetricWarning: F-score is ill-defined and being set to 0.0 due to no predicted samples.\n",
      "  'precision', 'predicted', average, warn_for)\n",
      "C:\\Users\\dell\\AppData\\Local\\conda\\conda\\envs\\tensorflow\\lib\\site-packages\\sklearn\\metrics\\classification.py:1135: UndefinedMetricWarning: F-score is ill-defined and being set to 0.0 due to no predicted samples.\n",
      "  'precision', 'predicted', average, warn_for)\n"
     ]
    },
    {
     "name": "stdout",
     "output_type": "stream",
     "text": [
      "[CV]  criterion=gini, bootstrap=False, n_estimators=300, max_features=10, class_weight=None, max_depth=20, min_samples_split=15, min_samples_leaf=10, score=0.0, total=   3.3s\n",
      "[Parallel(n_jobs=1)]: Done  41 out of  41 | elapsed:  1.3min remaining:    0.0s\n",
      "[CV] criterion=gini, bootstrap=False, n_estimators=300, max_features=10, class_weight=None, max_depth=20, min_samples_split=15, min_samples_leaf=10 \n"
     ]
    },
    {
     "name": "stderr",
     "output_type": "stream",
     "text": [
      "C:\\Users\\dell\\AppData\\Local\\conda\\conda\\envs\\tensorflow\\lib\\site-packages\\sklearn\\metrics\\classification.py:1135: UndefinedMetricWarning: F-score is ill-defined and being set to 0.0 due to no predicted samples.\n",
      "  'precision', 'predicted', average, warn_for)\n",
      "C:\\Users\\dell\\AppData\\Local\\conda\\conda\\envs\\tensorflow\\lib\\site-packages\\sklearn\\metrics\\classification.py:1135: UndefinedMetricWarning: F-score is ill-defined and being set to 0.0 due to no predicted samples.\n",
      "  'precision', 'predicted', average, warn_for)\n"
     ]
    },
    {
     "name": "stdout",
     "output_type": "stream",
     "text": [
      "[CV]  criterion=gini, bootstrap=False, n_estimators=300, max_features=10, class_weight=None, max_depth=20, min_samples_split=15, min_samples_leaf=10, score=0.0, total=   3.3s\n",
      "[Parallel(n_jobs=1)]: Done  42 out of  42 | elapsed:  1.4min remaining:    0.0s\n",
      "[CV] criterion=gini, bootstrap=False, n_estimators=300, max_features=10, class_weight=None, max_depth=20, min_samples_split=15, min_samples_leaf=10 \n"
     ]
    },
    {
     "name": "stderr",
     "output_type": "stream",
     "text": [
      "C:\\Users\\dell\\AppData\\Local\\conda\\conda\\envs\\tensorflow\\lib\\site-packages\\sklearn\\metrics\\classification.py:1135: UndefinedMetricWarning: F-score is ill-defined and being set to 0.0 due to no predicted samples.\n",
      "  'precision', 'predicted', average, warn_for)\n",
      "C:\\Users\\dell\\AppData\\Local\\conda\\conda\\envs\\tensorflow\\lib\\site-packages\\sklearn\\metrics\\classification.py:1135: UndefinedMetricWarning: F-score is ill-defined and being set to 0.0 due to no predicted samples.\n",
      "  'precision', 'predicted', average, warn_for)\n"
     ]
    },
    {
     "name": "stdout",
     "output_type": "stream",
     "text": [
      "[CV]  criterion=gini, bootstrap=False, n_estimators=300, max_features=10, class_weight=None, max_depth=20, min_samples_split=15, min_samples_leaf=10, score=0.0, total=   4.1s\n",
      "[Parallel(n_jobs=1)]: Done  43 out of  43 | elapsed:  1.4min remaining:    0.0s\n",
      "[CV] criterion=gini, bootstrap=False, n_estimators=300, max_features=10, class_weight=None, max_depth=20, min_samples_split=15, min_samples_leaf=10 \n"
     ]
    },
    {
     "name": "stderr",
     "output_type": "stream",
     "text": [
      "C:\\Users\\dell\\AppData\\Local\\conda\\conda\\envs\\tensorflow\\lib\\site-packages\\sklearn\\metrics\\classification.py:1135: UndefinedMetricWarning: F-score is ill-defined and being set to 0.0 due to no predicted samples.\n",
      "  'precision', 'predicted', average, warn_for)\n",
      "C:\\Users\\dell\\AppData\\Local\\conda\\conda\\envs\\tensorflow\\lib\\site-packages\\sklearn\\metrics\\classification.py:1135: UndefinedMetricWarning: F-score is ill-defined and being set to 0.0 due to no predicted samples.\n",
      "  'precision', 'predicted', average, warn_for)\n"
     ]
    },
    {
     "name": "stdout",
     "output_type": "stream",
     "text": [
      "[CV]  criterion=gini, bootstrap=False, n_estimators=300, max_features=10, class_weight=None, max_depth=20, min_samples_split=15, min_samples_leaf=10, score=0.0, total=   3.7s\n",
      "[Parallel(n_jobs=1)]: Done  44 out of  44 | elapsed:  1.5min remaining:    0.0s\n",
      "[CV] criterion=gini, bootstrap=False, n_estimators=300, max_features=10, class_weight=None, max_depth=20, min_samples_split=15, min_samples_leaf=10 \n"
     ]
    },
    {
     "name": "stderr",
     "output_type": "stream",
     "text": [
      "C:\\Users\\dell\\AppData\\Local\\conda\\conda\\envs\\tensorflow\\lib\\site-packages\\sklearn\\metrics\\classification.py:1135: UndefinedMetricWarning: F-score is ill-defined and being set to 0.0 due to no predicted samples.\n",
      "  'precision', 'predicted', average, warn_for)\n",
      "C:\\Users\\dell\\AppData\\Local\\conda\\conda\\envs\\tensorflow\\lib\\site-packages\\sklearn\\metrics\\classification.py:1135: UndefinedMetricWarning: F-score is ill-defined and being set to 0.0 due to no predicted samples.\n",
      "  'precision', 'predicted', average, warn_for)\n"
     ]
    },
    {
     "name": "stdout",
     "output_type": "stream",
     "text": [
      "[CV]  criterion=gini, bootstrap=False, n_estimators=300, max_features=10, class_weight=None, max_depth=20, min_samples_split=15, min_samples_leaf=10, score=0.0, total=   3.3s\n",
      "[Parallel(n_jobs=1)]: Done  45 out of  45 | elapsed:  1.6min remaining:    0.0s\n",
      "[CV] criterion=gini, bootstrap=False, n_estimators=300, max_features=10, class_weight=None, max_depth=20, min_samples_split=15, min_samples_leaf=10 \n"
     ]
    },
    {
     "name": "stderr",
     "output_type": "stream",
     "text": [
      "C:\\Users\\dell\\AppData\\Local\\conda\\conda\\envs\\tensorflow\\lib\\site-packages\\sklearn\\metrics\\classification.py:1135: UndefinedMetricWarning: F-score is ill-defined and being set to 0.0 due to no predicted samples.\n",
      "  'precision', 'predicted', average, warn_for)\n",
      "C:\\Users\\dell\\AppData\\Local\\conda\\conda\\envs\\tensorflow\\lib\\site-packages\\sklearn\\metrics\\classification.py:1135: UndefinedMetricWarning: F-score is ill-defined and being set to 0.0 due to no predicted samples.\n",
      "  'precision', 'predicted', average, warn_for)\n"
     ]
    },
    {
     "name": "stdout",
     "output_type": "stream",
     "text": [
      "[CV]  criterion=gini, bootstrap=False, n_estimators=300, max_features=10, class_weight=None, max_depth=20, min_samples_split=15, min_samples_leaf=10, score=0.0, total=   3.3s\n",
      "[Parallel(n_jobs=1)]: Done  46 out of  46 | elapsed:  1.6min remaining:    0.0s\n",
      "[CV] criterion=gini, bootstrap=False, n_estimators=300, max_features=10, class_weight=None, max_depth=20, min_samples_split=15, min_samples_leaf=10 \n"
     ]
    },
    {
     "name": "stderr",
     "output_type": "stream",
     "text": [
      "C:\\Users\\dell\\AppData\\Local\\conda\\conda\\envs\\tensorflow\\lib\\site-packages\\sklearn\\metrics\\classification.py:1135: UndefinedMetricWarning: F-score is ill-defined and being set to 0.0 due to no predicted samples.\n",
      "  'precision', 'predicted', average, warn_for)\n",
      "C:\\Users\\dell\\AppData\\Local\\conda\\conda\\envs\\tensorflow\\lib\\site-packages\\sklearn\\metrics\\classification.py:1135: UndefinedMetricWarning: F-score is ill-defined and being set to 0.0 due to no predicted samples.\n",
      "  'precision', 'predicted', average, warn_for)\n"
     ]
    },
    {
     "name": "stdout",
     "output_type": "stream",
     "text": [
      "[CV]  criterion=gini, bootstrap=False, n_estimators=300, max_features=10, class_weight=None, max_depth=20, min_samples_split=15, min_samples_leaf=10, score=0.0, total=   4.3s\n",
      "[Parallel(n_jobs=1)]: Done  47 out of  47 | elapsed:  1.7min remaining:    0.0s\n",
      "[CV] criterion=gini, bootstrap=False, n_estimators=300, max_features=10, class_weight=None, max_depth=20, min_samples_split=15, min_samples_leaf=10 \n"
     ]
    },
    {
     "name": "stderr",
     "output_type": "stream",
     "text": [
      "C:\\Users\\dell\\AppData\\Local\\conda\\conda\\envs\\tensorflow\\lib\\site-packages\\sklearn\\metrics\\classification.py:1135: UndefinedMetricWarning: F-score is ill-defined and being set to 0.0 due to no predicted samples.\n",
      "  'precision', 'predicted', average, warn_for)\n",
      "C:\\Users\\dell\\AppData\\Local\\conda\\conda\\envs\\tensorflow\\lib\\site-packages\\sklearn\\metrics\\classification.py:1135: UndefinedMetricWarning: F-score is ill-defined and being set to 0.0 due to no predicted samples.\n",
      "  'precision', 'predicted', average, warn_for)\n"
     ]
    },
    {
     "name": "stdout",
     "output_type": "stream",
     "text": [
      "[CV]  criterion=gini, bootstrap=False, n_estimators=300, max_features=10, class_weight=None, max_depth=20, min_samples_split=15, min_samples_leaf=10, score=0.0, total=   3.5s\n",
      "[Parallel(n_jobs=1)]: Done  48 out of  48 | elapsed:  1.8min remaining:    0.0s\n",
      "[CV] criterion=gini, bootstrap=False, n_estimators=300, max_features=10, class_weight=None, max_depth=20, min_samples_split=15, min_samples_leaf=10 \n"
     ]
    },
    {
     "name": "stderr",
     "output_type": "stream",
     "text": [
      "C:\\Users\\dell\\AppData\\Local\\conda\\conda\\envs\\tensorflow\\lib\\site-packages\\sklearn\\metrics\\classification.py:1135: UndefinedMetricWarning: F-score is ill-defined and being set to 0.0 due to no predicted samples.\n",
      "  'precision', 'predicted', average, warn_for)\n",
      "C:\\Users\\dell\\AppData\\Local\\conda\\conda\\envs\\tensorflow\\lib\\site-packages\\sklearn\\metrics\\classification.py:1135: UndefinedMetricWarning: F-score is ill-defined and being set to 0.0 due to no predicted samples.\n",
      "  'precision', 'predicted', average, warn_for)\n"
     ]
    },
    {
     "name": "stdout",
     "output_type": "stream",
     "text": [
      "[CV]  criterion=gini, bootstrap=False, n_estimators=300, max_features=10, class_weight=None, max_depth=20, min_samples_split=15, min_samples_leaf=10, score=0.0, total=   3.3s\n",
      "[Parallel(n_jobs=1)]: Done  49 out of  49 | elapsed:  1.9min remaining:    0.0s\n",
      "[CV] criterion=gini, bootstrap=False, n_estimators=300, max_features=10, class_weight=None, max_depth=20, min_samples_split=15, min_samples_leaf=10 \n"
     ]
    },
    {
     "name": "stderr",
     "output_type": "stream",
     "text": [
      "C:\\Users\\dell\\AppData\\Local\\conda\\conda\\envs\\tensorflow\\lib\\site-packages\\sklearn\\metrics\\classification.py:1135: UndefinedMetricWarning: F-score is ill-defined and being set to 0.0 due to no predicted samples.\n",
      "  'precision', 'predicted', average, warn_for)\n",
      "C:\\Users\\dell\\AppData\\Local\\conda\\conda\\envs\\tensorflow\\lib\\site-packages\\sklearn\\metrics\\classification.py:1135: UndefinedMetricWarning: F-score is ill-defined and being set to 0.0 due to no predicted samples.\n",
      "  'precision', 'predicted', average, warn_for)\n"
     ]
    },
    {
     "name": "stdout",
     "output_type": "stream",
     "text": [
      "[CV]  criterion=gini, bootstrap=False, n_estimators=300, max_features=10, class_weight=None, max_depth=20, min_samples_split=15, min_samples_leaf=10, score=0.0, total=   4.1s\n",
      "[Parallel(n_jobs=1)]: Done  50 out of  50 | elapsed:  1.9min remaining:    0.0s\n",
      "[CV] criterion=entropy, bootstrap=True, n_estimators=200, max_features=5, class_weight=None, max_depth=15, min_samples_split=10, min_samples_leaf=15 \n"
     ]
    },
    {
     "name": "stderr",
     "output_type": "stream",
     "text": [
      "C:\\Users\\dell\\AppData\\Local\\conda\\conda\\envs\\tensorflow\\lib\\site-packages\\sklearn\\metrics\\classification.py:1135: UndefinedMetricWarning: F-score is ill-defined and being set to 0.0 due to no predicted samples.\n",
      "  'precision', 'predicted', average, warn_for)\n",
      "C:\\Users\\dell\\AppData\\Local\\conda\\conda\\envs\\tensorflow\\lib\\site-packages\\sklearn\\metrics\\classification.py:1135: UndefinedMetricWarning: F-score is ill-defined and being set to 0.0 due to no predicted samples.\n",
      "  'precision', 'predicted', average, warn_for)\n"
     ]
    },
    {
     "name": "stdout",
     "output_type": "stream",
     "text": [
      "[CV]  criterion=entropy, bootstrap=True, n_estimators=200, max_features=5, class_weight=None, max_depth=15, min_samples_split=10, min_samples_leaf=15, score=0.0, total=   1.4s\n",
      "[Parallel(n_jobs=1)]: Done  51 out of  51 | elapsed:  2.0min remaining:    0.0s\n",
      "[CV] criterion=entropy, bootstrap=True, n_estimators=200, max_features=5, class_weight=None, max_depth=15, min_samples_split=10, min_samples_leaf=15 \n"
     ]
    },
    {
     "name": "stderr",
     "output_type": "stream",
     "text": [
      "C:\\Users\\dell\\AppData\\Local\\conda\\conda\\envs\\tensorflow\\lib\\site-packages\\sklearn\\metrics\\classification.py:1135: UndefinedMetricWarning: F-score is ill-defined and being set to 0.0 due to no predicted samples.\n",
      "  'precision', 'predicted', average, warn_for)\n",
      "C:\\Users\\dell\\AppData\\Local\\conda\\conda\\envs\\tensorflow\\lib\\site-packages\\sklearn\\metrics\\classification.py:1135: UndefinedMetricWarning: F-score is ill-defined and being set to 0.0 due to no predicted samples.\n",
      "  'precision', 'predicted', average, warn_for)\n"
     ]
    },
    {
     "name": "stdout",
     "output_type": "stream",
     "text": [
      "[CV]  criterion=entropy, bootstrap=True, n_estimators=200, max_features=5, class_weight=None, max_depth=15, min_samples_split=10, min_samples_leaf=15, score=0.0, total=   1.4s\n",
      "[Parallel(n_jobs=1)]: Done  52 out of  52 | elapsed:  2.0min remaining:    0.0s\n",
      "[CV] criterion=entropy, bootstrap=True, n_estimators=200, max_features=5, class_weight=None, max_depth=15, min_samples_split=10, min_samples_leaf=15 \n"
     ]
    },
    {
     "name": "stderr",
     "output_type": "stream",
     "text": [
      "C:\\Users\\dell\\AppData\\Local\\conda\\conda\\envs\\tensorflow\\lib\\site-packages\\sklearn\\metrics\\classification.py:1135: UndefinedMetricWarning: F-score is ill-defined and being set to 0.0 due to no predicted samples.\n",
      "  'precision', 'predicted', average, warn_for)\n",
      "C:\\Users\\dell\\AppData\\Local\\conda\\conda\\envs\\tensorflow\\lib\\site-packages\\sklearn\\metrics\\classification.py:1135: UndefinedMetricWarning: F-score is ill-defined and being set to 0.0 due to no predicted samples.\n",
      "  'precision', 'predicted', average, warn_for)\n"
     ]
    },
    {
     "name": "stdout",
     "output_type": "stream",
     "text": [
      "[CV]  criterion=entropy, bootstrap=True, n_estimators=200, max_features=5, class_weight=None, max_depth=15, min_samples_split=10, min_samples_leaf=15, score=0.0, total=   1.0s\n",
      "[Parallel(n_jobs=1)]: Done  53 out of  53 | elapsed:  2.0min remaining:    0.0s\n",
      "[CV] criterion=entropy, bootstrap=True, n_estimators=200, max_features=5, class_weight=None, max_depth=15, min_samples_split=10, min_samples_leaf=15 \n"
     ]
    },
    {
     "name": "stderr",
     "output_type": "stream",
     "text": [
      "C:\\Users\\dell\\AppData\\Local\\conda\\conda\\envs\\tensorflow\\lib\\site-packages\\sklearn\\metrics\\classification.py:1135: UndefinedMetricWarning: F-score is ill-defined and being set to 0.0 due to no predicted samples.\n",
      "  'precision', 'predicted', average, warn_for)\n",
      "C:\\Users\\dell\\AppData\\Local\\conda\\conda\\envs\\tensorflow\\lib\\site-packages\\sklearn\\metrics\\classification.py:1135: UndefinedMetricWarning: F-score is ill-defined and being set to 0.0 due to no predicted samples.\n",
      "  'precision', 'predicted', average, warn_for)\n"
     ]
    },
    {
     "name": "stdout",
     "output_type": "stream",
     "text": [
      "[CV]  criterion=entropy, bootstrap=True, n_estimators=200, max_features=5, class_weight=None, max_depth=15, min_samples_split=10, min_samples_leaf=15, score=0.0, total=   1.0s\n",
      "[Parallel(n_jobs=1)]: Done  54 out of  54 | elapsed:  2.0min remaining:    0.0s\n",
      "[CV] criterion=entropy, bootstrap=True, n_estimators=200, max_features=5, class_weight=None, max_depth=15, min_samples_split=10, min_samples_leaf=15 \n"
     ]
    },
    {
     "name": "stderr",
     "output_type": "stream",
     "text": [
      "C:\\Users\\dell\\AppData\\Local\\conda\\conda\\envs\\tensorflow\\lib\\site-packages\\sklearn\\metrics\\classification.py:1135: UndefinedMetricWarning: F-score is ill-defined and being set to 0.0 due to no predicted samples.\n",
      "  'precision', 'predicted', average, warn_for)\n",
      "C:\\Users\\dell\\AppData\\Local\\conda\\conda\\envs\\tensorflow\\lib\\site-packages\\sklearn\\metrics\\classification.py:1135: UndefinedMetricWarning: F-score is ill-defined and being set to 0.0 due to no predicted samples.\n",
      "  'precision', 'predicted', average, warn_for)\n"
     ]
    },
    {
     "name": "stdout",
     "output_type": "stream",
     "text": [
      "[CV]  criterion=entropy, bootstrap=True, n_estimators=200, max_features=5, class_weight=None, max_depth=15, min_samples_split=10, min_samples_leaf=15, score=0.0, total=   1.0s\n",
      "[Parallel(n_jobs=1)]: Done  55 out of  55 | elapsed:  2.1min remaining:    0.0s\n",
      "[CV] criterion=entropy, bootstrap=True, n_estimators=200, max_features=5, class_weight=None, max_depth=15, min_samples_split=10, min_samples_leaf=15 \n"
     ]
    },
    {
     "name": "stderr",
     "output_type": "stream",
     "text": [
      "C:\\Users\\dell\\AppData\\Local\\conda\\conda\\envs\\tensorflow\\lib\\site-packages\\sklearn\\metrics\\classification.py:1135: UndefinedMetricWarning: F-score is ill-defined and being set to 0.0 due to no predicted samples.\n",
      "  'precision', 'predicted', average, warn_for)\n",
      "C:\\Users\\dell\\AppData\\Local\\conda\\conda\\envs\\tensorflow\\lib\\site-packages\\sklearn\\metrics\\classification.py:1135: UndefinedMetricWarning: F-score is ill-defined and being set to 0.0 due to no predicted samples.\n",
      "  'precision', 'predicted', average, warn_for)\n"
     ]
    },
    {
     "name": "stdout",
     "output_type": "stream",
     "text": [
      "[CV]  criterion=entropy, bootstrap=True, n_estimators=200, max_features=5, class_weight=None, max_depth=15, min_samples_split=10, min_samples_leaf=15, score=0.0, total=   1.0s\n",
      "[Parallel(n_jobs=1)]: Done  56 out of  56 | elapsed:  2.1min remaining:    0.0s\n",
      "[CV] criterion=entropy, bootstrap=True, n_estimators=200, max_features=5, class_weight=None, max_depth=15, min_samples_split=10, min_samples_leaf=15 \n"
     ]
    },
    {
     "name": "stderr",
     "output_type": "stream",
     "text": [
      "C:\\Users\\dell\\AppData\\Local\\conda\\conda\\envs\\tensorflow\\lib\\site-packages\\sklearn\\metrics\\classification.py:1135: UndefinedMetricWarning: F-score is ill-defined and being set to 0.0 due to no predicted samples.\n",
      "  'precision', 'predicted', average, warn_for)\n",
      "C:\\Users\\dell\\AppData\\Local\\conda\\conda\\envs\\tensorflow\\lib\\site-packages\\sklearn\\metrics\\classification.py:1135: UndefinedMetricWarning: F-score is ill-defined and being set to 0.0 due to no predicted samples.\n",
      "  'precision', 'predicted', average, warn_for)\n"
     ]
    },
    {
     "name": "stdout",
     "output_type": "stream",
     "text": [
      "[CV]  criterion=entropy, bootstrap=True, n_estimators=200, max_features=5, class_weight=None, max_depth=15, min_samples_split=10, min_samples_leaf=15, score=0.0, total=   1.0s\n",
      "[Parallel(n_jobs=1)]: Done  57 out of  57 | elapsed:  2.1min remaining:    0.0s\n",
      "[CV] criterion=entropy, bootstrap=True, n_estimators=200, max_features=5, class_weight=None, max_depth=15, min_samples_split=10, min_samples_leaf=15 \n"
     ]
    },
    {
     "name": "stderr",
     "output_type": "stream",
     "text": [
      "C:\\Users\\dell\\AppData\\Local\\conda\\conda\\envs\\tensorflow\\lib\\site-packages\\sklearn\\metrics\\classification.py:1135: UndefinedMetricWarning: F-score is ill-defined and being set to 0.0 due to no predicted samples.\n",
      "  'precision', 'predicted', average, warn_for)\n",
      "C:\\Users\\dell\\AppData\\Local\\conda\\conda\\envs\\tensorflow\\lib\\site-packages\\sklearn\\metrics\\classification.py:1135: UndefinedMetricWarning: F-score is ill-defined and being set to 0.0 due to no predicted samples.\n",
      "  'precision', 'predicted', average, warn_for)\n"
     ]
    },
    {
     "name": "stdout",
     "output_type": "stream",
     "text": [
      "[CV]  criterion=entropy, bootstrap=True, n_estimators=200, max_features=5, class_weight=None, max_depth=15, min_samples_split=10, min_samples_leaf=15, score=0.0, total=   1.0s\n",
      "[Parallel(n_jobs=1)]: Done  58 out of  58 | elapsed:  2.1min remaining:    0.0s\n",
      "[CV] criterion=entropy, bootstrap=True, n_estimators=200, max_features=5, class_weight=None, max_depth=15, min_samples_split=10, min_samples_leaf=15 \n"
     ]
    },
    {
     "name": "stderr",
     "output_type": "stream",
     "text": [
      "C:\\Users\\dell\\AppData\\Local\\conda\\conda\\envs\\tensorflow\\lib\\site-packages\\sklearn\\metrics\\classification.py:1135: UndefinedMetricWarning: F-score is ill-defined and being set to 0.0 due to no predicted samples.\n",
      "  'precision', 'predicted', average, warn_for)\n",
      "C:\\Users\\dell\\AppData\\Local\\conda\\conda\\envs\\tensorflow\\lib\\site-packages\\sklearn\\metrics\\classification.py:1135: UndefinedMetricWarning: F-score is ill-defined and being set to 0.0 due to no predicted samples.\n",
      "  'precision', 'predicted', average, warn_for)\n"
     ]
    },
    {
     "name": "stdout",
     "output_type": "stream",
     "text": [
      "[CV]  criterion=entropy, bootstrap=True, n_estimators=200, max_features=5, class_weight=None, max_depth=15, min_samples_split=10, min_samples_leaf=15, score=0.0, total=   1.0s\n",
      "[Parallel(n_jobs=1)]: Done  59 out of  59 | elapsed:  2.2min remaining:    0.0s\n",
      "[CV] criterion=entropy, bootstrap=True, n_estimators=200, max_features=5, class_weight=None, max_depth=15, min_samples_split=10, min_samples_leaf=15 \n"
     ]
    },
    {
     "name": "stderr",
     "output_type": "stream",
     "text": [
      "C:\\Users\\dell\\AppData\\Local\\conda\\conda\\envs\\tensorflow\\lib\\site-packages\\sklearn\\metrics\\classification.py:1135: UndefinedMetricWarning: F-score is ill-defined and being set to 0.0 due to no predicted samples.\n",
      "  'precision', 'predicted', average, warn_for)\n",
      "C:\\Users\\dell\\AppData\\Local\\conda\\conda\\envs\\tensorflow\\lib\\site-packages\\sklearn\\metrics\\classification.py:1135: UndefinedMetricWarning: F-score is ill-defined and being set to 0.0 due to no predicted samples.\n",
      "  'precision', 'predicted', average, warn_for)\n"
     ]
    },
    {
     "name": "stdout",
     "output_type": "stream",
     "text": [
      "[CV]  criterion=entropy, bootstrap=True, n_estimators=200, max_features=5, class_weight=None, max_depth=15, min_samples_split=10, min_samples_leaf=15, score=0.0, total=   1.4s\n",
      "[Parallel(n_jobs=1)]: Done  60 out of  60 | elapsed:  2.2min remaining:    0.0s\n",
      "[CV] criterion=entropy, bootstrap=False, n_estimators=100, max_features=5, class_weight=None, max_depth=15, min_samples_split=10, min_samples_leaf=20 \n"
     ]
    },
    {
     "name": "stderr",
     "output_type": "stream",
     "text": [
      "C:\\Users\\dell\\AppData\\Local\\conda\\conda\\envs\\tensorflow\\lib\\site-packages\\sklearn\\metrics\\classification.py:1135: UndefinedMetricWarning: F-score is ill-defined and being set to 0.0 due to no predicted samples.\n",
      "  'precision', 'predicted', average, warn_for)\n",
      "C:\\Users\\dell\\AppData\\Local\\conda\\conda\\envs\\tensorflow\\lib\\site-packages\\sklearn\\metrics\\classification.py:1135: UndefinedMetricWarning: F-score is ill-defined and being set to 0.0 due to no predicted samples.\n",
      "  'precision', 'predicted', average, warn_for)\n"
     ]
    },
    {
     "name": "stdout",
     "output_type": "stream",
     "text": [
      "[CV]  criterion=entropy, bootstrap=False, n_estimators=100, max_features=5, class_weight=None, max_depth=15, min_samples_split=10, min_samples_leaf=20, score=0.0, total=   0.8s\n",
      "[Parallel(n_jobs=1)]: Done  61 out of  61 | elapsed:  2.2min remaining:    0.0s\n",
      "[CV] criterion=entropy, bootstrap=False, n_estimators=100, max_features=5, class_weight=None, max_depth=15, min_samples_split=10, min_samples_leaf=20 \n"
     ]
    },
    {
     "name": "stderr",
     "output_type": "stream",
     "text": [
      "C:\\Users\\dell\\AppData\\Local\\conda\\conda\\envs\\tensorflow\\lib\\site-packages\\sklearn\\metrics\\classification.py:1135: UndefinedMetricWarning: F-score is ill-defined and being set to 0.0 due to no predicted samples.\n",
      "  'precision', 'predicted', average, warn_for)\n",
      "C:\\Users\\dell\\AppData\\Local\\conda\\conda\\envs\\tensorflow\\lib\\site-packages\\sklearn\\metrics\\classification.py:1135: UndefinedMetricWarning: F-score is ill-defined and being set to 0.0 due to no predicted samples.\n",
      "  'precision', 'predicted', average, warn_for)\n"
     ]
    },
    {
     "name": "stdout",
     "output_type": "stream",
     "text": [
      "[CV]  criterion=entropy, bootstrap=False, n_estimators=100, max_features=5, class_weight=None, max_depth=15, min_samples_split=10, min_samples_leaf=20, score=0.0, total=   0.8s\n",
      "[Parallel(n_jobs=1)]: Done  62 out of  62 | elapsed:  2.2min remaining:    0.0s\n",
      "[CV] criterion=entropy, bootstrap=False, n_estimators=100, max_features=5, class_weight=None, max_depth=15, min_samples_split=10, min_samples_leaf=20 \n"
     ]
    },
    {
     "name": "stderr",
     "output_type": "stream",
     "text": [
      "C:\\Users\\dell\\AppData\\Local\\conda\\conda\\envs\\tensorflow\\lib\\site-packages\\sklearn\\metrics\\classification.py:1135: UndefinedMetricWarning: F-score is ill-defined and being set to 0.0 due to no predicted samples.\n",
      "  'precision', 'predicted', average, warn_for)\n",
      "C:\\Users\\dell\\AppData\\Local\\conda\\conda\\envs\\tensorflow\\lib\\site-packages\\sklearn\\metrics\\classification.py:1135: UndefinedMetricWarning: F-score is ill-defined and being set to 0.0 due to no predicted samples.\n",
      "  'precision', 'predicted', average, warn_for)\n"
     ]
    },
    {
     "name": "stdout",
     "output_type": "stream",
     "text": [
      "[CV]  criterion=entropy, bootstrap=False, n_estimators=100, max_features=5, class_weight=None, max_depth=15, min_samples_split=10, min_samples_leaf=20, score=0.0, total=   0.8s\n",
      "[Parallel(n_jobs=1)]: Done  63 out of  63 | elapsed:  2.3min remaining:    0.0s\n",
      "[CV] criterion=entropy, bootstrap=False, n_estimators=100, max_features=5, class_weight=None, max_depth=15, min_samples_split=10, min_samples_leaf=20 \n"
     ]
    },
    {
     "name": "stderr",
     "output_type": "stream",
     "text": [
      "C:\\Users\\dell\\AppData\\Local\\conda\\conda\\envs\\tensorflow\\lib\\site-packages\\sklearn\\metrics\\classification.py:1135: UndefinedMetricWarning: F-score is ill-defined and being set to 0.0 due to no predicted samples.\n",
      "  'precision', 'predicted', average, warn_for)\n",
      "C:\\Users\\dell\\AppData\\Local\\conda\\conda\\envs\\tensorflow\\lib\\site-packages\\sklearn\\metrics\\classification.py:1135: UndefinedMetricWarning: F-score is ill-defined and being set to 0.0 due to no predicted samples.\n",
      "  'precision', 'predicted', average, warn_for)\n"
     ]
    },
    {
     "name": "stdout",
     "output_type": "stream",
     "text": [
      "[CV]  criterion=entropy, bootstrap=False, n_estimators=100, max_features=5, class_weight=None, max_depth=15, min_samples_split=10, min_samples_leaf=20, score=0.0, total=   0.6s\n",
      "[Parallel(n_jobs=1)]: Done  64 out of  64 | elapsed:  2.3min remaining:    0.0s\n",
      "[CV] criterion=entropy, bootstrap=False, n_estimators=100, max_features=5, class_weight=None, max_depth=15, min_samples_split=10, min_samples_leaf=20 \n"
     ]
    },
    {
     "name": "stderr",
     "output_type": "stream",
     "text": [
      "C:\\Users\\dell\\AppData\\Local\\conda\\conda\\envs\\tensorflow\\lib\\site-packages\\sklearn\\metrics\\classification.py:1135: UndefinedMetricWarning: F-score is ill-defined and being set to 0.0 due to no predicted samples.\n",
      "  'precision', 'predicted', average, warn_for)\n",
      "C:\\Users\\dell\\AppData\\Local\\conda\\conda\\envs\\tensorflow\\lib\\site-packages\\sklearn\\metrics\\classification.py:1135: UndefinedMetricWarning: F-score is ill-defined and being set to 0.0 due to no predicted samples.\n",
      "  'precision', 'predicted', average, warn_for)\n"
     ]
    },
    {
     "name": "stdout",
     "output_type": "stream",
     "text": [
      "[CV]  criterion=entropy, bootstrap=False, n_estimators=100, max_features=5, class_weight=None, max_depth=15, min_samples_split=10, min_samples_leaf=20, score=0.0, total=   0.6s\n",
      "[Parallel(n_jobs=1)]: Done  65 out of  65 | elapsed:  2.3min remaining:    0.0s\n",
      "[CV] criterion=entropy, bootstrap=False, n_estimators=100, max_features=5, class_weight=None, max_depth=15, min_samples_split=10, min_samples_leaf=20 \n"
     ]
    },
    {
     "name": "stderr",
     "output_type": "stream",
     "text": [
      "C:\\Users\\dell\\AppData\\Local\\conda\\conda\\envs\\tensorflow\\lib\\site-packages\\sklearn\\metrics\\classification.py:1135: UndefinedMetricWarning: F-score is ill-defined and being set to 0.0 due to no predicted samples.\n",
      "  'precision', 'predicted', average, warn_for)\n",
      "C:\\Users\\dell\\AppData\\Local\\conda\\conda\\envs\\tensorflow\\lib\\site-packages\\sklearn\\metrics\\classification.py:1135: UndefinedMetricWarning: F-score is ill-defined and being set to 0.0 due to no predicted samples.\n",
      "  'precision', 'predicted', average, warn_for)\n"
     ]
    },
    {
     "name": "stdout",
     "output_type": "stream",
     "text": [
      "[CV]  criterion=entropy, bootstrap=False, n_estimators=100, max_features=5, class_weight=None, max_depth=15, min_samples_split=10, min_samples_leaf=20, score=0.0, total=   0.6s\n",
      "[Parallel(n_jobs=1)]: Done  66 out of  66 | elapsed:  2.3min remaining:    0.0s\n",
      "[CV] criterion=entropy, bootstrap=False, n_estimators=100, max_features=5, class_weight=None, max_depth=15, min_samples_split=10, min_samples_leaf=20 \n"
     ]
    },
    {
     "name": "stderr",
     "output_type": "stream",
     "text": [
      "C:\\Users\\dell\\AppData\\Local\\conda\\conda\\envs\\tensorflow\\lib\\site-packages\\sklearn\\metrics\\classification.py:1135: UndefinedMetricWarning: F-score is ill-defined and being set to 0.0 due to no predicted samples.\n",
      "  'precision', 'predicted', average, warn_for)\n",
      "C:\\Users\\dell\\AppData\\Local\\conda\\conda\\envs\\tensorflow\\lib\\site-packages\\sklearn\\metrics\\classification.py:1135: UndefinedMetricWarning: F-score is ill-defined and being set to 0.0 due to no predicted samples.\n",
      "  'precision', 'predicted', average, warn_for)\n"
     ]
    },
    {
     "name": "stdout",
     "output_type": "stream",
     "text": [
      "[CV]  criterion=entropy, bootstrap=False, n_estimators=100, max_features=5, class_weight=None, max_depth=15, min_samples_split=10, min_samples_leaf=20, score=0.0, total=   0.6s\n",
      "[Parallel(n_jobs=1)]: Done  67 out of  67 | elapsed:  2.3min remaining:    0.0s\n",
      "[CV] criterion=entropy, bootstrap=False, n_estimators=100, max_features=5, class_weight=None, max_depth=15, min_samples_split=10, min_samples_leaf=20 \n"
     ]
    },
    {
     "name": "stderr",
     "output_type": "stream",
     "text": [
      "C:\\Users\\dell\\AppData\\Local\\conda\\conda\\envs\\tensorflow\\lib\\site-packages\\sklearn\\metrics\\classification.py:1135: UndefinedMetricWarning: F-score is ill-defined and being set to 0.0 due to no predicted samples.\n",
      "  'precision', 'predicted', average, warn_for)\n",
      "C:\\Users\\dell\\AppData\\Local\\conda\\conda\\envs\\tensorflow\\lib\\site-packages\\sklearn\\metrics\\classification.py:1135: UndefinedMetricWarning: F-score is ill-defined and being set to 0.0 due to no predicted samples.\n",
      "  'precision', 'predicted', average, warn_for)\n"
     ]
    },
    {
     "name": "stdout",
     "output_type": "stream",
     "text": [
      "[CV]  criterion=entropy, bootstrap=False, n_estimators=100, max_features=5, class_weight=None, max_depth=15, min_samples_split=10, min_samples_leaf=20, score=0.0, total=   0.6s\n",
      "[Parallel(n_jobs=1)]: Done  68 out of  68 | elapsed:  2.3min remaining:    0.0s\n",
      "[CV] criterion=entropy, bootstrap=False, n_estimators=100, max_features=5, class_weight=None, max_depth=15, min_samples_split=10, min_samples_leaf=20 \n"
     ]
    },
    {
     "name": "stderr",
     "output_type": "stream",
     "text": [
      "C:\\Users\\dell\\AppData\\Local\\conda\\conda\\envs\\tensorflow\\lib\\site-packages\\sklearn\\metrics\\classification.py:1135: UndefinedMetricWarning: F-score is ill-defined and being set to 0.0 due to no predicted samples.\n",
      "  'precision', 'predicted', average, warn_for)\n",
      "C:\\Users\\dell\\AppData\\Local\\conda\\conda\\envs\\tensorflow\\lib\\site-packages\\sklearn\\metrics\\classification.py:1135: UndefinedMetricWarning: F-score is ill-defined and being set to 0.0 due to no predicted samples.\n",
      "  'precision', 'predicted', average, warn_for)\n"
     ]
    },
    {
     "name": "stdout",
     "output_type": "stream",
     "text": [
      "[CV]  criterion=entropy, bootstrap=False, n_estimators=100, max_features=5, class_weight=None, max_depth=15, min_samples_split=10, min_samples_leaf=20, score=0.0, total=   0.6s\n",
      "[Parallel(n_jobs=1)]: Done  69 out of  69 | elapsed:  2.3min remaining:    0.0s\n",
      "[CV] criterion=entropy, bootstrap=False, n_estimators=100, max_features=5, class_weight=None, max_depth=15, min_samples_split=10, min_samples_leaf=20 \n"
     ]
    },
    {
     "name": "stderr",
     "output_type": "stream",
     "text": [
      "C:\\Users\\dell\\AppData\\Local\\conda\\conda\\envs\\tensorflow\\lib\\site-packages\\sklearn\\metrics\\classification.py:1135: UndefinedMetricWarning: F-score is ill-defined and being set to 0.0 due to no predicted samples.\n",
      "  'precision', 'predicted', average, warn_for)\n",
      "C:\\Users\\dell\\AppData\\Local\\conda\\conda\\envs\\tensorflow\\lib\\site-packages\\sklearn\\metrics\\classification.py:1135: UndefinedMetricWarning: F-score is ill-defined and being set to 0.0 due to no predicted samples.\n",
      "  'precision', 'predicted', average, warn_for)\n"
     ]
    },
    {
     "name": "stdout",
     "output_type": "stream",
     "text": [
      "[CV]  criterion=entropy, bootstrap=False, n_estimators=100, max_features=5, class_weight=None, max_depth=15, min_samples_split=10, min_samples_leaf=20, score=0.0, total=   0.6s\n",
      "[Parallel(n_jobs=1)]: Done  70 out of  70 | elapsed:  2.4min remaining:    0.0s\n",
      "[CV] criterion=gini, bootstrap=True, n_estimators=200, max_features=10, class_weight=balanced, max_depth=None, min_samples_split=20, min_samples_leaf=10 \n",
      "[CV]  criterion=gini, bootstrap=True, n_estimators=200, max_features=10, class_weight=balanced, max_depth=None, min_samples_split=20, min_samples_leaf=10, score=0.24509803921568626, total=   1.6s\n",
      "[Parallel(n_jobs=1)]: Done  71 out of  71 | elapsed:  2.4min remaining:    0.0s\n",
      "[CV] criterion=gini, bootstrap=True, n_estimators=200, max_features=10, class_weight=balanced, max_depth=None, min_samples_split=20, min_samples_leaf=10 \n",
      "[CV]  criterion=gini, bootstrap=True, n_estimators=200, max_features=10, class_weight=balanced, max_depth=None, min_samples_split=20, min_samples_leaf=10, score=0.18617021276595744, total=   1.6s\n",
      "[Parallel(n_jobs=1)]: Done  72 out of  72 | elapsed:  2.4min remaining:    0.0s\n",
      "[CV] criterion=gini, bootstrap=True, n_estimators=200, max_features=10, class_weight=balanced, max_depth=None, min_samples_split=20, min_samples_leaf=10 \n",
      "[CV]  criterion=gini, bootstrap=True, n_estimators=200, max_features=10, class_weight=balanced, max_depth=None, min_samples_split=20, min_samples_leaf=10, score=0.23936170212765956, total=   2.0s\n",
      "[Parallel(n_jobs=1)]: Done  73 out of  73 | elapsed:  2.5min remaining:    0.0s\n",
      "[CV] criterion=gini, bootstrap=True, n_estimators=200, max_features=10, class_weight=balanced, max_depth=None, min_samples_split=20, min_samples_leaf=10 \n",
      "[CV]  criterion=gini, bootstrap=True, n_estimators=200, max_features=10, class_weight=balanced, max_depth=None, min_samples_split=20, min_samples_leaf=10, score=0.14925373134328357, total=   2.1s\n",
      "[Parallel(n_jobs=1)]: Done  74 out of  74 | elapsed:  2.5min remaining:    0.0s\n",
      "[CV] criterion=gini, bootstrap=True, n_estimators=200, max_features=10, class_weight=balanced, max_depth=None, min_samples_split=20, min_samples_leaf=10 \n",
      "[CV]  criterion=gini, bootstrap=True, n_estimators=200, max_features=10, class_weight=balanced, max_depth=None, min_samples_split=20, min_samples_leaf=10, score=0.3350515463917526, total=   1.8s\n",
      "[Parallel(n_jobs=1)]: Done  75 out of  75 | elapsed:  2.5min remaining:    0.0s\n",
      "[CV] criterion=gini, bootstrap=True, n_estimators=200, max_features=10, class_weight=balanced, max_depth=None, min_samples_split=20, min_samples_leaf=10 \n",
      "[CV]  criterion=gini, bootstrap=True, n_estimators=200, max_features=10, class_weight=balanced, max_depth=None, min_samples_split=20, min_samples_leaf=10, score=0.2590673575129533, total=   1.8s\n",
      "[Parallel(n_jobs=1)]: Done  76 out of  76 | elapsed:  2.6min remaining:    0.0s\n",
      "[CV] criterion=gini, bootstrap=True, n_estimators=200, max_features=10, class_weight=balanced, max_depth=None, min_samples_split=20, min_samples_leaf=10 \n",
      "[CV]  criterion=gini, bootstrap=True, n_estimators=200, max_features=10, class_weight=balanced, max_depth=None, min_samples_split=20, min_samples_leaf=10, score=0.29850746268656714, total=   1.7s\n",
      "[Parallel(n_jobs=1)]: Done  77 out of  77 | elapsed:  2.6min remaining:    0.0s\n",
      "[CV] criterion=gini, bootstrap=True, n_estimators=200, max_features=10, class_weight=balanced, max_depth=None, min_samples_split=20, min_samples_leaf=10 \n",
      "[CV]  criterion=gini, bootstrap=True, n_estimators=200, max_features=10, class_weight=balanced, max_depth=None, min_samples_split=20, min_samples_leaf=10, score=0.15228426395939085, total=   1.7s\n",
      "[Parallel(n_jobs=1)]: Done  78 out of  78 | elapsed:  2.7min remaining:    0.0s\n",
      "[CV] criterion=gini, bootstrap=True, n_estimators=200, max_features=10, class_weight=balanced, max_depth=None, min_samples_split=20, min_samples_leaf=10 \n",
      "[CV]  criterion=gini, bootstrap=True, n_estimators=200, max_features=10, class_weight=balanced, max_depth=None, min_samples_split=20, min_samples_leaf=10, score=0.3645833333333333, total=   1.6s\n",
      "[Parallel(n_jobs=1)]: Done  79 out of  79 | elapsed:  2.7min remaining:    0.0s\n",
      "[CV] criterion=gini, bootstrap=True, n_estimators=200, max_features=10, class_weight=balanced, max_depth=None, min_samples_split=20, min_samples_leaf=10 \n",
      "[CV]  criterion=gini, bootstrap=True, n_estimators=200, max_features=10, class_weight=balanced, max_depth=None, min_samples_split=20, min_samples_leaf=10, score=0.38888888888888884, total=   2.0s\n",
      "[Parallel(n_jobs=1)]: Done  80 out of  80 | elapsed:  2.7min remaining:    0.0s\n",
      "[CV] criterion=gini, bootstrap=True, n_estimators=300, max_features=5, class_weight=balanced, max_depth=15, min_samples_split=20, min_samples_leaf=15 \n",
      "[CV]  criterion=gini, bootstrap=True, n_estimators=300, max_features=5, class_weight=balanced, max_depth=15, min_samples_split=20, min_samples_leaf=15, score=0.3125, total=   2.1s\n",
      "[Parallel(n_jobs=1)]: Done  81 out of  81 | elapsed:  2.8min remaining:    0.0s\n",
      "[CV] criterion=gini, bootstrap=True, n_estimators=300, max_features=5, class_weight=balanced, max_depth=15, min_samples_split=20, min_samples_leaf=15 \n",
      "[CV]  criterion=gini, bootstrap=True, n_estimators=300, max_features=5, class_weight=balanced, max_depth=15, min_samples_split=20, min_samples_leaf=15, score=0.2968036529680365, total=   1.8s\n",
      "[Parallel(n_jobs=1)]: Done  82 out of  82 | elapsed:  2.8min remaining:    0.0s\n",
      "[CV] criterion=gini, bootstrap=True, n_estimators=300, max_features=5, class_weight=balanced, max_depth=15, min_samples_split=20, min_samples_leaf=15 \n",
      "[CV]  criterion=gini, bootstrap=True, n_estimators=300, max_features=5, class_weight=balanced, max_depth=15, min_samples_split=20, min_samples_leaf=15, score=0.3080568720379147, total=   1.7s\n",
      "[Parallel(n_jobs=1)]: Done  83 out of  83 | elapsed:  2.9min remaining:    0.0s\n",
      "[CV] criterion=gini, bootstrap=True, n_estimators=300, max_features=5, class_weight=balanced, max_depth=15, min_samples_split=20, min_samples_leaf=15 \n",
      "[CV]  criterion=gini, bootstrap=True, n_estimators=300, max_features=5, class_weight=balanced, max_depth=15, min_samples_split=20, min_samples_leaf=15, score=0.3571428571428571, total=   2.0s\n",
      "[Parallel(n_jobs=1)]: Done  84 out of  84 | elapsed:  2.9min remaining:    0.0s\n",
      "[CV] criterion=gini, bootstrap=True, n_estimators=300, max_features=5, class_weight=balanced, max_depth=15, min_samples_split=20, min_samples_leaf=15 \n",
      "[CV]  criterion=gini, bootstrap=True, n_estimators=300, max_features=5, class_weight=balanced, max_depth=15, min_samples_split=20, min_samples_leaf=15, score=0.4185022026431718, total=   1.8s\n",
      "[Parallel(n_jobs=1)]: Done  85 out of  85 | elapsed:  2.9min remaining:    0.0s\n",
      "[CV] criterion=gini, bootstrap=True, n_estimators=300, max_features=5, class_weight=balanced, max_depth=15, min_samples_split=20, min_samples_leaf=15 \n",
      "[CV]  criterion=gini, bootstrap=True, n_estimators=300, max_features=5, class_weight=balanced, max_depth=15, min_samples_split=20, min_samples_leaf=15, score=0.36199095022624433, total=   1.7s\n",
      "[Parallel(n_jobs=1)]: Done  86 out of  86 | elapsed:  3.0min remaining:    0.0s\n",
      "[CV] criterion=gini, bootstrap=True, n_estimators=300, max_features=5, class_weight=balanced, max_depth=15, min_samples_split=20, min_samples_leaf=15 \n",
      "[CV]  criterion=gini, bootstrap=True, n_estimators=300, max_features=5, class_weight=balanced, max_depth=15, min_samples_split=20, min_samples_leaf=15, score=0.3378378378378378, total=   2.4s\n",
      "[Parallel(n_jobs=1)]: Done  87 out of  87 | elapsed:  3.0min remaining:    0.0s\n",
      "[CV] criterion=gini, bootstrap=True, n_estimators=300, max_features=5, class_weight=balanced, max_depth=15, min_samples_split=20, min_samples_leaf=15 \n",
      "[CV]  criterion=gini, bootstrap=True, n_estimators=300, max_features=5, class_weight=balanced, max_depth=15, min_samples_split=20, min_samples_leaf=15, score=0.19565217391304346, total=   3.2s\n",
      "[Parallel(n_jobs=1)]: Done  88 out of  88 | elapsed:  3.1min remaining:    0.0s\n",
      "[CV] criterion=gini, bootstrap=True, n_estimators=300, max_features=5, class_weight=balanced, max_depth=15, min_samples_split=20, min_samples_leaf=15 \n",
      "[CV]  criterion=gini, bootstrap=True, n_estimators=300, max_features=5, class_weight=balanced, max_depth=15, min_samples_split=20, min_samples_leaf=15, score=0.37735849056603765, total=   1.8s\n",
      "[Parallel(n_jobs=1)]: Done  89 out of  89 | elapsed:  3.1min remaining:    0.0s\n",
      "[CV] criterion=gini, bootstrap=True, n_estimators=300, max_features=5, class_weight=balanced, max_depth=15, min_samples_split=20, min_samples_leaf=15 \n"
     ]
    },
    {
     "name": "stdout",
     "output_type": "stream",
     "text": [
      "[CV]  criterion=gini, bootstrap=True, n_estimators=300, max_features=5, class_weight=balanced, max_depth=15, min_samples_split=20, min_samples_leaf=15, score=0.4306220095693781, total=   2.2s\n",
      "[Parallel(n_jobs=1)]: Done  90 out of  90 | elapsed:  3.2min remaining:    0.0s\n",
      "[CV] criterion=gini, bootstrap=False, n_estimators=200, max_features=20, class_weight=balanced, max_depth=20, min_samples_split=20, min_samples_leaf=15 \n",
      "[CV]  criterion=gini, bootstrap=False, n_estimators=200, max_features=20, class_weight=balanced, max_depth=20, min_samples_split=20, min_samples_leaf=15, score=0.30991735537190085, total=   5.8s\n",
      "[Parallel(n_jobs=1)]: Done  91 out of  91 | elapsed:  3.3min remaining:    0.0s\n",
      "[CV] criterion=gini, bootstrap=False, n_estimators=200, max_features=20, class_weight=balanced, max_depth=20, min_samples_split=20, min_samples_leaf=15 \n",
      "[CV]  criterion=gini, bootstrap=False, n_estimators=200, max_features=20, class_weight=balanced, max_depth=20, min_samples_split=20, min_samples_leaf=15, score=0.33936651583710403, total=   6.4s\n",
      "[Parallel(n_jobs=1)]: Done  92 out of  92 | elapsed:  3.4min remaining:    0.0s\n",
      "[CV] criterion=gini, bootstrap=False, n_estimators=200, max_features=20, class_weight=balanced, max_depth=20, min_samples_split=20, min_samples_leaf=15 \n",
      "[CV]  criterion=gini, bootstrap=False, n_estimators=200, max_features=20, class_weight=balanced, max_depth=20, min_samples_split=20, min_samples_leaf=15, score=0.3603603603603604, total=   6.2s\n",
      "[Parallel(n_jobs=1)]: Done  93 out of  93 | elapsed:  3.5min remaining:    0.0s\n",
      "[CV] criterion=gini, bootstrap=False, n_estimators=200, max_features=20, class_weight=balanced, max_depth=20, min_samples_split=20, min_samples_leaf=15 \n",
      "[CV]  criterion=gini, bootstrap=False, n_estimators=200, max_features=20, class_weight=balanced, max_depth=20, min_samples_split=20, min_samples_leaf=15, score=0.29535864978902954, total=   6.7s\n",
      "[Parallel(n_jobs=1)]: Done  94 out of  94 | elapsed:  3.6min remaining:    0.0s\n",
      "[CV] criterion=gini, bootstrap=False, n_estimators=200, max_features=20, class_weight=balanced, max_depth=20, min_samples_split=20, min_samples_leaf=15 \n",
      "[CV]  criterion=gini, bootstrap=False, n_estimators=200, max_features=20, class_weight=balanced, max_depth=20, min_samples_split=20, min_samples_leaf=15, score=0.3913043478260869, total=   4.6s\n",
      "[Parallel(n_jobs=1)]: Done  95 out of  95 | elapsed:  3.7min remaining:    0.0s\n",
      "[CV] criterion=gini, bootstrap=False, n_estimators=200, max_features=20, class_weight=balanced, max_depth=20, min_samples_split=20, min_samples_leaf=15 \n",
      "[CV]  criterion=gini, bootstrap=False, n_estimators=200, max_features=20, class_weight=balanced, max_depth=20, min_samples_split=20, min_samples_leaf=15, score=0.3097345132743363, total=   5.1s\n",
      "[Parallel(n_jobs=1)]: Done  96 out of  96 | elapsed:  3.8min remaining:    0.0s\n",
      "[CV] criterion=gini, bootstrap=False, n_estimators=200, max_features=20, class_weight=balanced, max_depth=20, min_samples_split=20, min_samples_leaf=15 \n",
      "[CV]  criterion=gini, bootstrap=False, n_estimators=200, max_features=20, class_weight=balanced, max_depth=20, min_samples_split=20, min_samples_leaf=15, score=0.331858407079646, total=   4.5s\n",
      "[Parallel(n_jobs=1)]: Done  97 out of  97 | elapsed:  3.9min remaining:    0.0s\n",
      "[CV] criterion=gini, bootstrap=False, n_estimators=200, max_features=20, class_weight=balanced, max_depth=20, min_samples_split=20, min_samples_leaf=15 \n",
      "[CV]  criterion=gini, bootstrap=False, n_estimators=200, max_features=20, class_weight=balanced, max_depth=20, min_samples_split=20, min_samples_leaf=15, score=0.23404255319148937, total=   3.4s\n",
      "[Parallel(n_jobs=1)]: Done  98 out of  98 | elapsed:  4.0min remaining:    0.0s\n",
      "[CV] criterion=gini, bootstrap=False, n_estimators=200, max_features=20, class_weight=balanced, max_depth=20, min_samples_split=20, min_samples_leaf=15 \n",
      "[CV]  criterion=gini, bootstrap=False, n_estimators=200, max_features=20, class_weight=balanced, max_depth=20, min_samples_split=20, min_samples_leaf=15, score=0.36529680365296807, total=   3.4s\n",
      "[Parallel(n_jobs=1)]: Done  99 out of  99 | elapsed:  4.0min remaining:    0.0s\n",
      "[CV] criterion=gini, bootstrap=False, n_estimators=200, max_features=20, class_weight=balanced, max_depth=20, min_samples_split=20, min_samples_leaf=15 \n",
      "[CV]  criterion=gini, bootstrap=False, n_estimators=200, max_features=20, class_weight=balanced, max_depth=20, min_samples_split=20, min_samples_leaf=15, score=0.39534883720930225, total=   4.6s\n",
      "[Parallel(n_jobs=1)]: Done 100 out of 100 | elapsed:  4.1min remaining:    0.0s\n",
      "[CV] criterion=gini, bootstrap=False, n_estimators=200, max_features=5, class_weight=None, max_depth=20, min_samples_split=20, min_samples_leaf=10 \n"
     ]
    },
    {
     "name": "stderr",
     "output_type": "stream",
     "text": [
      "C:\\Users\\dell\\AppData\\Local\\conda\\conda\\envs\\tensorflow\\lib\\site-packages\\sklearn\\metrics\\classification.py:1135: UndefinedMetricWarning: F-score is ill-defined and being set to 0.0 due to no predicted samples.\n",
      "  'precision', 'predicted', average, warn_for)\n",
      "C:\\Users\\dell\\AppData\\Local\\conda\\conda\\envs\\tensorflow\\lib\\site-packages\\sklearn\\metrics\\classification.py:1135: UndefinedMetricWarning: F-score is ill-defined and being set to 0.0 due to no predicted samples.\n",
      "  'precision', 'predicted', average, warn_for)\n"
     ]
    },
    {
     "name": "stdout",
     "output_type": "stream",
     "text": [
      "[CV]  criterion=gini, bootstrap=False, n_estimators=200, max_features=5, class_weight=None, max_depth=20, min_samples_split=20, min_samples_leaf=10, score=0.0, total=   1.5s\n",
      "[Parallel(n_jobs=1)]: Done 101 out of 101 | elapsed:  4.2min remaining:    0.0s\n",
      "[CV] criterion=gini, bootstrap=False, n_estimators=200, max_features=5, class_weight=None, max_depth=20, min_samples_split=20, min_samples_leaf=10 \n"
     ]
    },
    {
     "name": "stderr",
     "output_type": "stream",
     "text": [
      "C:\\Users\\dell\\AppData\\Local\\conda\\conda\\envs\\tensorflow\\lib\\site-packages\\sklearn\\metrics\\classification.py:1135: UndefinedMetricWarning: F-score is ill-defined and being set to 0.0 due to no predicted samples.\n",
      "  'precision', 'predicted', average, warn_for)\n",
      "C:\\Users\\dell\\AppData\\Local\\conda\\conda\\envs\\tensorflow\\lib\\site-packages\\sklearn\\metrics\\classification.py:1135: UndefinedMetricWarning: F-score is ill-defined and being set to 0.0 due to no predicted samples.\n",
      "  'precision', 'predicted', average, warn_for)\n"
     ]
    },
    {
     "name": "stdout",
     "output_type": "stream",
     "text": [
      "[CV]  criterion=gini, bootstrap=False, n_estimators=200, max_features=5, class_weight=None, max_depth=20, min_samples_split=20, min_samples_leaf=10, score=0.0, total=   1.4s\n",
      "[Parallel(n_jobs=1)]: Done 102 out of 102 | elapsed:  4.2min remaining:    0.0s\n",
      "[CV] criterion=gini, bootstrap=False, n_estimators=200, max_features=5, class_weight=None, max_depth=20, min_samples_split=20, min_samples_leaf=10 \n"
     ]
    },
    {
     "name": "stderr",
     "output_type": "stream",
     "text": [
      "C:\\Users\\dell\\AppData\\Local\\conda\\conda\\envs\\tensorflow\\lib\\site-packages\\sklearn\\metrics\\classification.py:1135: UndefinedMetricWarning: F-score is ill-defined and being set to 0.0 due to no predicted samples.\n",
      "  'precision', 'predicted', average, warn_for)\n",
      "C:\\Users\\dell\\AppData\\Local\\conda\\conda\\envs\\tensorflow\\lib\\site-packages\\sklearn\\metrics\\classification.py:1135: UndefinedMetricWarning: F-score is ill-defined and being set to 0.0 due to no predicted samples.\n",
      "  'precision', 'predicted', average, warn_for)\n"
     ]
    },
    {
     "name": "stdout",
     "output_type": "stream",
     "text": [
      "[CV]  criterion=gini, bootstrap=False, n_estimators=200, max_features=5, class_weight=None, max_depth=20, min_samples_split=20, min_samples_leaf=10, score=0.0, total=   1.4s\n",
      "[Parallel(n_jobs=1)]: Done 103 out of 103 | elapsed:  4.2min remaining:    0.0s\n",
      "[CV] criterion=gini, bootstrap=False, n_estimators=200, max_features=5, class_weight=None, max_depth=20, min_samples_split=20, min_samples_leaf=10 \n"
     ]
    },
    {
     "name": "stderr",
     "output_type": "stream",
     "text": [
      "C:\\Users\\dell\\AppData\\Local\\conda\\conda\\envs\\tensorflow\\lib\\site-packages\\sklearn\\metrics\\classification.py:1135: UndefinedMetricWarning: F-score is ill-defined and being set to 0.0 due to no predicted samples.\n",
      "  'precision', 'predicted', average, warn_for)\n",
      "C:\\Users\\dell\\AppData\\Local\\conda\\conda\\envs\\tensorflow\\lib\\site-packages\\sklearn\\metrics\\classification.py:1135: UndefinedMetricWarning: F-score is ill-defined and being set to 0.0 due to no predicted samples.\n",
      "  'precision', 'predicted', average, warn_for)\n"
     ]
    },
    {
     "name": "stdout",
     "output_type": "stream",
     "text": [
      "[CV]  criterion=gini, bootstrap=False, n_estimators=200, max_features=5, class_weight=None, max_depth=20, min_samples_split=20, min_samples_leaf=10, score=0.0, total=   1.4s\n",
      "[Parallel(n_jobs=1)]: Done 104 out of 104 | elapsed:  4.2min remaining:    0.0s\n",
      "[CV] criterion=gini, bootstrap=False, n_estimators=200, max_features=5, class_weight=None, max_depth=20, min_samples_split=20, min_samples_leaf=10 \n"
     ]
    },
    {
     "name": "stderr",
     "output_type": "stream",
     "text": [
      "C:\\Users\\dell\\AppData\\Local\\conda\\conda\\envs\\tensorflow\\lib\\site-packages\\sklearn\\metrics\\classification.py:1135: UndefinedMetricWarning: F-score is ill-defined and being set to 0.0 due to no predicted samples.\n",
      "  'precision', 'predicted', average, warn_for)\n",
      "C:\\Users\\dell\\AppData\\Local\\conda\\conda\\envs\\tensorflow\\lib\\site-packages\\sklearn\\metrics\\classification.py:1135: UndefinedMetricWarning: F-score is ill-defined and being set to 0.0 due to no predicted samples.\n",
      "  'precision', 'predicted', average, warn_for)\n"
     ]
    },
    {
     "name": "stdout",
     "output_type": "stream",
     "text": [
      "[CV]  criterion=gini, bootstrap=False, n_estimators=200, max_features=5, class_weight=None, max_depth=20, min_samples_split=20, min_samples_leaf=10, score=0.0, total=   1.5s\n",
      "[Parallel(n_jobs=1)]: Done 105 out of 105 | elapsed:  4.3min remaining:    0.0s\n",
      "[CV] criterion=gini, bootstrap=False, n_estimators=200, max_features=5, class_weight=None, max_depth=20, min_samples_split=20, min_samples_leaf=10 \n"
     ]
    },
    {
     "name": "stderr",
     "output_type": "stream",
     "text": [
      "C:\\Users\\dell\\AppData\\Local\\conda\\conda\\envs\\tensorflow\\lib\\site-packages\\sklearn\\metrics\\classification.py:1135: UndefinedMetricWarning: F-score is ill-defined and being set to 0.0 due to no predicted samples.\n",
      "  'precision', 'predicted', average, warn_for)\n",
      "C:\\Users\\dell\\AppData\\Local\\conda\\conda\\envs\\tensorflow\\lib\\site-packages\\sklearn\\metrics\\classification.py:1135: UndefinedMetricWarning: F-score is ill-defined and being set to 0.0 due to no predicted samples.\n",
      "  'precision', 'predicted', average, warn_for)\n"
     ]
    },
    {
     "name": "stdout",
     "output_type": "stream",
     "text": [
      "[CV]  criterion=gini, bootstrap=False, n_estimators=200, max_features=5, class_weight=None, max_depth=20, min_samples_split=20, min_samples_leaf=10, score=0.0, total=   1.5s\n",
      "[Parallel(n_jobs=1)]: Done 106 out of 106 | elapsed:  4.3min remaining:    0.0s\n",
      "[CV] criterion=gini, bootstrap=False, n_estimators=200, max_features=5, class_weight=None, max_depth=20, min_samples_split=20, min_samples_leaf=10 \n"
     ]
    },
    {
     "name": "stderr",
     "output_type": "stream",
     "text": [
      "C:\\Users\\dell\\AppData\\Local\\conda\\conda\\envs\\tensorflow\\lib\\site-packages\\sklearn\\metrics\\classification.py:1135: UndefinedMetricWarning: F-score is ill-defined and being set to 0.0 due to no predicted samples.\n",
      "  'precision', 'predicted', average, warn_for)\n",
      "C:\\Users\\dell\\AppData\\Local\\conda\\conda\\envs\\tensorflow\\lib\\site-packages\\sklearn\\metrics\\classification.py:1135: UndefinedMetricWarning: F-score is ill-defined and being set to 0.0 due to no predicted samples.\n",
      "  'precision', 'predicted', average, warn_for)\n"
     ]
    },
    {
     "name": "stdout",
     "output_type": "stream",
     "text": [
      "[CV]  criterion=gini, bootstrap=False, n_estimators=200, max_features=5, class_weight=None, max_depth=20, min_samples_split=20, min_samples_leaf=10, score=0.0, total=   1.9s\n",
      "[Parallel(n_jobs=1)]: Done 107 out of 107 | elapsed:  4.4min remaining:    0.0s\n",
      "[CV] criterion=gini, bootstrap=False, n_estimators=200, max_features=5, class_weight=None, max_depth=20, min_samples_split=20, min_samples_leaf=10 \n"
     ]
    },
    {
     "name": "stderr",
     "output_type": "stream",
     "text": [
      "C:\\Users\\dell\\AppData\\Local\\conda\\conda\\envs\\tensorflow\\lib\\site-packages\\sklearn\\metrics\\classification.py:1135: UndefinedMetricWarning: F-score is ill-defined and being set to 0.0 due to no predicted samples.\n",
      "  'precision', 'predicted', average, warn_for)\n",
      "C:\\Users\\dell\\AppData\\Local\\conda\\conda\\envs\\tensorflow\\lib\\site-packages\\sklearn\\metrics\\classification.py:1135: UndefinedMetricWarning: F-score is ill-defined and being set to 0.0 due to no predicted samples.\n",
      "  'precision', 'predicted', average, warn_for)\n"
     ]
    },
    {
     "name": "stdout",
     "output_type": "stream",
     "text": [
      "[CV]  criterion=gini, bootstrap=False, n_estimators=200, max_features=5, class_weight=None, max_depth=20, min_samples_split=20, min_samples_leaf=10, score=0.0, total=   1.9s\n",
      "[Parallel(n_jobs=1)]: Done 108 out of 108 | elapsed:  4.4min remaining:    0.0s\n",
      "[CV] criterion=gini, bootstrap=False, n_estimators=200, max_features=5, class_weight=None, max_depth=20, min_samples_split=20, min_samples_leaf=10 \n"
     ]
    },
    {
     "name": "stderr",
     "output_type": "stream",
     "text": [
      "C:\\Users\\dell\\AppData\\Local\\conda\\conda\\envs\\tensorflow\\lib\\site-packages\\sklearn\\metrics\\classification.py:1135: UndefinedMetricWarning: F-score is ill-defined and being set to 0.0 due to no predicted samples.\n",
      "  'precision', 'predicted', average, warn_for)\n",
      "C:\\Users\\dell\\AppData\\Local\\conda\\conda\\envs\\tensorflow\\lib\\site-packages\\sklearn\\metrics\\classification.py:1135: UndefinedMetricWarning: F-score is ill-defined and being set to 0.0 due to no predicted samples.\n",
      "  'precision', 'predicted', average, warn_for)\n"
     ]
    },
    {
     "name": "stdout",
     "output_type": "stream",
     "text": [
      "[CV]  criterion=gini, bootstrap=False, n_estimators=200, max_features=5, class_weight=None, max_depth=20, min_samples_split=20, min_samples_leaf=10, score=0.0, total=   1.5s\n",
      "[Parallel(n_jobs=1)]: Done 109 out of 109 | elapsed:  4.4min remaining:    0.0s\n",
      "[CV] criterion=gini, bootstrap=False, n_estimators=200, max_features=5, class_weight=None, max_depth=20, min_samples_split=20, min_samples_leaf=10 \n"
     ]
    },
    {
     "name": "stderr",
     "output_type": "stream",
     "text": [
      "C:\\Users\\dell\\AppData\\Local\\conda\\conda\\envs\\tensorflow\\lib\\site-packages\\sklearn\\metrics\\classification.py:1135: UndefinedMetricWarning: F-score is ill-defined and being set to 0.0 due to no predicted samples.\n",
      "  'precision', 'predicted', average, warn_for)\n",
      "C:\\Users\\dell\\AppData\\Local\\conda\\conda\\envs\\tensorflow\\lib\\site-packages\\sklearn\\metrics\\classification.py:1135: UndefinedMetricWarning: F-score is ill-defined and being set to 0.0 due to no predicted samples.\n",
      "  'precision', 'predicted', average, warn_for)\n"
     ]
    },
    {
     "name": "stdout",
     "output_type": "stream",
     "text": [
      "[CV]  criterion=gini, bootstrap=False, n_estimators=200, max_features=5, class_weight=None, max_depth=20, min_samples_split=20, min_samples_leaf=10, score=0.0, total=   1.5s\n",
      "[Parallel(n_jobs=1)]: Done 110 out of 110 | elapsed:  4.5min remaining:    0.0s\n",
      "[CV] criterion=entropy, bootstrap=False, n_estimators=200, max_features=10, class_weight=None, max_depth=5, min_samples_split=15, min_samples_leaf=15 \n"
     ]
    },
    {
     "name": "stderr",
     "output_type": "stream",
     "text": [
      "C:\\Users\\dell\\AppData\\Local\\conda\\conda\\envs\\tensorflow\\lib\\site-packages\\sklearn\\metrics\\classification.py:1135: UndefinedMetricWarning: F-score is ill-defined and being set to 0.0 due to no predicted samples.\n",
      "  'precision', 'predicted', average, warn_for)\n",
      "C:\\Users\\dell\\AppData\\Local\\conda\\conda\\envs\\tensorflow\\lib\\site-packages\\sklearn\\metrics\\classification.py:1135: UndefinedMetricWarning: F-score is ill-defined and being set to 0.0 due to no predicted samples.\n",
      "  'precision', 'predicted', average, warn_for)\n"
     ]
    },
    {
     "name": "stdout",
     "output_type": "stream",
     "text": [
      "[CV]  criterion=entropy, bootstrap=False, n_estimators=200, max_features=10, class_weight=None, max_depth=5, min_samples_split=15, min_samples_leaf=15, score=0.0, total=   1.1s\n",
      "[Parallel(n_jobs=1)]: Done 111 out of 111 | elapsed:  4.5min remaining:    0.0s\n",
      "[CV] criterion=entropy, bootstrap=False, n_estimators=200, max_features=10, class_weight=None, max_depth=5, min_samples_split=15, min_samples_leaf=15 \n"
     ]
    },
    {
     "name": "stderr",
     "output_type": "stream",
     "text": [
      "C:\\Users\\dell\\AppData\\Local\\conda\\conda\\envs\\tensorflow\\lib\\site-packages\\sklearn\\metrics\\classification.py:1135: UndefinedMetricWarning: F-score is ill-defined and being set to 0.0 due to no predicted samples.\n",
      "  'precision', 'predicted', average, warn_for)\n",
      "C:\\Users\\dell\\AppData\\Local\\conda\\conda\\envs\\tensorflow\\lib\\site-packages\\sklearn\\metrics\\classification.py:1135: UndefinedMetricWarning: F-score is ill-defined and being set to 0.0 due to no predicted samples.\n",
      "  'precision', 'predicted', average, warn_for)\n"
     ]
    },
    {
     "name": "stdout",
     "output_type": "stream",
     "text": [
      "[CV]  criterion=entropy, bootstrap=False, n_estimators=200, max_features=10, class_weight=None, max_depth=5, min_samples_split=15, min_samples_leaf=15, score=0.0, total=   1.0s\n",
      "[Parallel(n_jobs=1)]: Done 112 out of 112 | elapsed:  4.5min remaining:    0.0s\n",
      "[CV] criterion=entropy, bootstrap=False, n_estimators=200, max_features=10, class_weight=None, max_depth=5, min_samples_split=15, min_samples_leaf=15 \n"
     ]
    },
    {
     "name": "stderr",
     "output_type": "stream",
     "text": [
      "C:\\Users\\dell\\AppData\\Local\\conda\\conda\\envs\\tensorflow\\lib\\site-packages\\sklearn\\metrics\\classification.py:1135: UndefinedMetricWarning: F-score is ill-defined and being set to 0.0 due to no predicted samples.\n",
      "  'precision', 'predicted', average, warn_for)\n",
      "C:\\Users\\dell\\AppData\\Local\\conda\\conda\\envs\\tensorflow\\lib\\site-packages\\sklearn\\metrics\\classification.py:1135: UndefinedMetricWarning: F-score is ill-defined and being set to 0.0 due to no predicted samples.\n",
      "  'precision', 'predicted', average, warn_for)\n"
     ]
    },
    {
     "name": "stdout",
     "output_type": "stream",
     "text": [
      "[CV]  criterion=entropy, bootstrap=False, n_estimators=200, max_features=10, class_weight=None, max_depth=5, min_samples_split=15, min_samples_leaf=15, score=0.0, total=   1.0s\n",
      "[Parallel(n_jobs=1)]: Done 113 out of 113 | elapsed:  4.5min remaining:    0.0s\n",
      "[CV] criterion=entropy, bootstrap=False, n_estimators=200, max_features=10, class_weight=None, max_depth=5, min_samples_split=15, min_samples_leaf=15 \n"
     ]
    },
    {
     "name": "stderr",
     "output_type": "stream",
     "text": [
      "C:\\Users\\dell\\AppData\\Local\\conda\\conda\\envs\\tensorflow\\lib\\site-packages\\sklearn\\metrics\\classification.py:1135: UndefinedMetricWarning: F-score is ill-defined and being set to 0.0 due to no predicted samples.\n",
      "  'precision', 'predicted', average, warn_for)\n",
      "C:\\Users\\dell\\AppData\\Local\\conda\\conda\\envs\\tensorflow\\lib\\site-packages\\sklearn\\metrics\\classification.py:1135: UndefinedMetricWarning: F-score is ill-defined and being set to 0.0 due to no predicted samples.\n",
      "  'precision', 'predicted', average, warn_for)\n"
     ]
    },
    {
     "name": "stdout",
     "output_type": "stream",
     "text": [
      "[CV]  criterion=entropy, bootstrap=False, n_estimators=200, max_features=10, class_weight=None, max_depth=5, min_samples_split=15, min_samples_leaf=15, score=0.0, total=   1.0s\n",
      "[Parallel(n_jobs=1)]: Done 114 out of 114 | elapsed:  4.5min remaining:    0.0s\n",
      "[CV] criterion=entropy, bootstrap=False, n_estimators=200, max_features=10, class_weight=None, max_depth=5, min_samples_split=15, min_samples_leaf=15 \n"
     ]
    },
    {
     "name": "stderr",
     "output_type": "stream",
     "text": [
      "C:\\Users\\dell\\AppData\\Local\\conda\\conda\\envs\\tensorflow\\lib\\site-packages\\sklearn\\metrics\\classification.py:1135: UndefinedMetricWarning: F-score is ill-defined and being set to 0.0 due to no predicted samples.\n",
      "  'precision', 'predicted', average, warn_for)\n",
      "C:\\Users\\dell\\AppData\\Local\\conda\\conda\\envs\\tensorflow\\lib\\site-packages\\sklearn\\metrics\\classification.py:1135: UndefinedMetricWarning: F-score is ill-defined and being set to 0.0 due to no predicted samples.\n",
      "  'precision', 'predicted', average, warn_for)\n"
     ]
    },
    {
     "name": "stdout",
     "output_type": "stream",
     "text": [
      "[CV]  criterion=entropy, bootstrap=False, n_estimators=200, max_features=10, class_weight=None, max_depth=5, min_samples_split=15, min_samples_leaf=15, score=0.0, total=   1.1s\n",
      "[Parallel(n_jobs=1)]: Done 115 out of 115 | elapsed:  4.6min remaining:    0.0s\n",
      "[CV] criterion=entropy, bootstrap=False, n_estimators=200, max_features=10, class_weight=None, max_depth=5, min_samples_split=15, min_samples_leaf=15 \n"
     ]
    },
    {
     "name": "stderr",
     "output_type": "stream",
     "text": [
      "C:\\Users\\dell\\AppData\\Local\\conda\\conda\\envs\\tensorflow\\lib\\site-packages\\sklearn\\metrics\\classification.py:1135: UndefinedMetricWarning: F-score is ill-defined and being set to 0.0 due to no predicted samples.\n",
      "  'precision', 'predicted', average, warn_for)\n",
      "C:\\Users\\dell\\AppData\\Local\\conda\\conda\\envs\\tensorflow\\lib\\site-packages\\sklearn\\metrics\\classification.py:1135: UndefinedMetricWarning: F-score is ill-defined and being set to 0.0 due to no predicted samples.\n",
      "  'precision', 'predicted', average, warn_for)\n"
     ]
    },
    {
     "name": "stdout",
     "output_type": "stream",
     "text": [
      "[CV]  criterion=entropy, bootstrap=False, n_estimators=200, max_features=10, class_weight=None, max_depth=5, min_samples_split=15, min_samples_leaf=15, score=0.0, total=   1.4s\n",
      "[Parallel(n_jobs=1)]: Done 116 out of 116 | elapsed:  4.6min remaining:    0.0s\n",
      "[CV] criterion=entropy, bootstrap=False, n_estimators=200, max_features=10, class_weight=None, max_depth=5, min_samples_split=15, min_samples_leaf=15 \n"
     ]
    },
    {
     "name": "stderr",
     "output_type": "stream",
     "text": [
      "C:\\Users\\dell\\AppData\\Local\\conda\\conda\\envs\\tensorflow\\lib\\site-packages\\sklearn\\metrics\\classification.py:1135: UndefinedMetricWarning: F-score is ill-defined and being set to 0.0 due to no predicted samples.\n",
      "  'precision', 'predicted', average, warn_for)\n",
      "C:\\Users\\dell\\AppData\\Local\\conda\\conda\\envs\\tensorflow\\lib\\site-packages\\sklearn\\metrics\\classification.py:1135: UndefinedMetricWarning: F-score is ill-defined and being set to 0.0 due to no predicted samples.\n",
      "  'precision', 'predicted', average, warn_for)\n"
     ]
    },
    {
     "name": "stdout",
     "output_type": "stream",
     "text": [
      "[CV]  criterion=entropy, bootstrap=False, n_estimators=200, max_features=10, class_weight=None, max_depth=5, min_samples_split=15, min_samples_leaf=15, score=0.0, total=   1.6s\n",
      "[Parallel(n_jobs=1)]: Done 117 out of 117 | elapsed:  4.6min remaining:    0.0s\n",
      "[CV] criterion=entropy, bootstrap=False, n_estimators=200, max_features=10, class_weight=None, max_depth=5, min_samples_split=15, min_samples_leaf=15 \n"
     ]
    },
    {
     "name": "stderr",
     "output_type": "stream",
     "text": [
      "C:\\Users\\dell\\AppData\\Local\\conda\\conda\\envs\\tensorflow\\lib\\site-packages\\sklearn\\metrics\\classification.py:1135: UndefinedMetricWarning: F-score is ill-defined and being set to 0.0 due to no predicted samples.\n",
      "  'precision', 'predicted', average, warn_for)\n",
      "C:\\Users\\dell\\AppData\\Local\\conda\\conda\\envs\\tensorflow\\lib\\site-packages\\sklearn\\metrics\\classification.py:1135: UndefinedMetricWarning: F-score is ill-defined and being set to 0.0 due to no predicted samples.\n",
      "  'precision', 'predicted', average, warn_for)\n"
     ]
    },
    {
     "name": "stdout",
     "output_type": "stream",
     "text": [
      "[CV]  criterion=entropy, bootstrap=False, n_estimators=200, max_features=10, class_weight=None, max_depth=5, min_samples_split=15, min_samples_leaf=15, score=0.0, total=   1.6s\n",
      "[Parallel(n_jobs=1)]: Done 118 out of 118 | elapsed:  4.7min remaining:    0.0s\n",
      "[CV] criterion=entropy, bootstrap=False, n_estimators=200, max_features=10, class_weight=None, max_depth=5, min_samples_split=15, min_samples_leaf=15 \n"
     ]
    },
    {
     "name": "stderr",
     "output_type": "stream",
     "text": [
      "C:\\Users\\dell\\AppData\\Local\\conda\\conda\\envs\\tensorflow\\lib\\site-packages\\sklearn\\metrics\\classification.py:1135: UndefinedMetricWarning: F-score is ill-defined and being set to 0.0 due to no predicted samples.\n",
      "  'precision', 'predicted', average, warn_for)\n",
      "C:\\Users\\dell\\AppData\\Local\\conda\\conda\\envs\\tensorflow\\lib\\site-packages\\sklearn\\metrics\\classification.py:1135: UndefinedMetricWarning: F-score is ill-defined and being set to 0.0 due to no predicted samples.\n",
      "  'precision', 'predicted', average, warn_for)\n"
     ]
    },
    {
     "name": "stdout",
     "output_type": "stream",
     "text": [
      "[CV]  criterion=entropy, bootstrap=False, n_estimators=200, max_features=10, class_weight=None, max_depth=5, min_samples_split=15, min_samples_leaf=15, score=0.0, total=   1.3s\n",
      "[Parallel(n_jobs=1)]: Done 119 out of 119 | elapsed:  4.7min remaining:    0.0s\n",
      "[CV] criterion=entropy, bootstrap=False, n_estimators=200, max_features=10, class_weight=None, max_depth=5, min_samples_split=15, min_samples_leaf=15 \n"
     ]
    },
    {
     "name": "stderr",
     "output_type": "stream",
     "text": [
      "C:\\Users\\dell\\AppData\\Local\\conda\\conda\\envs\\tensorflow\\lib\\site-packages\\sklearn\\metrics\\classification.py:1135: UndefinedMetricWarning: F-score is ill-defined and being set to 0.0 due to no predicted samples.\n",
      "  'precision', 'predicted', average, warn_for)\n",
      "C:\\Users\\dell\\AppData\\Local\\conda\\conda\\envs\\tensorflow\\lib\\site-packages\\sklearn\\metrics\\classification.py:1135: UndefinedMetricWarning: F-score is ill-defined and being set to 0.0 due to no predicted samples.\n",
      "  'precision', 'predicted', average, warn_for)\n"
     ]
    },
    {
     "name": "stdout",
     "output_type": "stream",
     "text": [
      "[CV]  criterion=entropy, bootstrap=False, n_estimators=200, max_features=10, class_weight=None, max_depth=5, min_samples_split=15, min_samples_leaf=15, score=0.0, total=   1.3s\n",
      "[Parallel(n_jobs=1)]: Done 120 out of 120 | elapsed:  4.7min remaining:    0.0s\n",
      "[CV] criterion=entropy, bootstrap=False, n_estimators=200, max_features=10, class_weight=balanced, max_depth=20, min_samples_split=20, min_samples_leaf=10 \n",
      "[CV]  criterion=entropy, bootstrap=False, n_estimators=200, max_features=10, class_weight=balanced, max_depth=20, min_samples_split=20, min_samples_leaf=10, score=0.2643171806167401, total=   2.7s\n",
      "[Parallel(n_jobs=1)]: Done 121 out of 121 | elapsed:  4.8min remaining:    0.0s\n",
      "[CV] criterion=entropy, bootstrap=False, n_estimators=200, max_features=10, class_weight=balanced, max_depth=20, min_samples_split=20, min_samples_leaf=10 \n",
      "[CV]  criterion=entropy, bootstrap=False, n_estimators=200, max_features=10, class_weight=balanced, max_depth=20, min_samples_split=20, min_samples_leaf=10, score=0.28985507246376807, total=   2.6s\n",
      "[Parallel(n_jobs=1)]: Done 122 out of 122 | elapsed:  4.8min remaining:    0.0s\n",
      "[CV] criterion=entropy, bootstrap=False, n_estimators=200, max_features=10, class_weight=balanced, max_depth=20, min_samples_split=20, min_samples_leaf=10 \n",
      "[CV]  criterion=entropy, bootstrap=False, n_estimators=200, max_features=10, class_weight=balanced, max_depth=20, min_samples_split=20, min_samples_leaf=10, score=0.29702970297029707, total=   2.9s\n",
      "[Parallel(n_jobs=1)]: Done 123 out of 123 | elapsed:  4.9min remaining:    0.0s\n",
      "[CV] criterion=entropy, bootstrap=False, n_estimators=200, max_features=10, class_weight=balanced, max_depth=20, min_samples_split=20, min_samples_leaf=10 \n",
      "[CV]  criterion=entropy, bootstrap=False, n_estimators=200, max_features=10, class_weight=balanced, max_depth=20, min_samples_split=20, min_samples_leaf=10, score=0.18348623853211007, total=   3.0s\n",
      "[Parallel(n_jobs=1)]: Done 124 out of 124 | elapsed:  4.9min remaining:    0.0s\n",
      "[CV] criterion=entropy, bootstrap=False, n_estimators=200, max_features=10, class_weight=balanced, max_depth=20, min_samples_split=20, min_samples_leaf=10 \n",
      "[CV]  criterion=entropy, bootstrap=False, n_estimators=200, max_features=10, class_weight=balanced, max_depth=20, min_samples_split=20, min_samples_leaf=10, score=0.3424657534246575, total=   2.4s\n",
      "[Parallel(n_jobs=1)]: Done 125 out of 125 | elapsed:  5.0min remaining:    0.0s\n",
      "[CV] criterion=entropy, bootstrap=False, n_estimators=200, max_features=10, class_weight=balanced, max_depth=20, min_samples_split=20, min_samples_leaf=10 \n",
      "[CV]  criterion=entropy, bootstrap=False, n_estimators=200, max_features=10, class_weight=balanced, max_depth=20, min_samples_split=20, min_samples_leaf=10, score=0.2968036529680365, total=   2.3s\n",
      "[Parallel(n_jobs=1)]: Done 126 out of 126 | elapsed:  5.0min remaining:    0.0s\n",
      "[CV] criterion=entropy, bootstrap=False, n_estimators=200, max_features=10, class_weight=balanced, max_depth=20, min_samples_split=20, min_samples_leaf=10 \n",
      "[CV]  criterion=entropy, bootstrap=False, n_estimators=200, max_features=10, class_weight=balanced, max_depth=20, min_samples_split=20, min_samples_leaf=10, score=0.2582159624413145, total=   2.3s\n",
      "[Parallel(n_jobs=1)]: Done 127 out of 127 | elapsed:  5.1min remaining:    0.0s\n",
      "[CV] criterion=entropy, bootstrap=False, n_estimators=200, max_features=10, class_weight=balanced, max_depth=20, min_samples_split=20, min_samples_leaf=10 \n",
      "[CV]  criterion=entropy, bootstrap=False, n_estimators=200, max_features=10, class_weight=balanced, max_depth=20, min_samples_split=20, min_samples_leaf=10, score=0.16666666666666666, total=   2.6s\n",
      "[Parallel(n_jobs=1)]: Done 128 out of 128 | elapsed:  5.1min remaining:    0.0s\n",
      "[CV] criterion=entropy, bootstrap=False, n_estimators=200, max_features=10, class_weight=balanced, max_depth=20, min_samples_split=20, min_samples_leaf=10 \n",
      "[CV]  criterion=entropy, bootstrap=False, n_estimators=200, max_features=10, class_weight=balanced, max_depth=20, min_samples_split=20, min_samples_leaf=10, score=0.36231884057971014, total=   3.2s\n",
      "[Parallel(n_jobs=1)]: Done 129 out of 129 | elapsed:  5.2min remaining:    0.0s\n",
      "[CV] criterion=entropy, bootstrap=False, n_estimators=200, max_features=10, class_weight=balanced, max_depth=20, min_samples_split=20, min_samples_leaf=10 \n",
      "[CV]  criterion=entropy, bootstrap=False, n_estimators=200, max_features=10, class_weight=balanced, max_depth=20, min_samples_split=20, min_samples_leaf=10, score=0.4106280193236715, total=   2.4s\n",
      "[Parallel(n_jobs=1)]: Done 130 out of 130 | elapsed:  5.2min remaining:    0.0s\n",
      "[CV] criterion=entropy, bootstrap=True, n_estimators=300, max_features=20, class_weight=balanced, max_depth=10, min_samples_split=10, min_samples_leaf=15 \n",
      "[CV]  criterion=entropy, bootstrap=True, n_estimators=300, max_features=20, class_weight=balanced, max_depth=10, min_samples_split=10, min_samples_leaf=15, score=0.3048780487804878, total=   3.0s\n",
      "[Parallel(n_jobs=1)]: Done 131 out of 131 | elapsed:  5.3min remaining:    0.0s\n",
      "[CV] criterion=entropy, bootstrap=True, n_estimators=300, max_features=20, class_weight=balanced, max_depth=10, min_samples_split=10, min_samples_leaf=15 \n",
      "[CV]  criterion=entropy, bootstrap=True, n_estimators=300, max_features=20, class_weight=balanced, max_depth=10, min_samples_split=10, min_samples_leaf=15, score=0.3246753246753247, total=   3.0s\n",
      "[Parallel(n_jobs=1)]: Done 132 out of 132 | elapsed:  5.4min remaining:    0.0s\n",
      "[CV] criterion=entropy, bootstrap=True, n_estimators=300, max_features=20, class_weight=balanced, max_depth=10, min_samples_split=10, min_samples_leaf=15 \n",
      "[CV]  criterion=entropy, bootstrap=True, n_estimators=300, max_features=20, class_weight=balanced, max_depth=10, min_samples_split=10, min_samples_leaf=15, score=0.331858407079646, total=   3.8s\n",
      "[Parallel(n_jobs=1)]: Done 133 out of 133 | elapsed:  5.4min remaining:    0.0s\n",
      "[CV] criterion=entropy, bootstrap=True, n_estimators=300, max_features=20, class_weight=balanced, max_depth=10, min_samples_split=10, min_samples_leaf=15 \n",
      "[CV]  criterion=entropy, bootstrap=True, n_estimators=300, max_features=20, class_weight=balanced, max_depth=10, min_samples_split=10, min_samples_leaf=15, score=0.32520325203252026, total=   3.4s\n",
      "[Parallel(n_jobs=1)]: Done 134 out of 134 | elapsed:  5.5min remaining:    0.0s\n",
      "[CV] criterion=entropy, bootstrap=True, n_estimators=300, max_features=20, class_weight=balanced, max_depth=10, min_samples_split=10, min_samples_leaf=15 \n",
      "[CV]  criterion=entropy, bootstrap=True, n_estimators=300, max_features=20, class_weight=balanced, max_depth=10, min_samples_split=10, min_samples_leaf=15, score=0.38297872340425526, total=   3.0s\n",
      "[Parallel(n_jobs=1)]: Done 135 out of 135 | elapsed:  5.6min remaining:    0.0s\n",
      "[CV] criterion=entropy, bootstrap=True, n_estimators=300, max_features=20, class_weight=balanced, max_depth=10, min_samples_split=10, min_samples_leaf=15 \n",
      "[CV]  criterion=entropy, bootstrap=True, n_estimators=300, max_features=20, class_weight=balanced, max_depth=10, min_samples_split=10, min_samples_leaf=15, score=0.32751091703056767, total=   3.0s\n",
      "[Parallel(n_jobs=1)]: Done 136 out of 136 | elapsed:  5.6min remaining:    0.0s\n",
      "[CV] criterion=entropy, bootstrap=True, n_estimators=300, max_features=20, class_weight=balanced, max_depth=10, min_samples_split=10, min_samples_leaf=15 \n",
      "[CV]  criterion=entropy, bootstrap=True, n_estimators=300, max_features=20, class_weight=balanced, max_depth=10, min_samples_split=10, min_samples_leaf=15, score=0.3289473684210526, total=   3.6s\n",
      "[Parallel(n_jobs=1)]: Done 137 out of 137 | elapsed:  5.7min remaining:    0.0s\n",
      "[CV] criterion=entropy, bootstrap=True, n_estimators=300, max_features=20, class_weight=balanced, max_depth=10, min_samples_split=10, min_samples_leaf=15 \n",
      "[CV]  criterion=entropy, bootstrap=True, n_estimators=300, max_features=20, class_weight=balanced, max_depth=10, min_samples_split=10, min_samples_leaf=15, score=0.2575107296137339, total=   3.8s\n",
      "[Parallel(n_jobs=1)]: Done 138 out of 138 | elapsed:  5.7min remaining:    0.0s\n",
      "[CV] criterion=entropy, bootstrap=True, n_estimators=300, max_features=20, class_weight=balanced, max_depth=10, min_samples_split=10, min_samples_leaf=15 \n"
     ]
    },
    {
     "name": "stdout",
     "output_type": "stream",
     "text": [
      "[CV]  criterion=entropy, bootstrap=True, n_estimators=300, max_features=20, class_weight=balanced, max_depth=10, min_samples_split=10, min_samples_leaf=15, score=0.36866359447004604, total=   3.0s\n",
      "[Parallel(n_jobs=1)]: Done 139 out of 139 | elapsed:  5.8min remaining:    0.0s\n",
      "[CV] criterion=entropy, bootstrap=True, n_estimators=300, max_features=20, class_weight=balanced, max_depth=10, min_samples_split=10, min_samples_leaf=15 \n",
      "[CV]  criterion=entropy, bootstrap=True, n_estimators=300, max_features=20, class_weight=balanced, max_depth=10, min_samples_split=10, min_samples_leaf=15, score=0.4225352112676056, total=   3.0s\n",
      "[Parallel(n_jobs=1)]: Done 140 out of 140 | elapsed:  5.9min remaining:    0.0s\n",
      "[CV] criterion=gini, bootstrap=False, n_estimators=300, max_features=5, class_weight=balanced, max_depth=5, min_samples_split=10, min_samples_leaf=15 \n",
      "[CV]  criterion=gini, bootstrap=False, n_estimators=300, max_features=5, class_weight=balanced, max_depth=5, min_samples_split=10, min_samples_leaf=15, score=0.32258064516129037, total=   1.2s\n",
      "[Parallel(n_jobs=1)]: Done 141 out of 141 | elapsed:  5.9min remaining:    0.0s\n",
      "[CV] criterion=gini, bootstrap=False, n_estimators=300, max_features=5, class_weight=balanced, max_depth=5, min_samples_split=10, min_samples_leaf=15 \n",
      "[CV]  criterion=gini, bootstrap=False, n_estimators=300, max_features=5, class_weight=balanced, max_depth=5, min_samples_split=10, min_samples_leaf=15, score=0.37288135593220334, total=   1.4s\n",
      "[Parallel(n_jobs=1)]: Done 142 out of 142 | elapsed:  5.9min remaining:    0.0s\n",
      "[CV] criterion=gini, bootstrap=False, n_estimators=300, max_features=5, class_weight=balanced, max_depth=5, min_samples_split=10, min_samples_leaf=15 \n",
      "[CV]  criterion=gini, bootstrap=False, n_estimators=300, max_features=5, class_weight=balanced, max_depth=5, min_samples_split=10, min_samples_leaf=15, score=0.3220338983050847, total=   1.6s\n",
      "[Parallel(n_jobs=1)]: Done 143 out of 143 | elapsed:  6.0min remaining:    0.0s\n",
      "[CV] criterion=gini, bootstrap=False, n_estimators=300, max_features=5, class_weight=balanced, max_depth=5, min_samples_split=10, min_samples_leaf=15 \n",
      "[CV]  criterion=gini, bootstrap=False, n_estimators=300, max_features=5, class_weight=balanced, max_depth=5, min_samples_split=10, min_samples_leaf=15, score=0.3242320819112628, total=   1.6s\n",
      "[Parallel(n_jobs=1)]: Done 144 out of 144 | elapsed:  6.0min remaining:    0.0s\n",
      "[CV] criterion=gini, bootstrap=False, n_estimators=300, max_features=5, class_weight=balanced, max_depth=5, min_samples_split=10, min_samples_leaf=15 \n",
      "[CV]  criterion=gini, bootstrap=False, n_estimators=300, max_features=5, class_weight=balanced, max_depth=5, min_samples_split=10, min_samples_leaf=15, score=0.39087947882736157, total=   1.2s\n",
      "[Parallel(n_jobs=1)]: Done 145 out of 145 | elapsed:  6.0min remaining:    0.0s\n",
      "[CV] criterion=gini, bootstrap=False, n_estimators=300, max_features=5, class_weight=balanced, max_depth=5, min_samples_split=10, min_samples_leaf=15 \n",
      "[CV]  criterion=gini, bootstrap=False, n_estimators=300, max_features=5, class_weight=balanced, max_depth=5, min_samples_split=10, min_samples_leaf=15, score=0.3645833333333333, total=   1.2s\n",
      "[Parallel(n_jobs=1)]: Done 146 out of 146 | elapsed:  6.0min remaining:    0.0s\n",
      "[CV] criterion=gini, bootstrap=False, n_estimators=300, max_features=5, class_weight=balanced, max_depth=5, min_samples_split=10, min_samples_leaf=15 \n",
      "[CV]  criterion=gini, bootstrap=False, n_estimators=300, max_features=5, class_weight=balanced, max_depth=5, min_samples_split=10, min_samples_leaf=15, score=0.3536977491961415, total=   1.2s\n",
      "[Parallel(n_jobs=1)]: Done 147 out of 147 | elapsed:  6.1min remaining:    0.0s\n",
      "[CV] criterion=gini, bootstrap=False, n_estimators=300, max_features=5, class_weight=balanced, max_depth=5, min_samples_split=10, min_samples_leaf=15 \n",
      "[CV]  criterion=gini, bootstrap=False, n_estimators=300, max_features=5, class_weight=balanced, max_depth=5, min_samples_split=10, min_samples_leaf=15, score=0.28523489932885904, total=   1.2s\n",
      "[Parallel(n_jobs=1)]: Done 148 out of 148 | elapsed:  6.1min remaining:    0.0s\n",
      "[CV] criterion=gini, bootstrap=False, n_estimators=300, max_features=5, class_weight=balanced, max_depth=5, min_samples_split=10, min_samples_leaf=15 \n",
      "[CV]  criterion=gini, bootstrap=False, n_estimators=300, max_features=5, class_weight=balanced, max_depth=5, min_samples_split=10, min_samples_leaf=15, score=0.30141843971631205, total=   1.2s\n",
      "[Parallel(n_jobs=1)]: Done 149 out of 149 | elapsed:  6.1min remaining:    0.0s\n",
      "[CV] criterion=gini, bootstrap=False, n_estimators=300, max_features=5, class_weight=balanced, max_depth=5, min_samples_split=10, min_samples_leaf=15 \n",
      "[CV]  criterion=gini, bootstrap=False, n_estimators=300, max_features=5, class_weight=balanced, max_depth=5, min_samples_split=10, min_samples_leaf=15, score=0.4385964912280702, total=   1.2s\n",
      "[Parallel(n_jobs=1)]: Done 150 out of 150 | elapsed:  6.1min remaining:    0.0s\n",
      "[CV] criterion=gini, bootstrap=False, n_estimators=200, max_features=25, class_weight=balanced, max_depth=None, min_samples_split=20, min_samples_leaf=20 \n",
      "[CV]  criterion=gini, bootstrap=False, n_estimators=200, max_features=25, class_weight=balanced, max_depth=None, min_samples_split=20, min_samples_leaf=20, score=0.3256704980842912, total=   4.4s\n",
      "[Parallel(n_jobs=1)]: Done 151 out of 151 | elapsed:  6.2min remaining:    0.0s\n",
      "[CV] criterion=gini, bootstrap=False, n_estimators=200, max_features=25, class_weight=balanced, max_depth=None, min_samples_split=20, min_samples_leaf=20 \n",
      "[CV]  criterion=gini, bootstrap=False, n_estimators=200, max_features=25, class_weight=balanced, max_depth=None, min_samples_split=20, min_samples_leaf=20, score=0.3125, total=   4.2s\n",
      "[Parallel(n_jobs=1)]: Done 152 out of 152 | elapsed:  6.3min remaining:    0.0s\n",
      "[CV] criterion=gini, bootstrap=False, n_estimators=200, max_features=25, class_weight=balanced, max_depth=None, min_samples_split=20, min_samples_leaf=20 \n",
      "[CV]  criterion=gini, bootstrap=False, n_estimators=200, max_features=25, class_weight=balanced, max_depth=None, min_samples_split=20, min_samples_leaf=20, score=0.30172413793103453, total=   3.7s\n",
      "[Parallel(n_jobs=1)]: Done 153 out of 153 | elapsed:  6.4min remaining:    0.0s\n",
      "[CV] criterion=gini, bootstrap=False, n_estimators=200, max_features=25, class_weight=balanced, max_depth=None, min_samples_split=20, min_samples_leaf=20 \n",
      "[CV]  criterion=gini, bootstrap=False, n_estimators=200, max_features=25, class_weight=balanced, max_depth=None, min_samples_split=20, min_samples_leaf=20, score=0.33203125, total=   3.7s\n",
      "[Parallel(n_jobs=1)]: Done 154 out of 154 | elapsed:  6.4min remaining:    0.0s\n",
      "[CV] criterion=gini, bootstrap=False, n_estimators=200, max_features=25, class_weight=balanced, max_depth=None, min_samples_split=20, min_samples_leaf=20 \n",
      "[CV]  criterion=gini, bootstrap=False, n_estimators=200, max_features=25, class_weight=balanced, max_depth=None, min_samples_split=20, min_samples_leaf=20, score=0.3877551020408163, total=   5.0s\n",
      "[Parallel(n_jobs=1)]: Done 155 out of 155 | elapsed:  6.5min remaining:    0.0s\n",
      "[CV] criterion=gini, bootstrap=False, n_estimators=200, max_features=25, class_weight=balanced, max_depth=None, min_samples_split=20, min_samples_leaf=20 \n",
      "[CV]  criterion=gini, bootstrap=False, n_estimators=200, max_features=25, class_weight=balanced, max_depth=None, min_samples_split=20, min_samples_leaf=20, score=0.3305785123966942, total=   3.7s\n",
      "[Parallel(n_jobs=1)]: Done 156 out of 156 | elapsed:  6.6min remaining:    0.0s\n",
      "[CV] criterion=gini, bootstrap=False, n_estimators=200, max_features=25, class_weight=balanced, max_depth=None, min_samples_split=20, min_samples_leaf=20 \n",
      "[CV]  criterion=gini, bootstrap=False, n_estimators=200, max_features=25, class_weight=balanced, max_depth=None, min_samples_split=20, min_samples_leaf=20, score=0.33195020746887965, total=   3.7s\n",
      "[Parallel(n_jobs=1)]: Done 157 out of 157 | elapsed:  6.7min remaining:    0.0s\n",
      "[CV] criterion=gini, bootstrap=False, n_estimators=200, max_features=25, class_weight=balanced, max_depth=None, min_samples_split=20, min_samples_leaf=20 \n",
      "[CV]  criterion=gini, bootstrap=False, n_estimators=200, max_features=25, class_weight=balanced, max_depth=None, min_samples_split=20, min_samples_leaf=20, score=0.25590551181102367, total=   4.3s\n",
      "[Parallel(n_jobs=1)]: Done 158 out of 158 | elapsed:  6.7min remaining:    0.0s\n",
      "[CV] criterion=gini, bootstrap=False, n_estimators=200, max_features=25, class_weight=balanced, max_depth=None, min_samples_split=20, min_samples_leaf=20 \n"
     ]
    },
    {
     "name": "stdout",
     "output_type": "stream",
     "text": [
      "[CV]  criterion=gini, bootstrap=False, n_estimators=200, max_features=25, class_weight=balanced, max_depth=None, min_samples_split=20, min_samples_leaf=20, score=0.40772532188841193, total=   4.4s\n",
      "[Parallel(n_jobs=1)]: Done 159 out of 159 | elapsed:  6.8min remaining:    0.0s\n",
      "[CV] criterion=gini, bootstrap=False, n_estimators=200, max_features=25, class_weight=balanced, max_depth=None, min_samples_split=20, min_samples_leaf=20 \n",
      "[CV]  criterion=gini, bootstrap=False, n_estimators=200, max_features=25, class_weight=balanced, max_depth=None, min_samples_split=20, min_samples_leaf=20, score=0.3930131004366812, total=   3.9s\n",
      "[Parallel(n_jobs=1)]: Done 160 out of 160 | elapsed:  6.9min remaining:    0.0s\n",
      "[CV] criterion=gini, bootstrap=True, n_estimators=200, max_features=10, class_weight=balanced, max_depth=5, min_samples_split=10, min_samples_leaf=15 \n",
      "[CV]  criterion=gini, bootstrap=True, n_estimators=200, max_features=10, class_weight=balanced, max_depth=5, min_samples_split=10, min_samples_leaf=15, score=0.32758620689655177, total=   1.2s\n",
      "[Parallel(n_jobs=1)]: Done 161 out of 161 | elapsed:  6.9min remaining:    0.0s\n",
      "[CV] criterion=gini, bootstrap=True, n_estimators=200, max_features=10, class_weight=balanced, max_depth=5, min_samples_split=10, min_samples_leaf=15 \n",
      "[CV]  criterion=gini, bootstrap=True, n_estimators=200, max_features=10, class_weight=balanced, max_depth=5, min_samples_split=10, min_samples_leaf=15, score=0.33707865168539325, total=   1.0s\n",
      "[Parallel(n_jobs=1)]: Done 162 out of 162 | elapsed:  6.9min remaining:    0.0s\n",
      "[CV] criterion=gini, bootstrap=True, n_estimators=200, max_features=10, class_weight=balanced, max_depth=5, min_samples_split=10, min_samples_leaf=15 \n",
      "[CV]  criterion=gini, bootstrap=True, n_estimators=200, max_features=10, class_weight=balanced, max_depth=5, min_samples_split=10, min_samples_leaf=15, score=0.35842293906810035, total=   1.0s\n",
      "[Parallel(n_jobs=1)]: Done 163 out of 163 | elapsed:  7.0min remaining:    0.0s\n",
      "[CV] criterion=gini, bootstrap=True, n_estimators=200, max_features=10, class_weight=balanced, max_depth=5, min_samples_split=10, min_samples_leaf=15 \n",
      "[CV]  criterion=gini, bootstrap=True, n_estimators=200, max_features=10, class_weight=balanced, max_depth=5, min_samples_split=10, min_samples_leaf=15, score=0.3136531365313653, total=   1.2s\n",
      "[Parallel(n_jobs=1)]: Done 164 out of 164 | elapsed:  7.0min remaining:    0.0s\n",
      "[CV] criterion=gini, bootstrap=True, n_estimators=200, max_features=10, class_weight=balanced, max_depth=5, min_samples_split=10, min_samples_leaf=15 \n",
      "[CV]  criterion=gini, bootstrap=True, n_estimators=200, max_features=10, class_weight=balanced, max_depth=5, min_samples_split=10, min_samples_leaf=15, score=0.3956834532374101, total=   1.2s\n",
      "[Parallel(n_jobs=1)]: Done 165 out of 165 | elapsed:  7.0min remaining:    0.0s\n",
      "[CV] criterion=gini, bootstrap=True, n_estimators=200, max_features=10, class_weight=balanced, max_depth=5, min_samples_split=10, min_samples_leaf=15 \n",
      "[CV]  criterion=gini, bootstrap=True, n_estimators=200, max_features=10, class_weight=balanced, max_depth=5, min_samples_split=10, min_samples_leaf=15, score=0.3690036900369004, total=   1.2s\n",
      "[Parallel(n_jobs=1)]: Done 166 out of 166 | elapsed:  7.0min remaining:    0.0s\n",
      "[CV] criterion=gini, bootstrap=True, n_estimators=200, max_features=10, class_weight=balanced, max_depth=5, min_samples_split=10, min_samples_leaf=15 \n",
      "[CV]  criterion=gini, bootstrap=True, n_estimators=200, max_features=10, class_weight=balanced, max_depth=5, min_samples_split=10, min_samples_leaf=15, score=0.3914590747330961, total=   1.1s\n",
      "[Parallel(n_jobs=1)]: Done 167 out of 167 | elapsed:  7.1min remaining:    0.0s\n",
      "[CV] criterion=gini, bootstrap=True, n_estimators=200, max_features=10, class_weight=balanced, max_depth=5, min_samples_split=10, min_samples_leaf=15 \n",
      "[CV]  criterion=gini, bootstrap=True, n_estimators=200, max_features=10, class_weight=balanced, max_depth=5, min_samples_split=10, min_samples_leaf=15, score=0.29411764705882354, total=   0.9s\n",
      "[Parallel(n_jobs=1)]: Done 168 out of 168 | elapsed:  7.1min remaining:    0.0s\n",
      "[CV] criterion=gini, bootstrap=True, n_estimators=200, max_features=10, class_weight=balanced, max_depth=5, min_samples_split=10, min_samples_leaf=15 \n",
      "[CV]  criterion=gini, bootstrap=True, n_estimators=200, max_features=10, class_weight=balanced, max_depth=5, min_samples_split=10, min_samples_leaf=15, score=0.3281853281853282, total=   0.9s\n",
      "[Parallel(n_jobs=1)]: Done 169 out of 169 | elapsed:  7.1min remaining:    0.0s\n",
      "[CV] criterion=gini, bootstrap=True, n_estimators=200, max_features=10, class_weight=balanced, max_depth=5, min_samples_split=10, min_samples_leaf=15 \n",
      "[CV]  criterion=gini, bootstrap=True, n_estimators=200, max_features=10, class_weight=balanced, max_depth=5, min_samples_split=10, min_samples_leaf=15, score=0.4457364341085271, total=   0.9s\n",
      "[Parallel(n_jobs=1)]: Done 170 out of 170 | elapsed:  7.1min remaining:    0.0s\n",
      "[CV] criterion=entropy, bootstrap=False, n_estimators=200, max_features=20, class_weight=balanced, max_depth=10, min_samples_split=20, min_samples_leaf=15 \n",
      "[CV]  criterion=entropy, bootstrap=False, n_estimators=200, max_features=20, class_weight=balanced, max_depth=10, min_samples_split=20, min_samples_leaf=15, score=0.31021897810218985, total=   2.8s\n",
      "[Parallel(n_jobs=1)]: Done 171 out of 171 | elapsed:  7.2min remaining:    0.0s\n",
      "[CV] criterion=entropy, bootstrap=False, n_estimators=200, max_features=20, class_weight=balanced, max_depth=10, min_samples_split=20, min_samples_leaf=15 \n",
      "[CV]  criterion=entropy, bootstrap=False, n_estimators=200, max_features=20, class_weight=balanced, max_depth=10, min_samples_split=20, min_samples_leaf=15, score=0.31620553359683795, total=   2.8s\n",
      "[Parallel(n_jobs=1)]: Done 172 out of 172 | elapsed:  7.2min remaining:    0.0s\n",
      "[CV] criterion=entropy, bootstrap=False, n_estimators=200, max_features=20, class_weight=balanced, max_depth=10, min_samples_split=20, min_samples_leaf=15 \n",
      "[CV]  criterion=entropy, bootstrap=False, n_estimators=200, max_features=20, class_weight=balanced, max_depth=10, min_samples_split=20, min_samples_leaf=15, score=0.3359683794466403, total=   3.5s\n",
      "[Parallel(n_jobs=1)]: Done 173 out of 173 | elapsed:  7.3min remaining:    0.0s\n",
      "[CV] criterion=entropy, bootstrap=False, n_estimators=200, max_features=20, class_weight=balanced, max_depth=10, min_samples_split=20, min_samples_leaf=15 \n",
      "[CV]  criterion=entropy, bootstrap=False, n_estimators=200, max_features=20, class_weight=balanced, max_depth=10, min_samples_split=20, min_samples_leaf=15, score=0.3183520599250937, total=   3.1s\n",
      "[Parallel(n_jobs=1)]: Done 174 out of 174 | elapsed:  7.4min remaining:    0.0s\n",
      "[CV] criterion=entropy, bootstrap=False, n_estimators=200, max_features=20, class_weight=balanced, max_depth=10, min_samples_split=20, min_samples_leaf=15 \n",
      "[CV]  criterion=entropy, bootstrap=False, n_estimators=200, max_features=20, class_weight=balanced, max_depth=10, min_samples_split=20, min_samples_leaf=15, score=0.3861003861003861, total=   2.8s\n",
      "[Parallel(n_jobs=1)]: Done 175 out of 175 | elapsed:  7.4min remaining:    0.0s\n",
      "[CV] criterion=entropy, bootstrap=False, n_estimators=200, max_features=20, class_weight=balanced, max_depth=10, min_samples_split=20, min_samples_leaf=15 \n",
      "[CV]  criterion=entropy, bootstrap=False, n_estimators=200, max_features=20, class_weight=balanced, max_depth=10, min_samples_split=20, min_samples_leaf=15, score=0.36964980544747084, total=   3.5s\n",
      "[Parallel(n_jobs=1)]: Done 176 out of 176 | elapsed:  7.5min remaining:    0.0s\n",
      "[CV] criterion=entropy, bootstrap=False, n_estimators=200, max_features=20, class_weight=balanced, max_depth=10, min_samples_split=20, min_samples_leaf=15 \n",
      "[CV]  criterion=entropy, bootstrap=False, n_estimators=200, max_features=20, class_weight=balanced, max_depth=10, min_samples_split=20, min_samples_leaf=15, score=0.35573122529644263, total=   3.2s\n",
      "[Parallel(n_jobs=1)]: Done 177 out of 177 | elapsed:  7.5min remaining:    0.0s\n",
      "[CV] criterion=entropy, bootstrap=False, n_estimators=200, max_features=20, class_weight=balanced, max_depth=10, min_samples_split=20, min_samples_leaf=15 \n",
      "[CV]  criterion=entropy, bootstrap=False, n_estimators=200, max_features=20, class_weight=balanced, max_depth=10, min_samples_split=20, min_samples_leaf=15, score=0.2641509433962264, total=   3.7s\n",
      "[Parallel(n_jobs=1)]: Done 178 out of 178 | elapsed:  7.6min remaining:    0.0s\n",
      "[CV] criterion=entropy, bootstrap=False, n_estimators=200, max_features=20, class_weight=balanced, max_depth=10, min_samples_split=20, min_samples_leaf=15 \n"
     ]
    },
    {
     "name": "stdout",
     "output_type": "stream",
     "text": [
      "[CV]  criterion=entropy, bootstrap=False, n_estimators=200, max_features=20, class_weight=balanced, max_depth=10, min_samples_split=20, min_samples_leaf=15, score=0.39256198347107435, total=   2.8s\n",
      "[Parallel(n_jobs=1)]: Done 179 out of 179 | elapsed:  7.7min remaining:    0.0s\n",
      "[CV] criterion=entropy, bootstrap=False, n_estimators=200, max_features=20, class_weight=balanced, max_depth=10, min_samples_split=20, min_samples_leaf=15 \n",
      "[CV]  criterion=entropy, bootstrap=False, n_estimators=200, max_features=20, class_weight=balanced, max_depth=10, min_samples_split=20, min_samples_leaf=15, score=0.40485829959514175, total=   2.9s\n",
      "[Parallel(n_jobs=1)]: Done 180 out of 180 | elapsed:  7.7min remaining:    0.0s\n",
      "[CV] criterion=gini, bootstrap=False, n_estimators=300, max_features=5, class_weight=None, max_depth=20, min_samples_split=20, min_samples_leaf=15 \n"
     ]
    },
    {
     "name": "stderr",
     "output_type": "stream",
     "text": [
      "C:\\Users\\dell\\AppData\\Local\\conda\\conda\\envs\\tensorflow\\lib\\site-packages\\sklearn\\metrics\\classification.py:1135: UndefinedMetricWarning: F-score is ill-defined and being set to 0.0 due to no predicted samples.\n",
      "  'precision', 'predicted', average, warn_for)\n",
      "C:\\Users\\dell\\AppData\\Local\\conda\\conda\\envs\\tensorflow\\lib\\site-packages\\sklearn\\metrics\\classification.py:1135: UndefinedMetricWarning: F-score is ill-defined and being set to 0.0 due to no predicted samples.\n",
      "  'precision', 'predicted', average, warn_for)\n"
     ]
    },
    {
     "name": "stdout",
     "output_type": "stream",
     "text": [
      "[CV]  criterion=gini, bootstrap=False, n_estimators=300, max_features=5, class_weight=None, max_depth=20, min_samples_split=20, min_samples_leaf=15, score=0.0, total=   2.4s\n",
      "[Parallel(n_jobs=1)]: Done 181 out of 181 | elapsed:  7.8min remaining:    0.0s\n",
      "[CV] criterion=gini, bootstrap=False, n_estimators=300, max_features=5, class_weight=None, max_depth=20, min_samples_split=20, min_samples_leaf=15 \n"
     ]
    },
    {
     "name": "stderr",
     "output_type": "stream",
     "text": [
      "C:\\Users\\dell\\AppData\\Local\\conda\\conda\\envs\\tensorflow\\lib\\site-packages\\sklearn\\metrics\\classification.py:1135: UndefinedMetricWarning: F-score is ill-defined and being set to 0.0 due to no predicted samples.\n",
      "  'precision', 'predicted', average, warn_for)\n",
      "C:\\Users\\dell\\AppData\\Local\\conda\\conda\\envs\\tensorflow\\lib\\site-packages\\sklearn\\metrics\\classification.py:1135: UndefinedMetricWarning: F-score is ill-defined and being set to 0.0 due to no predicted samples.\n",
      "  'precision', 'predicted', average, warn_for)\n"
     ]
    },
    {
     "name": "stdout",
     "output_type": "stream",
     "text": [
      "[CV]  criterion=gini, bootstrap=False, n_estimators=300, max_features=5, class_weight=None, max_depth=20, min_samples_split=20, min_samples_leaf=15, score=0.0, total=   3.2s\n",
      "[Parallel(n_jobs=1)]: Done 182 out of 182 | elapsed:  7.8min remaining:    0.0s\n",
      "[CV] criterion=gini, bootstrap=False, n_estimators=300, max_features=5, class_weight=None, max_depth=20, min_samples_split=20, min_samples_leaf=15 \n"
     ]
    },
    {
     "name": "stderr",
     "output_type": "stream",
     "text": [
      "C:\\Users\\dell\\AppData\\Local\\conda\\conda\\envs\\tensorflow\\lib\\site-packages\\sklearn\\metrics\\classification.py:1135: UndefinedMetricWarning: F-score is ill-defined and being set to 0.0 due to no predicted samples.\n",
      "  'precision', 'predicted', average, warn_for)\n",
      "C:\\Users\\dell\\AppData\\Local\\conda\\conda\\envs\\tensorflow\\lib\\site-packages\\sklearn\\metrics\\classification.py:1135: UndefinedMetricWarning: F-score is ill-defined and being set to 0.0 due to no predicted samples.\n",
      "  'precision', 'predicted', average, warn_for)\n"
     ]
    },
    {
     "name": "stdout",
     "output_type": "stream",
     "text": [
      "[CV]  criterion=gini, bootstrap=False, n_estimators=300, max_features=5, class_weight=None, max_depth=20, min_samples_split=20, min_samples_leaf=15, score=0.0, total=   3.3s\n",
      "[Parallel(n_jobs=1)]: Done 183 out of 183 | elapsed:  7.9min remaining:    0.0s\n",
      "[CV] criterion=gini, bootstrap=False, n_estimators=300, max_features=5, class_weight=None, max_depth=20, min_samples_split=20, min_samples_leaf=15 \n"
     ]
    },
    {
     "name": "stderr",
     "output_type": "stream",
     "text": [
      "C:\\Users\\dell\\AppData\\Local\\conda\\conda\\envs\\tensorflow\\lib\\site-packages\\sklearn\\metrics\\classification.py:1135: UndefinedMetricWarning: F-score is ill-defined and being set to 0.0 due to no predicted samples.\n",
      "  'precision', 'predicted', average, warn_for)\n",
      "C:\\Users\\dell\\AppData\\Local\\conda\\conda\\envs\\tensorflow\\lib\\site-packages\\sklearn\\metrics\\classification.py:1135: UndefinedMetricWarning: F-score is ill-defined and being set to 0.0 due to no predicted samples.\n",
      "  'precision', 'predicted', average, warn_for)\n"
     ]
    },
    {
     "name": "stdout",
     "output_type": "stream",
     "text": [
      "[CV]  criterion=gini, bootstrap=False, n_estimators=300, max_features=5, class_weight=None, max_depth=20, min_samples_split=20, min_samples_leaf=15, score=0.0, total=   2.2s\n",
      "[Parallel(n_jobs=1)]: Done 184 out of 184 | elapsed:  7.9min remaining:    0.0s\n",
      "[CV] criterion=gini, bootstrap=False, n_estimators=300, max_features=5, class_weight=None, max_depth=20, min_samples_split=20, min_samples_leaf=15 \n"
     ]
    },
    {
     "name": "stderr",
     "output_type": "stream",
     "text": [
      "C:\\Users\\dell\\AppData\\Local\\conda\\conda\\envs\\tensorflow\\lib\\site-packages\\sklearn\\metrics\\classification.py:1135: UndefinedMetricWarning: F-score is ill-defined and being set to 0.0 due to no predicted samples.\n",
      "  'precision', 'predicted', average, warn_for)\n",
      "C:\\Users\\dell\\AppData\\Local\\conda\\conda\\envs\\tensorflow\\lib\\site-packages\\sklearn\\metrics\\classification.py:1135: UndefinedMetricWarning: F-score is ill-defined and being set to 0.0 due to no predicted samples.\n",
      "  'precision', 'predicted', average, warn_for)\n"
     ]
    },
    {
     "name": "stdout",
     "output_type": "stream",
     "text": [
      "[CV]  criterion=gini, bootstrap=False, n_estimators=300, max_features=5, class_weight=None, max_depth=20, min_samples_split=20, min_samples_leaf=15, score=0.0, total=   2.3s\n",
      "[Parallel(n_jobs=1)]: Done 185 out of 185 | elapsed:  8.0min remaining:    0.0s\n",
      "[CV] criterion=gini, bootstrap=False, n_estimators=300, max_features=5, class_weight=None, max_depth=20, min_samples_split=20, min_samples_leaf=15 \n"
     ]
    },
    {
     "name": "stderr",
     "output_type": "stream",
     "text": [
      "C:\\Users\\dell\\AppData\\Local\\conda\\conda\\envs\\tensorflow\\lib\\site-packages\\sklearn\\metrics\\classification.py:1135: UndefinedMetricWarning: F-score is ill-defined and being set to 0.0 due to no predicted samples.\n",
      "  'precision', 'predicted', average, warn_for)\n",
      "C:\\Users\\dell\\AppData\\Local\\conda\\conda\\envs\\tensorflow\\lib\\site-packages\\sklearn\\metrics\\classification.py:1135: UndefinedMetricWarning: F-score is ill-defined and being set to 0.0 due to no predicted samples.\n",
      "  'precision', 'predicted', average, warn_for)\n"
     ]
    },
    {
     "name": "stdout",
     "output_type": "stream",
     "text": [
      "[CV]  criterion=gini, bootstrap=False, n_estimators=300, max_features=5, class_weight=None, max_depth=20, min_samples_split=20, min_samples_leaf=15, score=0.0, total=   2.2s\n",
      "[Parallel(n_jobs=1)]: Done 186 out of 186 | elapsed:  8.0min remaining:    0.0s\n",
      "[CV] criterion=gini, bootstrap=False, n_estimators=300, max_features=5, class_weight=None, max_depth=20, min_samples_split=20, min_samples_leaf=15 \n"
     ]
    },
    {
     "name": "stderr",
     "output_type": "stream",
     "text": [
      "C:\\Users\\dell\\AppData\\Local\\conda\\conda\\envs\\tensorflow\\lib\\site-packages\\sklearn\\metrics\\classification.py:1135: UndefinedMetricWarning: F-score is ill-defined and being set to 0.0 due to no predicted samples.\n",
      "  'precision', 'predicted', average, warn_for)\n",
      "C:\\Users\\dell\\AppData\\Local\\conda\\conda\\envs\\tensorflow\\lib\\site-packages\\sklearn\\metrics\\classification.py:1135: UndefinedMetricWarning: F-score is ill-defined and being set to 0.0 due to no predicted samples.\n",
      "  'precision', 'predicted', average, warn_for)\n"
     ]
    },
    {
     "name": "stdout",
     "output_type": "stream",
     "text": [
      "[CV]  criterion=gini, bootstrap=False, n_estimators=300, max_features=5, class_weight=None, max_depth=20, min_samples_split=20, min_samples_leaf=15, score=0.0, total=   3.3s\n",
      "[Parallel(n_jobs=1)]: Done 187 out of 187 | elapsed:  8.1min remaining:    0.0s\n",
      "[CV] criterion=gini, bootstrap=False, n_estimators=300, max_features=5, class_weight=None, max_depth=20, min_samples_split=20, min_samples_leaf=15 \n"
     ]
    },
    {
     "name": "stderr",
     "output_type": "stream",
     "text": [
      "C:\\Users\\dell\\AppData\\Local\\conda\\conda\\envs\\tensorflow\\lib\\site-packages\\sklearn\\metrics\\classification.py:1135: UndefinedMetricWarning: F-score is ill-defined and being set to 0.0 due to no predicted samples.\n",
      "  'precision', 'predicted', average, warn_for)\n",
      "C:\\Users\\dell\\AppData\\Local\\conda\\conda\\envs\\tensorflow\\lib\\site-packages\\sklearn\\metrics\\classification.py:1135: UndefinedMetricWarning: F-score is ill-defined and being set to 0.0 due to no predicted samples.\n",
      "  'precision', 'predicted', average, warn_for)\n"
     ]
    },
    {
     "name": "stdout",
     "output_type": "stream",
     "text": [
      "[CV]  criterion=gini, bootstrap=False, n_estimators=300, max_features=5, class_weight=None, max_depth=20, min_samples_split=20, min_samples_leaf=15, score=0.0, total=   2.9s\n",
      "[Parallel(n_jobs=1)]: Done 188 out of 188 | elapsed:  8.2min remaining:    0.0s\n",
      "[CV] criterion=gini, bootstrap=False, n_estimators=300, max_features=5, class_weight=None, max_depth=20, min_samples_split=20, min_samples_leaf=15 \n"
     ]
    },
    {
     "name": "stderr",
     "output_type": "stream",
     "text": [
      "C:\\Users\\dell\\AppData\\Local\\conda\\conda\\envs\\tensorflow\\lib\\site-packages\\sklearn\\metrics\\classification.py:1135: UndefinedMetricWarning: F-score is ill-defined and being set to 0.0 due to no predicted samples.\n",
      "  'precision', 'predicted', average, warn_for)\n",
      "C:\\Users\\dell\\AppData\\Local\\conda\\conda\\envs\\tensorflow\\lib\\site-packages\\sklearn\\metrics\\classification.py:1135: UndefinedMetricWarning: F-score is ill-defined and being set to 0.0 due to no predicted samples.\n",
      "  'precision', 'predicted', average, warn_for)\n"
     ]
    },
    {
     "name": "stdout",
     "output_type": "stream",
     "text": [
      "[CV]  criterion=gini, bootstrap=False, n_estimators=300, max_features=5, class_weight=None, max_depth=20, min_samples_split=20, min_samples_leaf=15, score=0.0, total=   2.3s\n",
      "[Parallel(n_jobs=1)]: Done 189 out of 189 | elapsed:  8.2min remaining:    0.0s\n",
      "[CV] criterion=gini, bootstrap=False, n_estimators=300, max_features=5, class_weight=None, max_depth=20, min_samples_split=20, min_samples_leaf=15 \n"
     ]
    },
    {
     "name": "stderr",
     "output_type": "stream",
     "text": [
      "C:\\Users\\dell\\AppData\\Local\\conda\\conda\\envs\\tensorflow\\lib\\site-packages\\sklearn\\metrics\\classification.py:1135: UndefinedMetricWarning: F-score is ill-defined and being set to 0.0 due to no predicted samples.\n",
      "  'precision', 'predicted', average, warn_for)\n",
      "C:\\Users\\dell\\AppData\\Local\\conda\\conda\\envs\\tensorflow\\lib\\site-packages\\sklearn\\metrics\\classification.py:1135: UndefinedMetricWarning: F-score is ill-defined and being set to 0.0 due to no predicted samples.\n",
      "  'precision', 'predicted', average, warn_for)\n"
     ]
    },
    {
     "name": "stdout",
     "output_type": "stream",
     "text": [
      "[CV]  criterion=gini, bootstrap=False, n_estimators=300, max_features=5, class_weight=None, max_depth=20, min_samples_split=20, min_samples_leaf=15, score=0.0, total=   2.3s\n",
      "[Parallel(n_jobs=1)]: Done 190 out of 190 | elapsed:  8.3min remaining:    0.0s\n",
      "[CV] criterion=gini, bootstrap=True, n_estimators=300, max_features=25, class_weight=balanced, max_depth=None, min_samples_split=10, min_samples_leaf=15 \n",
      "[CV]  criterion=gini, bootstrap=True, n_estimators=300, max_features=25, class_weight=balanced, max_depth=None, min_samples_split=10, min_samples_leaf=15, score=0.31390134529147984, total=   5.4s\n",
      "[Parallel(n_jobs=1)]: Done 191 out of 191 | elapsed:  8.4min remaining:    0.0s\n",
      "[CV] criterion=gini, bootstrap=True, n_estimators=300, max_features=25, class_weight=balanced, max_depth=None, min_samples_split=10, min_samples_leaf=15 \n",
      "[CV]  criterion=gini, bootstrap=True, n_estimators=300, max_features=25, class_weight=balanced, max_depth=None, min_samples_split=10, min_samples_leaf=15, score=0.24630541871921183, total=   4.9s\n",
      "[Parallel(n_jobs=1)]: Done 192 out of 192 | elapsed:  8.5min remaining:    0.0s\n",
      "[CV] criterion=gini, bootstrap=True, n_estimators=300, max_features=25, class_weight=balanced, max_depth=None, min_samples_split=10, min_samples_leaf=15 \n",
      "[CV]  criterion=gini, bootstrap=True, n_estimators=300, max_features=25, class_weight=balanced, max_depth=None, min_samples_split=10, min_samples_leaf=15, score=0.26315789473684204, total=   4.0s\n",
      "[Parallel(n_jobs=1)]: Done 193 out of 193 | elapsed:  8.5min remaining:    0.0s\n",
      "[CV] criterion=gini, bootstrap=True, n_estimators=300, max_features=25, class_weight=balanced, max_depth=None, min_samples_split=10, min_samples_leaf=15 \n",
      "[CV]  criterion=gini, bootstrap=True, n_estimators=300, max_features=25, class_weight=balanced, max_depth=None, min_samples_split=10, min_samples_leaf=15, score=0.3409090909090909, total=   5.4s\n",
      "[Parallel(n_jobs=1)]: Done 194 out of 194 | elapsed:  8.6min remaining:    0.0s\n",
      "[CV] criterion=gini, bootstrap=True, n_estimators=300, max_features=25, class_weight=balanced, max_depth=None, min_samples_split=10, min_samples_leaf=15 \n",
      "[CV]  criterion=gini, bootstrap=True, n_estimators=300, max_features=25, class_weight=balanced, max_depth=None, min_samples_split=10, min_samples_leaf=15, score=0.3623188405797102, total=   5.4s\n",
      "[Parallel(n_jobs=1)]: Done 195 out of 195 | elapsed:  8.7min remaining:    0.0s\n",
      "[CV] criterion=gini, bootstrap=True, n_estimators=300, max_features=25, class_weight=balanced, max_depth=None, min_samples_split=10, min_samples_leaf=15 \n",
      "[CV]  criterion=gini, bootstrap=True, n_estimators=300, max_features=25, class_weight=balanced, max_depth=None, min_samples_split=10, min_samples_leaf=15, score=0.29556650246305416, total=   4.4s\n",
      "[Parallel(n_jobs=1)]: Done 196 out of 196 | elapsed:  8.8min remaining:    0.0s\n",
      "[CV] criterion=gini, bootstrap=True, n_estimators=300, max_features=25, class_weight=balanced, max_depth=None, min_samples_split=10, min_samples_leaf=15 \n",
      "[CV]  criterion=gini, bootstrap=True, n_estimators=300, max_features=25, class_weight=balanced, max_depth=None, min_samples_split=10, min_samples_leaf=15, score=0.3037383177570094, total=   6.1s\n",
      "[Parallel(n_jobs=1)]: Done 197 out of 197 | elapsed:  8.9min remaining:    0.0s\n",
      "[CV] criterion=gini, bootstrap=True, n_estimators=300, max_features=25, class_weight=balanced, max_depth=None, min_samples_split=10, min_samples_leaf=15 \n",
      "[CV]  criterion=gini, bootstrap=True, n_estimators=300, max_features=25, class_weight=balanced, max_depth=None, min_samples_split=10, min_samples_leaf=15, score=0.21327014218009477, total=   4.4s\n",
      "[Parallel(n_jobs=1)]: Done 198 out of 198 | elapsed:  9.0min remaining:    0.0s\n",
      "[CV] criterion=gini, bootstrap=True, n_estimators=300, max_features=25, class_weight=balanced, max_depth=None, min_samples_split=10, min_samples_leaf=15 \n",
      "[CV]  criterion=gini, bootstrap=True, n_estimators=300, max_features=25, class_weight=balanced, max_depth=None, min_samples_split=10, min_samples_leaf=15, score=0.36764705882352944, total=   4.2s\n",
      "[Parallel(n_jobs=1)]: Done 199 out of 199 | elapsed:  9.1min remaining:    0.0s\n",
      "[CV] criterion=gini, bootstrap=True, n_estimators=300, max_features=25, class_weight=balanced, max_depth=None, min_samples_split=10, min_samples_leaf=15 \n",
      "[CV]  criterion=gini, bootstrap=True, n_estimators=300, max_features=25, class_weight=balanced, max_depth=None, min_samples_split=10, min_samples_leaf=15, score=0.41666666666666663, total=   6.4s\n",
      "[Parallel(n_jobs=1)]: Done 200 out of 200 | elapsed:  9.2min remaining:    0.0s\n",
      "[CV] criterion=entropy, bootstrap=True, n_estimators=300, max_features=20, class_weight=balanced, max_depth=5, min_samples_split=20, min_samples_leaf=10 \n",
      "[CV]  criterion=entropy, bootstrap=True, n_estimators=300, max_features=20, class_weight=balanced, max_depth=5, min_samples_split=20, min_samples_leaf=10, score=0.31561461794019935, total=   2.1s\n",
      "[Parallel(n_jobs=1)]: Done 201 out of 201 | elapsed:  9.3min remaining:    0.0s\n",
      "[CV] criterion=entropy, bootstrap=True, n_estimators=300, max_features=20, class_weight=balanced, max_depth=5, min_samples_split=20, min_samples_leaf=10 \n",
      "[CV]  criterion=entropy, bootstrap=True, n_estimators=300, max_features=20, class_weight=balanced, max_depth=5, min_samples_split=20, min_samples_leaf=10, score=0.40780141843971635, total=   2.2s\n",
      "[Parallel(n_jobs=1)]: Done 202 out of 202 | elapsed:  9.3min remaining:    0.0s\n",
      "[CV] criterion=entropy, bootstrap=True, n_estimators=300, max_features=20, class_weight=balanced, max_depth=5, min_samples_split=20, min_samples_leaf=10 \n",
      "[CV]  criterion=entropy, bootstrap=True, n_estimators=300, max_features=20, class_weight=balanced, max_depth=5, min_samples_split=20, min_samples_leaf=10, score=0.3092783505154639, total=   2.2s\n",
      "[Parallel(n_jobs=1)]: Done 203 out of 203 | elapsed:  9.3min remaining:    0.0s\n",
      "[CV] criterion=entropy, bootstrap=True, n_estimators=300, max_features=20, class_weight=balanced, max_depth=5, min_samples_split=20, min_samples_leaf=10 \n",
      "[CV]  criterion=entropy, bootstrap=True, n_estimators=300, max_features=20, class_weight=balanced, max_depth=5, min_samples_split=20, min_samples_leaf=10, score=0.2992957746478873, total=   2.9s\n",
      "[Parallel(n_jobs=1)]: Done 204 out of 204 | elapsed:  9.4min remaining:    0.0s\n",
      "[CV] criterion=entropy, bootstrap=True, n_estimators=300, max_features=20, class_weight=balanced, max_depth=5, min_samples_split=20, min_samples_leaf=10 \n",
      "[CV]  criterion=entropy, bootstrap=True, n_estimators=300, max_features=20, class_weight=balanced, max_depth=5, min_samples_split=20, min_samples_leaf=10, score=0.40069686411149824, total=   3.0s\n",
      "[Parallel(n_jobs=1)]: Done 205 out of 205 | elapsed:  9.5min remaining:    0.0s\n",
      "[CV] criterion=entropy, bootstrap=True, n_estimators=300, max_features=20, class_weight=balanced, max_depth=5, min_samples_split=20, min_samples_leaf=10 \n",
      "[CV]  criterion=entropy, bootstrap=True, n_estimators=300, max_features=20, class_weight=balanced, max_depth=5, min_samples_split=20, min_samples_leaf=10, score=0.397923875432526, total=   2.6s\n",
      "[Parallel(n_jobs=1)]: Done 206 out of 206 | elapsed:  9.5min remaining:    0.0s\n",
      "[CV] criterion=entropy, bootstrap=True, n_estimators=300, max_features=20, class_weight=balanced, max_depth=5, min_samples_split=20, min_samples_leaf=10 \n",
      "[CV]  criterion=entropy, bootstrap=True, n_estimators=300, max_features=20, class_weight=balanced, max_depth=5, min_samples_split=20, min_samples_leaf=10, score=0.410958904109589, total=   2.2s\n",
      "[Parallel(n_jobs=1)]: Done 207 out of 207 | elapsed:  9.6min remaining:    0.0s\n",
      "[CV] criterion=entropy, bootstrap=True, n_estimators=300, max_features=20, class_weight=balanced, max_depth=5, min_samples_split=20, min_samples_leaf=10 \n",
      "[CV]  criterion=entropy, bootstrap=True, n_estimators=300, max_features=20, class_weight=balanced, max_depth=5, min_samples_split=20, min_samples_leaf=10, score=0.31141868512110726, total=   2.2s\n",
      "[Parallel(n_jobs=1)]: Done 208 out of 208 | elapsed:  9.6min remaining:    0.0s\n",
      "[CV] criterion=entropy, bootstrap=True, n_estimators=300, max_features=20, class_weight=balanced, max_depth=5, min_samples_split=20, min_samples_leaf=10 \n",
      "[CV]  criterion=entropy, bootstrap=True, n_estimators=300, max_features=20, class_weight=balanced, max_depth=5, min_samples_split=20, min_samples_leaf=10, score=0.3597122302158274, total=   2.1s\n",
      "[Parallel(n_jobs=1)]: Done 209 out of 209 | elapsed:  9.6min remaining:    0.0s\n",
      "[CV] criterion=entropy, bootstrap=True, n_estimators=300, max_features=20, class_weight=balanced, max_depth=5, min_samples_split=20, min_samples_leaf=10 \n"
     ]
    },
    {
     "name": "stdout",
     "output_type": "stream",
     "text": [
      "[CV]  criterion=entropy, bootstrap=True, n_estimators=300, max_features=20, class_weight=balanced, max_depth=5, min_samples_split=20, min_samples_leaf=10, score=0.47368421052631576, total=   3.3s\n",
      "[Parallel(n_jobs=1)]: Done 210 out of 210 | elapsed:  9.7min remaining:    0.0s\n",
      "[CV] criterion=gini, bootstrap=False, n_estimators=100, max_features=25, class_weight=balanced, max_depth=5, min_samples_split=20, min_samples_leaf=15 \n",
      "[CV]  criterion=gini, bootstrap=False, n_estimators=100, max_features=25, class_weight=balanced, max_depth=5, min_samples_split=20, min_samples_leaf=15, score=0.3627760252365931, total=   1.7s\n",
      "[Parallel(n_jobs=1)]: Done 211 out of 211 | elapsed:  9.7min remaining:    0.0s\n",
      "[CV] criterion=gini, bootstrap=False, n_estimators=100, max_features=25, class_weight=balanced, max_depth=5, min_samples_split=20, min_samples_leaf=15 \n",
      "[CV]  criterion=gini, bootstrap=False, n_estimators=100, max_features=25, class_weight=balanced, max_depth=5, min_samples_split=20, min_samples_leaf=15, score=0.38851351351351354, total=   1.2s\n",
      "[Parallel(n_jobs=1)]: Done 212 out of 212 | elapsed:  9.8min remaining:    0.0s\n",
      "[CV] criterion=gini, bootstrap=False, n_estimators=100, max_features=25, class_weight=balanced, max_depth=5, min_samples_split=20, min_samples_leaf=15 \n",
      "[CV]  criterion=gini, bootstrap=False, n_estimators=100, max_features=25, class_weight=balanced, max_depth=5, min_samples_split=20, min_samples_leaf=15, score=0.37216828478964403, total=   1.1s\n",
      "[Parallel(n_jobs=1)]: Done 213 out of 213 | elapsed:  9.8min remaining:    0.0s\n",
      "[CV] criterion=gini, bootstrap=False, n_estimators=100, max_features=25, class_weight=balanced, max_depth=5, min_samples_split=20, min_samples_leaf=15 \n",
      "[CV]  criterion=gini, bootstrap=False, n_estimators=100, max_features=25, class_weight=balanced, max_depth=5, min_samples_split=20, min_samples_leaf=15, score=0.31353135313531355, total=   1.0s\n",
      "[Parallel(n_jobs=1)]: Done 214 out of 214 | elapsed:  9.8min remaining:    0.0s\n",
      "[CV] criterion=gini, bootstrap=False, n_estimators=100, max_features=25, class_weight=balanced, max_depth=5, min_samples_split=20, min_samples_leaf=15 \n",
      "[CV]  criterion=gini, bootstrap=False, n_estimators=100, max_features=25, class_weight=balanced, max_depth=5, min_samples_split=20, min_samples_leaf=15, score=0.3709677419354839, total=   1.0s\n",
      "[Parallel(n_jobs=1)]: Done 215 out of 215 | elapsed:  9.8min remaining:    0.0s\n",
      "[CV] criterion=gini, bootstrap=False, n_estimators=100, max_features=25, class_weight=balanced, max_depth=5, min_samples_split=20, min_samples_leaf=15 \n",
      "[CV]  criterion=gini, bootstrap=False, n_estimators=100, max_features=25, class_weight=balanced, max_depth=5, min_samples_split=20, min_samples_leaf=15, score=0.3921568627450981, total=   1.1s\n",
      "[Parallel(n_jobs=1)]: Done 216 out of 216 | elapsed:  9.8min remaining:    0.0s\n",
      "[CV] criterion=gini, bootstrap=False, n_estimators=100, max_features=25, class_weight=balanced, max_depth=5, min_samples_split=20, min_samples_leaf=15 \n",
      "[CV]  criterion=gini, bootstrap=False, n_estimators=100, max_features=25, class_weight=balanced, max_depth=5, min_samples_split=20, min_samples_leaf=15, score=0.3795379537953795, total=   1.0s\n",
      "[Parallel(n_jobs=1)]: Done 217 out of 217 | elapsed:  9.9min remaining:    0.0s\n",
      "[CV] criterion=gini, bootstrap=False, n_estimators=100, max_features=25, class_weight=balanced, max_depth=5, min_samples_split=20, min_samples_leaf=15 \n",
      "[CV]  criterion=gini, bootstrap=False, n_estimators=100, max_features=25, class_weight=balanced, max_depth=5, min_samples_split=20, min_samples_leaf=15, score=0.3289473684210526, total=   1.0s\n",
      "[Parallel(n_jobs=1)]: Done 218 out of 218 | elapsed:  9.9min remaining:    0.0s\n",
      "[CV] criterion=gini, bootstrap=False, n_estimators=100, max_features=25, class_weight=balanced, max_depth=5, min_samples_split=20, min_samples_leaf=15 \n",
      "[CV]  criterion=gini, bootstrap=False, n_estimators=100, max_features=25, class_weight=balanced, max_depth=5, min_samples_split=20, min_samples_leaf=15, score=0.3345070422535212, total=   1.0s\n",
      "[Parallel(n_jobs=1)]: Done 219 out of 219 | elapsed:  9.9min remaining:    0.0s\n",
      "[CV] criterion=gini, bootstrap=False, n_estimators=100, max_features=25, class_weight=balanced, max_depth=5, min_samples_split=20, min_samples_leaf=15 \n",
      "[CV]  criterion=gini, bootstrap=False, n_estimators=100, max_features=25, class_weight=balanced, max_depth=5, min_samples_split=20, min_samples_leaf=15, score=0.4340836012861736, total=   1.6s\n",
      "[Parallel(n_jobs=1)]: Done 220 out of 220 | elapsed:  9.9min remaining:    0.0s\n",
      "[CV] criterion=gini, bootstrap=False, n_estimators=200, max_features=20, class_weight=balanced, max_depth=10, min_samples_split=15, min_samples_leaf=20 \n",
      "[CV]  criterion=gini, bootstrap=False, n_estimators=200, max_features=20, class_weight=balanced, max_depth=10, min_samples_split=15, min_samples_leaf=20, score=0.3068592057761733, total=   4.4s\n",
      "[Parallel(n_jobs=1)]: Done 221 out of 221 | elapsed: 10.0min remaining:    0.0s\n",
      "[CV] criterion=gini, bootstrap=False, n_estimators=200, max_features=20, class_weight=balanced, max_depth=10, min_samples_split=15, min_samples_leaf=20 \n",
      "[CV]  criterion=gini, bootstrap=False, n_estimators=200, max_features=20, class_weight=balanced, max_depth=10, min_samples_split=15, min_samples_leaf=20, score=0.34749034749034746, total=   2.8s\n",
      "[Parallel(n_jobs=1)]: Done 222 out of 222 | elapsed: 10.1min remaining:    0.0s\n",
      "[CV] criterion=gini, bootstrap=False, n_estimators=200, max_features=20, class_weight=balanced, max_depth=10, min_samples_split=15, min_samples_leaf=20 \n",
      "[CV]  criterion=gini, bootstrap=False, n_estimators=200, max_features=20, class_weight=balanced, max_depth=10, min_samples_split=15, min_samples_leaf=20, score=0.3294573643410853, total=   2.7s\n",
      "[Parallel(n_jobs=1)]: Done 223 out of 223 | elapsed: 10.1min remaining:    0.0s\n",
      "[CV] criterion=gini, bootstrap=False, n_estimators=200, max_features=20, class_weight=balanced, max_depth=10, min_samples_split=15, min_samples_leaf=20 \n",
      "[CV]  criterion=gini, bootstrap=False, n_estimators=200, max_features=20, class_weight=balanced, max_depth=10, min_samples_split=15, min_samples_leaf=20, score=0.3171641791044776, total=   3.2s\n",
      "[Parallel(n_jobs=1)]: Done 224 out of 224 | elapsed: 10.2min remaining:    0.0s\n",
      "[CV] criterion=gini, bootstrap=False, n_estimators=200, max_features=20, class_weight=balanced, max_depth=10, min_samples_split=15, min_samples_leaf=20 \n",
      "[CV]  criterion=gini, bootstrap=False, n_estimators=200, max_features=20, class_weight=balanced, max_depth=10, min_samples_split=15, min_samples_leaf=20, score=0.3947368421052631, total=   3.8s\n",
      "[Parallel(n_jobs=1)]: Done 225 out of 225 | elapsed: 10.2min remaining:    0.0s\n",
      "[CV] criterion=gini, bootstrap=False, n_estimators=200, max_features=20, class_weight=balanced, max_depth=10, min_samples_split=15, min_samples_leaf=20 \n",
      "[CV]  criterion=gini, bootstrap=False, n_estimators=200, max_features=20, class_weight=balanced, max_depth=10, min_samples_split=15, min_samples_leaf=20, score=0.32075471698113206, total=   2.9s\n",
      "[Parallel(n_jobs=1)]: Done 226 out of 226 | elapsed: 10.3min remaining:    0.0s\n",
      "[CV] criterion=gini, bootstrap=False, n_estimators=200, max_features=20, class_weight=balanced, max_depth=10, min_samples_split=15, min_samples_leaf=20 \n",
      "[CV]  criterion=gini, bootstrap=False, n_estimators=200, max_features=20, class_weight=balanced, max_depth=10, min_samples_split=15, min_samples_leaf=20, score=0.3653846153846154, total=   2.7s\n",
      "[Parallel(n_jobs=1)]: Done 227 out of 227 | elapsed: 10.4min remaining:    0.0s\n",
      "[CV] criterion=gini, bootstrap=False, n_estimators=200, max_features=20, class_weight=balanced, max_depth=10, min_samples_split=15, min_samples_leaf=20 \n",
      "[CV]  criterion=gini, bootstrap=False, n_estimators=200, max_features=20, class_weight=balanced, max_depth=10, min_samples_split=15, min_samples_leaf=20, score=0.3148148148148148, total=   2.8s\n",
      "[Parallel(n_jobs=1)]: Done 228 out of 228 | elapsed: 10.4min remaining:    0.0s\n",
      "[CV] criterion=gini, bootstrap=False, n_estimators=200, max_features=20, class_weight=balanced, max_depth=10, min_samples_split=15, min_samples_leaf=20 \n",
      "[CV]  criterion=gini, bootstrap=False, n_estimators=200, max_features=20, class_weight=balanced, max_depth=10, min_samples_split=15, min_samples_leaf=20, score=0.4016064257028113, total=   3.3s\n",
      "[Parallel(n_jobs=1)]: Done 229 out of 229 | elapsed: 10.5min remaining:    0.0s\n",
      "[CV] criterion=gini, bootstrap=False, n_estimators=200, max_features=20, class_weight=balanced, max_depth=10, min_samples_split=15, min_samples_leaf=20 \n"
     ]
    },
    {
     "name": "stdout",
     "output_type": "stream",
     "text": [
      "[CV]  criterion=gini, bootstrap=False, n_estimators=200, max_features=20, class_weight=balanced, max_depth=10, min_samples_split=15, min_samples_leaf=20, score=0.3968253968253968, total=   3.7s\n",
      "[Parallel(n_jobs=1)]: Done 230 out of 230 | elapsed: 10.5min remaining:    0.0s\n",
      "[CV] criterion=gini, bootstrap=True, n_estimators=300, max_features=5, class_weight=balanced, max_depth=20, min_samples_split=10, min_samples_leaf=10 \n",
      "[CV]  criterion=gini, bootstrap=True, n_estimators=300, max_features=5, class_weight=balanced, max_depth=20, min_samples_split=10, min_samples_leaf=10, score=0.2777777777777778, total=   1.8s\n",
      "[Parallel(n_jobs=1)]: Done 231 out of 231 | elapsed: 10.6min remaining:    0.0s\n",
      "[CV] criterion=gini, bootstrap=True, n_estimators=300, max_features=5, class_weight=balanced, max_depth=20, min_samples_split=10, min_samples_leaf=10 \n",
      "[CV]  criterion=gini, bootstrap=True, n_estimators=300, max_features=5, class_weight=balanced, max_depth=20, min_samples_split=10, min_samples_leaf=10, score=0.26829268292682934, total=   1.7s\n",
      "[Parallel(n_jobs=1)]: Done 232 out of 232 | elapsed: 10.6min remaining:    0.0s\n",
      "[CV] criterion=gini, bootstrap=True, n_estimators=300, max_features=5, class_weight=balanced, max_depth=20, min_samples_split=10, min_samples_leaf=10 \n",
      "[CV]  criterion=gini, bootstrap=True, n_estimators=300, max_features=5, class_weight=balanced, max_depth=20, min_samples_split=10, min_samples_leaf=10, score=0.26178010471204183, total=   1.7s\n",
      "[Parallel(n_jobs=1)]: Done 233 out of 233 | elapsed: 10.7min remaining:    0.0s\n",
      "[CV] criterion=gini, bootstrap=True, n_estimators=300, max_features=5, class_weight=balanced, max_depth=20, min_samples_split=10, min_samples_leaf=10 \n",
      "[CV]  criterion=gini, bootstrap=True, n_estimators=300, max_features=5, class_weight=balanced, max_depth=20, min_samples_split=10, min_samples_leaf=10, score=0.23255813953488372, total=   1.9s\n",
      "[Parallel(n_jobs=1)]: Done 234 out of 234 | elapsed: 10.7min remaining:    0.0s\n",
      "[CV] criterion=gini, bootstrap=True, n_estimators=300, max_features=5, class_weight=balanced, max_depth=20, min_samples_split=10, min_samples_leaf=10 \n",
      "[CV]  criterion=gini, bootstrap=True, n_estimators=300, max_features=5, class_weight=balanced, max_depth=20, min_samples_split=10, min_samples_leaf=10, score=0.3712871287128713, total=   2.3s\n",
      "[Parallel(n_jobs=1)]: Done 235 out of 235 | elapsed: 10.7min remaining:    0.0s\n",
      "[CV] criterion=gini, bootstrap=True, n_estimators=300, max_features=5, class_weight=balanced, max_depth=20, min_samples_split=10, min_samples_leaf=10 \n",
      "[CV]  criterion=gini, bootstrap=True, n_estimators=300, max_features=5, class_weight=balanced, max_depth=20, min_samples_split=10, min_samples_leaf=10, score=0.2696078431372549, total=   2.3s\n",
      "[Parallel(n_jobs=1)]: Done 236 out of 236 | elapsed: 10.8min remaining:    0.0s\n",
      "[CV] criterion=gini, bootstrap=True, n_estimators=300, max_features=5, class_weight=balanced, max_depth=20, min_samples_split=10, min_samples_leaf=10 \n",
      "[CV]  criterion=gini, bootstrap=True, n_estimators=300, max_features=5, class_weight=balanced, max_depth=20, min_samples_split=10, min_samples_leaf=10, score=0.2926829268292683, total=   1.7s\n",
      "[Parallel(n_jobs=1)]: Done 237 out of 237 | elapsed: 10.8min remaining:    0.0s\n",
      "[CV] criterion=gini, bootstrap=True, n_estimators=300, max_features=5, class_weight=balanced, max_depth=20, min_samples_split=10, min_samples_leaf=10 \n",
      "[CV]  criterion=gini, bootstrap=True, n_estimators=300, max_features=5, class_weight=balanced, max_depth=20, min_samples_split=10, min_samples_leaf=10, score=0.16990291262135923, total=   1.9s\n",
      "[Parallel(n_jobs=1)]: Done 238 out of 238 | elapsed: 10.9min remaining:    0.0s\n",
      "[CV] criterion=gini, bootstrap=True, n_estimators=300, max_features=5, class_weight=balanced, max_depth=20, min_samples_split=10, min_samples_leaf=10 \n",
      "[CV]  criterion=gini, bootstrap=True, n_estimators=300, max_features=5, class_weight=balanced, max_depth=20, min_samples_split=10, min_samples_leaf=10, score=0.35353535353535354, total=   1.8s\n",
      "[Parallel(n_jobs=1)]: Done 239 out of 239 | elapsed: 10.9min remaining:    0.0s\n",
      "[CV] criterion=gini, bootstrap=True, n_estimators=300, max_features=5, class_weight=balanced, max_depth=20, min_samples_split=10, min_samples_leaf=10 \n",
      "[CV]  criterion=gini, bootstrap=True, n_estimators=300, max_features=5, class_weight=balanced, max_depth=20, min_samples_split=10, min_samples_leaf=10, score=0.39267015706806285, total=   1.8s\n",
      "[Parallel(n_jobs=1)]: Done 240 out of 240 | elapsed: 11.0min remaining:    0.0s\n",
      "[CV] criterion=entropy, bootstrap=False, n_estimators=200, max_features=5, class_weight=None, max_depth=15, min_samples_split=20, min_samples_leaf=15 \n"
     ]
    },
    {
     "name": "stderr",
     "output_type": "stream",
     "text": [
      "C:\\Users\\dell\\AppData\\Local\\conda\\conda\\envs\\tensorflow\\lib\\site-packages\\sklearn\\metrics\\classification.py:1135: UndefinedMetricWarning: F-score is ill-defined and being set to 0.0 due to no predicted samples.\n",
      "  'precision', 'predicted', average, warn_for)\n",
      "C:\\Users\\dell\\AppData\\Local\\conda\\conda\\envs\\tensorflow\\lib\\site-packages\\sklearn\\metrics\\classification.py:1135: UndefinedMetricWarning: F-score is ill-defined and being set to 0.0 due to no predicted samples.\n",
      "  'precision', 'predicted', average, warn_for)\n"
     ]
    },
    {
     "name": "stdout",
     "output_type": "stream",
     "text": [
      "[CV]  criterion=entropy, bootstrap=False, n_estimators=200, max_features=5, class_weight=None, max_depth=15, min_samples_split=20, min_samples_leaf=15, score=0.0, total=   1.6s\n",
      "[Parallel(n_jobs=1)]: Done 241 out of 241 | elapsed: 11.0min remaining:    0.0s\n",
      "[CV] criterion=entropy, bootstrap=False, n_estimators=200, max_features=5, class_weight=None, max_depth=15, min_samples_split=20, min_samples_leaf=15 \n"
     ]
    },
    {
     "name": "stderr",
     "output_type": "stream",
     "text": [
      "C:\\Users\\dell\\AppData\\Local\\conda\\conda\\envs\\tensorflow\\lib\\site-packages\\sklearn\\metrics\\classification.py:1135: UndefinedMetricWarning: F-score is ill-defined and being set to 0.0 due to no predicted samples.\n",
      "  'precision', 'predicted', average, warn_for)\n",
      "C:\\Users\\dell\\AppData\\Local\\conda\\conda\\envs\\tensorflow\\lib\\site-packages\\sklearn\\metrics\\classification.py:1135: UndefinedMetricWarning: F-score is ill-defined and being set to 0.0 due to no predicted samples.\n",
      "  'precision', 'predicted', average, warn_for)\n"
     ]
    },
    {
     "name": "stdout",
     "output_type": "stream",
     "text": [
      "[CV]  criterion=entropy, bootstrap=False, n_estimators=200, max_features=5, class_weight=None, max_depth=15, min_samples_split=20, min_samples_leaf=15, score=0.0, total=   1.8s\n",
      "[Parallel(n_jobs=1)]: Done 242 out of 242 | elapsed: 11.0min remaining:    0.0s\n",
      "[CV] criterion=entropy, bootstrap=False, n_estimators=200, max_features=5, class_weight=None, max_depth=15, min_samples_split=20, min_samples_leaf=15 \n"
     ]
    },
    {
     "name": "stderr",
     "output_type": "stream",
     "text": [
      "C:\\Users\\dell\\AppData\\Local\\conda\\conda\\envs\\tensorflow\\lib\\site-packages\\sklearn\\metrics\\classification.py:1135: UndefinedMetricWarning: F-score is ill-defined and being set to 0.0 due to no predicted samples.\n",
      "  'precision', 'predicted', average, warn_for)\n",
      "C:\\Users\\dell\\AppData\\Local\\conda\\conda\\envs\\tensorflow\\lib\\site-packages\\sklearn\\metrics\\classification.py:1135: UndefinedMetricWarning: F-score is ill-defined and being set to 0.0 due to no predicted samples.\n",
      "  'precision', 'predicted', average, warn_for)\n"
     ]
    },
    {
     "name": "stdout",
     "output_type": "stream",
     "text": [
      "[CV]  criterion=entropy, bootstrap=False, n_estimators=200, max_features=5, class_weight=None, max_depth=15, min_samples_split=20, min_samples_leaf=15, score=0.0, total=   2.0s\n",
      "[Parallel(n_jobs=1)]: Done 243 out of 243 | elapsed: 11.1min remaining:    0.0s\n",
      "[CV] criterion=entropy, bootstrap=False, n_estimators=200, max_features=5, class_weight=None, max_depth=15, min_samples_split=20, min_samples_leaf=15 \n"
     ]
    },
    {
     "name": "stderr",
     "output_type": "stream",
     "text": [
      "C:\\Users\\dell\\AppData\\Local\\conda\\conda\\envs\\tensorflow\\lib\\site-packages\\sklearn\\metrics\\classification.py:1135: UndefinedMetricWarning: F-score is ill-defined and being set to 0.0 due to no predicted samples.\n",
      "  'precision', 'predicted', average, warn_for)\n",
      "C:\\Users\\dell\\AppData\\Local\\conda\\conda\\envs\\tensorflow\\lib\\site-packages\\sklearn\\metrics\\classification.py:1135: UndefinedMetricWarning: F-score is ill-defined and being set to 0.0 due to no predicted samples.\n",
      "  'precision', 'predicted', average, warn_for)\n"
     ]
    },
    {
     "name": "stdout",
     "output_type": "stream",
     "text": [
      "[CV]  criterion=entropy, bootstrap=False, n_estimators=200, max_features=5, class_weight=None, max_depth=15, min_samples_split=20, min_samples_leaf=15, score=0.0, total=   1.8s\n",
      "[Parallel(n_jobs=1)]: Done 244 out of 244 | elapsed: 11.1min remaining:    0.0s\n",
      "[CV] criterion=entropy, bootstrap=False, n_estimators=200, max_features=5, class_weight=None, max_depth=15, min_samples_split=20, min_samples_leaf=15 \n"
     ]
    },
    {
     "name": "stderr",
     "output_type": "stream",
     "text": [
      "C:\\Users\\dell\\AppData\\Local\\conda\\conda\\envs\\tensorflow\\lib\\site-packages\\sklearn\\metrics\\classification.py:1135: UndefinedMetricWarning: F-score is ill-defined and being set to 0.0 due to no predicted samples.\n",
      "  'precision', 'predicted', average, warn_for)\n",
      "C:\\Users\\dell\\AppData\\Local\\conda\\conda\\envs\\tensorflow\\lib\\site-packages\\sklearn\\metrics\\classification.py:1135: UndefinedMetricWarning: F-score is ill-defined and being set to 0.0 due to no predicted samples.\n",
      "  'precision', 'predicted', average, warn_for)\n"
     ]
    },
    {
     "name": "stdout",
     "output_type": "stream",
     "text": [
      "[CV]  criterion=entropy, bootstrap=False, n_estimators=200, max_features=5, class_weight=None, max_depth=15, min_samples_split=20, min_samples_leaf=15, score=0.0, total=   1.8s\n",
      "[Parallel(n_jobs=1)]: Done 245 out of 245 | elapsed: 11.1min remaining:    0.0s\n",
      "[CV] criterion=entropy, bootstrap=False, n_estimators=200, max_features=5, class_weight=None, max_depth=15, min_samples_split=20, min_samples_leaf=15 \n"
     ]
    },
    {
     "name": "stderr",
     "output_type": "stream",
     "text": [
      "C:\\Users\\dell\\AppData\\Local\\conda\\conda\\envs\\tensorflow\\lib\\site-packages\\sklearn\\metrics\\classification.py:1135: UndefinedMetricWarning: F-score is ill-defined and being set to 0.0 due to no predicted samples.\n",
      "  'precision', 'predicted', average, warn_for)\n",
      "C:\\Users\\dell\\AppData\\Local\\conda\\conda\\envs\\tensorflow\\lib\\site-packages\\sklearn\\metrics\\classification.py:1135: UndefinedMetricWarning: F-score is ill-defined and being set to 0.0 due to no predicted samples.\n",
      "  'precision', 'predicted', average, warn_for)\n"
     ]
    },
    {
     "name": "stdout",
     "output_type": "stream",
     "text": [
      "[CV]  criterion=entropy, bootstrap=False, n_estimators=200, max_features=5, class_weight=None, max_depth=15, min_samples_split=20, min_samples_leaf=15, score=0.0, total=   1.7s\n",
      "[Parallel(n_jobs=1)]: Done 246 out of 246 | elapsed: 11.2min remaining:    0.0s\n",
      "[CV] criterion=entropy, bootstrap=False, n_estimators=200, max_features=5, class_weight=None, max_depth=15, min_samples_split=20, min_samples_leaf=15 \n"
     ]
    },
    {
     "name": "stderr",
     "output_type": "stream",
     "text": [
      "C:\\Users\\dell\\AppData\\Local\\conda\\conda\\envs\\tensorflow\\lib\\site-packages\\sklearn\\metrics\\classification.py:1135: UndefinedMetricWarning: F-score is ill-defined and being set to 0.0 due to no predicted samples.\n",
      "  'precision', 'predicted', average, warn_for)\n",
      "C:\\Users\\dell\\AppData\\Local\\conda\\conda\\envs\\tensorflow\\lib\\site-packages\\sklearn\\metrics\\classification.py:1135: UndefinedMetricWarning: F-score is ill-defined and being set to 0.0 due to no predicted samples.\n",
      "  'precision', 'predicted', average, warn_for)\n"
     ]
    },
    {
     "name": "stdout",
     "output_type": "stream",
     "text": [
      "[CV]  criterion=entropy, bootstrap=False, n_estimators=200, max_features=5, class_weight=None, max_depth=15, min_samples_split=20, min_samples_leaf=15, score=0.0, total=   1.7s\n",
      "[Parallel(n_jobs=1)]: Done 247 out of 247 | elapsed: 11.2min remaining:    0.0s\n",
      "[CV] criterion=entropy, bootstrap=False, n_estimators=200, max_features=5, class_weight=None, max_depth=15, min_samples_split=20, min_samples_leaf=15 \n"
     ]
    },
    {
     "name": "stderr",
     "output_type": "stream",
     "text": [
      "C:\\Users\\dell\\AppData\\Local\\conda\\conda\\envs\\tensorflow\\lib\\site-packages\\sklearn\\metrics\\classification.py:1135: UndefinedMetricWarning: F-score is ill-defined and being set to 0.0 due to no predicted samples.\n",
      "  'precision', 'predicted', average, warn_for)\n",
      "C:\\Users\\dell\\AppData\\Local\\conda\\conda\\envs\\tensorflow\\lib\\site-packages\\sklearn\\metrics\\classification.py:1135: UndefinedMetricWarning: F-score is ill-defined and being set to 0.0 due to no predicted samples.\n",
      "  'precision', 'predicted', average, warn_for)\n"
     ]
    },
    {
     "name": "stdout",
     "output_type": "stream",
     "text": [
      "[CV]  criterion=entropy, bootstrap=False, n_estimators=200, max_features=5, class_weight=None, max_depth=15, min_samples_split=20, min_samples_leaf=15, score=0.0, total=   1.6s\n",
      "[Parallel(n_jobs=1)]: Done 248 out of 248 | elapsed: 11.3min remaining:    0.0s\n",
      "[CV] criterion=entropy, bootstrap=False, n_estimators=200, max_features=5, class_weight=None, max_depth=15, min_samples_split=20, min_samples_leaf=15 \n"
     ]
    },
    {
     "name": "stderr",
     "output_type": "stream",
     "text": [
      "C:\\Users\\dell\\AppData\\Local\\conda\\conda\\envs\\tensorflow\\lib\\site-packages\\sklearn\\metrics\\classification.py:1135: UndefinedMetricWarning: F-score is ill-defined and being set to 0.0 due to no predicted samples.\n",
      "  'precision', 'predicted', average, warn_for)\n",
      "C:\\Users\\dell\\AppData\\Local\\conda\\conda\\envs\\tensorflow\\lib\\site-packages\\sklearn\\metrics\\classification.py:1135: UndefinedMetricWarning: F-score is ill-defined and being set to 0.0 due to no predicted samples.\n",
      "  'precision', 'predicted', average, warn_for)\n"
     ]
    },
    {
     "name": "stdout",
     "output_type": "stream",
     "text": [
      "[CV]  criterion=entropy, bootstrap=False, n_estimators=200, max_features=5, class_weight=None, max_depth=15, min_samples_split=20, min_samples_leaf=15, score=0.0, total=   2.0s\n",
      "[Parallel(n_jobs=1)]: Done 249 out of 249 | elapsed: 11.3min remaining:    0.0s\n",
      "[CV] criterion=entropy, bootstrap=False, n_estimators=200, max_features=5, class_weight=None, max_depth=15, min_samples_split=20, min_samples_leaf=15 \n"
     ]
    },
    {
     "name": "stderr",
     "output_type": "stream",
     "text": [
      "C:\\Users\\dell\\AppData\\Local\\conda\\conda\\envs\\tensorflow\\lib\\site-packages\\sklearn\\metrics\\classification.py:1135: UndefinedMetricWarning: F-score is ill-defined and being set to 0.0 due to no predicted samples.\n",
      "  'precision', 'predicted', average, warn_for)\n",
      "C:\\Users\\dell\\AppData\\Local\\conda\\conda\\envs\\tensorflow\\lib\\site-packages\\sklearn\\metrics\\classification.py:1135: UndefinedMetricWarning: F-score is ill-defined and being set to 0.0 due to no predicted samples.\n",
      "  'precision', 'predicted', average, warn_for)\n"
     ]
    },
    {
     "name": "stdout",
     "output_type": "stream",
     "text": [
      "[CV]  criterion=entropy, bootstrap=False, n_estimators=200, max_features=5, class_weight=None, max_depth=15, min_samples_split=20, min_samples_leaf=15, score=0.0, total=   2.1s\n",
      "[Parallel(n_jobs=1)]: Done 250 out of 250 | elapsed: 11.3min remaining:    0.0s\n",
      "[CV] criterion=gini, bootstrap=False, n_estimators=100, max_features=5, class_weight=None, max_depth=20, min_samples_split=20, min_samples_leaf=15 \n"
     ]
    },
    {
     "name": "stderr",
     "output_type": "stream",
     "text": [
      "C:\\Users\\dell\\AppData\\Local\\conda\\conda\\envs\\tensorflow\\lib\\site-packages\\sklearn\\metrics\\classification.py:1135: UndefinedMetricWarning: F-score is ill-defined and being set to 0.0 due to no predicted samples.\n",
      "  'precision', 'predicted', average, warn_for)\n",
      "C:\\Users\\dell\\AppData\\Local\\conda\\conda\\envs\\tensorflow\\lib\\site-packages\\sklearn\\metrics\\classification.py:1135: UndefinedMetricWarning: F-score is ill-defined and being set to 0.0 due to no predicted samples.\n",
      "  'precision', 'predicted', average, warn_for)\n"
     ]
    },
    {
     "name": "stdout",
     "output_type": "stream",
     "text": [
      "[CV]  criterion=gini, bootstrap=False, n_estimators=100, max_features=5, class_weight=None, max_depth=20, min_samples_split=20, min_samples_leaf=15, score=0.0, total=   0.8s\n",
      "[Parallel(n_jobs=1)]: Done 251 out of 251 | elapsed: 11.4min remaining:    0.0s\n",
      "[CV] criterion=gini, bootstrap=False, n_estimators=100, max_features=5, class_weight=None, max_depth=20, min_samples_split=20, min_samples_leaf=15 \n"
     ]
    },
    {
     "name": "stderr",
     "output_type": "stream",
     "text": [
      "C:\\Users\\dell\\AppData\\Local\\conda\\conda\\envs\\tensorflow\\lib\\site-packages\\sklearn\\metrics\\classification.py:1135: UndefinedMetricWarning: F-score is ill-defined and being set to 0.0 due to no predicted samples.\n",
      "  'precision', 'predicted', average, warn_for)\n",
      "C:\\Users\\dell\\AppData\\Local\\conda\\conda\\envs\\tensorflow\\lib\\site-packages\\sklearn\\metrics\\classification.py:1135: UndefinedMetricWarning: F-score is ill-defined and being set to 0.0 due to no predicted samples.\n",
      "  'precision', 'predicted', average, warn_for)\n"
     ]
    },
    {
     "name": "stdout",
     "output_type": "stream",
     "text": [
      "[CV]  criterion=gini, bootstrap=False, n_estimators=100, max_features=5, class_weight=None, max_depth=20, min_samples_split=20, min_samples_leaf=15, score=0.0, total=   0.7s\n",
      "[Parallel(n_jobs=1)]: Done 252 out of 252 | elapsed: 11.4min remaining:    0.0s\n",
      "[CV] criterion=gini, bootstrap=False, n_estimators=100, max_features=5, class_weight=None, max_depth=20, min_samples_split=20, min_samples_leaf=15 \n"
     ]
    },
    {
     "name": "stderr",
     "output_type": "stream",
     "text": [
      "C:\\Users\\dell\\AppData\\Local\\conda\\conda\\envs\\tensorflow\\lib\\site-packages\\sklearn\\metrics\\classification.py:1135: UndefinedMetricWarning: F-score is ill-defined and being set to 0.0 due to no predicted samples.\n",
      "  'precision', 'predicted', average, warn_for)\n",
      "C:\\Users\\dell\\AppData\\Local\\conda\\conda\\envs\\tensorflow\\lib\\site-packages\\sklearn\\metrics\\classification.py:1135: UndefinedMetricWarning: F-score is ill-defined and being set to 0.0 due to no predicted samples.\n",
      "  'precision', 'predicted', average, warn_for)\n"
     ]
    },
    {
     "name": "stdout",
     "output_type": "stream",
     "text": [
      "[CV]  criterion=gini, bootstrap=False, n_estimators=100, max_features=5, class_weight=None, max_depth=20, min_samples_split=20, min_samples_leaf=15, score=0.0, total=   0.8s\n",
      "[Parallel(n_jobs=1)]: Done 253 out of 253 | elapsed: 11.4min remaining:    0.0s\n",
      "[CV] criterion=gini, bootstrap=False, n_estimators=100, max_features=5, class_weight=None, max_depth=20, min_samples_split=20, min_samples_leaf=15 \n"
     ]
    },
    {
     "name": "stderr",
     "output_type": "stream",
     "text": [
      "C:\\Users\\dell\\AppData\\Local\\conda\\conda\\envs\\tensorflow\\lib\\site-packages\\sklearn\\metrics\\classification.py:1135: UndefinedMetricWarning: F-score is ill-defined and being set to 0.0 due to no predicted samples.\n",
      "  'precision', 'predicted', average, warn_for)\n",
      "C:\\Users\\dell\\AppData\\Local\\conda\\conda\\envs\\tensorflow\\lib\\site-packages\\sklearn\\metrics\\classification.py:1135: UndefinedMetricWarning: F-score is ill-defined and being set to 0.0 due to no predicted samples.\n",
      "  'precision', 'predicted', average, warn_for)\n"
     ]
    },
    {
     "name": "stdout",
     "output_type": "stream",
     "text": [
      "[CV]  criterion=gini, bootstrap=False, n_estimators=100, max_features=5, class_weight=None, max_depth=20, min_samples_split=20, min_samples_leaf=15, score=0.0, total=   0.7s\n",
      "[Parallel(n_jobs=1)]: Done 254 out of 254 | elapsed: 11.4min remaining:    0.0s\n",
      "[CV] criterion=gini, bootstrap=False, n_estimators=100, max_features=5, class_weight=None, max_depth=20, min_samples_split=20, min_samples_leaf=15 \n"
     ]
    },
    {
     "name": "stderr",
     "output_type": "stream",
     "text": [
      "C:\\Users\\dell\\AppData\\Local\\conda\\conda\\envs\\tensorflow\\lib\\site-packages\\sklearn\\metrics\\classification.py:1135: UndefinedMetricWarning: F-score is ill-defined and being set to 0.0 due to no predicted samples.\n",
      "  'precision', 'predicted', average, warn_for)\n",
      "C:\\Users\\dell\\AppData\\Local\\conda\\conda\\envs\\tensorflow\\lib\\site-packages\\sklearn\\metrics\\classification.py:1135: UndefinedMetricWarning: F-score is ill-defined and being set to 0.0 due to no predicted samples.\n",
      "  'precision', 'predicted', average, warn_for)\n"
     ]
    },
    {
     "name": "stdout",
     "output_type": "stream",
     "text": [
      "[CV]  criterion=gini, bootstrap=False, n_estimators=100, max_features=5, class_weight=None, max_depth=20, min_samples_split=20, min_samples_leaf=15, score=0.0, total=   0.7s\n",
      "[Parallel(n_jobs=1)]: Done 255 out of 255 | elapsed: 11.4min remaining:    0.0s\n",
      "[CV] criterion=gini, bootstrap=False, n_estimators=100, max_features=5, class_weight=None, max_depth=20, min_samples_split=20, min_samples_leaf=15 \n"
     ]
    },
    {
     "name": "stderr",
     "output_type": "stream",
     "text": [
      "C:\\Users\\dell\\AppData\\Local\\conda\\conda\\envs\\tensorflow\\lib\\site-packages\\sklearn\\metrics\\classification.py:1135: UndefinedMetricWarning: F-score is ill-defined and being set to 0.0 due to no predicted samples.\n",
      "  'precision', 'predicted', average, warn_for)\n",
      "C:\\Users\\dell\\AppData\\Local\\conda\\conda\\envs\\tensorflow\\lib\\site-packages\\sklearn\\metrics\\classification.py:1135: UndefinedMetricWarning: F-score is ill-defined and being set to 0.0 due to no predicted samples.\n",
      "  'precision', 'predicted', average, warn_for)\n"
     ]
    },
    {
     "name": "stdout",
     "output_type": "stream",
     "text": [
      "[CV]  criterion=gini, bootstrap=False, n_estimators=100, max_features=5, class_weight=None, max_depth=20, min_samples_split=20, min_samples_leaf=15, score=0.0, total=   0.7s\n",
      "[Parallel(n_jobs=1)]: Done 256 out of 256 | elapsed: 11.4min remaining:    0.0s\n",
      "[CV] criterion=gini, bootstrap=False, n_estimators=100, max_features=5, class_weight=None, max_depth=20, min_samples_split=20, min_samples_leaf=15 \n"
     ]
    },
    {
     "name": "stderr",
     "output_type": "stream",
     "text": [
      "C:\\Users\\dell\\AppData\\Local\\conda\\conda\\envs\\tensorflow\\lib\\site-packages\\sklearn\\metrics\\classification.py:1135: UndefinedMetricWarning: F-score is ill-defined and being set to 0.0 due to no predicted samples.\n",
      "  'precision', 'predicted', average, warn_for)\n",
      "C:\\Users\\dell\\AppData\\Local\\conda\\conda\\envs\\tensorflow\\lib\\site-packages\\sklearn\\metrics\\classification.py:1135: UndefinedMetricWarning: F-score is ill-defined and being set to 0.0 due to no predicted samples.\n",
      "  'precision', 'predicted', average, warn_for)\n"
     ]
    },
    {
     "name": "stdout",
     "output_type": "stream",
     "text": [
      "[CV]  criterion=gini, bootstrap=False, n_estimators=100, max_features=5, class_weight=None, max_depth=20, min_samples_split=20, min_samples_leaf=15, score=0.0, total=   0.7s\n",
      "[Parallel(n_jobs=1)]: Done 257 out of 257 | elapsed: 11.5min remaining:    0.0s\n",
      "[CV] criterion=gini, bootstrap=False, n_estimators=100, max_features=5, class_weight=None, max_depth=20, min_samples_split=20, min_samples_leaf=15 \n"
     ]
    },
    {
     "name": "stderr",
     "output_type": "stream",
     "text": [
      "C:\\Users\\dell\\AppData\\Local\\conda\\conda\\envs\\tensorflow\\lib\\site-packages\\sklearn\\metrics\\classification.py:1135: UndefinedMetricWarning: F-score is ill-defined and being set to 0.0 due to no predicted samples.\n",
      "  'precision', 'predicted', average, warn_for)\n",
      "C:\\Users\\dell\\AppData\\Local\\conda\\conda\\envs\\tensorflow\\lib\\site-packages\\sklearn\\metrics\\classification.py:1135: UndefinedMetricWarning: F-score is ill-defined and being set to 0.0 due to no predicted samples.\n",
      "  'precision', 'predicted', average, warn_for)\n"
     ]
    },
    {
     "name": "stdout",
     "output_type": "stream",
     "text": [
      "[CV]  criterion=gini, bootstrap=False, n_estimators=100, max_features=5, class_weight=None, max_depth=20, min_samples_split=20, min_samples_leaf=15, score=0.0, total=   0.6s\n",
      "[Parallel(n_jobs=1)]: Done 258 out of 258 | elapsed: 11.5min remaining:    0.0s\n",
      "[CV] criterion=gini, bootstrap=False, n_estimators=100, max_features=5, class_weight=None, max_depth=20, min_samples_split=20, min_samples_leaf=15 \n"
     ]
    },
    {
     "name": "stderr",
     "output_type": "stream",
     "text": [
      "C:\\Users\\dell\\AppData\\Local\\conda\\conda\\envs\\tensorflow\\lib\\site-packages\\sklearn\\metrics\\classification.py:1135: UndefinedMetricWarning: F-score is ill-defined and being set to 0.0 due to no predicted samples.\n",
      "  'precision', 'predicted', average, warn_for)\n",
      "C:\\Users\\dell\\AppData\\Local\\conda\\conda\\envs\\tensorflow\\lib\\site-packages\\sklearn\\metrics\\classification.py:1135: UndefinedMetricWarning: F-score is ill-defined and being set to 0.0 due to no predicted samples.\n",
      "  'precision', 'predicted', average, warn_for)\n"
     ]
    },
    {
     "name": "stdout",
     "output_type": "stream",
     "text": [
      "[CV]  criterion=gini, bootstrap=False, n_estimators=100, max_features=5, class_weight=None, max_depth=20, min_samples_split=20, min_samples_leaf=15, score=0.0, total=   0.7s\n",
      "[Parallel(n_jobs=1)]: Done 259 out of 259 | elapsed: 11.5min remaining:    0.0s\n",
      "[CV] criterion=gini, bootstrap=False, n_estimators=100, max_features=5, class_weight=None, max_depth=20, min_samples_split=20, min_samples_leaf=15 \n"
     ]
    },
    {
     "name": "stderr",
     "output_type": "stream",
     "text": [
      "C:\\Users\\dell\\AppData\\Local\\conda\\conda\\envs\\tensorflow\\lib\\site-packages\\sklearn\\metrics\\classification.py:1135: UndefinedMetricWarning: F-score is ill-defined and being set to 0.0 due to no predicted samples.\n",
      "  'precision', 'predicted', average, warn_for)\n",
      "C:\\Users\\dell\\AppData\\Local\\conda\\conda\\envs\\tensorflow\\lib\\site-packages\\sklearn\\metrics\\classification.py:1135: UndefinedMetricWarning: F-score is ill-defined and being set to 0.0 due to no predicted samples.\n",
      "  'precision', 'predicted', average, warn_for)\n"
     ]
    },
    {
     "name": "stdout",
     "output_type": "stream",
     "text": [
      "[CV]  criterion=gini, bootstrap=False, n_estimators=100, max_features=5, class_weight=None, max_depth=20, min_samples_split=20, min_samples_leaf=15, score=0.0, total=   0.8s\n",
      "[Parallel(n_jobs=1)]: Done 260 out of 260 | elapsed: 11.5min remaining:    0.0s\n",
      "[CV] criterion=gini, bootstrap=False, n_estimators=100, max_features=20, class_weight=balanced, max_depth=None, min_samples_split=15, min_samples_leaf=10 \n",
      "[CV]  criterion=gini, bootstrap=False, n_estimators=100, max_features=20, class_weight=balanced, max_depth=None, min_samples_split=15, min_samples_leaf=10, score=0.2954545454545455, total=   2.4s\n",
      "[Parallel(n_jobs=1)]: Done 261 out of 261 | elapsed: 11.6min remaining:    0.0s\n",
      "[CV] criterion=gini, bootstrap=False, n_estimators=100, max_features=20, class_weight=balanced, max_depth=None, min_samples_split=15, min_samples_leaf=10 \n",
      "[CV]  criterion=gini, bootstrap=False, n_estimators=100, max_features=20, class_weight=balanced, max_depth=None, min_samples_split=15, min_samples_leaf=10, score=0.2696078431372549, total=   2.3s\n",
      "[Parallel(n_jobs=1)]: Done 262 out of 262 | elapsed: 11.6min remaining:    0.0s\n",
      "[CV] criterion=gini, bootstrap=False, n_estimators=100, max_features=20, class_weight=balanced, max_depth=None, min_samples_split=15, min_samples_leaf=10 \n",
      "[CV]  criterion=gini, bootstrap=False, n_estimators=100, max_features=20, class_weight=balanced, max_depth=None, min_samples_split=15, min_samples_leaf=10, score=0.29411764705882354, total=   1.8s\n",
      "[Parallel(n_jobs=1)]: Done 263 out of 263 | elapsed: 11.6min remaining:    0.0s\n",
      "[CV] criterion=gini, bootstrap=False, n_estimators=100, max_features=20, class_weight=balanced, max_depth=None, min_samples_split=15, min_samples_leaf=10 \n",
      "[CV]  criterion=gini, bootstrap=False, n_estimators=100, max_features=20, class_weight=balanced, max_depth=None, min_samples_split=15, min_samples_leaf=10, score=0.18433179723502308, total=   1.8s\n",
      "[Parallel(n_jobs=1)]: Done 264 out of 264 | elapsed: 11.7min remaining:    0.0s\n",
      "[CV] criterion=gini, bootstrap=False, n_estimators=100, max_features=20, class_weight=balanced, max_depth=None, min_samples_split=15, min_samples_leaf=10 \n",
      "[CV]  criterion=gini, bootstrap=False, n_estimators=100, max_features=20, class_weight=balanced, max_depth=None, min_samples_split=15, min_samples_leaf=10, score=0.3465346534653465, total=   1.8s\n",
      "[Parallel(n_jobs=1)]: Done 265 out of 265 | elapsed: 11.7min remaining:    0.0s\n",
      "[CV] criterion=gini, bootstrap=False, n_estimators=100, max_features=20, class_weight=balanced, max_depth=None, min_samples_split=15, min_samples_leaf=10 \n",
      "[CV]  criterion=gini, bootstrap=False, n_estimators=100, max_features=20, class_weight=balanced, max_depth=None, min_samples_split=15, min_samples_leaf=10, score=0.26315789473684215, total=   2.0s\n",
      "[Parallel(n_jobs=1)]: Done 266 out of 266 | elapsed: 11.7min remaining:    0.0s\n",
      "[CV] criterion=gini, bootstrap=False, n_estimators=100, max_features=20, class_weight=balanced, max_depth=None, min_samples_split=15, min_samples_leaf=10 \n",
      "[CV]  criterion=gini, bootstrap=False, n_estimators=100, max_features=20, class_weight=balanced, max_depth=None, min_samples_split=15, min_samples_leaf=10, score=0.2644230769230769, total=   2.0s\n",
      "[Parallel(n_jobs=1)]: Done 267 out of 267 | elapsed: 11.8min remaining:    0.0s\n",
      "[CV] criterion=gini, bootstrap=False, n_estimators=100, max_features=20, class_weight=balanced, max_depth=None, min_samples_split=15, min_samples_leaf=10 \n",
      "[CV]  criterion=gini, bootstrap=False, n_estimators=100, max_features=20, class_weight=balanced, max_depth=None, min_samples_split=15, min_samples_leaf=10, score=0.1951219512195122, total=   2.4s\n",
      "[Parallel(n_jobs=1)]: Done 268 out of 268 | elapsed: 11.8min remaining:    0.0s\n",
      "[CV] criterion=gini, bootstrap=False, n_estimators=100, max_features=20, class_weight=balanced, max_depth=None, min_samples_split=15, min_samples_leaf=10 \n",
      "[CV]  criterion=gini, bootstrap=False, n_estimators=100, max_features=20, class_weight=balanced, max_depth=None, min_samples_split=15, min_samples_leaf=10, score=0.30303030303030304, total=   2.4s\n",
      "[Parallel(n_jobs=1)]: Done 269 out of 269 | elapsed: 11.9min remaining:    0.0s\n",
      "[CV] criterion=gini, bootstrap=False, n_estimators=100, max_features=20, class_weight=balanced, max_depth=None, min_samples_split=15, min_samples_leaf=10 \n",
      "[CV]  criterion=gini, bootstrap=False, n_estimators=100, max_features=20, class_weight=balanced, max_depth=None, min_samples_split=15, min_samples_leaf=10, score=0.404040404040404, total=   2.2s\n",
      "[Parallel(n_jobs=1)]: Done 270 out of 270 | elapsed: 11.9min remaining:    0.0s\n",
      "[CV] criterion=entropy, bootstrap=False, n_estimators=100, max_features=5, class_weight=balanced, max_depth=10, min_samples_split=15, min_samples_leaf=10 \n",
      "[CV]  criterion=entropy, bootstrap=False, n_estimators=100, max_features=5, class_weight=balanced, max_depth=10, min_samples_split=15, min_samples_leaf=10, score=0.3195488721804511, total=   0.6s\n",
      "[Parallel(n_jobs=1)]: Done 271 out of 271 | elapsed: 11.9min remaining:    0.0s\n",
      "[CV] criterion=entropy, bootstrap=False, n_estimators=100, max_features=5, class_weight=balanced, max_depth=10, min_samples_split=15, min_samples_leaf=10 \n",
      "[CV]  criterion=entropy, bootstrap=False, n_estimators=100, max_features=5, class_weight=balanced, max_depth=10, min_samples_split=15, min_samples_leaf=10, score=0.34749034749034746, total=   0.6s\n",
      "[Parallel(n_jobs=1)]: Done 272 out of 272 | elapsed: 11.9min remaining:    0.0s\n",
      "[CV] criterion=entropy, bootstrap=False, n_estimators=100, max_features=5, class_weight=balanced, max_depth=10, min_samples_split=15, min_samples_leaf=10 \n",
      "[CV]  criterion=entropy, bootstrap=False, n_estimators=100, max_features=5, class_weight=balanced, max_depth=10, min_samples_split=15, min_samples_leaf=10, score=0.321285140562249, total=   0.5s\n",
      "[Parallel(n_jobs=1)]: Done 273 out of 273 | elapsed: 12.0min remaining:    0.0s\n",
      "[CV] criterion=entropy, bootstrap=False, n_estimators=100, max_features=5, class_weight=balanced, max_depth=10, min_samples_split=15, min_samples_leaf=10 \n",
      "[CV]  criterion=entropy, bootstrap=False, n_estimators=100, max_features=5, class_weight=balanced, max_depth=10, min_samples_split=15, min_samples_leaf=10, score=0.30534351145038163, total=   0.6s\n",
      "[Parallel(n_jobs=1)]: Done 274 out of 274 | elapsed: 12.0min remaining:    0.0s\n",
      "[CV] criterion=entropy, bootstrap=False, n_estimators=100, max_features=5, class_weight=balanced, max_depth=10, min_samples_split=15, min_samples_leaf=10 \n",
      "[CV]  criterion=entropy, bootstrap=False, n_estimators=100, max_features=5, class_weight=balanced, max_depth=10, min_samples_split=15, min_samples_leaf=10, score=0.3745318352059925, total=   0.6s\n",
      "[Parallel(n_jobs=1)]: Done 275 out of 275 | elapsed: 12.0min remaining:    0.0s\n",
      "[CV] criterion=entropy, bootstrap=False, n_estimators=100, max_features=5, class_weight=balanced, max_depth=10, min_samples_split=15, min_samples_leaf=10 \n",
      "[CV]  criterion=entropy, bootstrap=False, n_estimators=100, max_features=5, class_weight=balanced, max_depth=10, min_samples_split=15, min_samples_leaf=10, score=0.3515625, total=   0.5s\n",
      "[Parallel(n_jobs=1)]: Done 276 out of 276 | elapsed: 12.0min remaining:    0.0s\n",
      "[CV] criterion=entropy, bootstrap=False, n_estimators=100, max_features=5, class_weight=balanced, max_depth=10, min_samples_split=15, min_samples_leaf=10 \n",
      "[CV]  criterion=entropy, bootstrap=False, n_estimators=100, max_features=5, class_weight=balanced, max_depth=10, min_samples_split=15, min_samples_leaf=10, score=0.3725490196078431, total=   0.5s\n",
      "[Parallel(n_jobs=1)]: Done 277 out of 277 | elapsed: 12.0min remaining:    0.0s\n",
      "[CV] criterion=entropy, bootstrap=False, n_estimators=100, max_features=5, class_weight=balanced, max_depth=10, min_samples_split=15, min_samples_leaf=10 \n",
      "[CV]  criterion=entropy, bootstrap=False, n_estimators=100, max_features=5, class_weight=balanced, max_depth=10, min_samples_split=15, min_samples_leaf=10, score=0.17857142857142858, total=   0.5s\n",
      "[Parallel(n_jobs=1)]: Done 278 out of 278 | elapsed: 12.0min remaining:    0.0s\n",
      "[CV] criterion=entropy, bootstrap=False, n_estimators=100, max_features=5, class_weight=balanced, max_depth=10, min_samples_split=15, min_samples_leaf=10 \n",
      "[CV]  criterion=entropy, bootstrap=False, n_estimators=100, max_features=5, class_weight=balanced, max_depth=10, min_samples_split=15, min_samples_leaf=10, score=0.3469387755102041, total=   0.5s\n",
      "[Parallel(n_jobs=1)]: Done 279 out of 279 | elapsed: 12.0min remaining:    0.0s\n",
      "[CV] criterion=entropy, bootstrap=False, n_estimators=100, max_features=5, class_weight=balanced, max_depth=10, min_samples_split=15, min_samples_leaf=10 \n"
     ]
    },
    {
     "name": "stdout",
     "output_type": "stream",
     "text": [
      "[CV]  criterion=entropy, bootstrap=False, n_estimators=100, max_features=5, class_weight=balanced, max_depth=10, min_samples_split=15, min_samples_leaf=10, score=0.4285714285714286, total=   0.7s\n",
      "[Parallel(n_jobs=1)]: Done 280 out of 280 | elapsed: 12.0min remaining:    0.0s\n",
      "[CV] criterion=entropy, bootstrap=True, n_estimators=100, max_features=25, class_weight=None, max_depth=5, min_samples_split=10, min_samples_leaf=15 \n"
     ]
    },
    {
     "name": "stderr",
     "output_type": "stream",
     "text": [
      "C:\\Users\\dell\\AppData\\Local\\conda\\conda\\envs\\tensorflow\\lib\\site-packages\\sklearn\\metrics\\classification.py:1135: UndefinedMetricWarning: F-score is ill-defined and being set to 0.0 due to no predicted samples.\n",
      "  'precision', 'predicted', average, warn_for)\n",
      "C:\\Users\\dell\\AppData\\Local\\conda\\conda\\envs\\tensorflow\\lib\\site-packages\\sklearn\\metrics\\classification.py:1135: UndefinedMetricWarning: F-score is ill-defined and being set to 0.0 due to no predicted samples.\n",
      "  'precision', 'predicted', average, warn_for)\n"
     ]
    },
    {
     "name": "stdout",
     "output_type": "stream",
     "text": [
      "[CV]  criterion=entropy, bootstrap=True, n_estimators=100, max_features=25, class_weight=None, max_depth=5, min_samples_split=10, min_samples_leaf=15, score=0.0, total=   1.0s\n",
      "[Parallel(n_jobs=1)]: Done 281 out of 281 | elapsed: 12.1min remaining:    0.0s\n",
      "[CV] criterion=entropy, bootstrap=True, n_estimators=100, max_features=25, class_weight=None, max_depth=5, min_samples_split=10, min_samples_leaf=15 \n"
     ]
    },
    {
     "name": "stderr",
     "output_type": "stream",
     "text": [
      "C:\\Users\\dell\\AppData\\Local\\conda\\conda\\envs\\tensorflow\\lib\\site-packages\\sklearn\\metrics\\classification.py:1135: UndefinedMetricWarning: F-score is ill-defined and being set to 0.0 due to no predicted samples.\n",
      "  'precision', 'predicted', average, warn_for)\n",
      "C:\\Users\\dell\\AppData\\Local\\conda\\conda\\envs\\tensorflow\\lib\\site-packages\\sklearn\\metrics\\classification.py:1135: UndefinedMetricWarning: F-score is ill-defined and being set to 0.0 due to no predicted samples.\n",
      "  'precision', 'predicted', average, warn_for)\n"
     ]
    },
    {
     "name": "stdout",
     "output_type": "stream",
     "text": [
      "[CV]  criterion=entropy, bootstrap=True, n_estimators=100, max_features=25, class_weight=None, max_depth=5, min_samples_split=10, min_samples_leaf=15, score=0.0, total=   1.0s\n",
      "[Parallel(n_jobs=1)]: Done 282 out of 282 | elapsed: 12.1min remaining:    0.0s\n",
      "[CV] criterion=entropy, bootstrap=True, n_estimators=100, max_features=25, class_weight=None, max_depth=5, min_samples_split=10, min_samples_leaf=15 \n"
     ]
    },
    {
     "name": "stderr",
     "output_type": "stream",
     "text": [
      "C:\\Users\\dell\\AppData\\Local\\conda\\conda\\envs\\tensorflow\\lib\\site-packages\\sklearn\\metrics\\classification.py:1135: UndefinedMetricWarning: F-score is ill-defined and being set to 0.0 due to no predicted samples.\n",
      "  'precision', 'predicted', average, warn_for)\n",
      "C:\\Users\\dell\\AppData\\Local\\conda\\conda\\envs\\tensorflow\\lib\\site-packages\\sklearn\\metrics\\classification.py:1135: UndefinedMetricWarning: F-score is ill-defined and being set to 0.0 due to no predicted samples.\n",
      "  'precision', 'predicted', average, warn_for)\n"
     ]
    },
    {
     "name": "stdout",
     "output_type": "stream",
     "text": [
      "[CV]  criterion=entropy, bootstrap=True, n_estimators=100, max_features=25, class_weight=None, max_depth=5, min_samples_split=10, min_samples_leaf=15, score=0.0, total=   0.9s\n",
      "[Parallel(n_jobs=1)]: Done 283 out of 283 | elapsed: 12.1min remaining:    0.0s\n",
      "[CV] criterion=entropy, bootstrap=True, n_estimators=100, max_features=25, class_weight=None, max_depth=5, min_samples_split=10, min_samples_leaf=15 \n"
     ]
    },
    {
     "name": "stderr",
     "output_type": "stream",
     "text": [
      "C:\\Users\\dell\\AppData\\Local\\conda\\conda\\envs\\tensorflow\\lib\\site-packages\\sklearn\\metrics\\classification.py:1135: UndefinedMetricWarning: F-score is ill-defined and being set to 0.0 due to no predicted samples.\n",
      "  'precision', 'predicted', average, warn_for)\n",
      "C:\\Users\\dell\\AppData\\Local\\conda\\conda\\envs\\tensorflow\\lib\\site-packages\\sklearn\\metrics\\classification.py:1135: UndefinedMetricWarning: F-score is ill-defined and being set to 0.0 due to no predicted samples.\n",
      "  'precision', 'predicted', average, warn_for)\n"
     ]
    },
    {
     "name": "stdout",
     "output_type": "stream",
     "text": [
      "[CV]  criterion=entropy, bootstrap=True, n_estimators=100, max_features=25, class_weight=None, max_depth=5, min_samples_split=10, min_samples_leaf=15, score=0.0, total=   0.9s\n",
      "[Parallel(n_jobs=1)]: Done 284 out of 284 | elapsed: 12.1min remaining:    0.0s\n",
      "[CV] criterion=entropy, bootstrap=True, n_estimators=100, max_features=25, class_weight=None, max_depth=5, min_samples_split=10, min_samples_leaf=15 \n"
     ]
    },
    {
     "name": "stderr",
     "output_type": "stream",
     "text": [
      "C:\\Users\\dell\\AppData\\Local\\conda\\conda\\envs\\tensorflow\\lib\\site-packages\\sklearn\\metrics\\classification.py:1135: UndefinedMetricWarning: F-score is ill-defined and being set to 0.0 due to no predicted samples.\n",
      "  'precision', 'predicted', average, warn_for)\n",
      "C:\\Users\\dell\\AppData\\Local\\conda\\conda\\envs\\tensorflow\\lib\\site-packages\\sklearn\\metrics\\classification.py:1135: UndefinedMetricWarning: F-score is ill-defined and being set to 0.0 due to no predicted samples.\n",
      "  'precision', 'predicted', average, warn_for)\n"
     ]
    },
    {
     "name": "stdout",
     "output_type": "stream",
     "text": [
      "[CV]  criterion=entropy, bootstrap=True, n_estimators=100, max_features=25, class_weight=None, max_depth=5, min_samples_split=10, min_samples_leaf=15, score=0.0, total=   0.7s\n",
      "[Parallel(n_jobs=1)]: Done 285 out of 285 | elapsed: 12.1min remaining:    0.0s\n",
      "[CV] criterion=entropy, bootstrap=True, n_estimators=100, max_features=25, class_weight=None, max_depth=5, min_samples_split=10, min_samples_leaf=15 \n"
     ]
    },
    {
     "name": "stderr",
     "output_type": "stream",
     "text": [
      "C:\\Users\\dell\\AppData\\Local\\conda\\conda\\envs\\tensorflow\\lib\\site-packages\\sklearn\\metrics\\classification.py:1135: UndefinedMetricWarning: F-score is ill-defined and being set to 0.0 due to no predicted samples.\n",
      "  'precision', 'predicted', average, warn_for)\n",
      "C:\\Users\\dell\\AppData\\Local\\conda\\conda\\envs\\tensorflow\\lib\\site-packages\\sklearn\\metrics\\classification.py:1135: UndefinedMetricWarning: F-score is ill-defined and being set to 0.0 due to no predicted samples.\n",
      "  'precision', 'predicted', average, warn_for)\n"
     ]
    },
    {
     "name": "stdout",
     "output_type": "stream",
     "text": [
      "[CV]  criterion=entropy, bootstrap=True, n_estimators=100, max_features=25, class_weight=None, max_depth=5, min_samples_split=10, min_samples_leaf=15, score=0.0, total=   0.7s\n",
      "[Parallel(n_jobs=1)]: Done 286 out of 286 | elapsed: 12.2min remaining:    0.0s\n",
      "[CV] criterion=entropy, bootstrap=True, n_estimators=100, max_features=25, class_weight=None, max_depth=5, min_samples_split=10, min_samples_leaf=15 \n"
     ]
    },
    {
     "name": "stderr",
     "output_type": "stream",
     "text": [
      "C:\\Users\\dell\\AppData\\Local\\conda\\conda\\envs\\tensorflow\\lib\\site-packages\\sklearn\\metrics\\classification.py:1135: UndefinedMetricWarning: F-score is ill-defined and being set to 0.0 due to no predicted samples.\n",
      "  'precision', 'predicted', average, warn_for)\n",
      "C:\\Users\\dell\\AppData\\Local\\conda\\conda\\envs\\tensorflow\\lib\\site-packages\\sklearn\\metrics\\classification.py:1135: UndefinedMetricWarning: F-score is ill-defined and being set to 0.0 due to no predicted samples.\n",
      "  'precision', 'predicted', average, warn_for)\n"
     ]
    },
    {
     "name": "stdout",
     "output_type": "stream",
     "text": [
      "[CV]  criterion=entropy, bootstrap=True, n_estimators=100, max_features=25, class_weight=None, max_depth=5, min_samples_split=10, min_samples_leaf=15, score=0.0, total=   0.7s\n",
      "[Parallel(n_jobs=1)]: Done 287 out of 287 | elapsed: 12.2min remaining:    0.0s\n",
      "[CV] criterion=entropy, bootstrap=True, n_estimators=100, max_features=25, class_weight=None, max_depth=5, min_samples_split=10, min_samples_leaf=15 \n"
     ]
    },
    {
     "name": "stderr",
     "output_type": "stream",
     "text": [
      "C:\\Users\\dell\\AppData\\Local\\conda\\conda\\envs\\tensorflow\\lib\\site-packages\\sklearn\\metrics\\classification.py:1135: UndefinedMetricWarning: F-score is ill-defined and being set to 0.0 due to no predicted samples.\n",
      "  'precision', 'predicted', average, warn_for)\n",
      "C:\\Users\\dell\\AppData\\Local\\conda\\conda\\envs\\tensorflow\\lib\\site-packages\\sklearn\\metrics\\classification.py:1135: UndefinedMetricWarning: F-score is ill-defined and being set to 0.0 due to no predicted samples.\n",
      "  'precision', 'predicted', average, warn_for)\n"
     ]
    },
    {
     "name": "stdout",
     "output_type": "stream",
     "text": [
      "[CV]  criterion=entropy, bootstrap=True, n_estimators=100, max_features=25, class_weight=None, max_depth=5, min_samples_split=10, min_samples_leaf=15, score=0.0, total=   0.7s\n",
      "[Parallel(n_jobs=1)]: Done 288 out of 288 | elapsed: 12.2min remaining:    0.0s\n",
      "[CV] criterion=entropy, bootstrap=True, n_estimators=100, max_features=25, class_weight=None, max_depth=5, min_samples_split=10, min_samples_leaf=15 \n"
     ]
    },
    {
     "name": "stderr",
     "output_type": "stream",
     "text": [
      "C:\\Users\\dell\\AppData\\Local\\conda\\conda\\envs\\tensorflow\\lib\\site-packages\\sklearn\\metrics\\classification.py:1135: UndefinedMetricWarning: F-score is ill-defined and being set to 0.0 due to no predicted samples.\n",
      "  'precision', 'predicted', average, warn_for)\n",
      "C:\\Users\\dell\\AppData\\Local\\conda\\conda\\envs\\tensorflow\\lib\\site-packages\\sklearn\\metrics\\classification.py:1135: UndefinedMetricWarning: F-score is ill-defined and being set to 0.0 due to no predicted samples.\n",
      "  'precision', 'predicted', average, warn_for)\n"
     ]
    },
    {
     "name": "stdout",
     "output_type": "stream",
     "text": [
      "[CV]  criterion=entropy, bootstrap=True, n_estimators=100, max_features=25, class_weight=None, max_depth=5, min_samples_split=10, min_samples_leaf=15, score=0.0, total=   0.7s\n",
      "[Parallel(n_jobs=1)]: Done 289 out of 289 | elapsed: 12.2min remaining:    0.0s\n",
      "[CV] criterion=entropy, bootstrap=True, n_estimators=100, max_features=25, class_weight=None, max_depth=5, min_samples_split=10, min_samples_leaf=15 \n"
     ]
    },
    {
     "name": "stderr",
     "output_type": "stream",
     "text": [
      "C:\\Users\\dell\\AppData\\Local\\conda\\conda\\envs\\tensorflow\\lib\\site-packages\\sklearn\\metrics\\classification.py:1135: UndefinedMetricWarning: F-score is ill-defined and being set to 0.0 due to no predicted samples.\n",
      "  'precision', 'predicted', average, warn_for)\n",
      "C:\\Users\\dell\\AppData\\Local\\conda\\conda\\envs\\tensorflow\\lib\\site-packages\\sklearn\\metrics\\classification.py:1135: UndefinedMetricWarning: F-score is ill-defined and being set to 0.0 due to no predicted samples.\n",
      "  'precision', 'predicted', average, warn_for)\n"
     ]
    },
    {
     "name": "stdout",
     "output_type": "stream",
     "text": [
      "[CV]  criterion=entropy, bootstrap=True, n_estimators=100, max_features=25, class_weight=None, max_depth=5, min_samples_split=10, min_samples_leaf=15, score=0.0, total=   0.7s\n",
      "[Parallel(n_jobs=1)]: Done 290 out of 290 | elapsed: 12.2min remaining:    0.0s\n",
      "[CV] criterion=gini, bootstrap=True, n_estimators=100, max_features=20, class_weight=None, max_depth=5, min_samples_split=20, min_samples_leaf=10 \n"
     ]
    },
    {
     "name": "stderr",
     "output_type": "stream",
     "text": [
      "C:\\Users\\dell\\AppData\\Local\\conda\\conda\\envs\\tensorflow\\lib\\site-packages\\sklearn\\metrics\\classification.py:1135: UndefinedMetricWarning: F-score is ill-defined and being set to 0.0 due to no predicted samples.\n",
      "  'precision', 'predicted', average, warn_for)\n",
      "C:\\Users\\dell\\AppData\\Local\\conda\\conda\\envs\\tensorflow\\lib\\site-packages\\sklearn\\metrics\\classification.py:1135: UndefinedMetricWarning: F-score is ill-defined and being set to 0.0 due to no predicted samples.\n",
      "  'precision', 'predicted', average, warn_for)\n"
     ]
    },
    {
     "name": "stdout",
     "output_type": "stream",
     "text": [
      "[CV]  criterion=gini, bootstrap=True, n_estimators=100, max_features=20, class_weight=None, max_depth=5, min_samples_split=20, min_samples_leaf=10, score=0.0, total=   0.6s\n",
      "[Parallel(n_jobs=1)]: Done 291 out of 291 | elapsed: 12.2min remaining:    0.0s\n",
      "[CV] criterion=gini, bootstrap=True, n_estimators=100, max_features=20, class_weight=None, max_depth=5, min_samples_split=20, min_samples_leaf=10 \n"
     ]
    },
    {
     "name": "stderr",
     "output_type": "stream",
     "text": [
      "C:\\Users\\dell\\AppData\\Local\\conda\\conda\\envs\\tensorflow\\lib\\site-packages\\sklearn\\metrics\\classification.py:1135: UndefinedMetricWarning: F-score is ill-defined and being set to 0.0 due to no predicted samples.\n",
      "  'precision', 'predicted', average, warn_for)\n",
      "C:\\Users\\dell\\AppData\\Local\\conda\\conda\\envs\\tensorflow\\lib\\site-packages\\sklearn\\metrics\\classification.py:1135: UndefinedMetricWarning: F-score is ill-defined and being set to 0.0 due to no predicted samples.\n",
      "  'precision', 'predicted', average, warn_for)\n"
     ]
    },
    {
     "name": "stdout",
     "output_type": "stream",
     "text": [
      "[CV]  criterion=gini, bootstrap=True, n_estimators=100, max_features=20, class_weight=None, max_depth=5, min_samples_split=20, min_samples_leaf=10, score=0.0, total=   0.6s\n",
      "[Parallel(n_jobs=1)]: Done 292 out of 292 | elapsed: 12.2min remaining:    0.0s\n",
      "[CV] criterion=gini, bootstrap=True, n_estimators=100, max_features=20, class_weight=None, max_depth=5, min_samples_split=20, min_samples_leaf=10 \n"
     ]
    },
    {
     "name": "stderr",
     "output_type": "stream",
     "text": [
      "C:\\Users\\dell\\AppData\\Local\\conda\\conda\\envs\\tensorflow\\lib\\site-packages\\sklearn\\metrics\\classification.py:1135: UndefinedMetricWarning: F-score is ill-defined and being set to 0.0 due to no predicted samples.\n",
      "  'precision', 'predicted', average, warn_for)\n",
      "C:\\Users\\dell\\AppData\\Local\\conda\\conda\\envs\\tensorflow\\lib\\site-packages\\sklearn\\metrics\\classification.py:1135: UndefinedMetricWarning: F-score is ill-defined and being set to 0.0 due to no predicted samples.\n",
      "  'precision', 'predicted', average, warn_for)\n"
     ]
    },
    {
     "name": "stdout",
     "output_type": "stream",
     "text": [
      "[CV]  criterion=gini, bootstrap=True, n_estimators=100, max_features=20, class_weight=None, max_depth=5, min_samples_split=20, min_samples_leaf=10, score=0.0, total=   0.6s\n",
      "[Parallel(n_jobs=1)]: Done 293 out of 293 | elapsed: 12.3min remaining:    0.0s\n",
      "[CV] criterion=gini, bootstrap=True, n_estimators=100, max_features=20, class_weight=None, max_depth=5, min_samples_split=20, min_samples_leaf=10 \n"
     ]
    },
    {
     "name": "stderr",
     "output_type": "stream",
     "text": [
      "C:\\Users\\dell\\AppData\\Local\\conda\\conda\\envs\\tensorflow\\lib\\site-packages\\sklearn\\metrics\\classification.py:1135: UndefinedMetricWarning: F-score is ill-defined and being set to 0.0 due to no predicted samples.\n",
      "  'precision', 'predicted', average, warn_for)\n",
      "C:\\Users\\dell\\AppData\\Local\\conda\\conda\\envs\\tensorflow\\lib\\site-packages\\sklearn\\metrics\\classification.py:1135: UndefinedMetricWarning: F-score is ill-defined and being set to 0.0 due to no predicted samples.\n",
      "  'precision', 'predicted', average, warn_for)\n"
     ]
    },
    {
     "name": "stdout",
     "output_type": "stream",
     "text": [
      "[CV]  criterion=gini, bootstrap=True, n_estimators=100, max_features=20, class_weight=None, max_depth=5, min_samples_split=20, min_samples_leaf=10, score=0.0, total=   0.6s\n",
      "[Parallel(n_jobs=1)]: Done 294 out of 294 | elapsed: 12.3min remaining:    0.0s\n",
      "[CV] criterion=gini, bootstrap=True, n_estimators=100, max_features=20, class_weight=None, max_depth=5, min_samples_split=20, min_samples_leaf=10 \n"
     ]
    },
    {
     "name": "stderr",
     "output_type": "stream",
     "text": [
      "C:\\Users\\dell\\AppData\\Local\\conda\\conda\\envs\\tensorflow\\lib\\site-packages\\sklearn\\metrics\\classification.py:1135: UndefinedMetricWarning: F-score is ill-defined and being set to 0.0 due to no predicted samples.\n",
      "  'precision', 'predicted', average, warn_for)\n",
      "C:\\Users\\dell\\AppData\\Local\\conda\\conda\\envs\\tensorflow\\lib\\site-packages\\sklearn\\metrics\\classification.py:1135: UndefinedMetricWarning: F-score is ill-defined and being set to 0.0 due to no predicted samples.\n",
      "  'precision', 'predicted', average, warn_for)\n"
     ]
    },
    {
     "name": "stdout",
     "output_type": "stream",
     "text": [
      "[CV]  criterion=gini, bootstrap=True, n_estimators=100, max_features=20, class_weight=None, max_depth=5, min_samples_split=20, min_samples_leaf=10, score=0.0, total=   0.6s\n",
      "[Parallel(n_jobs=1)]: Done 295 out of 295 | elapsed: 12.3min remaining:    0.0s\n",
      "[CV] criterion=gini, bootstrap=True, n_estimators=100, max_features=20, class_weight=None, max_depth=5, min_samples_split=20, min_samples_leaf=10 \n"
     ]
    },
    {
     "name": "stderr",
     "output_type": "stream",
     "text": [
      "C:\\Users\\dell\\AppData\\Local\\conda\\conda\\envs\\tensorflow\\lib\\site-packages\\sklearn\\metrics\\classification.py:1135: UndefinedMetricWarning: F-score is ill-defined and being set to 0.0 due to no predicted samples.\n",
      "  'precision', 'predicted', average, warn_for)\n",
      "C:\\Users\\dell\\AppData\\Local\\conda\\conda\\envs\\tensorflow\\lib\\site-packages\\sklearn\\metrics\\classification.py:1135: UndefinedMetricWarning: F-score is ill-defined and being set to 0.0 due to no predicted samples.\n",
      "  'precision', 'predicted', average, warn_for)\n"
     ]
    },
    {
     "name": "stdout",
     "output_type": "stream",
     "text": [
      "[CV]  criterion=gini, bootstrap=True, n_estimators=100, max_features=20, class_weight=None, max_depth=5, min_samples_split=20, min_samples_leaf=10, score=0.0, total=   0.6s\n",
      "[Parallel(n_jobs=1)]: Done 296 out of 296 | elapsed: 12.3min remaining:    0.0s\n",
      "[CV] criterion=gini, bootstrap=True, n_estimators=100, max_features=20, class_weight=None, max_depth=5, min_samples_split=20, min_samples_leaf=10 \n"
     ]
    },
    {
     "name": "stderr",
     "output_type": "stream",
     "text": [
      "C:\\Users\\dell\\AppData\\Local\\conda\\conda\\envs\\tensorflow\\lib\\site-packages\\sklearn\\metrics\\classification.py:1135: UndefinedMetricWarning: F-score is ill-defined and being set to 0.0 due to no predicted samples.\n",
      "  'precision', 'predicted', average, warn_for)\n",
      "C:\\Users\\dell\\AppData\\Local\\conda\\conda\\envs\\tensorflow\\lib\\site-packages\\sklearn\\metrics\\classification.py:1135: UndefinedMetricWarning: F-score is ill-defined and being set to 0.0 due to no predicted samples.\n",
      "  'precision', 'predicted', average, warn_for)\n"
     ]
    },
    {
     "name": "stdout",
     "output_type": "stream",
     "text": [
      "[CV]  criterion=gini, bootstrap=True, n_estimators=100, max_features=20, class_weight=None, max_depth=5, min_samples_split=20, min_samples_leaf=10, score=0.0, total=   1.0s\n",
      "[Parallel(n_jobs=1)]: Done 297 out of 297 | elapsed: 12.3min remaining:    0.0s\n",
      "[CV] criterion=gini, bootstrap=True, n_estimators=100, max_features=20, class_weight=None, max_depth=5, min_samples_split=20, min_samples_leaf=10 \n"
     ]
    },
    {
     "name": "stderr",
     "output_type": "stream",
     "text": [
      "C:\\Users\\dell\\AppData\\Local\\conda\\conda\\envs\\tensorflow\\lib\\site-packages\\sklearn\\metrics\\classification.py:1135: UndefinedMetricWarning: F-score is ill-defined and being set to 0.0 due to no predicted samples.\n",
      "  'precision', 'predicted', average, warn_for)\n",
      "C:\\Users\\dell\\AppData\\Local\\conda\\conda\\envs\\tensorflow\\lib\\site-packages\\sklearn\\metrics\\classification.py:1135: UndefinedMetricWarning: F-score is ill-defined and being set to 0.0 due to no predicted samples.\n",
      "  'precision', 'predicted', average, warn_for)\n"
     ]
    },
    {
     "name": "stdout",
     "output_type": "stream",
     "text": [
      "[CV]  criterion=gini, bootstrap=True, n_estimators=100, max_features=20, class_weight=None, max_depth=5, min_samples_split=20, min_samples_leaf=10, score=0.0, total=   0.8s\n",
      "[Parallel(n_jobs=1)]: Done 298 out of 298 | elapsed: 12.3min remaining:    0.0s\n",
      "[CV] criterion=gini, bootstrap=True, n_estimators=100, max_features=20, class_weight=None, max_depth=5, min_samples_split=20, min_samples_leaf=10 \n"
     ]
    },
    {
     "name": "stderr",
     "output_type": "stream",
     "text": [
      "C:\\Users\\dell\\AppData\\Local\\conda\\conda\\envs\\tensorflow\\lib\\site-packages\\sklearn\\metrics\\classification.py:1135: UndefinedMetricWarning: F-score is ill-defined and being set to 0.0 due to no predicted samples.\n",
      "  'precision', 'predicted', average, warn_for)\n",
      "C:\\Users\\dell\\AppData\\Local\\conda\\conda\\envs\\tensorflow\\lib\\site-packages\\sklearn\\metrics\\classification.py:1135: UndefinedMetricWarning: F-score is ill-defined and being set to 0.0 due to no predicted samples.\n",
      "  'precision', 'predicted', average, warn_for)\n"
     ]
    },
    {
     "name": "stdout",
     "output_type": "stream",
     "text": [
      "[CV]  criterion=gini, bootstrap=True, n_estimators=100, max_features=20, class_weight=None, max_depth=5, min_samples_split=20, min_samples_leaf=10, score=0.0, total=   0.9s\n",
      "[Parallel(n_jobs=1)]: Done 299 out of 299 | elapsed: 12.4min remaining:    0.0s\n",
      "[CV] criterion=gini, bootstrap=True, n_estimators=100, max_features=20, class_weight=None, max_depth=5, min_samples_split=20, min_samples_leaf=10 \n"
     ]
    },
    {
     "name": "stderr",
     "output_type": "stream",
     "text": [
      "C:\\Users\\dell\\AppData\\Local\\conda\\conda\\envs\\tensorflow\\lib\\site-packages\\sklearn\\metrics\\classification.py:1135: UndefinedMetricWarning: F-score is ill-defined and being set to 0.0 due to no predicted samples.\n",
      "  'precision', 'predicted', average, warn_for)\n",
      "C:\\Users\\dell\\AppData\\Local\\conda\\conda\\envs\\tensorflow\\lib\\site-packages\\sklearn\\metrics\\classification.py:1135: UndefinedMetricWarning: F-score is ill-defined and being set to 0.0 due to no predicted samples.\n",
      "  'precision', 'predicted', average, warn_for)\n"
     ]
    },
    {
     "name": "stdout",
     "output_type": "stream",
     "text": [
      "[CV]  criterion=gini, bootstrap=True, n_estimators=100, max_features=20, class_weight=None, max_depth=5, min_samples_split=20, min_samples_leaf=10, score=0.0, total=   0.9s\n",
      "[Parallel(n_jobs=1)]: Done 300 out of 300 | elapsed: 12.4min remaining:    0.0s\n",
      "[CV] criterion=gini, bootstrap=False, n_estimators=300, max_features=20, class_weight=balanced, max_depth=5, min_samples_split=15, min_samples_leaf=10 \n",
      "[CV]  criterion=gini, bootstrap=False, n_estimators=300, max_features=20, class_weight=balanced, max_depth=5, min_samples_split=15, min_samples_leaf=10, score=0.36163522012578614, total=   2.9s\n",
      "[Parallel(n_jobs=1)]: Done 301 out of 301 | elapsed: 12.4min remaining:    0.0s\n",
      "[CV] criterion=gini, bootstrap=False, n_estimators=300, max_features=20, class_weight=balanced, max_depth=5, min_samples_split=15, min_samples_leaf=10 \n",
      "[CV]  criterion=gini, bootstrap=False, n_estimators=300, max_features=20, class_weight=balanced, max_depth=5, min_samples_split=15, min_samples_leaf=10, score=0.40404040404040403, total=   2.6s\n",
      "[Parallel(n_jobs=1)]: Done 302 out of 302 | elapsed: 12.5min remaining:    0.0s\n",
      "[CV] criterion=gini, bootstrap=False, n_estimators=300, max_features=20, class_weight=balanced, max_depth=5, min_samples_split=15, min_samples_leaf=10 \n",
      "[CV]  criterion=gini, bootstrap=False, n_estimators=300, max_features=20, class_weight=balanced, max_depth=5, min_samples_split=15, min_samples_leaf=10, score=0.34653465346534656, total=   2.5s\n",
      "[Parallel(n_jobs=1)]: Done 303 out of 303 | elapsed: 12.5min remaining:    0.0s\n",
      "[CV] criterion=gini, bootstrap=False, n_estimators=300, max_features=20, class_weight=balanced, max_depth=5, min_samples_split=15, min_samples_leaf=10 \n",
      "[CV]  criterion=gini, bootstrap=False, n_estimators=300, max_features=20, class_weight=balanced, max_depth=5, min_samples_split=15, min_samples_leaf=10, score=0.3094462540716612, total=   2.6s\n",
      "[Parallel(n_jobs=1)]: Done 304 out of 304 | elapsed: 12.6min remaining:    0.0s\n",
      "[CV] criterion=gini, bootstrap=False, n_estimators=300, max_features=20, class_weight=balanced, max_depth=5, min_samples_split=15, min_samples_leaf=10 \n",
      "[CV]  criterion=gini, bootstrap=False, n_estimators=300, max_features=20, class_weight=balanced, max_depth=5, min_samples_split=15, min_samples_leaf=10, score=0.3833333333333333, total=   3.4s\n",
      "[Parallel(n_jobs=1)]: Done 305 out of 305 | elapsed: 12.6min remaining:    0.0s\n",
      "[CV] criterion=gini, bootstrap=False, n_estimators=300, max_features=20, class_weight=balanced, max_depth=5, min_samples_split=15, min_samples_leaf=10 \n",
      "[CV]  criterion=gini, bootstrap=False, n_estimators=300, max_features=20, class_weight=balanced, max_depth=5, min_samples_split=15, min_samples_leaf=10, score=0.37337662337662336, total=   2.7s\n",
      "[Parallel(n_jobs=1)]: Done 306 out of 306 | elapsed: 12.7min remaining:    0.0s\n",
      "[CV] criterion=gini, bootstrap=False, n_estimators=300, max_features=20, class_weight=balanced, max_depth=5, min_samples_split=15, min_samples_leaf=10 \n",
      "[CV]  criterion=gini, bootstrap=False, n_estimators=300, max_features=20, class_weight=balanced, max_depth=5, min_samples_split=15, min_samples_leaf=10, score=0.37216828478964403, total=   2.5s\n",
      "[Parallel(n_jobs=1)]: Done 307 out of 307 | elapsed: 12.7min remaining:    0.0s\n",
      "[CV] criterion=gini, bootstrap=False, n_estimators=300, max_features=20, class_weight=balanced, max_depth=5, min_samples_split=15, min_samples_leaf=10 \n",
      "[CV]  criterion=gini, bootstrap=False, n_estimators=300, max_features=20, class_weight=balanced, max_depth=5, min_samples_split=15, min_samples_leaf=10, score=0.3322259136212624, total=   2.5s\n",
      "[Parallel(n_jobs=1)]: Done 308 out of 308 | elapsed: 12.8min remaining:    0.0s\n",
      "[CV] criterion=gini, bootstrap=False, n_estimators=300, max_features=20, class_weight=balanced, max_depth=5, min_samples_split=15, min_samples_leaf=10 \n",
      "[CV]  criterion=gini, bootstrap=False, n_estimators=300, max_features=20, class_weight=balanced, max_depth=5, min_samples_split=15, min_samples_leaf=10, score=0.36585365853658536, total=   2.6s\n",
      "[Parallel(n_jobs=1)]: Done 309 out of 309 | elapsed: 12.8min remaining:    0.0s\n",
      "[CV] criterion=gini, bootstrap=False, n_estimators=300, max_features=20, class_weight=balanced, max_depth=5, min_samples_split=15, min_samples_leaf=10 \n",
      "[CV]  criterion=gini, bootstrap=False, n_estimators=300, max_features=20, class_weight=balanced, max_depth=5, min_samples_split=15, min_samples_leaf=10, score=0.4426229508196721, total=   3.2s\n",
      "[Parallel(n_jobs=1)]: Done 310 out of 310 | elapsed: 12.9min remaining:    0.0s\n",
      "[CV] criterion=entropy, bootstrap=False, n_estimators=300, max_features=25, class_weight=balanced, max_depth=15, min_samples_split=20, min_samples_leaf=10 \n",
      "[CV]  criterion=entropy, bootstrap=False, n_estimators=300, max_features=25, class_weight=balanced, max_depth=15, min_samples_split=20, min_samples_leaf=10, score=0.26785714285714285, total=   6.5s\n",
      "[Parallel(n_jobs=1)]: Done 311 out of 311 | elapsed: 13.0min remaining:    0.0s\n",
      "[CV] criterion=entropy, bootstrap=False, n_estimators=300, max_features=25, class_weight=balanced, max_depth=15, min_samples_split=20, min_samples_leaf=10 \n",
      "[CV]  criterion=entropy, bootstrap=False, n_estimators=300, max_features=25, class_weight=balanced, max_depth=15, min_samples_split=20, min_samples_leaf=10, score=0.2644230769230769, total=   6.6s\n",
      "[Parallel(n_jobs=1)]: Done 312 out of 312 | elapsed: 13.1min remaining:    0.0s\n",
      "[CV] criterion=entropy, bootstrap=False, n_estimators=300, max_features=25, class_weight=balanced, max_depth=15, min_samples_split=20, min_samples_leaf=10 \n",
      "[CV]  criterion=entropy, bootstrap=False, n_estimators=300, max_features=25, class_weight=balanced, max_depth=15, min_samples_split=20, min_samples_leaf=10, score=0.3110047846889952, total=   7.1s\n",
      "[Parallel(n_jobs=1)]: Done 313 out of 313 | elapsed: 13.3min remaining:    0.0s\n",
      "[CV] criterion=entropy, bootstrap=False, n_estimators=300, max_features=25, class_weight=balanced, max_depth=15, min_samples_split=20, min_samples_leaf=10 \n",
      "[CV]  criterion=entropy, bootstrap=False, n_estimators=300, max_features=25, class_weight=balanced, max_depth=15, min_samples_split=20, min_samples_leaf=10, score=0.26785714285714285, total=   6.7s\n",
      "[Parallel(n_jobs=1)]: Done 314 out of 314 | elapsed: 13.4min remaining:    0.0s\n",
      "[CV] criterion=entropy, bootstrap=False, n_estimators=300, max_features=25, class_weight=balanced, max_depth=15, min_samples_split=20, min_samples_leaf=10 \n",
      "[CV]  criterion=entropy, bootstrap=False, n_estimators=300, max_features=25, class_weight=balanced, max_depth=15, min_samples_split=20, min_samples_leaf=10, score=0.3738317757009346, total=   7.5s\n",
      "[Parallel(n_jobs=1)]: Done 315 out of 315 | elapsed: 13.5min remaining:    0.0s\n",
      "[CV] criterion=entropy, bootstrap=False, n_estimators=300, max_features=25, class_weight=balanced, max_depth=15, min_samples_split=20, min_samples_leaf=10 \n",
      "[CV]  criterion=entropy, bootstrap=False, n_estimators=300, max_features=25, class_weight=balanced, max_depth=15, min_samples_split=20, min_samples_leaf=10, score=0.2558139534883721, total=   6.1s\n",
      "[Parallel(n_jobs=1)]: Done 316 out of 316 | elapsed: 13.6min remaining:    0.0s\n",
      "[CV] criterion=entropy, bootstrap=False, n_estimators=300, max_features=25, class_weight=balanced, max_depth=15, min_samples_split=20, min_samples_leaf=10 \n",
      "[CV]  criterion=entropy, bootstrap=False, n_estimators=300, max_features=25, class_weight=balanced, max_depth=15, min_samples_split=20, min_samples_leaf=10, score=0.2995391705069124, total=   7.5s\n",
      "[Parallel(n_jobs=1)]: Done 317 out of 317 | elapsed: 13.8min remaining:    0.0s\n",
      "[CV] criterion=entropy, bootstrap=False, n_estimators=300, max_features=25, class_weight=balanced, max_depth=15, min_samples_split=20, min_samples_leaf=10 \n",
      "[CV]  criterion=entropy, bootstrap=False, n_estimators=300, max_features=25, class_weight=balanced, max_depth=15, min_samples_split=20, min_samples_leaf=10, score=0.20454545454545456, total=   6.1s\n",
      "[Parallel(n_jobs=1)]: Done 318 out of 318 | elapsed: 13.9min remaining:    0.0s\n",
      "[CV] criterion=entropy, bootstrap=False, n_estimators=300, max_features=25, class_weight=balanced, max_depth=15, min_samples_split=20, min_samples_leaf=10 \n",
      "[CV]  criterion=entropy, bootstrap=False, n_estimators=300, max_features=25, class_weight=balanced, max_depth=15, min_samples_split=20, min_samples_leaf=10, score=0.36057692307692313, total=   7.5s\n",
      "[Parallel(n_jobs=1)]: Done 319 out of 319 | elapsed: 14.0min remaining:    0.0s\n",
      "[CV] criterion=entropy, bootstrap=False, n_estimators=300, max_features=25, class_weight=balanced, max_depth=15, min_samples_split=20, min_samples_leaf=10 \n"
     ]
    },
    {
     "name": "stdout",
     "output_type": "stream",
     "text": [
      "[CV]  criterion=entropy, bootstrap=False, n_estimators=300, max_features=25, class_weight=balanced, max_depth=15, min_samples_split=20, min_samples_leaf=10, score=0.40669856459330145, total=   6.2s\n",
      "[Parallel(n_jobs=1)]: Done 320 out of 320 | elapsed: 14.1min remaining:    0.0s\n",
      "[CV] criterion=entropy, bootstrap=False, n_estimators=100, max_features=5, class_weight=balanced, max_depth=15, min_samples_split=15, min_samples_leaf=15 \n",
      "[CV]  criterion=entropy, bootstrap=False, n_estimators=100, max_features=5, class_weight=balanced, max_depth=15, min_samples_split=15, min_samples_leaf=15, score=0.2851711026615969, total=   0.7s\n",
      "[Parallel(n_jobs=1)]: Done 321 out of 321 | elapsed: 14.1min remaining:    0.0s\n",
      "[CV] criterion=entropy, bootstrap=False, n_estimators=100, max_features=5, class_weight=balanced, max_depth=15, min_samples_split=15, min_samples_leaf=15 \n",
      "[CV]  criterion=entropy, bootstrap=False, n_estimators=100, max_features=5, class_weight=balanced, max_depth=15, min_samples_split=15, min_samples_leaf=15, score=0.3784860557768924, total=   0.6s\n",
      "[Parallel(n_jobs=1)]: Done 322 out of 322 | elapsed: 14.2min remaining:    0.0s\n",
      "[CV] criterion=entropy, bootstrap=False, n_estimators=100, max_features=5, class_weight=balanced, max_depth=15, min_samples_split=15, min_samples_leaf=15 \n",
      "[CV]  criterion=entropy, bootstrap=False, n_estimators=100, max_features=5, class_weight=balanced, max_depth=15, min_samples_split=15, min_samples_leaf=15, score=0.30991735537190085, total=   0.7s\n",
      "[Parallel(n_jobs=1)]: Done 323 out of 323 | elapsed: 14.2min remaining:    0.0s\n",
      "[CV] criterion=entropy, bootstrap=False, n_estimators=100, max_features=5, class_weight=balanced, max_depth=15, min_samples_split=15, min_samples_leaf=15 \n",
      "[CV]  criterion=entropy, bootstrap=False, n_estimators=100, max_features=5, class_weight=balanced, max_depth=15, min_samples_split=15, min_samples_leaf=15, score=0.3256704980842912, total=   0.9s\n",
      "[Parallel(n_jobs=1)]: Done 324 out of 324 | elapsed: 14.2min remaining:    0.0s\n",
      "[CV] criterion=entropy, bootstrap=False, n_estimators=100, max_features=5, class_weight=balanced, max_depth=15, min_samples_split=15, min_samples_leaf=15 \n",
      "[CV]  criterion=entropy, bootstrap=False, n_estimators=100, max_features=5, class_weight=balanced, max_depth=15, min_samples_split=15, min_samples_leaf=15, score=0.3877551020408163, total=   0.9s\n",
      "[Parallel(n_jobs=1)]: Done 325 out of 325 | elapsed: 14.2min remaining:    0.0s\n",
      "[CV] criterion=entropy, bootstrap=False, n_estimators=100, max_features=5, class_weight=balanced, max_depth=15, min_samples_split=15, min_samples_leaf=15 \n",
      "[CV]  criterion=entropy, bootstrap=False, n_estimators=100, max_features=5, class_weight=balanced, max_depth=15, min_samples_split=15, min_samples_leaf=15, score=0.30991735537190085, total=   0.9s\n",
      "[Parallel(n_jobs=1)]: Done 326 out of 326 | elapsed: 14.2min remaining:    0.0s\n",
      "[CV] criterion=entropy, bootstrap=False, n_estimators=100, max_features=5, class_weight=balanced, max_depth=15, min_samples_split=15, min_samples_leaf=15 \n",
      "[CV]  criterion=entropy, bootstrap=False, n_estimators=100, max_features=5, class_weight=balanced, max_depth=15, min_samples_split=15, min_samples_leaf=15, score=0.34136546184738953, total=   0.9s\n",
      "[Parallel(n_jobs=1)]: Done 327 out of 327 | elapsed: 14.3min remaining:    0.0s\n",
      "[CV] criterion=entropy, bootstrap=False, n_estimators=100, max_features=5, class_weight=balanced, max_depth=15, min_samples_split=15, min_samples_leaf=15 \n",
      "[CV]  criterion=entropy, bootstrap=False, n_estimators=100, max_features=5, class_weight=balanced, max_depth=15, min_samples_split=15, min_samples_leaf=15, score=0.22177419354838707, total=   0.8s\n",
      "[Parallel(n_jobs=1)]: Done 328 out of 328 | elapsed: 14.3min remaining:    0.0s\n",
      "[CV] criterion=entropy, bootstrap=False, n_estimators=100, max_features=5, class_weight=balanced, max_depth=15, min_samples_split=15, min_samples_leaf=15 \n",
      "[CV]  criterion=entropy, bootstrap=False, n_estimators=100, max_features=5, class_weight=balanced, max_depth=15, min_samples_split=15, min_samples_leaf=15, score=0.35714285714285715, total=   0.7s\n",
      "[Parallel(n_jobs=1)]: Done 329 out of 329 | elapsed: 14.3min remaining:    0.0s\n",
      "[CV] criterion=entropy, bootstrap=False, n_estimators=100, max_features=5, class_weight=balanced, max_depth=15, min_samples_split=15, min_samples_leaf=15 \n",
      "[CV]  criterion=entropy, bootstrap=False, n_estimators=100, max_features=5, class_weight=balanced, max_depth=15, min_samples_split=15, min_samples_leaf=15, score=0.42194092827004226, total=   0.7s\n",
      "[Parallel(n_jobs=1)]: Done 330 out of 330 | elapsed: 14.3min remaining:    0.0s\n",
      "[CV] criterion=gini, bootstrap=True, n_estimators=300, max_features=10, class_weight=balanced, max_depth=15, min_samples_split=20, min_samples_leaf=10 \n",
      "[CV]  criterion=gini, bootstrap=True, n_estimators=300, max_features=10, class_weight=balanced, max_depth=15, min_samples_split=20, min_samples_leaf=10, score=0.27522935779816515, total=   2.3s\n",
      "[Parallel(n_jobs=1)]: Done 331 out of 331 | elapsed: 14.4min remaining:    0.0s\n",
      "[CV] criterion=gini, bootstrap=True, n_estimators=300, max_features=10, class_weight=balanced, max_depth=15, min_samples_split=20, min_samples_leaf=10 \n",
      "[CV]  criterion=gini, bootstrap=True, n_estimators=300, max_features=10, class_weight=balanced, max_depth=15, min_samples_split=20, min_samples_leaf=10, score=0.25510204081632654, total=   2.3s\n",
      "[Parallel(n_jobs=1)]: Done 332 out of 332 | elapsed: 14.4min remaining:    0.0s\n",
      "[CV] criterion=gini, bootstrap=True, n_estimators=300, max_features=10, class_weight=balanced, max_depth=15, min_samples_split=20, min_samples_leaf=10 \n",
      "[CV]  criterion=gini, bootstrap=True, n_estimators=300, max_features=10, class_weight=balanced, max_depth=15, min_samples_split=20, min_samples_leaf=10, score=0.26315789473684204, total=   2.4s\n",
      "[Parallel(n_jobs=1)]: Done 333 out of 333 | elapsed: 14.5min remaining:    0.0s\n",
      "[CV] criterion=gini, bootstrap=True, n_estimators=300, max_features=10, class_weight=balanced, max_depth=15, min_samples_split=20, min_samples_leaf=10 \n",
      "[CV]  criterion=gini, bootstrap=True, n_estimators=300, max_features=10, class_weight=balanced, max_depth=15, min_samples_split=20, min_samples_leaf=10, score=0.21739130434782605, total=   3.1s\n",
      "[Parallel(n_jobs=1)]: Done 334 out of 334 | elapsed: 14.5min remaining:    0.0s\n",
      "[CV] criterion=gini, bootstrap=True, n_estimators=300, max_features=10, class_weight=balanced, max_depth=15, min_samples_split=20, min_samples_leaf=10 \n",
      "[CV]  criterion=gini, bootstrap=True, n_estimators=300, max_features=10, class_weight=balanced, max_depth=15, min_samples_split=20, min_samples_leaf=10, score=0.39603960396039606, total=   2.5s\n",
      "[Parallel(n_jobs=1)]: Done 335 out of 335 | elapsed: 14.6min remaining:    0.0s\n",
      "[CV] criterion=gini, bootstrap=True, n_estimators=300, max_features=10, class_weight=balanced, max_depth=15, min_samples_split=20, min_samples_leaf=10 \n",
      "[CV]  criterion=gini, bootstrap=True, n_estimators=300, max_features=10, class_weight=balanced, max_depth=15, min_samples_split=20, min_samples_leaf=10, score=0.27638190954773867, total=   2.3s\n",
      "[Parallel(n_jobs=1)]: Done 336 out of 336 | elapsed: 14.6min remaining:    0.0s\n",
      "[CV] criterion=gini, bootstrap=True, n_estimators=300, max_features=10, class_weight=balanced, max_depth=15, min_samples_split=20, min_samples_leaf=10 \n",
      "[CV]  criterion=gini, bootstrap=True, n_estimators=300, max_features=10, class_weight=balanced, max_depth=15, min_samples_split=20, min_samples_leaf=10, score=0.2696078431372549, total=   2.3s\n",
      "[Parallel(n_jobs=1)]: Done 337 out of 337 | elapsed: 14.7min remaining:    0.0s\n",
      "[CV] criterion=gini, bootstrap=True, n_estimators=300, max_features=10, class_weight=balanced, max_depth=15, min_samples_split=20, min_samples_leaf=10 \n",
      "[CV]  criterion=gini, bootstrap=True, n_estimators=300, max_features=10, class_weight=balanced, max_depth=15, min_samples_split=20, min_samples_leaf=10, score=0.17326732673267325, total=   2.3s\n",
      "[Parallel(n_jobs=1)]: Done 338 out of 338 | elapsed: 14.7min remaining:    0.0s\n",
      "[CV] criterion=gini, bootstrap=True, n_estimators=300, max_features=10, class_weight=balanced, max_depth=15, min_samples_split=20, min_samples_leaf=10 \n",
      "[CV]  criterion=gini, bootstrap=True, n_estimators=300, max_features=10, class_weight=balanced, max_depth=15, min_samples_split=20, min_samples_leaf=10, score=0.3589743589743589, total=   3.2s\n",
      "[Parallel(n_jobs=1)]: Done 339 out of 339 | elapsed: 14.8min remaining:    0.0s\n",
      "[CV] criterion=gini, bootstrap=True, n_estimators=300, max_features=10, class_weight=balanced, max_depth=15, min_samples_split=20, min_samples_leaf=10 \n"
     ]
    },
    {
     "name": "stdout",
     "output_type": "stream",
     "text": [
      "[CV]  criterion=gini, bootstrap=True, n_estimators=300, max_features=10, class_weight=balanced, max_depth=15, min_samples_split=20, min_samples_leaf=10, score=0.37634408602150543, total=   2.7s\n",
      "[Parallel(n_jobs=1)]: Done 340 out of 340 | elapsed: 14.8min remaining:    0.0s\n",
      "[CV] criterion=gini, bootstrap=False, n_estimators=200, max_features=20, class_weight=None, max_depth=None, min_samples_split=20, min_samples_leaf=20 \n"
     ]
    },
    {
     "name": "stderr",
     "output_type": "stream",
     "text": [
      "C:\\Users\\dell\\AppData\\Local\\conda\\conda\\envs\\tensorflow\\lib\\site-packages\\sklearn\\metrics\\classification.py:1135: UndefinedMetricWarning: F-score is ill-defined and being set to 0.0 due to no predicted samples.\n",
      "  'precision', 'predicted', average, warn_for)\n",
      "C:\\Users\\dell\\AppData\\Local\\conda\\conda\\envs\\tensorflow\\lib\\site-packages\\sklearn\\metrics\\classification.py:1135: UndefinedMetricWarning: F-score is ill-defined and being set to 0.0 due to no predicted samples.\n",
      "  'precision', 'predicted', average, warn_for)\n"
     ]
    },
    {
     "name": "stdout",
     "output_type": "stream",
     "text": [
      "[CV]  criterion=gini, bootstrap=False, n_estimators=200, max_features=20, class_weight=None, max_depth=None, min_samples_split=20, min_samples_leaf=20, score=0.0, total=   3.7s\n",
      "[Parallel(n_jobs=1)]: Done 341 out of 341 | elapsed: 14.9min remaining:    0.0s\n",
      "[CV] criterion=gini, bootstrap=False, n_estimators=200, max_features=20, class_weight=None, max_depth=None, min_samples_split=20, min_samples_leaf=20 \n"
     ]
    },
    {
     "name": "stderr",
     "output_type": "stream",
     "text": [
      "C:\\Users\\dell\\AppData\\Local\\conda\\conda\\envs\\tensorflow\\lib\\site-packages\\sklearn\\metrics\\classification.py:1135: UndefinedMetricWarning: F-score is ill-defined and being set to 0.0 due to no predicted samples.\n",
      "  'precision', 'predicted', average, warn_for)\n",
      "C:\\Users\\dell\\AppData\\Local\\conda\\conda\\envs\\tensorflow\\lib\\site-packages\\sklearn\\metrics\\classification.py:1135: UndefinedMetricWarning: F-score is ill-defined and being set to 0.0 due to no predicted samples.\n",
      "  'precision', 'predicted', average, warn_for)\n"
     ]
    },
    {
     "name": "stdout",
     "output_type": "stream",
     "text": [
      "[CV]  criterion=gini, bootstrap=False, n_estimators=200, max_features=20, class_weight=None, max_depth=None, min_samples_split=20, min_samples_leaf=20, score=0.0, total=   4.2s\n",
      "[Parallel(n_jobs=1)]: Done 342 out of 342 | elapsed: 15.0min remaining:    0.0s\n",
      "[CV] criterion=gini, bootstrap=False, n_estimators=200, max_features=20, class_weight=None, max_depth=None, min_samples_split=20, min_samples_leaf=20 \n"
     ]
    },
    {
     "name": "stderr",
     "output_type": "stream",
     "text": [
      "C:\\Users\\dell\\AppData\\Local\\conda\\conda\\envs\\tensorflow\\lib\\site-packages\\sklearn\\metrics\\classification.py:1135: UndefinedMetricWarning: F-score is ill-defined and being set to 0.0 due to no predicted samples.\n",
      "  'precision', 'predicted', average, warn_for)\n",
      "C:\\Users\\dell\\AppData\\Local\\conda\\conda\\envs\\tensorflow\\lib\\site-packages\\sklearn\\metrics\\classification.py:1135: UndefinedMetricWarning: F-score is ill-defined and being set to 0.0 due to no predicted samples.\n",
      "  'precision', 'predicted', average, warn_for)\n"
     ]
    },
    {
     "name": "stdout",
     "output_type": "stream",
     "text": [
      "[CV]  criterion=gini, bootstrap=False, n_estimators=200, max_features=20, class_weight=None, max_depth=None, min_samples_split=20, min_samples_leaf=20, score=0.0, total=   5.0s\n",
      "[Parallel(n_jobs=1)]: Done 343 out of 343 | elapsed: 15.1min remaining:    0.0s\n",
      "[CV] criterion=gini, bootstrap=False, n_estimators=200, max_features=20, class_weight=None, max_depth=None, min_samples_split=20, min_samples_leaf=20 \n"
     ]
    },
    {
     "name": "stderr",
     "output_type": "stream",
     "text": [
      "C:\\Users\\dell\\AppData\\Local\\conda\\conda\\envs\\tensorflow\\lib\\site-packages\\sklearn\\metrics\\classification.py:1135: UndefinedMetricWarning: F-score is ill-defined and being set to 0.0 due to no predicted samples.\n",
      "  'precision', 'predicted', average, warn_for)\n",
      "C:\\Users\\dell\\AppData\\Local\\conda\\conda\\envs\\tensorflow\\lib\\site-packages\\sklearn\\metrics\\classification.py:1135: UndefinedMetricWarning: F-score is ill-defined and being set to 0.0 due to no predicted samples.\n",
      "  'precision', 'predicted', average, warn_for)\n"
     ]
    },
    {
     "name": "stdout",
     "output_type": "stream",
     "text": [
      "[CV]  criterion=gini, bootstrap=False, n_estimators=200, max_features=20, class_weight=None, max_depth=None, min_samples_split=20, min_samples_leaf=20, score=0.0, total=   3.6s\n",
      "[Parallel(n_jobs=1)]: Done 344 out of 344 | elapsed: 15.1min remaining:    0.0s\n",
      "[CV] criterion=gini, bootstrap=False, n_estimators=200, max_features=20, class_weight=None, max_depth=None, min_samples_split=20, min_samples_leaf=20 \n"
     ]
    },
    {
     "name": "stderr",
     "output_type": "stream",
     "text": [
      "C:\\Users\\dell\\AppData\\Local\\conda\\conda\\envs\\tensorflow\\lib\\site-packages\\sklearn\\metrics\\classification.py:1135: UndefinedMetricWarning: F-score is ill-defined and being set to 0.0 due to no predicted samples.\n",
      "  'precision', 'predicted', average, warn_for)\n",
      "C:\\Users\\dell\\AppData\\Local\\conda\\conda\\envs\\tensorflow\\lib\\site-packages\\sklearn\\metrics\\classification.py:1135: UndefinedMetricWarning: F-score is ill-defined and being set to 0.0 due to no predicted samples.\n",
      "  'precision', 'predicted', average, warn_for)\n"
     ]
    },
    {
     "name": "stdout",
     "output_type": "stream",
     "text": [
      "[CV]  criterion=gini, bootstrap=False, n_estimators=200, max_features=20, class_weight=None, max_depth=None, min_samples_split=20, min_samples_leaf=20, score=0.0, total=   3.1s\n",
      "[Parallel(n_jobs=1)]: Done 345 out of 345 | elapsed: 15.2min remaining:    0.0s\n",
      "[CV] criterion=gini, bootstrap=False, n_estimators=200, max_features=20, class_weight=None, max_depth=None, min_samples_split=20, min_samples_leaf=20 \n"
     ]
    },
    {
     "name": "stderr",
     "output_type": "stream",
     "text": [
      "C:\\Users\\dell\\AppData\\Local\\conda\\conda\\envs\\tensorflow\\lib\\site-packages\\sklearn\\metrics\\classification.py:1135: UndefinedMetricWarning: F-score is ill-defined and being set to 0.0 due to no predicted samples.\n",
      "  'precision', 'predicted', average, warn_for)\n",
      "C:\\Users\\dell\\AppData\\Local\\conda\\conda\\envs\\tensorflow\\lib\\site-packages\\sklearn\\metrics\\classification.py:1135: UndefinedMetricWarning: F-score is ill-defined and being set to 0.0 due to no predicted samples.\n",
      "  'precision', 'predicted', average, warn_for)\n"
     ]
    },
    {
     "name": "stdout",
     "output_type": "stream",
     "text": [
      "[CV]  criterion=gini, bootstrap=False, n_estimators=200, max_features=20, class_weight=None, max_depth=None, min_samples_split=20, min_samples_leaf=20, score=0.0, total=   3.5s\n",
      "[Parallel(n_jobs=1)]: Done 346 out of 346 | elapsed: 15.3min remaining:    0.0s\n",
      "[CV] criterion=gini, bootstrap=False, n_estimators=200, max_features=20, class_weight=None, max_depth=None, min_samples_split=20, min_samples_leaf=20 \n"
     ]
    },
    {
     "name": "stderr",
     "output_type": "stream",
     "text": [
      "C:\\Users\\dell\\AppData\\Local\\conda\\conda\\envs\\tensorflow\\lib\\site-packages\\sklearn\\metrics\\classification.py:1135: UndefinedMetricWarning: F-score is ill-defined and being set to 0.0 due to no predicted samples.\n",
      "  'precision', 'predicted', average, warn_for)\n",
      "C:\\Users\\dell\\AppData\\Local\\conda\\conda\\envs\\tensorflow\\lib\\site-packages\\sklearn\\metrics\\classification.py:1135: UndefinedMetricWarning: F-score is ill-defined and being set to 0.0 due to no predicted samples.\n",
      "  'precision', 'predicted', average, warn_for)\n"
     ]
    },
    {
     "name": "stdout",
     "output_type": "stream",
     "text": [
      "[CV]  criterion=gini, bootstrap=False, n_estimators=200, max_features=20, class_weight=None, max_depth=None, min_samples_split=20, min_samples_leaf=20, score=0.0, total=   3.9s\n",
      "[Parallel(n_jobs=1)]: Done 347 out of 347 | elapsed: 15.3min remaining:    0.0s\n",
      "[CV] criterion=gini, bootstrap=False, n_estimators=200, max_features=20, class_weight=None, max_depth=None, min_samples_split=20, min_samples_leaf=20 \n"
     ]
    },
    {
     "name": "stderr",
     "output_type": "stream",
     "text": [
      "C:\\Users\\dell\\AppData\\Local\\conda\\conda\\envs\\tensorflow\\lib\\site-packages\\sklearn\\metrics\\classification.py:1135: UndefinedMetricWarning: F-score is ill-defined and being set to 0.0 due to no predicted samples.\n",
      "  'precision', 'predicted', average, warn_for)\n",
      "C:\\Users\\dell\\AppData\\Local\\conda\\conda\\envs\\tensorflow\\lib\\site-packages\\sklearn\\metrics\\classification.py:1135: UndefinedMetricWarning: F-score is ill-defined and being set to 0.0 due to no predicted samples.\n",
      "  'precision', 'predicted', average, warn_for)\n"
     ]
    },
    {
     "name": "stdout",
     "output_type": "stream",
     "text": [
      "[CV]  criterion=gini, bootstrap=False, n_estimators=200, max_features=20, class_weight=None, max_depth=None, min_samples_split=20, min_samples_leaf=20, score=0.0, total=   3.1s\n",
      "[Parallel(n_jobs=1)]: Done 348 out of 348 | elapsed: 15.4min remaining:    0.0s\n",
      "[CV] criterion=gini, bootstrap=False, n_estimators=200, max_features=20, class_weight=None, max_depth=None, min_samples_split=20, min_samples_leaf=20 \n"
     ]
    },
    {
     "name": "stderr",
     "output_type": "stream",
     "text": [
      "C:\\Users\\dell\\AppData\\Local\\conda\\conda\\envs\\tensorflow\\lib\\site-packages\\sklearn\\metrics\\classification.py:1135: UndefinedMetricWarning: F-score is ill-defined and being set to 0.0 due to no predicted samples.\n",
      "  'precision', 'predicted', average, warn_for)\n",
      "C:\\Users\\dell\\AppData\\Local\\conda\\conda\\envs\\tensorflow\\lib\\site-packages\\sklearn\\metrics\\classification.py:1135: UndefinedMetricWarning: F-score is ill-defined and being set to 0.0 due to no predicted samples.\n",
      "  'precision', 'predicted', average, warn_for)\n"
     ]
    },
    {
     "name": "stdout",
     "output_type": "stream",
     "text": [
      "[CV]  criterion=gini, bootstrap=False, n_estimators=200, max_features=20, class_weight=None, max_depth=None, min_samples_split=20, min_samples_leaf=20, score=0.0, total=   3.2s\n",
      "[Parallel(n_jobs=1)]: Done 349 out of 349 | elapsed: 15.5min remaining:    0.0s\n",
      "[CV] criterion=gini, bootstrap=False, n_estimators=200, max_features=20, class_weight=None, max_depth=None, min_samples_split=20, min_samples_leaf=20 \n"
     ]
    },
    {
     "name": "stderr",
     "output_type": "stream",
     "text": [
      "C:\\Users\\dell\\AppData\\Local\\conda\\conda\\envs\\tensorflow\\lib\\site-packages\\sklearn\\metrics\\classification.py:1135: UndefinedMetricWarning: F-score is ill-defined and being set to 0.0 due to no predicted samples.\n",
      "  'precision', 'predicted', average, warn_for)\n",
      "C:\\Users\\dell\\AppData\\Local\\conda\\conda\\envs\\tensorflow\\lib\\site-packages\\sklearn\\metrics\\classification.py:1135: UndefinedMetricWarning: F-score is ill-defined and being set to 0.0 due to no predicted samples.\n",
      "  'precision', 'predicted', average, warn_for)\n"
     ]
    },
    {
     "name": "stdout",
     "output_type": "stream",
     "text": [
      "[CV]  criterion=gini, bootstrap=False, n_estimators=200, max_features=20, class_weight=None, max_depth=None, min_samples_split=20, min_samples_leaf=20, score=0.0, total=   3.4s\n",
      "[Parallel(n_jobs=1)]: Done 350 out of 350 | elapsed: 15.5min remaining:    0.0s\n",
      "[CV] criterion=entropy, bootstrap=False, n_estimators=100, max_features=5, class_weight=None, max_depth=5, min_samples_split=10, min_samples_leaf=15 \n"
     ]
    },
    {
     "name": "stderr",
     "output_type": "stream",
     "text": [
      "C:\\Users\\dell\\AppData\\Local\\conda\\conda\\envs\\tensorflow\\lib\\site-packages\\sklearn\\metrics\\classification.py:1135: UndefinedMetricWarning: F-score is ill-defined and being set to 0.0 due to no predicted samples.\n",
      "  'precision', 'predicted', average, warn_for)\n",
      "C:\\Users\\dell\\AppData\\Local\\conda\\conda\\envs\\tensorflow\\lib\\site-packages\\sklearn\\metrics\\classification.py:1135: UndefinedMetricWarning: F-score is ill-defined and being set to 0.0 due to no predicted samples.\n",
      "  'precision', 'predicted', average, warn_for)\n"
     ]
    },
    {
     "name": "stdout",
     "output_type": "stream",
     "text": [
      "[CV]  criterion=entropy, bootstrap=False, n_estimators=100, max_features=5, class_weight=None, max_depth=5, min_samples_split=10, min_samples_leaf=15, score=0.0, total=   0.5s\n",
      "[Parallel(n_jobs=1)]: Done 351 out of 351 | elapsed: 15.5min remaining:    0.0s\n",
      "[CV] criterion=entropy, bootstrap=False, n_estimators=100, max_features=5, class_weight=None, max_depth=5, min_samples_split=10, min_samples_leaf=15 \n"
     ]
    },
    {
     "name": "stderr",
     "output_type": "stream",
     "text": [
      "C:\\Users\\dell\\AppData\\Local\\conda\\conda\\envs\\tensorflow\\lib\\site-packages\\sklearn\\metrics\\classification.py:1135: UndefinedMetricWarning: F-score is ill-defined and being set to 0.0 due to no predicted samples.\n",
      "  'precision', 'predicted', average, warn_for)\n",
      "C:\\Users\\dell\\AppData\\Local\\conda\\conda\\envs\\tensorflow\\lib\\site-packages\\sklearn\\metrics\\classification.py:1135: UndefinedMetricWarning: F-score is ill-defined and being set to 0.0 due to no predicted samples.\n",
      "  'precision', 'predicted', average, warn_for)\n"
     ]
    },
    {
     "name": "stdout",
     "output_type": "stream",
     "text": [
      "[CV]  criterion=entropy, bootstrap=False, n_estimators=100, max_features=5, class_weight=None, max_depth=5, min_samples_split=10, min_samples_leaf=15, score=0.0, total=   0.5s\n",
      "[Parallel(n_jobs=1)]: Done 352 out of 352 | elapsed: 15.5min remaining:    0.0s\n",
      "[CV] criterion=entropy, bootstrap=False, n_estimators=100, max_features=5, class_weight=None, max_depth=5, min_samples_split=10, min_samples_leaf=15 \n"
     ]
    },
    {
     "name": "stderr",
     "output_type": "stream",
     "text": [
      "C:\\Users\\dell\\AppData\\Local\\conda\\conda\\envs\\tensorflow\\lib\\site-packages\\sklearn\\metrics\\classification.py:1135: UndefinedMetricWarning: F-score is ill-defined and being set to 0.0 due to no predicted samples.\n",
      "  'precision', 'predicted', average, warn_for)\n",
      "C:\\Users\\dell\\AppData\\Local\\conda\\conda\\envs\\tensorflow\\lib\\site-packages\\sklearn\\metrics\\classification.py:1135: UndefinedMetricWarning: F-score is ill-defined and being set to 0.0 due to no predicted samples.\n",
      "  'precision', 'predicted', average, warn_for)\n"
     ]
    },
    {
     "name": "stdout",
     "output_type": "stream",
     "text": [
      "[CV]  criterion=entropy, bootstrap=False, n_estimators=100, max_features=5, class_weight=None, max_depth=5, min_samples_split=10, min_samples_leaf=15, score=0.0, total=   0.4s\n",
      "[Parallel(n_jobs=1)]: Done 353 out of 353 | elapsed: 15.6min remaining:    0.0s\n",
      "[CV] criterion=entropy, bootstrap=False, n_estimators=100, max_features=5, class_weight=None, max_depth=5, min_samples_split=10, min_samples_leaf=15 \n"
     ]
    },
    {
     "name": "stderr",
     "output_type": "stream",
     "text": [
      "C:\\Users\\dell\\AppData\\Local\\conda\\conda\\envs\\tensorflow\\lib\\site-packages\\sklearn\\metrics\\classification.py:1135: UndefinedMetricWarning: F-score is ill-defined and being set to 0.0 due to no predicted samples.\n",
      "  'precision', 'predicted', average, warn_for)\n",
      "C:\\Users\\dell\\AppData\\Local\\conda\\conda\\envs\\tensorflow\\lib\\site-packages\\sklearn\\metrics\\classification.py:1135: UndefinedMetricWarning: F-score is ill-defined and being set to 0.0 due to no predicted samples.\n",
      "  'precision', 'predicted', average, warn_for)\n"
     ]
    },
    {
     "name": "stdout",
     "output_type": "stream",
     "text": [
      "[CV]  criterion=entropy, bootstrap=False, n_estimators=100, max_features=5, class_weight=None, max_depth=5, min_samples_split=10, min_samples_leaf=15, score=0.0, total=   0.5s\n",
      "[Parallel(n_jobs=1)]: Done 354 out of 354 | elapsed: 15.6min remaining:    0.0s\n",
      "[CV] criterion=entropy, bootstrap=False, n_estimators=100, max_features=5, class_weight=None, max_depth=5, min_samples_split=10, min_samples_leaf=15 \n"
     ]
    },
    {
     "name": "stderr",
     "output_type": "stream",
     "text": [
      "C:\\Users\\dell\\AppData\\Local\\conda\\conda\\envs\\tensorflow\\lib\\site-packages\\sklearn\\metrics\\classification.py:1135: UndefinedMetricWarning: F-score is ill-defined and being set to 0.0 due to no predicted samples.\n",
      "  'precision', 'predicted', average, warn_for)\n",
      "C:\\Users\\dell\\AppData\\Local\\conda\\conda\\envs\\tensorflow\\lib\\site-packages\\sklearn\\metrics\\classification.py:1135: UndefinedMetricWarning: F-score is ill-defined and being set to 0.0 due to no predicted samples.\n",
      "  'precision', 'predicted', average, warn_for)\n"
     ]
    },
    {
     "name": "stdout",
     "output_type": "stream",
     "text": [
      "[CV]  criterion=entropy, bootstrap=False, n_estimators=100, max_features=5, class_weight=None, max_depth=5, min_samples_split=10, min_samples_leaf=15, score=0.0, total=   0.5s\n",
      "[Parallel(n_jobs=1)]: Done 355 out of 355 | elapsed: 15.6min remaining:    0.0s\n",
      "[CV] criterion=entropy, bootstrap=False, n_estimators=100, max_features=5, class_weight=None, max_depth=5, min_samples_split=10, min_samples_leaf=15 \n"
     ]
    },
    {
     "name": "stderr",
     "output_type": "stream",
     "text": [
      "C:\\Users\\dell\\AppData\\Local\\conda\\conda\\envs\\tensorflow\\lib\\site-packages\\sklearn\\metrics\\classification.py:1135: UndefinedMetricWarning: F-score is ill-defined and being set to 0.0 due to no predicted samples.\n",
      "  'precision', 'predicted', average, warn_for)\n",
      "C:\\Users\\dell\\AppData\\Local\\conda\\conda\\envs\\tensorflow\\lib\\site-packages\\sklearn\\metrics\\classification.py:1135: UndefinedMetricWarning: F-score is ill-defined and being set to 0.0 due to no predicted samples.\n",
      "  'precision', 'predicted', average, warn_for)\n"
     ]
    },
    {
     "name": "stdout",
     "output_type": "stream",
     "text": [
      "[CV]  criterion=entropy, bootstrap=False, n_estimators=100, max_features=5, class_weight=None, max_depth=5, min_samples_split=10, min_samples_leaf=15, score=0.0, total=   0.5s\n",
      "[Parallel(n_jobs=1)]: Done 356 out of 356 | elapsed: 15.6min remaining:    0.0s\n",
      "[CV] criterion=entropy, bootstrap=False, n_estimators=100, max_features=5, class_weight=None, max_depth=5, min_samples_split=10, min_samples_leaf=15 \n"
     ]
    },
    {
     "name": "stderr",
     "output_type": "stream",
     "text": [
      "C:\\Users\\dell\\AppData\\Local\\conda\\conda\\envs\\tensorflow\\lib\\site-packages\\sklearn\\metrics\\classification.py:1135: UndefinedMetricWarning: F-score is ill-defined and being set to 0.0 due to no predicted samples.\n",
      "  'precision', 'predicted', average, warn_for)\n",
      "C:\\Users\\dell\\AppData\\Local\\conda\\conda\\envs\\tensorflow\\lib\\site-packages\\sklearn\\metrics\\classification.py:1135: UndefinedMetricWarning: F-score is ill-defined and being set to 0.0 due to no predicted samples.\n",
      "  'precision', 'predicted', average, warn_for)\n"
     ]
    },
    {
     "name": "stdout",
     "output_type": "stream",
     "text": [
      "[CV]  criterion=entropy, bootstrap=False, n_estimators=100, max_features=5, class_weight=None, max_depth=5, min_samples_split=10, min_samples_leaf=15, score=0.0, total=   0.4s\n",
      "[Parallel(n_jobs=1)]: Done 357 out of 357 | elapsed: 15.6min remaining:    0.0s\n",
      "[CV] criterion=entropy, bootstrap=False, n_estimators=100, max_features=5, class_weight=None, max_depth=5, min_samples_split=10, min_samples_leaf=15 \n"
     ]
    },
    {
     "name": "stderr",
     "output_type": "stream",
     "text": [
      "C:\\Users\\dell\\AppData\\Local\\conda\\conda\\envs\\tensorflow\\lib\\site-packages\\sklearn\\metrics\\classification.py:1135: UndefinedMetricWarning: F-score is ill-defined and being set to 0.0 due to no predicted samples.\n",
      "  'precision', 'predicted', average, warn_for)\n",
      "C:\\Users\\dell\\AppData\\Local\\conda\\conda\\envs\\tensorflow\\lib\\site-packages\\sklearn\\metrics\\classification.py:1135: UndefinedMetricWarning: F-score is ill-defined and being set to 0.0 due to no predicted samples.\n",
      "  'precision', 'predicted', average, warn_for)\n"
     ]
    },
    {
     "name": "stdout",
     "output_type": "stream",
     "text": [
      "[CV]  criterion=entropy, bootstrap=False, n_estimators=100, max_features=5, class_weight=None, max_depth=5, min_samples_split=10, min_samples_leaf=15, score=0.0, total=   0.3s\n",
      "[Parallel(n_jobs=1)]: Done 358 out of 358 | elapsed: 15.6min remaining:    0.0s\n",
      "[CV] criterion=entropy, bootstrap=False, n_estimators=100, max_features=5, class_weight=None, max_depth=5, min_samples_split=10, min_samples_leaf=15 \n"
     ]
    },
    {
     "name": "stderr",
     "output_type": "stream",
     "text": [
      "C:\\Users\\dell\\AppData\\Local\\conda\\conda\\envs\\tensorflow\\lib\\site-packages\\sklearn\\metrics\\classification.py:1135: UndefinedMetricWarning: F-score is ill-defined and being set to 0.0 due to no predicted samples.\n",
      "  'precision', 'predicted', average, warn_for)\n",
      "C:\\Users\\dell\\AppData\\Local\\conda\\conda\\envs\\tensorflow\\lib\\site-packages\\sklearn\\metrics\\classification.py:1135: UndefinedMetricWarning: F-score is ill-defined and being set to 0.0 due to no predicted samples.\n",
      "  'precision', 'predicted', average, warn_for)\n"
     ]
    },
    {
     "name": "stdout",
     "output_type": "stream",
     "text": [
      "[CV]  criterion=entropy, bootstrap=False, n_estimators=100, max_features=5, class_weight=None, max_depth=5, min_samples_split=10, min_samples_leaf=15, score=0.0, total=   0.4s\n",
      "[Parallel(n_jobs=1)]: Done 359 out of 359 | elapsed: 15.6min remaining:    0.0s\n",
      "[CV] criterion=entropy, bootstrap=False, n_estimators=100, max_features=5, class_weight=None, max_depth=5, min_samples_split=10, min_samples_leaf=15 \n"
     ]
    },
    {
     "name": "stderr",
     "output_type": "stream",
     "text": [
      "C:\\Users\\dell\\AppData\\Local\\conda\\conda\\envs\\tensorflow\\lib\\site-packages\\sklearn\\metrics\\classification.py:1135: UndefinedMetricWarning: F-score is ill-defined and being set to 0.0 due to no predicted samples.\n",
      "  'precision', 'predicted', average, warn_for)\n",
      "C:\\Users\\dell\\AppData\\Local\\conda\\conda\\envs\\tensorflow\\lib\\site-packages\\sklearn\\metrics\\classification.py:1135: UndefinedMetricWarning: F-score is ill-defined and being set to 0.0 due to no predicted samples.\n",
      "  'precision', 'predicted', average, warn_for)\n"
     ]
    },
    {
     "name": "stdout",
     "output_type": "stream",
     "text": [
      "[CV]  criterion=entropy, bootstrap=False, n_estimators=100, max_features=5, class_weight=None, max_depth=5, min_samples_split=10, min_samples_leaf=15, score=0.0, total=   0.3s\n",
      "[Parallel(n_jobs=1)]: Done 360 out of 360 | elapsed: 15.6min remaining:    0.0s\n",
      "[CV] criterion=gini, bootstrap=False, n_estimators=200, max_features=20, class_weight=balanced, max_depth=20, min_samples_split=10, min_samples_leaf=20 \n",
      "[CV]  criterion=gini, bootstrap=False, n_estimators=200, max_features=20, class_weight=balanced, max_depth=20, min_samples_split=10, min_samples_leaf=20, score=0.31372549019607837, total=   3.2s\n",
      "[Parallel(n_jobs=1)]: Done 361 out of 361 | elapsed: 15.7min remaining:    0.0s\n",
      "[CV] criterion=gini, bootstrap=False, n_estimators=200, max_features=20, class_weight=balanced, max_depth=20, min_samples_split=10, min_samples_leaf=20 \n",
      "[CV]  criterion=gini, bootstrap=False, n_estimators=200, max_features=20, class_weight=balanced, max_depth=20, min_samples_split=10, min_samples_leaf=20, score=0.28688524590163933, total=   3.4s\n",
      "[Parallel(n_jobs=1)]: Done 362 out of 362 | elapsed: 15.8min remaining:    0.0s\n",
      "[CV] criterion=gini, bootstrap=False, n_estimators=200, max_features=20, class_weight=balanced, max_depth=20, min_samples_split=10, min_samples_leaf=20 \n",
      "[CV]  criterion=gini, bootstrap=False, n_estimators=200, max_features=20, class_weight=balanced, max_depth=20, min_samples_split=10, min_samples_leaf=20, score=0.3497942386831276, total=   4.1s\n",
      "[Parallel(n_jobs=1)]: Done 363 out of 363 | elapsed: 15.8min remaining:    0.0s\n",
      "[CV] criterion=gini, bootstrap=False, n_estimators=200, max_features=20, class_weight=balanced, max_depth=20, min_samples_split=10, min_samples_leaf=20 \n",
      "[CV]  criterion=gini, bootstrap=False, n_estimators=200, max_features=20, class_weight=balanced, max_depth=20, min_samples_split=10, min_samples_leaf=20, score=0.31746031746031744, total=   3.6s\n",
      "[Parallel(n_jobs=1)]: Done 364 out of 364 | elapsed: 15.9min remaining:    0.0s\n",
      "[CV] criterion=gini, bootstrap=False, n_estimators=200, max_features=20, class_weight=balanced, max_depth=20, min_samples_split=10, min_samples_leaf=20 \n",
      "[CV]  criterion=gini, bootstrap=False, n_estimators=200, max_features=20, class_weight=balanced, max_depth=20, min_samples_split=10, min_samples_leaf=20, score=0.4000000000000001, total=   3.2s\n",
      "[Parallel(n_jobs=1)]: Done 365 out of 365 | elapsed: 16.0min remaining:    0.0s\n",
      "[CV] criterion=gini, bootstrap=False, n_estimators=200, max_features=20, class_weight=balanced, max_depth=20, min_samples_split=10, min_samples_leaf=20 \n",
      "[CV]  criterion=gini, bootstrap=False, n_estimators=200, max_features=20, class_weight=balanced, max_depth=20, min_samples_split=10, min_samples_leaf=20, score=0.34136546184738953, total=   3.2s\n",
      "[Parallel(n_jobs=1)]: Done 366 out of 366 | elapsed: 16.0min remaining:    0.0s\n",
      "[CV] criterion=gini, bootstrap=False, n_estimators=200, max_features=20, class_weight=balanced, max_depth=20, min_samples_split=10, min_samples_leaf=20 \n",
      "[CV]  criterion=gini, bootstrap=False, n_estimators=200, max_features=20, class_weight=balanced, max_depth=20, min_samples_split=10, min_samples_leaf=20, score=0.30042918454935624, total=   4.0s\n",
      "[Parallel(n_jobs=1)]: Done 367 out of 367 | elapsed: 16.1min remaining:    0.0s\n",
      "[CV] criterion=gini, bootstrap=False, n_estimators=200, max_features=20, class_weight=balanced, max_depth=20, min_samples_split=10, min_samples_leaf=20 \n",
      "[CV]  criterion=gini, bootstrap=False, n_estimators=200, max_features=20, class_weight=balanced, max_depth=20, min_samples_split=10, min_samples_leaf=20, score=0.25390625, total=   3.6s\n",
      "[Parallel(n_jobs=1)]: Done 368 out of 368 | elapsed: 16.2min remaining:    0.0s\n",
      "[CV] criterion=gini, bootstrap=False, n_estimators=200, max_features=20, class_weight=balanced, max_depth=20, min_samples_split=10, min_samples_leaf=20 \n",
      "[CV]  criterion=gini, bootstrap=False, n_estimators=200, max_features=20, class_weight=balanced, max_depth=20, min_samples_split=10, min_samples_leaf=20, score=0.4008438818565401, total=   3.2s\n",
      "[Parallel(n_jobs=1)]: Done 369 out of 369 | elapsed: 16.2min remaining:    0.0s\n",
      "[CV] criterion=gini, bootstrap=False, n_estimators=200, max_features=20, class_weight=balanced, max_depth=20, min_samples_split=10, min_samples_leaf=20 \n",
      "[CV]  criterion=gini, bootstrap=False, n_estimators=200, max_features=20, class_weight=balanced, max_depth=20, min_samples_split=10, min_samples_leaf=20, score=0.4094827586206896, total=   3.3s\n",
      "[Parallel(n_jobs=1)]: Done 370 out of 370 | elapsed: 16.3min remaining:    0.0s\n",
      "[CV] criterion=entropy, bootstrap=True, n_estimators=200, max_features=10, class_weight=balanced, max_depth=10, min_samples_split=20, min_samples_leaf=20 \n",
      "[CV]  criterion=entropy, bootstrap=True, n_estimators=200, max_features=10, class_weight=balanced, max_depth=10, min_samples_split=20, min_samples_leaf=20, score=0.32075471698113206, total=   1.4s\n",
      "[Parallel(n_jobs=1)]: Done 371 out of 371 | elapsed: 16.3min remaining:    0.0s\n",
      "[CV] criterion=entropy, bootstrap=True, n_estimators=200, max_features=10, class_weight=balanced, max_depth=10, min_samples_split=20, min_samples_leaf=20 \n",
      "[CV]  criterion=entropy, bootstrap=True, n_estimators=200, max_features=10, class_weight=balanced, max_depth=10, min_samples_split=20, min_samples_leaf=20, score=0.2928870292887029, total=   1.7s\n",
      "[Parallel(n_jobs=1)]: Done 372 out of 372 | elapsed: 16.3min remaining:    0.0s\n",
      "[CV] criterion=entropy, bootstrap=True, n_estimators=200, max_features=10, class_weight=balanced, max_depth=10, min_samples_split=20, min_samples_leaf=20 \n",
      "[CV]  criterion=entropy, bootstrap=True, n_estimators=200, max_features=10, class_weight=balanced, max_depth=10, min_samples_split=20, min_samples_leaf=20, score=0.3191489361702127, total=   1.7s\n",
      "[Parallel(n_jobs=1)]: Done 373 out of 373 | elapsed: 16.4min remaining:    0.0s\n",
      "[CV] criterion=entropy, bootstrap=True, n_estimators=200, max_features=10, class_weight=balanced, max_depth=10, min_samples_split=20, min_samples_leaf=20 \n",
      "[CV]  criterion=entropy, bootstrap=True, n_estimators=200, max_features=10, class_weight=balanced, max_depth=10, min_samples_split=20, min_samples_leaf=20, score=0.32, total=   1.4s\n",
      "[Parallel(n_jobs=1)]: Done 374 out of 374 | elapsed: 16.4min remaining:    0.0s\n",
      "[CV] criterion=entropy, bootstrap=True, n_estimators=200, max_features=10, class_weight=balanced, max_depth=10, min_samples_split=20, min_samples_leaf=20 \n",
      "[CV]  criterion=entropy, bootstrap=True, n_estimators=200, max_features=10, class_weight=balanced, max_depth=10, min_samples_split=20, min_samples_leaf=20, score=0.4081632653061224, total=   1.2s\n",
      "[Parallel(n_jobs=1)]: Done 375 out of 375 | elapsed: 16.4min remaining:    0.0s\n",
      "[CV] criterion=entropy, bootstrap=True, n_estimators=200, max_features=10, class_weight=balanced, max_depth=10, min_samples_split=20, min_samples_leaf=20 \n",
      "[CV]  criterion=entropy, bootstrap=True, n_estimators=200, max_features=10, class_weight=balanced, max_depth=10, min_samples_split=20, min_samples_leaf=20, score=0.3347280334728034, total=   1.3s\n",
      "[Parallel(n_jobs=1)]: Done 376 out of 376 | elapsed: 16.5min remaining:    0.0s\n",
      "[CV] criterion=entropy, bootstrap=True, n_estimators=200, max_features=10, class_weight=balanced, max_depth=10, min_samples_split=20, min_samples_leaf=20 \n",
      "[CV]  criterion=entropy, bootstrap=True, n_estimators=200, max_features=10, class_weight=balanced, max_depth=10, min_samples_split=20, min_samples_leaf=20, score=0.36016949152542377, total=   1.3s\n",
      "[Parallel(n_jobs=1)]: Done 377 out of 377 | elapsed: 16.5min remaining:    0.0s\n",
      "[CV] criterion=entropy, bootstrap=True, n_estimators=200, max_features=10, class_weight=balanced, max_depth=10, min_samples_split=20, min_samples_leaf=20 \n",
      "[CV]  criterion=entropy, bootstrap=True, n_estimators=200, max_features=10, class_weight=balanced, max_depth=10, min_samples_split=20, min_samples_leaf=20, score=0.23012552301255235, total=   1.3s\n",
      "[Parallel(n_jobs=1)]: Done 378 out of 378 | elapsed: 16.5min remaining:    0.0s\n",
      "[CV] criterion=entropy, bootstrap=True, n_estimators=200, max_features=10, class_weight=balanced, max_depth=10, min_samples_split=20, min_samples_leaf=20 \n",
      "[CV]  criterion=entropy, bootstrap=True, n_estimators=200, max_features=10, class_weight=balanced, max_depth=10, min_samples_split=20, min_samples_leaf=20, score=0.34782608695652173, total=   1.3s\n",
      "[Parallel(n_jobs=1)]: Done 379 out of 379 | elapsed: 16.5min remaining:    0.0s\n",
      "[CV] criterion=entropy, bootstrap=True, n_estimators=200, max_features=10, class_weight=balanced, max_depth=10, min_samples_split=20, min_samples_leaf=20 \n"
     ]
    },
    {
     "name": "stdout",
     "output_type": "stream",
     "text": [
      "[CV]  criterion=entropy, bootstrap=True, n_estimators=200, max_features=10, class_weight=balanced, max_depth=10, min_samples_split=20, min_samples_leaf=20, score=0.4444444444444444, total=   1.4s\n",
      "[Parallel(n_jobs=1)]: Done 380 out of 380 | elapsed: 16.6min remaining:    0.0s\n",
      "[CV] criterion=entropy, bootstrap=False, n_estimators=200, max_features=25, class_weight=None, max_depth=None, min_samples_split=20, min_samples_leaf=10 \n"
     ]
    },
    {
     "name": "stderr",
     "output_type": "stream",
     "text": [
      "C:\\Users\\dell\\AppData\\Local\\conda\\conda\\envs\\tensorflow\\lib\\site-packages\\sklearn\\metrics\\classification.py:1135: UndefinedMetricWarning: F-score is ill-defined and being set to 0.0 due to no predicted samples.\n",
      "  'precision', 'predicted', average, warn_for)\n",
      "C:\\Users\\dell\\AppData\\Local\\conda\\conda\\envs\\tensorflow\\lib\\site-packages\\sklearn\\metrics\\classification.py:1135: UndefinedMetricWarning: F-score is ill-defined and being set to 0.0 due to no predicted samples.\n",
      "  'precision', 'predicted', average, warn_for)\n"
     ]
    },
    {
     "name": "stdout",
     "output_type": "stream",
     "text": [
      "[CV]  criterion=entropy, bootstrap=False, n_estimators=200, max_features=25, class_weight=None, max_depth=None, min_samples_split=20, min_samples_leaf=10, score=0.0, total=   5.3s\n",
      "[Parallel(n_jobs=1)]: Done 381 out of 381 | elapsed: 16.7min remaining:    0.0s\n",
      "[CV] criterion=entropy, bootstrap=False, n_estimators=200, max_features=25, class_weight=None, max_depth=None, min_samples_split=20, min_samples_leaf=10 \n"
     ]
    },
    {
     "name": "stderr",
     "output_type": "stream",
     "text": [
      "C:\\Users\\dell\\AppData\\Local\\conda\\conda\\envs\\tensorflow\\lib\\site-packages\\sklearn\\metrics\\classification.py:1135: UndefinedMetricWarning: F-score is ill-defined and being set to 0.0 due to no predicted samples.\n",
      "  'precision', 'predicted', average, warn_for)\n",
      "C:\\Users\\dell\\AppData\\Local\\conda\\conda\\envs\\tensorflow\\lib\\site-packages\\sklearn\\metrics\\classification.py:1135: UndefinedMetricWarning: F-score is ill-defined and being set to 0.0 due to no predicted samples.\n",
      "  'precision', 'predicted', average, warn_for)\n"
     ]
    },
    {
     "name": "stdout",
     "output_type": "stream",
     "text": [
      "[CV]  criterion=entropy, bootstrap=False, n_estimators=200, max_features=25, class_weight=None, max_depth=None, min_samples_split=20, min_samples_leaf=10, score=0.0, total=   4.3s\n",
      "[Parallel(n_jobs=1)]: Done 382 out of 382 | elapsed: 16.8min remaining:    0.0s\n",
      "[CV] criterion=entropy, bootstrap=False, n_estimators=200, max_features=25, class_weight=None, max_depth=None, min_samples_split=20, min_samples_leaf=10 \n"
     ]
    },
    {
     "name": "stderr",
     "output_type": "stream",
     "text": [
      "C:\\Users\\dell\\AppData\\Local\\conda\\conda\\envs\\tensorflow\\lib\\site-packages\\sklearn\\metrics\\classification.py:1135: UndefinedMetricWarning: F-score is ill-defined and being set to 0.0 due to no predicted samples.\n",
      "  'precision', 'predicted', average, warn_for)\n",
      "C:\\Users\\dell\\AppData\\Local\\conda\\conda\\envs\\tensorflow\\lib\\site-packages\\sklearn\\metrics\\classification.py:1135: UndefinedMetricWarning: F-score is ill-defined and being set to 0.0 due to no predicted samples.\n",
      "  'precision', 'predicted', average, warn_for)\n"
     ]
    },
    {
     "name": "stdout",
     "output_type": "stream",
     "text": [
      "[CV]  criterion=entropy, bootstrap=False, n_estimators=200, max_features=25, class_weight=None, max_depth=None, min_samples_split=20, min_samples_leaf=10, score=0.0, total=   4.3s\n",
      "[Parallel(n_jobs=1)]: Done 383 out of 383 | elapsed: 16.8min remaining:    0.0s\n",
      "[CV] criterion=entropy, bootstrap=False, n_estimators=200, max_features=25, class_weight=None, max_depth=None, min_samples_split=20, min_samples_leaf=10 \n"
     ]
    },
    {
     "name": "stderr",
     "output_type": "stream",
     "text": [
      "C:\\Users\\dell\\AppData\\Local\\conda\\conda\\envs\\tensorflow\\lib\\site-packages\\sklearn\\metrics\\classification.py:1135: UndefinedMetricWarning: F-score is ill-defined and being set to 0.0 due to no predicted samples.\n",
      "  'precision', 'predicted', average, warn_for)\n",
      "C:\\Users\\dell\\AppData\\Local\\conda\\conda\\envs\\tensorflow\\lib\\site-packages\\sklearn\\metrics\\classification.py:1135: UndefinedMetricWarning: F-score is ill-defined and being set to 0.0 due to no predicted samples.\n",
      "  'precision', 'predicted', average, warn_for)\n"
     ]
    },
    {
     "name": "stdout",
     "output_type": "stream",
     "text": [
      "[CV]  criterion=entropy, bootstrap=False, n_estimators=200, max_features=25, class_weight=None, max_depth=None, min_samples_split=20, min_samples_leaf=10, score=0.0, total=   5.8s\n",
      "[Parallel(n_jobs=1)]: Done 384 out of 384 | elapsed: 16.9min remaining:    0.0s\n",
      "[CV] criterion=entropy, bootstrap=False, n_estimators=200, max_features=25, class_weight=None, max_depth=None, min_samples_split=20, min_samples_leaf=10 \n"
     ]
    },
    {
     "name": "stderr",
     "output_type": "stream",
     "text": [
      "C:\\Users\\dell\\AppData\\Local\\conda\\conda\\envs\\tensorflow\\lib\\site-packages\\sklearn\\metrics\\classification.py:1135: UndefinedMetricWarning: F-score is ill-defined and being set to 0.0 due to no predicted samples.\n",
      "  'precision', 'predicted', average, warn_for)\n",
      "C:\\Users\\dell\\AppData\\Local\\conda\\conda\\envs\\tensorflow\\lib\\site-packages\\sklearn\\metrics\\classification.py:1135: UndefinedMetricWarning: F-score is ill-defined and being set to 0.0 due to no predicted samples.\n",
      "  'precision', 'predicted', average, warn_for)\n"
     ]
    },
    {
     "name": "stdout",
     "output_type": "stream",
     "text": [
      "[CV]  criterion=entropy, bootstrap=False, n_estimators=200, max_features=25, class_weight=None, max_depth=None, min_samples_split=20, min_samples_leaf=10, score=0.0, total=   4.4s\n",
      "[Parallel(n_jobs=1)]: Done 385 out of 385 | elapsed: 17.0min remaining:    0.0s\n",
      "[CV] criterion=entropy, bootstrap=False, n_estimators=200, max_features=25, class_weight=None, max_depth=None, min_samples_split=20, min_samples_leaf=10 \n"
     ]
    },
    {
     "name": "stderr",
     "output_type": "stream",
     "text": [
      "C:\\Users\\dell\\AppData\\Local\\conda\\conda\\envs\\tensorflow\\lib\\site-packages\\sklearn\\metrics\\classification.py:1135: UndefinedMetricWarning: F-score is ill-defined and being set to 0.0 due to no predicted samples.\n",
      "  'precision', 'predicted', average, warn_for)\n",
      "C:\\Users\\dell\\AppData\\Local\\conda\\conda\\envs\\tensorflow\\lib\\site-packages\\sklearn\\metrics\\classification.py:1135: UndefinedMetricWarning: F-score is ill-defined and being set to 0.0 due to no predicted samples.\n",
      "  'precision', 'predicted', average, warn_for)\n"
     ]
    },
    {
     "name": "stdout",
     "output_type": "stream",
     "text": [
      "[CV]  criterion=entropy, bootstrap=False, n_estimators=200, max_features=25, class_weight=None, max_depth=None, min_samples_split=20, min_samples_leaf=10, score=0.0, total=   4.3s\n",
      "[Parallel(n_jobs=1)]: Done 386 out of 386 | elapsed: 17.1min remaining:    0.0s\n",
      "[CV] criterion=entropy, bootstrap=False, n_estimators=200, max_features=25, class_weight=None, max_depth=None, min_samples_split=20, min_samples_leaf=10 \n"
     ]
    },
    {
     "name": "stderr",
     "output_type": "stream",
     "text": [
      "C:\\Users\\dell\\AppData\\Local\\conda\\conda\\envs\\tensorflow\\lib\\site-packages\\sklearn\\metrics\\classification.py:1135: UndefinedMetricWarning: F-score is ill-defined and being set to 0.0 due to no predicted samples.\n",
      "  'precision', 'predicted', average, warn_for)\n",
      "C:\\Users\\dell\\AppData\\Local\\conda\\conda\\envs\\tensorflow\\lib\\site-packages\\sklearn\\metrics\\classification.py:1135: UndefinedMetricWarning: F-score is ill-defined and being set to 0.0 due to no predicted samples.\n",
      "  'precision', 'predicted', average, warn_for)\n"
     ]
    },
    {
     "name": "stdout",
     "output_type": "stream",
     "text": [
      "[CV]  criterion=entropy, bootstrap=False, n_estimators=200, max_features=25, class_weight=None, max_depth=None, min_samples_split=20, min_samples_leaf=10, score=0.0, total=   5.4s\n",
      "[Parallel(n_jobs=1)]: Done 387 out of 387 | elapsed: 17.2min remaining:    0.0s\n",
      "[CV] criterion=entropy, bootstrap=False, n_estimators=200, max_features=25, class_weight=None, max_depth=None, min_samples_split=20, min_samples_leaf=10 \n"
     ]
    },
    {
     "name": "stderr",
     "output_type": "stream",
     "text": [
      "C:\\Users\\dell\\AppData\\Local\\conda\\conda\\envs\\tensorflow\\lib\\site-packages\\sklearn\\metrics\\classification.py:1135: UndefinedMetricWarning: F-score is ill-defined and being set to 0.0 due to no predicted samples.\n",
      "  'precision', 'predicted', average, warn_for)\n",
      "C:\\Users\\dell\\AppData\\Local\\conda\\conda\\envs\\tensorflow\\lib\\site-packages\\sklearn\\metrics\\classification.py:1135: UndefinedMetricWarning: F-score is ill-defined and being set to 0.0 due to no predicted samples.\n",
      "  'precision', 'predicted', average, warn_for)\n"
     ]
    },
    {
     "name": "stdout",
     "output_type": "stream",
     "text": [
      "[CV]  criterion=entropy, bootstrap=False, n_estimators=200, max_features=25, class_weight=None, max_depth=None, min_samples_split=20, min_samples_leaf=10, score=0.0, total=   4.3s\n",
      "[Parallel(n_jobs=1)]: Done 388 out of 388 | elapsed: 17.3min remaining:    0.0s\n",
      "[CV] criterion=entropy, bootstrap=False, n_estimators=200, max_features=25, class_weight=None, max_depth=None, min_samples_split=20, min_samples_leaf=10 \n"
     ]
    },
    {
     "name": "stderr",
     "output_type": "stream",
     "text": [
      "C:\\Users\\dell\\AppData\\Local\\conda\\conda\\envs\\tensorflow\\lib\\site-packages\\sklearn\\metrics\\classification.py:1135: UndefinedMetricWarning: F-score is ill-defined and being set to 0.0 due to no predicted samples.\n",
      "  'precision', 'predicted', average, warn_for)\n",
      "C:\\Users\\dell\\AppData\\Local\\conda\\conda\\envs\\tensorflow\\lib\\site-packages\\sklearn\\metrics\\classification.py:1135: UndefinedMetricWarning: F-score is ill-defined and being set to 0.0 due to no predicted samples.\n",
      "  'precision', 'predicted', average, warn_for)\n"
     ]
    },
    {
     "name": "stdout",
     "output_type": "stream",
     "text": [
      "[CV]  criterion=entropy, bootstrap=False, n_estimators=200, max_features=25, class_weight=None, max_depth=None, min_samples_split=20, min_samples_leaf=10, score=0.0, total=   4.3s\n",
      "[Parallel(n_jobs=1)]: Done 389 out of 389 | elapsed: 17.4min remaining:    0.0s\n",
      "[CV] criterion=entropy, bootstrap=False, n_estimators=200, max_features=25, class_weight=None, max_depth=None, min_samples_split=20, min_samples_leaf=10 \n"
     ]
    },
    {
     "name": "stderr",
     "output_type": "stream",
     "text": [
      "C:\\Users\\dell\\AppData\\Local\\conda\\conda\\envs\\tensorflow\\lib\\site-packages\\sklearn\\metrics\\classification.py:1135: UndefinedMetricWarning: F-score is ill-defined and being set to 0.0 due to no predicted samples.\n",
      "  'precision', 'predicted', average, warn_for)\n",
      "C:\\Users\\dell\\AppData\\Local\\conda\\conda\\envs\\tensorflow\\lib\\site-packages\\sklearn\\metrics\\classification.py:1135: UndefinedMetricWarning: F-score is ill-defined and being set to 0.0 due to no predicted samples.\n",
      "  'precision', 'predicted', average, warn_for)\n"
     ]
    },
    {
     "name": "stdout",
     "output_type": "stream",
     "text": [
      "[CV]  criterion=entropy, bootstrap=False, n_estimators=200, max_features=25, class_weight=None, max_depth=None, min_samples_split=20, min_samples_leaf=10, score=0.0, total=   5.5s\n",
      "[Parallel(n_jobs=1)]: Done 390 out of 390 | elapsed: 17.5min remaining:    0.0s\n",
      "[CV] criterion=gini, bootstrap=False, n_estimators=200, max_features=25, class_weight=balanced, max_depth=20, min_samples_split=10, min_samples_leaf=15 \n",
      "[CV]  criterion=gini, bootstrap=False, n_estimators=200, max_features=25, class_weight=balanced, max_depth=20, min_samples_split=10, min_samples_leaf=15, score=0.32520325203252026, total=   4.0s\n",
      "[Parallel(n_jobs=1)]: Done 391 out of 391 | elapsed: 17.5min remaining:    0.0s\n",
      "[CV] criterion=gini, bootstrap=False, n_estimators=200, max_features=25, class_weight=balanced, max_depth=20, min_samples_split=10, min_samples_leaf=15 \n",
      "[CV]  criterion=gini, bootstrap=False, n_estimators=200, max_features=25, class_weight=balanced, max_depth=20, min_samples_split=10, min_samples_leaf=15, score=0.2764976958525346, total=   3.9s\n",
      "[Parallel(n_jobs=1)]: Done 392 out of 392 | elapsed: 17.6min remaining:    0.0s\n",
      "[CV] criterion=gini, bootstrap=False, n_estimators=200, max_features=25, class_weight=balanced, max_depth=20, min_samples_split=10, min_samples_leaf=15 \n",
      "[CV]  criterion=gini, bootstrap=False, n_estimators=200, max_features=25, class_weight=balanced, max_depth=20, min_samples_split=10, min_samples_leaf=15, score=0.30092592592592593, total=   4.7s\n",
      "[Parallel(n_jobs=1)]: Done 393 out of 393 | elapsed: 17.7min remaining:    0.0s\n",
      "[CV] criterion=gini, bootstrap=False, n_estimators=200, max_features=25, class_weight=balanced, max_depth=20, min_samples_split=10, min_samples_leaf=15 \n",
      "[CV]  criterion=gini, bootstrap=False, n_estimators=200, max_features=25, class_weight=balanced, max_depth=20, min_samples_split=10, min_samples_leaf=15, score=0.30042918454935624, total=   4.7s\n",
      "[Parallel(n_jobs=1)]: Done 394 out of 394 | elapsed: 17.8min remaining:    0.0s\n",
      "[CV] criterion=gini, bootstrap=False, n_estimators=200, max_features=25, class_weight=balanced, max_depth=20, min_samples_split=10, min_samples_leaf=15 \n",
      "[CV]  criterion=gini, bootstrap=False, n_estimators=200, max_features=25, class_weight=balanced, max_depth=20, min_samples_split=10, min_samples_leaf=15, score=0.4166666666666667, total=   4.0s\n",
      "[Parallel(n_jobs=1)]: Done 395 out of 395 | elapsed: 17.9min remaining:    0.0s\n",
      "[CV] criterion=gini, bootstrap=False, n_estimators=200, max_features=25, class_weight=balanced, max_depth=20, min_samples_split=10, min_samples_leaf=15 \n",
      "[CV]  criterion=gini, bootstrap=False, n_estimators=200, max_features=25, class_weight=balanced, max_depth=20, min_samples_split=10, min_samples_leaf=15, score=0.30303030303030304, total=   4.3s\n",
      "[Parallel(n_jobs=1)]: Done 396 out of 396 | elapsed: 17.9min remaining:    0.0s\n",
      "[CV] criterion=gini, bootstrap=False, n_estimators=200, max_features=25, class_weight=balanced, max_depth=20, min_samples_split=10, min_samples_leaf=15 \n",
      "[CV]  criterion=gini, bootstrap=False, n_estimators=200, max_features=25, class_weight=balanced, max_depth=20, min_samples_split=10, min_samples_leaf=15, score=0.3289473684210526, total=   4.8s\n",
      "[Parallel(n_jobs=1)]: Done 397 out of 397 | elapsed: 18.0min remaining:    0.0s\n",
      "[CV] criterion=gini, bootstrap=False, n_estimators=200, max_features=25, class_weight=balanced, max_depth=20, min_samples_split=10, min_samples_leaf=15 \n",
      "[CV]  criterion=gini, bootstrap=False, n_estimators=200, max_features=25, class_weight=balanced, max_depth=20, min_samples_split=10, min_samples_leaf=15, score=0.2801724137931034, total=   3.9s\n",
      "[Parallel(n_jobs=1)]: Done 398 out of 398 | elapsed: 18.1min remaining:    0.0s\n",
      "[CV] criterion=gini, bootstrap=False, n_estimators=200, max_features=25, class_weight=balanced, max_depth=20, min_samples_split=10, min_samples_leaf=15 \n",
      "[CV]  criterion=gini, bootstrap=False, n_estimators=200, max_features=25, class_weight=balanced, max_depth=20, min_samples_split=10, min_samples_leaf=15, score=0.3846153846153846, total=   4.0s\n",
      "[Parallel(n_jobs=1)]: Done 399 out of 399 | elapsed: 18.2min remaining:    0.0s\n",
      "[CV] criterion=gini, bootstrap=False, n_estimators=200, max_features=25, class_weight=balanced, max_depth=20, min_samples_split=10, min_samples_leaf=15 \n",
      "[CV]  criterion=gini, bootstrap=False, n_estimators=200, max_features=25, class_weight=balanced, max_depth=20, min_samples_split=10, min_samples_leaf=15, score=0.41860465116279066, total=   5.2s\n",
      "[Parallel(n_jobs=1)]: Done 400 out of 400 | elapsed: 18.3min remaining:    0.0s\n",
      "[CV] criterion=entropy, bootstrap=False, n_estimators=200, max_features=25, class_weight=None, max_depth=None, min_samples_split=15, min_samples_leaf=20 \n"
     ]
    },
    {
     "name": "stderr",
     "output_type": "stream",
     "text": [
      "C:\\Users\\dell\\AppData\\Local\\conda\\conda\\envs\\tensorflow\\lib\\site-packages\\sklearn\\metrics\\classification.py:1135: UndefinedMetricWarning: F-score is ill-defined and being set to 0.0 due to no predicted samples.\n",
      "  'precision', 'predicted', average, warn_for)\n",
      "C:\\Users\\dell\\AppData\\Local\\conda\\conda\\envs\\tensorflow\\lib\\site-packages\\sklearn\\metrics\\classification.py:1135: UndefinedMetricWarning: F-score is ill-defined and being set to 0.0 due to no predicted samples.\n",
      "  'precision', 'predicted', average, warn_for)\n"
     ]
    },
    {
     "name": "stdout",
     "output_type": "stream",
     "text": [
      "[CV]  criterion=entropy, bootstrap=False, n_estimators=200, max_features=25, class_weight=None, max_depth=None, min_samples_split=15, min_samples_leaf=20, score=0.0, total=   3.8s\n",
      "[Parallel(n_jobs=1)]: Done 401 out of 401 | elapsed: 18.3min remaining:    0.0s\n",
      "[CV] criterion=entropy, bootstrap=False, n_estimators=200, max_features=25, class_weight=None, max_depth=None, min_samples_split=15, min_samples_leaf=20 \n"
     ]
    },
    {
     "name": "stderr",
     "output_type": "stream",
     "text": [
      "C:\\Users\\dell\\AppData\\Local\\conda\\conda\\envs\\tensorflow\\lib\\site-packages\\sklearn\\metrics\\classification.py:1135: UndefinedMetricWarning: F-score is ill-defined and being set to 0.0 due to no predicted samples.\n",
      "  'precision', 'predicted', average, warn_for)\n",
      "C:\\Users\\dell\\AppData\\Local\\conda\\conda\\envs\\tensorflow\\lib\\site-packages\\sklearn\\metrics\\classification.py:1135: UndefinedMetricWarning: F-score is ill-defined and being set to 0.0 due to no predicted samples.\n",
      "  'precision', 'predicted', average, warn_for)\n"
     ]
    },
    {
     "name": "stdout",
     "output_type": "stream",
     "text": [
      "[CV]  criterion=entropy, bootstrap=False, n_estimators=200, max_features=25, class_weight=None, max_depth=None, min_samples_split=15, min_samples_leaf=20, score=0.0, total=   3.8s\n",
      "[Parallel(n_jobs=1)]: Done 402 out of 402 | elapsed: 18.4min remaining:    0.0s\n",
      "[CV] criterion=entropy, bootstrap=False, n_estimators=200, max_features=25, class_weight=None, max_depth=None, min_samples_split=15, min_samples_leaf=20 \n"
     ]
    },
    {
     "name": "stderr",
     "output_type": "stream",
     "text": [
      "C:\\Users\\dell\\AppData\\Local\\conda\\conda\\envs\\tensorflow\\lib\\site-packages\\sklearn\\metrics\\classification.py:1135: UndefinedMetricWarning: F-score is ill-defined and being set to 0.0 due to no predicted samples.\n",
      "  'precision', 'predicted', average, warn_for)\n",
      "C:\\Users\\dell\\AppData\\Local\\conda\\conda\\envs\\tensorflow\\lib\\site-packages\\sklearn\\metrics\\classification.py:1135: UndefinedMetricWarning: F-score is ill-defined and being set to 0.0 due to no predicted samples.\n",
      "  'precision', 'predicted', average, warn_for)\n"
     ]
    },
    {
     "name": "stdout",
     "output_type": "stream",
     "text": [
      "[CV]  criterion=entropy, bootstrap=False, n_estimators=200, max_features=25, class_weight=None, max_depth=None, min_samples_split=15, min_samples_leaf=20, score=0.0, total=   4.5s\n",
      "[Parallel(n_jobs=1)]: Done 403 out of 403 | elapsed: 18.5min remaining:    0.0s\n",
      "[CV] criterion=entropy, bootstrap=False, n_estimators=200, max_features=25, class_weight=None, max_depth=None, min_samples_split=15, min_samples_leaf=20 \n"
     ]
    },
    {
     "name": "stderr",
     "output_type": "stream",
     "text": [
      "C:\\Users\\dell\\AppData\\Local\\conda\\conda\\envs\\tensorflow\\lib\\site-packages\\sklearn\\metrics\\classification.py:1135: UndefinedMetricWarning: F-score is ill-defined and being set to 0.0 due to no predicted samples.\n",
      "  'precision', 'predicted', average, warn_for)\n",
      "C:\\Users\\dell\\AppData\\Local\\conda\\conda\\envs\\tensorflow\\lib\\site-packages\\sklearn\\metrics\\classification.py:1135: UndefinedMetricWarning: F-score is ill-defined and being set to 0.0 due to no predicted samples.\n",
      "  'precision', 'predicted', average, warn_for)\n"
     ]
    },
    {
     "name": "stdout",
     "output_type": "stream",
     "text": [
      "[CV]  criterion=entropy, bootstrap=False, n_estimators=200, max_features=25, class_weight=None, max_depth=None, min_samples_split=15, min_samples_leaf=20, score=0.0, total=   4.3s\n",
      "[Parallel(n_jobs=1)]: Done 404 out of 404 | elapsed: 18.6min remaining:    0.0s\n",
      "[CV] criterion=entropy, bootstrap=False, n_estimators=200, max_features=25, class_weight=None, max_depth=None, min_samples_split=15, min_samples_leaf=20 \n"
     ]
    },
    {
     "name": "stderr",
     "output_type": "stream",
     "text": [
      "C:\\Users\\dell\\AppData\\Local\\conda\\conda\\envs\\tensorflow\\lib\\site-packages\\sklearn\\metrics\\classification.py:1135: UndefinedMetricWarning: F-score is ill-defined and being set to 0.0 due to no predicted samples.\n",
      "  'precision', 'predicted', average, warn_for)\n",
      "C:\\Users\\dell\\AppData\\Local\\conda\\conda\\envs\\tensorflow\\lib\\site-packages\\sklearn\\metrics\\classification.py:1135: UndefinedMetricWarning: F-score is ill-defined and being set to 0.0 due to no predicted samples.\n",
      "  'precision', 'predicted', average, warn_for)\n"
     ]
    },
    {
     "name": "stdout",
     "output_type": "stream",
     "text": [
      "[CV]  criterion=entropy, bootstrap=False, n_estimators=200, max_features=25, class_weight=None, max_depth=None, min_samples_split=15, min_samples_leaf=20, score=0.0, total=   3.8s\n",
      "[Parallel(n_jobs=1)]: Done 405 out of 405 | elapsed: 18.6min remaining:    0.0s\n",
      "[CV] criterion=entropy, bootstrap=False, n_estimators=200, max_features=25, class_weight=None, max_depth=None, min_samples_split=15, min_samples_leaf=20 \n"
     ]
    },
    {
     "name": "stderr",
     "output_type": "stream",
     "text": [
      "C:\\Users\\dell\\AppData\\Local\\conda\\conda\\envs\\tensorflow\\lib\\site-packages\\sklearn\\metrics\\classification.py:1135: UndefinedMetricWarning: F-score is ill-defined and being set to 0.0 due to no predicted samples.\n",
      "  'precision', 'predicted', average, warn_for)\n",
      "C:\\Users\\dell\\AppData\\Local\\conda\\conda\\envs\\tensorflow\\lib\\site-packages\\sklearn\\metrics\\classification.py:1135: UndefinedMetricWarning: F-score is ill-defined and being set to 0.0 due to no predicted samples.\n",
      "  'precision', 'predicted', average, warn_for)\n"
     ]
    },
    {
     "name": "stdout",
     "output_type": "stream",
     "text": [
      "[CV]  criterion=entropy, bootstrap=False, n_estimators=200, max_features=25, class_weight=None, max_depth=None, min_samples_split=15, min_samples_leaf=20, score=0.0, total=   3.8s\n",
      "[Parallel(n_jobs=1)]: Done 406 out of 406 | elapsed: 18.7min remaining:    0.0s\n",
      "[CV] criterion=entropy, bootstrap=False, n_estimators=200, max_features=25, class_weight=None, max_depth=None, min_samples_split=15, min_samples_leaf=20 \n"
     ]
    },
    {
     "name": "stderr",
     "output_type": "stream",
     "text": [
      "C:\\Users\\dell\\AppData\\Local\\conda\\conda\\envs\\tensorflow\\lib\\site-packages\\sklearn\\metrics\\classification.py:1135: UndefinedMetricWarning: F-score is ill-defined and being set to 0.0 due to no predicted samples.\n",
      "  'precision', 'predicted', average, warn_for)\n",
      "C:\\Users\\dell\\AppData\\Local\\conda\\conda\\envs\\tensorflow\\lib\\site-packages\\sklearn\\metrics\\classification.py:1135: UndefinedMetricWarning: F-score is ill-defined and being set to 0.0 due to no predicted samples.\n",
      "  'precision', 'predicted', average, warn_for)\n"
     ]
    },
    {
     "name": "stdout",
     "output_type": "stream",
     "text": [
      "[CV]  criterion=entropy, bootstrap=False, n_estimators=200, max_features=25, class_weight=None, max_depth=None, min_samples_split=15, min_samples_leaf=20, score=0.0, total=   5.1s\n",
      "[Parallel(n_jobs=1)]: Done 407 out of 407 | elapsed: 18.8min remaining:    0.0s\n",
      "[CV] criterion=entropy, bootstrap=False, n_estimators=200, max_features=25, class_weight=None, max_depth=None, min_samples_split=15, min_samples_leaf=20 \n"
     ]
    },
    {
     "name": "stderr",
     "output_type": "stream",
     "text": [
      "C:\\Users\\dell\\AppData\\Local\\conda\\conda\\envs\\tensorflow\\lib\\site-packages\\sklearn\\metrics\\classification.py:1135: UndefinedMetricWarning: F-score is ill-defined and being set to 0.0 due to no predicted samples.\n",
      "  'precision', 'predicted', average, warn_for)\n",
      "C:\\Users\\dell\\AppData\\Local\\conda\\conda\\envs\\tensorflow\\lib\\site-packages\\sklearn\\metrics\\classification.py:1135: UndefinedMetricWarning: F-score is ill-defined and being set to 0.0 due to no predicted samples.\n",
      "  'precision', 'predicted', average, warn_for)\n"
     ]
    },
    {
     "name": "stdout",
     "output_type": "stream",
     "text": [
      "[CV]  criterion=entropy, bootstrap=False, n_estimators=200, max_features=25, class_weight=None, max_depth=None, min_samples_split=15, min_samples_leaf=20, score=0.0, total=   3.8s\n",
      "[Parallel(n_jobs=1)]: Done 408 out of 408 | elapsed: 18.9min remaining:    0.0s\n",
      "[CV] criterion=entropy, bootstrap=False, n_estimators=200, max_features=25, class_weight=None, max_depth=None, min_samples_split=15, min_samples_leaf=20 \n"
     ]
    },
    {
     "name": "stderr",
     "output_type": "stream",
     "text": [
      "C:\\Users\\dell\\AppData\\Local\\conda\\conda\\envs\\tensorflow\\lib\\site-packages\\sklearn\\metrics\\classification.py:1135: UndefinedMetricWarning: F-score is ill-defined and being set to 0.0 due to no predicted samples.\n",
      "  'precision', 'predicted', average, warn_for)\n",
      "C:\\Users\\dell\\AppData\\Local\\conda\\conda\\envs\\tensorflow\\lib\\site-packages\\sklearn\\metrics\\classification.py:1135: UndefinedMetricWarning: F-score is ill-defined and being set to 0.0 due to no predicted samples.\n",
      "  'precision', 'predicted', average, warn_for)\n"
     ]
    },
    {
     "name": "stdout",
     "output_type": "stream",
     "text": [
      "[CV]  criterion=entropy, bootstrap=False, n_estimators=200, max_features=25, class_weight=None, max_depth=None, min_samples_split=15, min_samples_leaf=20, score=0.0, total=   3.8s\n",
      "[Parallel(n_jobs=1)]: Done 409 out of 409 | elapsed: 18.9min remaining:    0.0s\n",
      "[CV] criterion=entropy, bootstrap=False, n_estimators=200, max_features=25, class_weight=None, max_depth=None, min_samples_split=15, min_samples_leaf=20 \n"
     ]
    },
    {
     "name": "stderr",
     "output_type": "stream",
     "text": [
      "C:\\Users\\dell\\AppData\\Local\\conda\\conda\\envs\\tensorflow\\lib\\site-packages\\sklearn\\metrics\\classification.py:1135: UndefinedMetricWarning: F-score is ill-defined and being set to 0.0 due to no predicted samples.\n",
      "  'precision', 'predicted', average, warn_for)\n",
      "C:\\Users\\dell\\AppData\\Local\\conda\\conda\\envs\\tensorflow\\lib\\site-packages\\sklearn\\metrics\\classification.py:1135: UndefinedMetricWarning: F-score is ill-defined and being set to 0.0 due to no predicted samples.\n",
      "  'precision', 'predicted', average, warn_for)\n"
     ]
    },
    {
     "name": "stdout",
     "output_type": "stream",
     "text": [
      "[CV]  criterion=entropy, bootstrap=False, n_estimators=200, max_features=25, class_weight=None, max_depth=None, min_samples_split=15, min_samples_leaf=20, score=0.0, total=   4.7s\n",
      "[Parallel(n_jobs=1)]: Done 410 out of 410 | elapsed: 19.0min remaining:    0.0s\n",
      "[CV] criterion=gini, bootstrap=False, n_estimators=300, max_features=25, class_weight=balanced, max_depth=15, min_samples_split=15, min_samples_leaf=20 \n",
      "[CV]  criterion=gini, bootstrap=False, n_estimators=300, max_features=25, class_weight=balanced, max_depth=15, min_samples_split=15, min_samples_leaf=20, score=0.32196969696969696, total=   6.0s\n",
      "[Parallel(n_jobs=1)]: Done 411 out of 411 | elapsed: 19.1min remaining:    0.0s\n",
      "[CV] criterion=gini, bootstrap=False, n_estimators=300, max_features=25, class_weight=balanced, max_depth=15, min_samples_split=15, min_samples_leaf=20 \n",
      "[CV]  criterion=gini, bootstrap=False, n_estimators=300, max_features=25, class_weight=balanced, max_depth=15, min_samples_split=15, min_samples_leaf=20, score=0.3361344537815126, total=   5.5s\n",
      "[Parallel(n_jobs=1)]: Done 412 out of 412 | elapsed: 19.2min remaining:    0.0s\n",
      "[CV] criterion=gini, bootstrap=False, n_estimators=300, max_features=25, class_weight=balanced, max_depth=15, min_samples_split=15, min_samples_leaf=20 \n",
      "[CV]  criterion=gini, bootstrap=False, n_estimators=300, max_features=25, class_weight=balanced, max_depth=15, min_samples_split=15, min_samples_leaf=20, score=0.3703703703703703, total=   6.9s\n",
      "[Parallel(n_jobs=1)]: Done 413 out of 413 | elapsed: 19.4min remaining:    0.0s\n",
      "[CV] criterion=gini, bootstrap=False, n_estimators=300, max_features=25, class_weight=balanced, max_depth=15, min_samples_split=15, min_samples_leaf=20 \n",
      "[CV]  criterion=gini, bootstrap=False, n_estimators=300, max_features=25, class_weight=balanced, max_depth=15, min_samples_split=15, min_samples_leaf=20, score=0.3088803088803089, total=   5.7s\n",
      "[Parallel(n_jobs=1)]: Done 414 out of 414 | elapsed: 19.5min remaining:    0.0s\n",
      "[CV] criterion=gini, bootstrap=False, n_estimators=300, max_features=25, class_weight=balanced, max_depth=15, min_samples_split=15, min_samples_leaf=20 \n",
      "[CV]  criterion=gini, bootstrap=False, n_estimators=300, max_features=25, class_weight=balanced, max_depth=15, min_samples_split=15, min_samples_leaf=20, score=0.40160642570281124, total=   6.9s\n",
      "[Parallel(n_jobs=1)]: Done 415 out of 415 | elapsed: 19.6min remaining:    0.0s\n",
      "[CV] criterion=gini, bootstrap=False, n_estimators=300, max_features=25, class_weight=balanced, max_depth=15, min_samples_split=15, min_samples_leaf=20 \n",
      "[CV]  criterion=gini, bootstrap=False, n_estimators=300, max_features=25, class_weight=balanced, max_depth=15, min_samples_split=15, min_samples_leaf=20, score=0.36585365853658536, total=   5.5s\n",
      "[Parallel(n_jobs=1)]: Done 416 out of 416 | elapsed: 19.7min remaining:    0.0s\n",
      "[CV] criterion=gini, bootstrap=False, n_estimators=300, max_features=25, class_weight=balanced, max_depth=15, min_samples_split=15, min_samples_leaf=20 \n",
      "[CV]  criterion=gini, bootstrap=False, n_estimators=300, max_features=25, class_weight=balanced, max_depth=15, min_samples_split=15, min_samples_leaf=20, score=0.3112033195020747, total=   6.2s\n",
      "[Parallel(n_jobs=1)]: Done 417 out of 417 | elapsed: 19.8min remaining:    0.0s\n",
      "[CV] criterion=gini, bootstrap=False, n_estimators=300, max_features=25, class_weight=balanced, max_depth=15, min_samples_split=15, min_samples_leaf=20 \n",
      "[CV]  criterion=gini, bootstrap=False, n_estimators=300, max_features=25, class_weight=balanced, max_depth=15, min_samples_split=15, min_samples_leaf=20, score=0.25390625, total=   6.2s\n",
      "[Parallel(n_jobs=1)]: Done 418 out of 418 | elapsed: 19.9min remaining:    0.0s\n",
      "[CV] criterion=gini, bootstrap=False, n_estimators=300, max_features=25, class_weight=balanced, max_depth=15, min_samples_split=15, min_samples_leaf=20 \n",
      "[CV]  criterion=gini, bootstrap=False, n_estimators=300, max_features=25, class_weight=balanced, max_depth=15, min_samples_split=15, min_samples_leaf=20, score=0.4008438818565401, total=   5.6s\n",
      "[Parallel(n_jobs=1)]: Done 419 out of 419 | elapsed: 20.0min remaining:    0.0s\n",
      "[CV] criterion=gini, bootstrap=False, n_estimators=300, max_features=25, class_weight=balanced, max_depth=15, min_samples_split=15, min_samples_leaf=20 \n",
      "[CV]  criterion=gini, bootstrap=False, n_estimators=300, max_features=25, class_weight=balanced, max_depth=15, min_samples_split=15, min_samples_leaf=20, score=0.3964757709251101, total=   6.8s\n",
      "[Parallel(n_jobs=1)]: Done 420 out of 420 | elapsed: 20.2min remaining:    0.0s\n",
      "[CV] criterion=gini, bootstrap=False, n_estimators=100, max_features=20, class_weight=balanced, max_depth=15, min_samples_split=20, min_samples_leaf=15 \n",
      "[CV]  criterion=gini, bootstrap=False, n_estimators=100, max_features=20, class_weight=balanced, max_depth=15, min_samples_split=20, min_samples_leaf=15, score=0.3278688524590164, total=   1.6s\n",
      "[Parallel(n_jobs=1)]: Done 421 out of 421 | elapsed: 20.2min remaining:    0.0s\n",
      "[CV] criterion=gini, bootstrap=False, n_estimators=100, max_features=20, class_weight=balanced, max_depth=15, min_samples_split=20, min_samples_leaf=15 \n",
      "[CV]  criterion=gini, bootstrap=False, n_estimators=100, max_features=20, class_weight=balanced, max_depth=15, min_samples_split=20, min_samples_leaf=15, score=0.30434782608695654, total=   1.6s\n",
      "[Parallel(n_jobs=1)]: Done 422 out of 422 | elapsed: 20.2min remaining:    0.0s\n",
      "[CV] criterion=gini, bootstrap=False, n_estimators=100, max_features=20, class_weight=balanced, max_depth=15, min_samples_split=20, min_samples_leaf=15 \n",
      "[CV]  criterion=gini, bootstrap=False, n_estimators=100, max_features=20, class_weight=balanced, max_depth=15, min_samples_split=20, min_samples_leaf=15, score=0.35398230088495575, total=   1.7s\n",
      "[Parallel(n_jobs=1)]: Done 423 out of 423 | elapsed: 20.2min remaining:    0.0s\n",
      "[CV] criterion=gini, bootstrap=False, n_estimators=100, max_features=20, class_weight=balanced, max_depth=15, min_samples_split=20, min_samples_leaf=15 \n",
      "[CV]  criterion=gini, bootstrap=False, n_estimators=100, max_features=20, class_weight=balanced, max_depth=15, min_samples_split=20, min_samples_leaf=15, score=0.29045643153526973, total=   1.6s\n",
      "[Parallel(n_jobs=1)]: Done 424 out of 424 | elapsed: 20.3min remaining:    0.0s\n",
      "[CV] criterion=gini, bootstrap=False, n_estimators=100, max_features=20, class_weight=balanced, max_depth=15, min_samples_split=20, min_samples_leaf=15 \n",
      "[CV]  criterion=gini, bootstrap=False, n_estimators=100, max_features=20, class_weight=balanced, max_depth=15, min_samples_split=20, min_samples_leaf=15, score=0.37499999999999994, total=   1.8s\n",
      "[Parallel(n_jobs=1)]: Done 425 out of 425 | elapsed: 20.3min remaining:    0.0s\n",
      "[CV] criterion=gini, bootstrap=False, n_estimators=100, max_features=20, class_weight=balanced, max_depth=15, min_samples_split=20, min_samples_leaf=15 \n",
      "[CV]  criterion=gini, bootstrap=False, n_estimators=100, max_features=20, class_weight=balanced, max_depth=15, min_samples_split=20, min_samples_leaf=15, score=0.32188841201716734, total=   2.2s\n",
      "[Parallel(n_jobs=1)]: Done 426 out of 426 | elapsed: 20.4min remaining:    0.0s\n",
      "[CV] criterion=gini, bootstrap=False, n_estimators=100, max_features=20, class_weight=balanced, max_depth=15, min_samples_split=20, min_samples_leaf=15 \n",
      "[CV]  criterion=gini, bootstrap=False, n_estimators=100, max_features=20, class_weight=balanced, max_depth=15, min_samples_split=20, min_samples_leaf=15, score=0.3191489361702127, total=   2.2s\n",
      "[Parallel(n_jobs=1)]: Done 427 out of 427 | elapsed: 20.4min remaining:    0.0s\n",
      "[CV] criterion=gini, bootstrap=False, n_estimators=100, max_features=20, class_weight=balanced, max_depth=15, min_samples_split=20, min_samples_leaf=15 \n",
      "[CV]  criterion=gini, bootstrap=False, n_estimators=100, max_features=20, class_weight=balanced, max_depth=15, min_samples_split=20, min_samples_leaf=15, score=0.23404255319148937, total=   1.6s\n",
      "[Parallel(n_jobs=1)]: Done 428 out of 428 | elapsed: 20.4min remaining:    0.0s\n",
      "[CV] criterion=gini, bootstrap=False, n_estimators=100, max_features=20, class_weight=balanced, max_depth=15, min_samples_split=20, min_samples_leaf=15 \n",
      "[CV]  criterion=gini, bootstrap=False, n_estimators=100, max_features=20, class_weight=balanced, max_depth=15, min_samples_split=20, min_samples_leaf=15, score=0.3982300884955752, total=   1.6s\n",
      "[Parallel(n_jobs=1)]: Done 429 out of 429 | elapsed: 20.5min remaining:    0.0s\n",
      "[CV] criterion=gini, bootstrap=False, n_estimators=100, max_features=20, class_weight=balanced, max_depth=15, min_samples_split=20, min_samples_leaf=15 \n"
     ]
    },
    {
     "name": "stdout",
     "output_type": "stream",
     "text": [
      "[CV]  criterion=gini, bootstrap=False, n_estimators=100, max_features=20, class_weight=balanced, max_depth=15, min_samples_split=20, min_samples_leaf=15, score=0.38636363636363635, total=   1.6s\n",
      "[Parallel(n_jobs=1)]: Done 430 out of 430 | elapsed: 20.5min remaining:    0.0s\n",
      "[CV] criterion=entropy, bootstrap=True, n_estimators=100, max_features=5, class_weight=balanced, max_depth=15, min_samples_split=15, min_samples_leaf=15 \n",
      "[CV]  criterion=entropy, bootstrap=True, n_estimators=100, max_features=5, class_weight=balanced, max_depth=15, min_samples_split=15, min_samples_leaf=15, score=0.3073770491803278, total=   0.5s\n",
      "[Parallel(n_jobs=1)]: Done 431 out of 431 | elapsed: 20.5min remaining:    0.0s\n",
      "[CV] criterion=entropy, bootstrap=True, n_estimators=100, max_features=5, class_weight=balanced, max_depth=15, min_samples_split=15, min_samples_leaf=15 \n",
      "[CV]  criterion=entropy, bootstrap=True, n_estimators=100, max_features=5, class_weight=balanced, max_depth=15, min_samples_split=15, min_samples_leaf=15, score=0.28761061946902655, total=   0.5s\n",
      "[Parallel(n_jobs=1)]: Done 432 out of 432 | elapsed: 20.5min remaining:    0.0s\n",
      "[CV] criterion=entropy, bootstrap=True, n_estimators=100, max_features=5, class_weight=balanced, max_depth=15, min_samples_split=15, min_samples_leaf=15 \n",
      "[CV]  criterion=entropy, bootstrap=True, n_estimators=100, max_features=5, class_weight=balanced, max_depth=15, min_samples_split=15, min_samples_leaf=15, score=0.28571428571428575, total=   0.5s\n",
      "[Parallel(n_jobs=1)]: Done 433 out of 433 | elapsed: 20.5min remaining:    0.0s\n",
      "[CV] criterion=entropy, bootstrap=True, n_estimators=100, max_features=5, class_weight=balanced, max_depth=15, min_samples_split=15, min_samples_leaf=15 \n",
      "[CV]  criterion=entropy, bootstrap=True, n_estimators=100, max_features=5, class_weight=balanced, max_depth=15, min_samples_split=15, min_samples_leaf=15, score=0.2928870292887029, total=   0.5s\n",
      "[Parallel(n_jobs=1)]: Done 434 out of 434 | elapsed: 20.5min remaining:    0.0s\n",
      "[CV] criterion=entropy, bootstrap=True, n_estimators=100, max_features=5, class_weight=balanced, max_depth=15, min_samples_split=15, min_samples_leaf=15 \n",
      "[CV]  criterion=entropy, bootstrap=True, n_estimators=100, max_features=5, class_weight=balanced, max_depth=15, min_samples_split=15, min_samples_leaf=15, score=0.41304347826086957, total=   0.5s\n",
      "[Parallel(n_jobs=1)]: Done 435 out of 435 | elapsed: 20.6min remaining:    0.0s\n",
      "[CV] criterion=entropy, bootstrap=True, n_estimators=100, max_features=5, class_weight=balanced, max_depth=15, min_samples_split=15, min_samples_leaf=15 \n",
      "[CV]  criterion=entropy, bootstrap=True, n_estimators=100, max_features=5, class_weight=balanced, max_depth=15, min_samples_split=15, min_samples_leaf=15, score=0.3508771929824562, total=   0.5s\n",
      "[Parallel(n_jobs=1)]: Done 436 out of 436 | elapsed: 20.6min remaining:    0.0s\n",
      "[CV] criterion=entropy, bootstrap=True, n_estimators=100, max_features=5, class_weight=balanced, max_depth=15, min_samples_split=15, min_samples_leaf=15 \n",
      "[CV]  criterion=entropy, bootstrap=True, n_estimators=100, max_features=5, class_weight=balanced, max_depth=15, min_samples_split=15, min_samples_leaf=15, score=0.331858407079646, total=   0.6s\n",
      "[Parallel(n_jobs=1)]: Done 437 out of 437 | elapsed: 20.6min remaining:    0.0s\n",
      "[CV] criterion=entropy, bootstrap=True, n_estimators=100, max_features=5, class_weight=balanced, max_depth=15, min_samples_split=15, min_samples_leaf=15 \n",
      "[CV]  criterion=entropy, bootstrap=True, n_estimators=100, max_features=5, class_weight=balanced, max_depth=15, min_samples_split=15, min_samples_leaf=15, score=0.22026431718061673, total=   0.7s\n",
      "[Parallel(n_jobs=1)]: Done 438 out of 438 | elapsed: 20.6min remaining:    0.0s\n",
      "[CV] criterion=entropy, bootstrap=True, n_estimators=100, max_features=5, class_weight=balanced, max_depth=15, min_samples_split=15, min_samples_leaf=15 \n",
      "[CV]  criterion=entropy, bootstrap=True, n_estimators=100, max_features=5, class_weight=balanced, max_depth=15, min_samples_split=15, min_samples_leaf=15, score=0.36036036036036034, total=   0.6s\n",
      "[Parallel(n_jobs=1)]: Done 439 out of 439 | elapsed: 20.6min remaining:    0.0s\n",
      "[CV] criterion=entropy, bootstrap=True, n_estimators=100, max_features=5, class_weight=balanced, max_depth=15, min_samples_split=15, min_samples_leaf=15 \n",
      "[CV]  criterion=entropy, bootstrap=True, n_estimators=100, max_features=5, class_weight=balanced, max_depth=15, min_samples_split=15, min_samples_leaf=15, score=0.41860465116279066, total=   0.7s\n",
      "[Parallel(n_jobs=1)]: Done 440 out of 440 | elapsed: 20.6min remaining:    0.0s\n",
      "[CV] criterion=entropy, bootstrap=False, n_estimators=300, max_features=10, class_weight=None, max_depth=5, min_samples_split=15, min_samples_leaf=10 \n"
     ]
    },
    {
     "name": "stderr",
     "output_type": "stream",
     "text": [
      "C:\\Users\\dell\\AppData\\Local\\conda\\conda\\envs\\tensorflow\\lib\\site-packages\\sklearn\\metrics\\classification.py:1135: UndefinedMetricWarning: F-score is ill-defined and being set to 0.0 due to no predicted samples.\n",
      "  'precision', 'predicted', average, warn_for)\n",
      "C:\\Users\\dell\\AppData\\Local\\conda\\conda\\envs\\tensorflow\\lib\\site-packages\\sklearn\\metrics\\classification.py:1135: UndefinedMetricWarning: F-score is ill-defined and being set to 0.0 due to no predicted samples.\n",
      "  'precision', 'predicted', average, warn_for)\n"
     ]
    },
    {
     "name": "stdout",
     "output_type": "stream",
     "text": [
      "[CV]  criterion=entropy, bootstrap=False, n_estimators=300, max_features=10, class_weight=None, max_depth=5, min_samples_split=15, min_samples_leaf=10, score=0.0, total=   2.1s\n",
      "[Parallel(n_jobs=1)]: Done 441 out of 441 | elapsed: 20.7min remaining:    0.0s\n",
      "[CV] criterion=entropy, bootstrap=False, n_estimators=300, max_features=10, class_weight=None, max_depth=5, min_samples_split=15, min_samples_leaf=10 \n"
     ]
    },
    {
     "name": "stderr",
     "output_type": "stream",
     "text": [
      "C:\\Users\\dell\\AppData\\Local\\conda\\conda\\envs\\tensorflow\\lib\\site-packages\\sklearn\\metrics\\classification.py:1135: UndefinedMetricWarning: F-score is ill-defined and being set to 0.0 due to no predicted samples.\n",
      "  'precision', 'predicted', average, warn_for)\n",
      "C:\\Users\\dell\\AppData\\Local\\conda\\conda\\envs\\tensorflow\\lib\\site-packages\\sklearn\\metrics\\classification.py:1135: UndefinedMetricWarning: F-score is ill-defined and being set to 0.0 due to no predicted samples.\n",
      "  'precision', 'predicted', average, warn_for)\n"
     ]
    },
    {
     "name": "stdout",
     "output_type": "stream",
     "text": [
      "[CV]  criterion=entropy, bootstrap=False, n_estimators=300, max_features=10, class_weight=None, max_depth=5, min_samples_split=15, min_samples_leaf=10, score=0.0, total=   1.6s\n",
      "[Parallel(n_jobs=1)]: Done 442 out of 442 | elapsed: 20.7min remaining:    0.0s\n",
      "[CV] criterion=entropy, bootstrap=False, n_estimators=300, max_features=10, class_weight=None, max_depth=5, min_samples_split=15, min_samples_leaf=10 \n"
     ]
    },
    {
     "name": "stderr",
     "output_type": "stream",
     "text": [
      "C:\\Users\\dell\\AppData\\Local\\conda\\conda\\envs\\tensorflow\\lib\\site-packages\\sklearn\\metrics\\classification.py:1135: UndefinedMetricWarning: F-score is ill-defined and being set to 0.0 due to no predicted samples.\n",
      "  'precision', 'predicted', average, warn_for)\n",
      "C:\\Users\\dell\\AppData\\Local\\conda\\conda\\envs\\tensorflow\\lib\\site-packages\\sklearn\\metrics\\classification.py:1135: UndefinedMetricWarning: F-score is ill-defined and being set to 0.0 due to no predicted samples.\n",
      "  'precision', 'predicted', average, warn_for)\n"
     ]
    },
    {
     "name": "stdout",
     "output_type": "stream",
     "text": [
      "[CV]  criterion=entropy, bootstrap=False, n_estimators=300, max_features=10, class_weight=None, max_depth=5, min_samples_split=15, min_samples_leaf=10, score=0.0, total=   1.6s\n",
      "[Parallel(n_jobs=1)]: Done 443 out of 443 | elapsed: 20.7min remaining:    0.0s\n",
      "[CV] criterion=entropy, bootstrap=False, n_estimators=300, max_features=10, class_weight=None, max_depth=5, min_samples_split=15, min_samples_leaf=10 \n"
     ]
    },
    {
     "name": "stderr",
     "output_type": "stream",
     "text": [
      "C:\\Users\\dell\\AppData\\Local\\conda\\conda\\envs\\tensorflow\\lib\\site-packages\\sklearn\\metrics\\classification.py:1135: UndefinedMetricWarning: F-score is ill-defined and being set to 0.0 due to no predicted samples.\n",
      "  'precision', 'predicted', average, warn_for)\n",
      "C:\\Users\\dell\\AppData\\Local\\conda\\conda\\envs\\tensorflow\\lib\\site-packages\\sklearn\\metrics\\classification.py:1135: UndefinedMetricWarning: F-score is ill-defined and being set to 0.0 due to no predicted samples.\n",
      "  'precision', 'predicted', average, warn_for)\n"
     ]
    },
    {
     "name": "stdout",
     "output_type": "stream",
     "text": [
      "[CV]  criterion=entropy, bootstrap=False, n_estimators=300, max_features=10, class_weight=None, max_depth=5, min_samples_split=15, min_samples_leaf=10, score=0.0, total=   1.6s\n",
      "[Parallel(n_jobs=1)]: Done 444 out of 444 | elapsed: 20.8min remaining:    0.0s\n",
      "[CV] criterion=entropy, bootstrap=False, n_estimators=300, max_features=10, class_weight=None, max_depth=5, min_samples_split=15, min_samples_leaf=10 \n"
     ]
    },
    {
     "name": "stderr",
     "output_type": "stream",
     "text": [
      "C:\\Users\\dell\\AppData\\Local\\conda\\conda\\envs\\tensorflow\\lib\\site-packages\\sklearn\\metrics\\classification.py:1135: UndefinedMetricWarning: F-score is ill-defined and being set to 0.0 due to no predicted samples.\n",
      "  'precision', 'predicted', average, warn_for)\n",
      "C:\\Users\\dell\\AppData\\Local\\conda\\conda\\envs\\tensorflow\\lib\\site-packages\\sklearn\\metrics\\classification.py:1135: UndefinedMetricWarning: F-score is ill-defined and being set to 0.0 due to no predicted samples.\n",
      "  'precision', 'predicted', average, warn_for)\n"
     ]
    },
    {
     "name": "stdout",
     "output_type": "stream",
     "text": [
      "[CV]  criterion=entropy, bootstrap=False, n_estimators=300, max_features=10, class_weight=None, max_depth=5, min_samples_split=15, min_samples_leaf=10, score=0.0, total=   1.6s\n",
      "[Parallel(n_jobs=1)]: Done 445 out of 445 | elapsed: 20.8min remaining:    0.0s\n",
      "[CV] criterion=entropy, bootstrap=False, n_estimators=300, max_features=10, class_weight=None, max_depth=5, min_samples_split=15, min_samples_leaf=10 \n"
     ]
    },
    {
     "name": "stderr",
     "output_type": "stream",
     "text": [
      "C:\\Users\\dell\\AppData\\Local\\conda\\conda\\envs\\tensorflow\\lib\\site-packages\\sklearn\\metrics\\classification.py:1135: UndefinedMetricWarning: F-score is ill-defined and being set to 0.0 due to no predicted samples.\n",
      "  'precision', 'predicted', average, warn_for)\n",
      "C:\\Users\\dell\\AppData\\Local\\conda\\conda\\envs\\tensorflow\\lib\\site-packages\\sklearn\\metrics\\classification.py:1135: UndefinedMetricWarning: F-score is ill-defined and being set to 0.0 due to no predicted samples.\n",
      "  'precision', 'predicted', average, warn_for)\n"
     ]
    },
    {
     "name": "stdout",
     "output_type": "stream",
     "text": [
      "[CV]  criterion=entropy, bootstrap=False, n_estimators=300, max_features=10, class_weight=None, max_depth=5, min_samples_split=15, min_samples_leaf=10, score=0.0, total=   1.6s\n",
      "[Parallel(n_jobs=1)]: Done 446 out of 446 | elapsed: 20.8min remaining:    0.0s\n",
      "[CV] criterion=entropy, bootstrap=False, n_estimators=300, max_features=10, class_weight=None, max_depth=5, min_samples_split=15, min_samples_leaf=10 \n"
     ]
    },
    {
     "name": "stderr",
     "output_type": "stream",
     "text": [
      "C:\\Users\\dell\\AppData\\Local\\conda\\conda\\envs\\tensorflow\\lib\\site-packages\\sklearn\\metrics\\classification.py:1135: UndefinedMetricWarning: F-score is ill-defined and being set to 0.0 due to no predicted samples.\n",
      "  'precision', 'predicted', average, warn_for)\n",
      "C:\\Users\\dell\\AppData\\Local\\conda\\conda\\envs\\tensorflow\\lib\\site-packages\\sklearn\\metrics\\classification.py:1135: UndefinedMetricWarning: F-score is ill-defined and being set to 0.0 due to no predicted samples.\n",
      "  'precision', 'predicted', average, warn_for)\n"
     ]
    },
    {
     "name": "stdout",
     "output_type": "stream",
     "text": [
      "[CV]  criterion=entropy, bootstrap=False, n_estimators=300, max_features=10, class_weight=None, max_depth=5, min_samples_split=15, min_samples_leaf=10, score=0.0, total=   2.1s\n",
      "[Parallel(n_jobs=1)]: Done 447 out of 447 | elapsed: 20.9min remaining:    0.0s\n",
      "[CV] criterion=entropy, bootstrap=False, n_estimators=300, max_features=10, class_weight=None, max_depth=5, min_samples_split=15, min_samples_leaf=10 \n"
     ]
    },
    {
     "name": "stderr",
     "output_type": "stream",
     "text": [
      "C:\\Users\\dell\\AppData\\Local\\conda\\conda\\envs\\tensorflow\\lib\\site-packages\\sklearn\\metrics\\classification.py:1135: UndefinedMetricWarning: F-score is ill-defined and being set to 0.0 due to no predicted samples.\n",
      "  'precision', 'predicted', average, warn_for)\n",
      "C:\\Users\\dell\\AppData\\Local\\conda\\conda\\envs\\tensorflow\\lib\\site-packages\\sklearn\\metrics\\classification.py:1135: UndefinedMetricWarning: F-score is ill-defined and being set to 0.0 due to no predicted samples.\n",
      "  'precision', 'predicted', average, warn_for)\n"
     ]
    },
    {
     "name": "stdout",
     "output_type": "stream",
     "text": [
      "[CV]  criterion=entropy, bootstrap=False, n_estimators=300, max_features=10, class_weight=None, max_depth=5, min_samples_split=15, min_samples_leaf=10, score=0.0, total=   2.2s\n",
      "[Parallel(n_jobs=1)]: Done 448 out of 448 | elapsed: 20.9min remaining:    0.0s\n",
      "[CV] criterion=entropy, bootstrap=False, n_estimators=300, max_features=10, class_weight=None, max_depth=5, min_samples_split=15, min_samples_leaf=10 \n"
     ]
    },
    {
     "name": "stderr",
     "output_type": "stream",
     "text": [
      "C:\\Users\\dell\\AppData\\Local\\conda\\conda\\envs\\tensorflow\\lib\\site-packages\\sklearn\\metrics\\classification.py:1135: UndefinedMetricWarning: F-score is ill-defined and being set to 0.0 due to no predicted samples.\n",
      "  'precision', 'predicted', average, warn_for)\n",
      "C:\\Users\\dell\\AppData\\Local\\conda\\conda\\envs\\tensorflow\\lib\\site-packages\\sklearn\\metrics\\classification.py:1135: UndefinedMetricWarning: F-score is ill-defined and being set to 0.0 due to no predicted samples.\n",
      "  'precision', 'predicted', average, warn_for)\n"
     ]
    },
    {
     "name": "stdout",
     "output_type": "stream",
     "text": [
      "[CV]  criterion=entropy, bootstrap=False, n_estimators=300, max_features=10, class_weight=None, max_depth=5, min_samples_split=15, min_samples_leaf=10, score=0.0, total=   1.7s\n",
      "[Parallel(n_jobs=1)]: Done 449 out of 449 | elapsed: 21.0min remaining:    0.0s\n",
      "[CV] criterion=entropy, bootstrap=False, n_estimators=300, max_features=10, class_weight=None, max_depth=5, min_samples_split=15, min_samples_leaf=10 \n"
     ]
    },
    {
     "name": "stderr",
     "output_type": "stream",
     "text": [
      "C:\\Users\\dell\\AppData\\Local\\conda\\conda\\envs\\tensorflow\\lib\\site-packages\\sklearn\\metrics\\classification.py:1135: UndefinedMetricWarning: F-score is ill-defined and being set to 0.0 due to no predicted samples.\n",
      "  'precision', 'predicted', average, warn_for)\n",
      "C:\\Users\\dell\\AppData\\Local\\conda\\conda\\envs\\tensorflow\\lib\\site-packages\\sklearn\\metrics\\classification.py:1135: UndefinedMetricWarning: F-score is ill-defined and being set to 0.0 due to no predicted samples.\n",
      "  'precision', 'predicted', average, warn_for)\n"
     ]
    },
    {
     "name": "stdout",
     "output_type": "stream",
     "text": [
      "[CV]  criterion=entropy, bootstrap=False, n_estimators=300, max_features=10, class_weight=None, max_depth=5, min_samples_split=15, min_samples_leaf=10, score=0.0, total=   1.6s\n",
      "[Parallel(n_jobs=1)]: Done 450 out of 450 | elapsed: 21.0min remaining:    0.0s\n",
      "[CV] criterion=entropy, bootstrap=False, n_estimators=300, max_features=5, class_weight=None, max_depth=15, min_samples_split=10, min_samples_leaf=15 \n"
     ]
    },
    {
     "name": "stderr",
     "output_type": "stream",
     "text": [
      "C:\\Users\\dell\\AppData\\Local\\conda\\conda\\envs\\tensorflow\\lib\\site-packages\\sklearn\\metrics\\classification.py:1135: UndefinedMetricWarning: F-score is ill-defined and being set to 0.0 due to no predicted samples.\n",
      "  'precision', 'predicted', average, warn_for)\n",
      "C:\\Users\\dell\\AppData\\Local\\conda\\conda\\envs\\tensorflow\\lib\\site-packages\\sklearn\\metrics\\classification.py:1135: UndefinedMetricWarning: F-score is ill-defined and being set to 0.0 due to no predicted samples.\n",
      "  'precision', 'predicted', average, warn_for)\n"
     ]
    },
    {
     "name": "stdout",
     "output_type": "stream",
     "text": [
      "[CV]  criterion=entropy, bootstrap=False, n_estimators=300, max_features=5, class_weight=None, max_depth=15, min_samples_split=10, min_samples_leaf=15, score=0.0, total=   2.0s\n",
      "[Parallel(n_jobs=1)]: Done 451 out of 451 | elapsed: 21.0min remaining:    0.0s\n",
      "[CV] criterion=entropy, bootstrap=False, n_estimators=300, max_features=5, class_weight=None, max_depth=15, min_samples_split=10, min_samples_leaf=15 \n"
     ]
    },
    {
     "name": "stderr",
     "output_type": "stream",
     "text": [
      "C:\\Users\\dell\\AppData\\Local\\conda\\conda\\envs\\tensorflow\\lib\\site-packages\\sklearn\\metrics\\classification.py:1135: UndefinedMetricWarning: F-score is ill-defined and being set to 0.0 due to no predicted samples.\n",
      "  'precision', 'predicted', average, warn_for)\n",
      "C:\\Users\\dell\\AppData\\Local\\conda\\conda\\envs\\tensorflow\\lib\\site-packages\\sklearn\\metrics\\classification.py:1135: UndefinedMetricWarning: F-score is ill-defined and being set to 0.0 due to no predicted samples.\n",
      "  'precision', 'predicted', average, warn_for)\n"
     ]
    },
    {
     "name": "stdout",
     "output_type": "stream",
     "text": [
      "[CV]  criterion=entropy, bootstrap=False, n_estimators=300, max_features=5, class_weight=None, max_depth=15, min_samples_split=10, min_samples_leaf=15, score=0.0, total=   2.0s\n",
      "[Parallel(n_jobs=1)]: Done 452 out of 452 | elapsed: 21.1min remaining:    0.0s\n",
      "[CV] criterion=entropy, bootstrap=False, n_estimators=300, max_features=5, class_weight=None, max_depth=15, min_samples_split=10, min_samples_leaf=15 \n"
     ]
    },
    {
     "name": "stderr",
     "output_type": "stream",
     "text": [
      "C:\\Users\\dell\\AppData\\Local\\conda\\conda\\envs\\tensorflow\\lib\\site-packages\\sklearn\\metrics\\classification.py:1135: UndefinedMetricWarning: F-score is ill-defined and being set to 0.0 due to no predicted samples.\n",
      "  'precision', 'predicted', average, warn_for)\n",
      "C:\\Users\\dell\\AppData\\Local\\conda\\conda\\envs\\tensorflow\\lib\\site-packages\\sklearn\\metrics\\classification.py:1135: UndefinedMetricWarning: F-score is ill-defined and being set to 0.0 due to no predicted samples.\n",
      "  'precision', 'predicted', average, warn_for)\n"
     ]
    },
    {
     "name": "stdout",
     "output_type": "stream",
     "text": [
      "[CV]  criterion=entropy, bootstrap=False, n_estimators=300, max_features=5, class_weight=None, max_depth=15, min_samples_split=10, min_samples_leaf=15, score=0.0, total=   2.3s\n",
      "[Parallel(n_jobs=1)]: Done 453 out of 453 | elapsed: 21.1min remaining:    0.0s\n",
      "[CV] criterion=entropy, bootstrap=False, n_estimators=300, max_features=5, class_weight=None, max_depth=15, min_samples_split=10, min_samples_leaf=15 \n"
     ]
    },
    {
     "name": "stderr",
     "output_type": "stream",
     "text": [
      "C:\\Users\\dell\\AppData\\Local\\conda\\conda\\envs\\tensorflow\\lib\\site-packages\\sklearn\\metrics\\classification.py:1135: UndefinedMetricWarning: F-score is ill-defined and being set to 0.0 due to no predicted samples.\n",
      "  'precision', 'predicted', average, warn_for)\n",
      "C:\\Users\\dell\\AppData\\Local\\conda\\conda\\envs\\tensorflow\\lib\\site-packages\\sklearn\\metrics\\classification.py:1135: UndefinedMetricWarning: F-score is ill-defined and being set to 0.0 due to no predicted samples.\n",
      "  'precision', 'predicted', average, warn_for)\n"
     ]
    },
    {
     "name": "stdout",
     "output_type": "stream",
     "text": [
      "[CV]  criterion=entropy, bootstrap=False, n_estimators=300, max_features=5, class_weight=None, max_depth=15, min_samples_split=10, min_samples_leaf=15, score=0.0, total=   2.7s\n",
      "[Parallel(n_jobs=1)]: Done 454 out of 454 | elapsed: 21.2min remaining:    0.0s\n",
      "[CV] criterion=entropy, bootstrap=False, n_estimators=300, max_features=5, class_weight=None, max_depth=15, min_samples_split=10, min_samples_leaf=15 \n"
     ]
    },
    {
     "name": "stderr",
     "output_type": "stream",
     "text": [
      "C:\\Users\\dell\\AppData\\Local\\conda\\conda\\envs\\tensorflow\\lib\\site-packages\\sklearn\\metrics\\classification.py:1135: UndefinedMetricWarning: F-score is ill-defined and being set to 0.0 due to no predicted samples.\n",
      "  'precision', 'predicted', average, warn_for)\n",
      "C:\\Users\\dell\\AppData\\Local\\conda\\conda\\envs\\tensorflow\\lib\\site-packages\\sklearn\\metrics\\classification.py:1135: UndefinedMetricWarning: F-score is ill-defined and being set to 0.0 due to no predicted samples.\n",
      "  'precision', 'predicted', average, warn_for)\n"
     ]
    },
    {
     "name": "stdout",
     "output_type": "stream",
     "text": [
      "[CV]  criterion=entropy, bootstrap=False, n_estimators=300, max_features=5, class_weight=None, max_depth=15, min_samples_split=10, min_samples_leaf=15, score=0.0, total=   2.2s\n",
      "[Parallel(n_jobs=1)]: Done 455 out of 455 | elapsed: 21.2min remaining:    0.0s\n",
      "[CV] criterion=entropy, bootstrap=False, n_estimators=300, max_features=5, class_weight=None, max_depth=15, min_samples_split=10, min_samples_leaf=15 \n"
     ]
    },
    {
     "name": "stderr",
     "output_type": "stream",
     "text": [
      "C:\\Users\\dell\\AppData\\Local\\conda\\conda\\envs\\tensorflow\\lib\\site-packages\\sklearn\\metrics\\classification.py:1135: UndefinedMetricWarning: F-score is ill-defined and being set to 0.0 due to no predicted samples.\n",
      "  'precision', 'predicted', average, warn_for)\n",
      "C:\\Users\\dell\\AppData\\Local\\conda\\conda\\envs\\tensorflow\\lib\\site-packages\\sklearn\\metrics\\classification.py:1135: UndefinedMetricWarning: F-score is ill-defined and being set to 0.0 due to no predicted samples.\n",
      "  'precision', 'predicted', average, warn_for)\n"
     ]
    },
    {
     "name": "stdout",
     "output_type": "stream",
     "text": [
      "[CV]  criterion=entropy, bootstrap=False, n_estimators=300, max_features=5, class_weight=None, max_depth=15, min_samples_split=10, min_samples_leaf=15, score=0.0, total=   2.0s\n",
      "[Parallel(n_jobs=1)]: Done 456 out of 456 | elapsed: 21.3min remaining:    0.0s\n",
      "[CV] criterion=entropy, bootstrap=False, n_estimators=300, max_features=5, class_weight=None, max_depth=15, min_samples_split=10, min_samples_leaf=15 \n"
     ]
    },
    {
     "name": "stderr",
     "output_type": "stream",
     "text": [
      "C:\\Users\\dell\\AppData\\Local\\conda\\conda\\envs\\tensorflow\\lib\\site-packages\\sklearn\\metrics\\classification.py:1135: UndefinedMetricWarning: F-score is ill-defined and being set to 0.0 due to no predicted samples.\n",
      "  'precision', 'predicted', average, warn_for)\n",
      "C:\\Users\\dell\\AppData\\Local\\conda\\conda\\envs\\tensorflow\\lib\\site-packages\\sklearn\\metrics\\classification.py:1135: UndefinedMetricWarning: F-score is ill-defined and being set to 0.0 due to no predicted samples.\n",
      "  'precision', 'predicted', average, warn_for)\n"
     ]
    },
    {
     "name": "stdout",
     "output_type": "stream",
     "text": [
      "[CV]  criterion=entropy, bootstrap=False, n_estimators=300, max_features=5, class_weight=None, max_depth=15, min_samples_split=10, min_samples_leaf=15, score=0.0, total=   2.0s\n",
      "[Parallel(n_jobs=1)]: Done 457 out of 457 | elapsed: 21.3min remaining:    0.0s\n",
      "[CV] criterion=entropy, bootstrap=False, n_estimators=300, max_features=5, class_weight=None, max_depth=15, min_samples_split=10, min_samples_leaf=15 \n"
     ]
    },
    {
     "name": "stderr",
     "output_type": "stream",
     "text": [
      "C:\\Users\\dell\\AppData\\Local\\conda\\conda\\envs\\tensorflow\\lib\\site-packages\\sklearn\\metrics\\classification.py:1135: UndefinedMetricWarning: F-score is ill-defined and being set to 0.0 due to no predicted samples.\n",
      "  'precision', 'predicted', average, warn_for)\n",
      "C:\\Users\\dell\\AppData\\Local\\conda\\conda\\envs\\tensorflow\\lib\\site-packages\\sklearn\\metrics\\classification.py:1135: UndefinedMetricWarning: F-score is ill-defined and being set to 0.0 due to no predicted samples.\n",
      "  'precision', 'predicted', average, warn_for)\n"
     ]
    },
    {
     "name": "stdout",
     "output_type": "stream",
     "text": [
      "[CV]  criterion=entropy, bootstrap=False, n_estimators=300, max_features=5, class_weight=None, max_depth=15, min_samples_split=10, min_samples_leaf=15, score=0.0, total=   2.0s\n",
      "[Parallel(n_jobs=1)]: Done 458 out of 458 | elapsed: 21.4min remaining:    0.0s\n",
      "[CV] criterion=entropy, bootstrap=False, n_estimators=300, max_features=5, class_weight=None, max_depth=15, min_samples_split=10, min_samples_leaf=15 \n"
     ]
    },
    {
     "name": "stderr",
     "output_type": "stream",
     "text": [
      "C:\\Users\\dell\\AppData\\Local\\conda\\conda\\envs\\tensorflow\\lib\\site-packages\\sklearn\\metrics\\classification.py:1135: UndefinedMetricWarning: F-score is ill-defined and being set to 0.0 due to no predicted samples.\n",
      "  'precision', 'predicted', average, warn_for)\n",
      "C:\\Users\\dell\\AppData\\Local\\conda\\conda\\envs\\tensorflow\\lib\\site-packages\\sklearn\\metrics\\classification.py:1135: UndefinedMetricWarning: F-score is ill-defined and being set to 0.0 due to no predicted samples.\n",
      "  'precision', 'predicted', average, warn_for)\n"
     ]
    },
    {
     "name": "stdout",
     "output_type": "stream",
     "text": [
      "[CV]  criterion=entropy, bootstrap=False, n_estimators=300, max_features=5, class_weight=None, max_depth=15, min_samples_split=10, min_samples_leaf=15, score=0.0, total=   2.4s\n",
      "[Parallel(n_jobs=1)]: Done 459 out of 459 | elapsed: 21.4min remaining:    0.0s\n",
      "[CV] criterion=entropy, bootstrap=False, n_estimators=300, max_features=5, class_weight=None, max_depth=15, min_samples_split=10, min_samples_leaf=15 \n"
     ]
    },
    {
     "name": "stderr",
     "output_type": "stream",
     "text": [
      "C:\\Users\\dell\\AppData\\Local\\conda\\conda\\envs\\tensorflow\\lib\\site-packages\\sklearn\\metrics\\classification.py:1135: UndefinedMetricWarning: F-score is ill-defined and being set to 0.0 due to no predicted samples.\n",
      "  'precision', 'predicted', average, warn_for)\n",
      "C:\\Users\\dell\\AppData\\Local\\conda\\conda\\envs\\tensorflow\\lib\\site-packages\\sklearn\\metrics\\classification.py:1135: UndefinedMetricWarning: F-score is ill-defined and being set to 0.0 due to no predicted samples.\n",
      "  'precision', 'predicted', average, warn_for)\n"
     ]
    },
    {
     "name": "stdout",
     "output_type": "stream",
     "text": [
      "[CV]  criterion=entropy, bootstrap=False, n_estimators=300, max_features=5, class_weight=None, max_depth=15, min_samples_split=10, min_samples_leaf=15, score=0.0, total=   2.7s\n",
      "[Parallel(n_jobs=1)]: Done 460 out of 460 | elapsed: 21.5min remaining:    0.0s\n",
      "[CV] criterion=entropy, bootstrap=False, n_estimators=100, max_features=20, class_weight=None, max_depth=15, min_samples_split=20, min_samples_leaf=20 \n"
     ]
    },
    {
     "name": "stderr",
     "output_type": "stream",
     "text": [
      "C:\\Users\\dell\\AppData\\Local\\conda\\conda\\envs\\tensorflow\\lib\\site-packages\\sklearn\\metrics\\classification.py:1135: UndefinedMetricWarning: F-score is ill-defined and being set to 0.0 due to no predicted samples.\n",
      "  'precision', 'predicted', average, warn_for)\n",
      "C:\\Users\\dell\\AppData\\Local\\conda\\conda\\envs\\tensorflow\\lib\\site-packages\\sklearn\\metrics\\classification.py:1135: UndefinedMetricWarning: F-score is ill-defined and being set to 0.0 due to no predicted samples.\n",
      "  'precision', 'predicted', average, warn_for)\n"
     ]
    },
    {
     "name": "stdout",
     "output_type": "stream",
     "text": [
      "[CV]  criterion=entropy, bootstrap=False, n_estimators=100, max_features=20, class_weight=None, max_depth=15, min_samples_split=20, min_samples_leaf=20, score=0.0, total=   1.5s\n",
      "[Parallel(n_jobs=1)]: Done 461 out of 461 | elapsed: 21.5min remaining:    0.0s\n",
      "[CV] criterion=entropy, bootstrap=False, n_estimators=100, max_features=20, class_weight=None, max_depth=15, min_samples_split=20, min_samples_leaf=20 \n"
     ]
    },
    {
     "name": "stderr",
     "output_type": "stream",
     "text": [
      "C:\\Users\\dell\\AppData\\Local\\conda\\conda\\envs\\tensorflow\\lib\\site-packages\\sklearn\\metrics\\classification.py:1135: UndefinedMetricWarning: F-score is ill-defined and being set to 0.0 due to no predicted samples.\n",
      "  'precision', 'predicted', average, warn_for)\n",
      "C:\\Users\\dell\\AppData\\Local\\conda\\conda\\envs\\tensorflow\\lib\\site-packages\\sklearn\\metrics\\classification.py:1135: UndefinedMetricWarning: F-score is ill-defined and being set to 0.0 due to no predicted samples.\n",
      "  'precision', 'predicted', average, warn_for)\n"
     ]
    },
    {
     "name": "stdout",
     "output_type": "stream",
     "text": [
      "[CV]  criterion=entropy, bootstrap=False, n_estimators=100, max_features=20, class_weight=None, max_depth=15, min_samples_split=20, min_samples_leaf=20, score=0.0, total=   1.6s\n",
      "[Parallel(n_jobs=1)]: Done 462 out of 462 | elapsed: 21.5min remaining:    0.0s\n",
      "[CV] criterion=entropy, bootstrap=False, n_estimators=100, max_features=20, class_weight=None, max_depth=15, min_samples_split=20, min_samples_leaf=20 \n"
     ]
    },
    {
     "name": "stderr",
     "output_type": "stream",
     "text": [
      "C:\\Users\\dell\\AppData\\Local\\conda\\conda\\envs\\tensorflow\\lib\\site-packages\\sklearn\\metrics\\classification.py:1135: UndefinedMetricWarning: F-score is ill-defined and being set to 0.0 due to no predicted samples.\n",
      "  'precision', 'predicted', average, warn_for)\n",
      "C:\\Users\\dell\\AppData\\Local\\conda\\conda\\envs\\tensorflow\\lib\\site-packages\\sklearn\\metrics\\classification.py:1135: UndefinedMetricWarning: F-score is ill-defined and being set to 0.0 due to no predicted samples.\n",
      "  'precision', 'predicted', average, warn_for)\n"
     ]
    },
    {
     "name": "stdout",
     "output_type": "stream",
     "text": [
      "[CV]  criterion=entropy, bootstrap=False, n_estimators=100, max_features=20, class_weight=None, max_depth=15, min_samples_split=20, min_samples_leaf=20, score=0.0, total=   1.5s\n",
      "[Parallel(n_jobs=1)]: Done 463 out of 463 | elapsed: 21.6min remaining:    0.0s\n",
      "[CV] criterion=entropy, bootstrap=False, n_estimators=100, max_features=20, class_weight=None, max_depth=15, min_samples_split=20, min_samples_leaf=20 \n"
     ]
    },
    {
     "name": "stderr",
     "output_type": "stream",
     "text": [
      "C:\\Users\\dell\\AppData\\Local\\conda\\conda\\envs\\tensorflow\\lib\\site-packages\\sklearn\\metrics\\classification.py:1135: UndefinedMetricWarning: F-score is ill-defined and being set to 0.0 due to no predicted samples.\n",
      "  'precision', 'predicted', average, warn_for)\n",
      "C:\\Users\\dell\\AppData\\Local\\conda\\conda\\envs\\tensorflow\\lib\\site-packages\\sklearn\\metrics\\classification.py:1135: UndefinedMetricWarning: F-score is ill-defined and being set to 0.0 due to no predicted samples.\n",
      "  'precision', 'predicted', average, warn_for)\n"
     ]
    },
    {
     "name": "stdout",
     "output_type": "stream",
     "text": [
      "[CV]  criterion=entropy, bootstrap=False, n_estimators=100, max_features=20, class_weight=None, max_depth=15, min_samples_split=20, min_samples_leaf=20, score=0.0, total=   1.6s\n",
      "[Parallel(n_jobs=1)]: Done 464 out of 464 | elapsed: 21.6min remaining:    0.0s\n",
      "[CV] criterion=entropy, bootstrap=False, n_estimators=100, max_features=20, class_weight=None, max_depth=15, min_samples_split=20, min_samples_leaf=20 \n"
     ]
    },
    {
     "name": "stderr",
     "output_type": "stream",
     "text": [
      "C:\\Users\\dell\\AppData\\Local\\conda\\conda\\envs\\tensorflow\\lib\\site-packages\\sklearn\\metrics\\classification.py:1135: UndefinedMetricWarning: F-score is ill-defined and being set to 0.0 due to no predicted samples.\n",
      "  'precision', 'predicted', average, warn_for)\n",
      "C:\\Users\\dell\\AppData\\Local\\conda\\conda\\envs\\tensorflow\\lib\\site-packages\\sklearn\\metrics\\classification.py:1135: UndefinedMetricWarning: F-score is ill-defined and being set to 0.0 due to no predicted samples.\n",
      "  'precision', 'predicted', average, warn_for)\n"
     ]
    },
    {
     "name": "stdout",
     "output_type": "stream",
     "text": [
      "[CV]  criterion=entropy, bootstrap=False, n_estimators=100, max_features=20, class_weight=None, max_depth=15, min_samples_split=20, min_samples_leaf=20, score=0.0, total=   1.6s\n",
      "[Parallel(n_jobs=1)]: Done 465 out of 465 | elapsed: 21.6min remaining:    0.0s\n",
      "[CV] criterion=entropy, bootstrap=False, n_estimators=100, max_features=20, class_weight=None, max_depth=15, min_samples_split=20, min_samples_leaf=20 \n"
     ]
    },
    {
     "name": "stderr",
     "output_type": "stream",
     "text": [
      "C:\\Users\\dell\\AppData\\Local\\conda\\conda\\envs\\tensorflow\\lib\\site-packages\\sklearn\\metrics\\classification.py:1135: UndefinedMetricWarning: F-score is ill-defined and being set to 0.0 due to no predicted samples.\n",
      "  'precision', 'predicted', average, warn_for)\n",
      "C:\\Users\\dell\\AppData\\Local\\conda\\conda\\envs\\tensorflow\\lib\\site-packages\\sklearn\\metrics\\classification.py:1135: UndefinedMetricWarning: F-score is ill-defined and being set to 0.0 due to no predicted samples.\n",
      "  'precision', 'predicted', average, warn_for)\n"
     ]
    },
    {
     "name": "stdout",
     "output_type": "stream",
     "text": [
      "[CV]  criterion=entropy, bootstrap=False, n_estimators=100, max_features=20, class_weight=None, max_depth=15, min_samples_split=20, min_samples_leaf=20, score=0.0, total=   1.7s\n",
      "[Parallel(n_jobs=1)]: Done 466 out of 466 | elapsed: 21.7min remaining:    0.0s\n",
      "[CV] criterion=entropy, bootstrap=False, n_estimators=100, max_features=20, class_weight=None, max_depth=15, min_samples_split=20, min_samples_leaf=20 \n"
     ]
    },
    {
     "name": "stderr",
     "output_type": "stream",
     "text": [
      "C:\\Users\\dell\\AppData\\Local\\conda\\conda\\envs\\tensorflow\\lib\\site-packages\\sklearn\\metrics\\classification.py:1135: UndefinedMetricWarning: F-score is ill-defined and being set to 0.0 due to no predicted samples.\n",
      "  'precision', 'predicted', average, warn_for)\n",
      "C:\\Users\\dell\\AppData\\Local\\conda\\conda\\envs\\tensorflow\\lib\\site-packages\\sklearn\\metrics\\classification.py:1135: UndefinedMetricWarning: F-score is ill-defined and being set to 0.0 due to no predicted samples.\n",
      "  'precision', 'predicted', average, warn_for)\n"
     ]
    },
    {
     "name": "stdout",
     "output_type": "stream",
     "text": [
      "[CV]  criterion=entropy, bootstrap=False, n_estimators=100, max_features=20, class_weight=None, max_depth=15, min_samples_split=20, min_samples_leaf=20, score=0.0, total=   2.1s\n",
      "[Parallel(n_jobs=1)]: Done 467 out of 467 | elapsed: 21.7min remaining:    0.0s\n",
      "[CV] criterion=entropy, bootstrap=False, n_estimators=100, max_features=20, class_weight=None, max_depth=15, min_samples_split=20, min_samples_leaf=20 \n"
     ]
    },
    {
     "name": "stderr",
     "output_type": "stream",
     "text": [
      "C:\\Users\\dell\\AppData\\Local\\conda\\conda\\envs\\tensorflow\\lib\\site-packages\\sklearn\\metrics\\classification.py:1135: UndefinedMetricWarning: F-score is ill-defined and being set to 0.0 due to no predicted samples.\n",
      "  'precision', 'predicted', average, warn_for)\n",
      "C:\\Users\\dell\\AppData\\Local\\conda\\conda\\envs\\tensorflow\\lib\\site-packages\\sklearn\\metrics\\classification.py:1135: UndefinedMetricWarning: F-score is ill-defined and being set to 0.0 due to no predicted samples.\n",
      "  'precision', 'predicted', average, warn_for)\n"
     ]
    },
    {
     "name": "stdout",
     "output_type": "stream",
     "text": [
      "[CV]  criterion=entropy, bootstrap=False, n_estimators=100, max_features=20, class_weight=None, max_depth=15, min_samples_split=20, min_samples_leaf=20, score=0.0, total=   2.3s\n",
      "[Parallel(n_jobs=1)]: Done 468 out of 468 | elapsed: 21.7min remaining:    0.0s\n",
      "[CV] criterion=entropy, bootstrap=False, n_estimators=100, max_features=20, class_weight=None, max_depth=15, min_samples_split=20, min_samples_leaf=20 \n"
     ]
    },
    {
     "name": "stderr",
     "output_type": "stream",
     "text": [
      "C:\\Users\\dell\\AppData\\Local\\conda\\conda\\envs\\tensorflow\\lib\\site-packages\\sklearn\\metrics\\classification.py:1135: UndefinedMetricWarning: F-score is ill-defined and being set to 0.0 due to no predicted samples.\n",
      "  'precision', 'predicted', average, warn_for)\n",
      "C:\\Users\\dell\\AppData\\Local\\conda\\conda\\envs\\tensorflow\\lib\\site-packages\\sklearn\\metrics\\classification.py:1135: UndefinedMetricWarning: F-score is ill-defined and being set to 0.0 due to no predicted samples.\n",
      "  'precision', 'predicted', average, warn_for)\n"
     ]
    },
    {
     "name": "stdout",
     "output_type": "stream",
     "text": [
      "[CV]  criterion=entropy, bootstrap=False, n_estimators=100, max_features=20, class_weight=None, max_depth=15, min_samples_split=20, min_samples_leaf=20, score=0.0, total=   1.5s\n",
      "[Parallel(n_jobs=1)]: Done 469 out of 469 | elapsed: 21.8min remaining:    0.0s\n",
      "[CV] criterion=entropy, bootstrap=False, n_estimators=100, max_features=20, class_weight=None, max_depth=15, min_samples_split=20, min_samples_leaf=20 \n"
     ]
    },
    {
     "name": "stderr",
     "output_type": "stream",
     "text": [
      "C:\\Users\\dell\\AppData\\Local\\conda\\conda\\envs\\tensorflow\\lib\\site-packages\\sklearn\\metrics\\classification.py:1135: UndefinedMetricWarning: F-score is ill-defined and being set to 0.0 due to no predicted samples.\n",
      "  'precision', 'predicted', average, warn_for)\n",
      "C:\\Users\\dell\\AppData\\Local\\conda\\conda\\envs\\tensorflow\\lib\\site-packages\\sklearn\\metrics\\classification.py:1135: UndefinedMetricWarning: F-score is ill-defined and being set to 0.0 due to no predicted samples.\n",
      "  'precision', 'predicted', average, warn_for)\n"
     ]
    },
    {
     "name": "stdout",
     "output_type": "stream",
     "text": [
      "[CV]  criterion=entropy, bootstrap=False, n_estimators=100, max_features=20, class_weight=None, max_depth=15, min_samples_split=20, min_samples_leaf=20, score=0.0, total=   1.6s\n",
      "[Parallel(n_jobs=1)]: Done 470 out of 470 | elapsed: 21.8min remaining:    0.0s\n",
      "[CV] criterion=gini, bootstrap=False, n_estimators=300, max_features=10, class_weight=balanced, max_depth=20, min_samples_split=10, min_samples_leaf=15 \n",
      "[CV]  criterion=gini, bootstrap=False, n_estimators=300, max_features=10, class_weight=balanced, max_depth=20, min_samples_split=10, min_samples_leaf=15, score=0.30241935483870963, total=   3.2s\n",
      "[Parallel(n_jobs=1)]: Done 471 out of 471 | elapsed: 21.9min remaining:    0.0s\n",
      "[CV] criterion=gini, bootstrap=False, n_estimators=300, max_features=10, class_weight=balanced, max_depth=20, min_samples_split=10, min_samples_leaf=15 \n",
      "[CV]  criterion=gini, bootstrap=False, n_estimators=300, max_features=10, class_weight=balanced, max_depth=20, min_samples_split=10, min_samples_leaf=15, score=0.28138528138528135, total=   3.9s\n",
      "[Parallel(n_jobs=1)]: Done 472 out of 472 | elapsed: 21.9min remaining:    0.0s\n",
      "[CV] criterion=gini, bootstrap=False, n_estimators=300, max_features=10, class_weight=balanced, max_depth=20, min_samples_split=10, min_samples_leaf=15 \n",
      "[CV]  criterion=gini, bootstrap=False, n_estimators=300, max_features=10, class_weight=balanced, max_depth=20, min_samples_split=10, min_samples_leaf=15, score=0.2954545454545455, total=   4.1s\n",
      "[Parallel(n_jobs=1)]: Done 473 out of 473 | elapsed: 22.0min remaining:    0.0s\n",
      "[CV] criterion=gini, bootstrap=False, n_estimators=300, max_features=10, class_weight=balanced, max_depth=20, min_samples_split=10, min_samples_leaf=15 \n",
      "[CV]  criterion=gini, bootstrap=False, n_estimators=300, max_features=10, class_weight=balanced, max_depth=20, min_samples_split=10, min_samples_leaf=15, score=0.3086419753086419, total=   3.2s\n",
      "[Parallel(n_jobs=1)]: Done 474 out of 474 | elapsed: 22.1min remaining:    0.0s\n",
      "[CV] criterion=gini, bootstrap=False, n_estimators=300, max_features=10, class_weight=balanced, max_depth=20, min_samples_split=10, min_samples_leaf=15 \n",
      "[CV]  criterion=gini, bootstrap=False, n_estimators=300, max_features=10, class_weight=balanced, max_depth=20, min_samples_split=10, min_samples_leaf=15, score=0.397489539748954, total=   3.2s\n",
      "[Parallel(n_jobs=1)]: Done 475 out of 475 | elapsed: 22.1min remaining:    0.0s\n",
      "[CV] criterion=gini, bootstrap=False, n_estimators=300, max_features=10, class_weight=balanced, max_depth=20, min_samples_split=10, min_samples_leaf=15 \n",
      "[CV]  criterion=gini, bootstrap=False, n_estimators=300, max_features=10, class_weight=balanced, max_depth=20, min_samples_split=10, min_samples_leaf=15, score=0.36324786324786323, total=   3.7s\n",
      "[Parallel(n_jobs=1)]: Done 476 out of 476 | elapsed: 22.2min remaining:    0.0s\n",
      "[CV] criterion=gini, bootstrap=False, n_estimators=300, max_features=10, class_weight=balanced, max_depth=20, min_samples_split=10, min_samples_leaf=15 \n",
      "[CV]  criterion=gini, bootstrap=False, n_estimators=300, max_features=10, class_weight=balanced, max_depth=20, min_samples_split=10, min_samples_leaf=15, score=0.32608695652173914, total=   3.8s\n",
      "[Parallel(n_jobs=1)]: Done 477 out of 477 | elapsed: 22.3min remaining:    0.0s\n",
      "[CV] criterion=gini, bootstrap=False, n_estimators=300, max_features=10, class_weight=balanced, max_depth=20, min_samples_split=10, min_samples_leaf=15 \n",
      "[CV]  criterion=gini, bootstrap=False, n_estimators=300, max_features=10, class_weight=balanced, max_depth=20, min_samples_split=10, min_samples_leaf=15, score=0.23109243697478987, total=   3.2s\n",
      "[Parallel(n_jobs=1)]: Done 478 out of 478 | elapsed: 22.4min remaining:    0.0s\n",
      "[CV] criterion=gini, bootstrap=False, n_estimators=300, max_features=10, class_weight=balanced, max_depth=20, min_samples_split=10, min_samples_leaf=15 \n",
      "[CV]  criterion=gini, bootstrap=False, n_estimators=300, max_features=10, class_weight=balanced, max_depth=20, min_samples_split=10, min_samples_leaf=15, score=0.3881278538812785, total=   3.3s\n",
      "[Parallel(n_jobs=1)]: Done 479 out of 479 | elapsed: 22.4min remaining:    0.0s\n",
      "[CV] criterion=gini, bootstrap=False, n_estimators=300, max_features=10, class_weight=balanced, max_depth=20, min_samples_split=10, min_samples_leaf=15 \n",
      "[CV]  criterion=gini, bootstrap=False, n_estimators=300, max_features=10, class_weight=balanced, max_depth=20, min_samples_split=10, min_samples_leaf=15, score=0.3982300884955752, total=   4.3s\n",
      "[Parallel(n_jobs=1)]: Done 480 out of 480 | elapsed: 22.5min remaining:    0.0s\n",
      "[CV] criterion=entropy, bootstrap=False, n_estimators=300, max_features=10, class_weight=None, max_depth=20, min_samples_split=15, min_samples_leaf=20 \n"
     ]
    },
    {
     "name": "stderr",
     "output_type": "stream",
     "text": [
      "C:\\Users\\dell\\AppData\\Local\\conda\\conda\\envs\\tensorflow\\lib\\site-packages\\sklearn\\metrics\\classification.py:1135: UndefinedMetricWarning: F-score is ill-defined and being set to 0.0 due to no predicted samples.\n",
      "  'precision', 'predicted', average, warn_for)\n",
      "C:\\Users\\dell\\AppData\\Local\\conda\\conda\\envs\\tensorflow\\lib\\site-packages\\sklearn\\metrics\\classification.py:1135: UndefinedMetricWarning: F-score is ill-defined and being set to 0.0 due to no predicted samples.\n",
      "  'precision', 'predicted', average, warn_for)\n"
     ]
    },
    {
     "name": "stdout",
     "output_type": "stream",
     "text": [
      "[CV]  criterion=entropy, bootstrap=False, n_estimators=300, max_features=10, class_weight=None, max_depth=20, min_samples_split=15, min_samples_leaf=20, score=0.0, total=   3.6s\n",
      "[Parallel(n_jobs=1)]: Done 481 out of 481 | elapsed: 22.6min remaining:    0.0s\n",
      "[CV] criterion=entropy, bootstrap=False, n_estimators=300, max_features=10, class_weight=None, max_depth=20, min_samples_split=15, min_samples_leaf=20 \n"
     ]
    },
    {
     "name": "stderr",
     "output_type": "stream",
     "text": [
      "C:\\Users\\dell\\AppData\\Local\\conda\\conda\\envs\\tensorflow\\lib\\site-packages\\sklearn\\metrics\\classification.py:1135: UndefinedMetricWarning: F-score is ill-defined and being set to 0.0 due to no predicted samples.\n",
      "  'precision', 'predicted', average, warn_for)\n",
      "C:\\Users\\dell\\AppData\\Local\\conda\\conda\\envs\\tensorflow\\lib\\site-packages\\sklearn\\metrics\\classification.py:1135: UndefinedMetricWarning: F-score is ill-defined and being set to 0.0 due to no predicted samples.\n",
      "  'precision', 'predicted', average, warn_for)\n"
     ]
    },
    {
     "name": "stdout",
     "output_type": "stream",
     "text": [
      "[CV]  criterion=entropy, bootstrap=False, n_estimators=300, max_features=10, class_weight=None, max_depth=20, min_samples_split=15, min_samples_leaf=20, score=0.0, total=   3.1s\n",
      "[Parallel(n_jobs=1)]: Done 482 out of 482 | elapsed: 22.6min remaining:    0.0s\n",
      "[CV] criterion=entropy, bootstrap=False, n_estimators=300, max_features=10, class_weight=None, max_depth=20, min_samples_split=15, min_samples_leaf=20 \n"
     ]
    },
    {
     "name": "stderr",
     "output_type": "stream",
     "text": [
      "C:\\Users\\dell\\AppData\\Local\\conda\\conda\\envs\\tensorflow\\lib\\site-packages\\sklearn\\metrics\\classification.py:1135: UndefinedMetricWarning: F-score is ill-defined and being set to 0.0 due to no predicted samples.\n",
      "  'precision', 'predicted', average, warn_for)\n",
      "C:\\Users\\dell\\AppData\\Local\\conda\\conda\\envs\\tensorflow\\lib\\site-packages\\sklearn\\metrics\\classification.py:1135: UndefinedMetricWarning: F-score is ill-defined and being set to 0.0 due to no predicted samples.\n",
      "  'precision', 'predicted', average, warn_for)\n"
     ]
    },
    {
     "name": "stdout",
     "output_type": "stream",
     "text": [
      "[CV]  criterion=entropy, bootstrap=False, n_estimators=300, max_features=10, class_weight=None, max_depth=20, min_samples_split=15, min_samples_leaf=20, score=0.0, total=   3.1s\n",
      "[Parallel(n_jobs=1)]: Done 483 out of 483 | elapsed: 22.7min remaining:    0.0s\n",
      "[CV] criterion=entropy, bootstrap=False, n_estimators=300, max_features=10, class_weight=None, max_depth=20, min_samples_split=15, min_samples_leaf=20 \n"
     ]
    },
    {
     "name": "stderr",
     "output_type": "stream",
     "text": [
      "C:\\Users\\dell\\AppData\\Local\\conda\\conda\\envs\\tensorflow\\lib\\site-packages\\sklearn\\metrics\\classification.py:1135: UndefinedMetricWarning: F-score is ill-defined and being set to 0.0 due to no predicted samples.\n",
      "  'precision', 'predicted', average, warn_for)\n",
      "C:\\Users\\dell\\AppData\\Local\\conda\\conda\\envs\\tensorflow\\lib\\site-packages\\sklearn\\metrics\\classification.py:1135: UndefinedMetricWarning: F-score is ill-defined and being set to 0.0 due to no predicted samples.\n",
      "  'precision', 'predicted', average, warn_for)\n"
     ]
    },
    {
     "name": "stdout",
     "output_type": "stream",
     "text": [
      "[CV]  criterion=entropy, bootstrap=False, n_estimators=300, max_features=10, class_weight=None, max_depth=20, min_samples_split=15, min_samples_leaf=20, score=0.0, total=   4.0s\n",
      "[Parallel(n_jobs=1)]: Done 484 out of 484 | elapsed: 22.8min remaining:    0.0s\n",
      "[CV] criterion=entropy, bootstrap=False, n_estimators=300, max_features=10, class_weight=None, max_depth=20, min_samples_split=15, min_samples_leaf=20 \n"
     ]
    },
    {
     "name": "stderr",
     "output_type": "stream",
     "text": [
      "C:\\Users\\dell\\AppData\\Local\\conda\\conda\\envs\\tensorflow\\lib\\site-packages\\sklearn\\metrics\\classification.py:1135: UndefinedMetricWarning: F-score is ill-defined and being set to 0.0 due to no predicted samples.\n",
      "  'precision', 'predicted', average, warn_for)\n",
      "C:\\Users\\dell\\AppData\\Local\\conda\\conda\\envs\\tensorflow\\lib\\site-packages\\sklearn\\metrics\\classification.py:1135: UndefinedMetricWarning: F-score is ill-defined and being set to 0.0 due to no predicted samples.\n",
      "  'precision', 'predicted', average, warn_for)\n"
     ]
    },
    {
     "name": "stdout",
     "output_type": "stream",
     "text": [
      "[CV]  criterion=entropy, bootstrap=False, n_estimators=300, max_features=10, class_weight=None, max_depth=20, min_samples_split=15, min_samples_leaf=20, score=0.0, total=   3.4s\n",
      "[Parallel(n_jobs=1)]: Done 485 out of 485 | elapsed: 22.8min remaining:    0.0s\n",
      "[CV] criterion=entropy, bootstrap=False, n_estimators=300, max_features=10, class_weight=None, max_depth=20, min_samples_split=15, min_samples_leaf=20 \n"
     ]
    },
    {
     "name": "stderr",
     "output_type": "stream",
     "text": [
      "C:\\Users\\dell\\AppData\\Local\\conda\\conda\\envs\\tensorflow\\lib\\site-packages\\sklearn\\metrics\\classification.py:1135: UndefinedMetricWarning: F-score is ill-defined and being set to 0.0 due to no predicted samples.\n",
      "  'precision', 'predicted', average, warn_for)\n",
      "C:\\Users\\dell\\AppData\\Local\\conda\\conda\\envs\\tensorflow\\lib\\site-packages\\sklearn\\metrics\\classification.py:1135: UndefinedMetricWarning: F-score is ill-defined and being set to 0.0 due to no predicted samples.\n",
      "  'precision', 'predicted', average, warn_for)\n"
     ]
    },
    {
     "name": "stdout",
     "output_type": "stream",
     "text": [
      "[CV]  criterion=entropy, bootstrap=False, n_estimators=300, max_features=10, class_weight=None, max_depth=20, min_samples_split=15, min_samples_leaf=20, score=0.0, total=   3.1s\n",
      "[Parallel(n_jobs=1)]: Done 486 out of 486 | elapsed: 22.9min remaining:    0.0s\n",
      "[CV] criterion=entropy, bootstrap=False, n_estimators=300, max_features=10, class_weight=None, max_depth=20, min_samples_split=15, min_samples_leaf=20 \n"
     ]
    },
    {
     "name": "stderr",
     "output_type": "stream",
     "text": [
      "C:\\Users\\dell\\AppData\\Local\\conda\\conda\\envs\\tensorflow\\lib\\site-packages\\sklearn\\metrics\\classification.py:1135: UndefinedMetricWarning: F-score is ill-defined and being set to 0.0 due to no predicted samples.\n",
      "  'precision', 'predicted', average, warn_for)\n",
      "C:\\Users\\dell\\AppData\\Local\\conda\\conda\\envs\\tensorflow\\lib\\site-packages\\sklearn\\metrics\\classification.py:1135: UndefinedMetricWarning: F-score is ill-defined and being set to 0.0 due to no predicted samples.\n",
      "  'precision', 'predicted', average, warn_for)\n"
     ]
    },
    {
     "name": "stdout",
     "output_type": "stream",
     "text": [
      "[CV]  criterion=entropy, bootstrap=False, n_estimators=300, max_features=10, class_weight=None, max_depth=20, min_samples_split=15, min_samples_leaf=20, score=0.0, total=   3.1s\n",
      "[Parallel(n_jobs=1)]: Done 487 out of 487 | elapsed: 23.0min remaining:    0.0s\n",
      "[CV] criterion=entropy, bootstrap=False, n_estimators=300, max_features=10, class_weight=None, max_depth=20, min_samples_split=15, min_samples_leaf=20 \n"
     ]
    },
    {
     "name": "stderr",
     "output_type": "stream",
     "text": [
      "C:\\Users\\dell\\AppData\\Local\\conda\\conda\\envs\\tensorflow\\lib\\site-packages\\sklearn\\metrics\\classification.py:1135: UndefinedMetricWarning: F-score is ill-defined and being set to 0.0 due to no predicted samples.\n",
      "  'precision', 'predicted', average, warn_for)\n",
      "C:\\Users\\dell\\AppData\\Local\\conda\\conda\\envs\\tensorflow\\lib\\site-packages\\sklearn\\metrics\\classification.py:1135: UndefinedMetricWarning: F-score is ill-defined and being set to 0.0 due to no predicted samples.\n",
      "  'precision', 'predicted', average, warn_for)\n"
     ]
    },
    {
     "name": "stdout",
     "output_type": "stream",
     "text": [
      "[CV]  criterion=entropy, bootstrap=False, n_estimators=300, max_features=10, class_weight=None, max_depth=20, min_samples_split=15, min_samples_leaf=20, score=0.0, total=   4.0s\n",
      "[Parallel(n_jobs=1)]: Done 488 out of 488 | elapsed: 23.0min remaining:    0.0s\n",
      "[CV] criterion=entropy, bootstrap=False, n_estimators=300, max_features=10, class_weight=None, max_depth=20, min_samples_split=15, min_samples_leaf=20 \n"
     ]
    },
    {
     "name": "stderr",
     "output_type": "stream",
     "text": [
      "C:\\Users\\dell\\AppData\\Local\\conda\\conda\\envs\\tensorflow\\lib\\site-packages\\sklearn\\metrics\\classification.py:1135: UndefinedMetricWarning: F-score is ill-defined and being set to 0.0 due to no predicted samples.\n",
      "  'precision', 'predicted', average, warn_for)\n",
      "C:\\Users\\dell\\AppData\\Local\\conda\\conda\\envs\\tensorflow\\lib\\site-packages\\sklearn\\metrics\\classification.py:1135: UndefinedMetricWarning: F-score is ill-defined and being set to 0.0 due to no predicted samples.\n",
      "  'precision', 'predicted', average, warn_for)\n"
     ]
    },
    {
     "name": "stdout",
     "output_type": "stream",
     "text": [
      "[CV]  criterion=entropy, bootstrap=False, n_estimators=300, max_features=10, class_weight=None, max_depth=20, min_samples_split=15, min_samples_leaf=20, score=0.0, total=   3.4s\n",
      "[Parallel(n_jobs=1)]: Done 489 out of 489 | elapsed: 23.1min remaining:    0.0s\n",
      "[CV] criterion=entropy, bootstrap=False, n_estimators=300, max_features=10, class_weight=None, max_depth=20, min_samples_split=15, min_samples_leaf=20 \n"
     ]
    },
    {
     "name": "stderr",
     "output_type": "stream",
     "text": [
      "C:\\Users\\dell\\AppData\\Local\\conda\\conda\\envs\\tensorflow\\lib\\site-packages\\sklearn\\metrics\\classification.py:1135: UndefinedMetricWarning: F-score is ill-defined and being set to 0.0 due to no predicted samples.\n",
      "  'precision', 'predicted', average, warn_for)\n",
      "C:\\Users\\dell\\AppData\\Local\\conda\\conda\\envs\\tensorflow\\lib\\site-packages\\sklearn\\metrics\\classification.py:1135: UndefinedMetricWarning: F-score is ill-defined and being set to 0.0 due to no predicted samples.\n",
      "  'precision', 'predicted', average, warn_for)\n"
     ]
    },
    {
     "name": "stdout",
     "output_type": "stream",
     "text": [
      "[CV]  criterion=entropy, bootstrap=False, n_estimators=300, max_features=10, class_weight=None, max_depth=20, min_samples_split=15, min_samples_leaf=20, score=0.0, total=   3.1s\n",
      "[Parallel(n_jobs=1)]: Done 490 out of 490 | elapsed: 23.2min remaining:    0.0s\n",
      "[CV] criterion=entropy, bootstrap=True, n_estimators=100, max_features=25, class_weight=balanced, max_depth=None, min_samples_split=10, min_samples_leaf=20 \n",
      "[CV]  criterion=entropy, bootstrap=True, n_estimators=100, max_features=25, class_weight=balanced, max_depth=None, min_samples_split=10, min_samples_leaf=20, score=0.30991735537190085, total=   1.2s\n",
      "[Parallel(n_jobs=1)]: Done 491 out of 491 | elapsed: 23.2min remaining:    0.0s\n",
      "[CV] criterion=entropy, bootstrap=True, n_estimators=100, max_features=25, class_weight=balanced, max_depth=None, min_samples_split=10, min_samples_leaf=20 \n",
      "[CV]  criterion=entropy, bootstrap=True, n_estimators=100, max_features=25, class_weight=balanced, max_depth=None, min_samples_split=10, min_samples_leaf=20, score=0.273972602739726, total=   1.2s\n",
      "[Parallel(n_jobs=1)]: Done 492 out of 492 | elapsed: 23.2min remaining:    0.0s\n",
      "[CV] criterion=entropy, bootstrap=True, n_estimators=100, max_features=25, class_weight=balanced, max_depth=None, min_samples_split=10, min_samples_leaf=20 \n",
      "[CV]  criterion=entropy, bootstrap=True, n_estimators=100, max_features=25, class_weight=balanced, max_depth=None, min_samples_split=10, min_samples_leaf=20, score=0.3023255813953488, total=   1.5s\n",
      "[Parallel(n_jobs=1)]: Done 493 out of 493 | elapsed: 23.3min remaining:    0.0s\n",
      "[CV] criterion=entropy, bootstrap=True, n_estimators=100, max_features=25, class_weight=balanced, max_depth=None, min_samples_split=10, min_samples_leaf=20 \n",
      "[CV]  criterion=entropy, bootstrap=True, n_estimators=100, max_features=25, class_weight=balanced, max_depth=None, min_samples_split=10, min_samples_leaf=20, score=0.3389830508474576, total=   1.7s\n",
      "[Parallel(n_jobs=1)]: Done 494 out of 494 | elapsed: 23.3min remaining:    0.0s\n",
      "[CV] criterion=entropy, bootstrap=True, n_estimators=100, max_features=25, class_weight=balanced, max_depth=None, min_samples_split=10, min_samples_leaf=20 \n",
      "[CV]  criterion=entropy, bootstrap=True, n_estimators=100, max_features=25, class_weight=balanced, max_depth=None, min_samples_split=10, min_samples_leaf=20, score=0.40178571428571425, total=   1.7s\n",
      "[Parallel(n_jobs=1)]: Done 495 out of 495 | elapsed: 23.3min remaining:    0.0s\n",
      "[CV] criterion=entropy, bootstrap=True, n_estimators=100, max_features=25, class_weight=balanced, max_depth=None, min_samples_split=10, min_samples_leaf=20 \n",
      "[CV]  criterion=entropy, bootstrap=True, n_estimators=100, max_features=25, class_weight=balanced, max_depth=None, min_samples_split=10, min_samples_leaf=20, score=0.273972602739726, total=   1.4s\n",
      "[Parallel(n_jobs=1)]: Done 496 out of 496 | elapsed: 23.3min remaining:    0.0s\n",
      "[CV] criterion=entropy, bootstrap=True, n_estimators=100, max_features=25, class_weight=balanced, max_depth=None, min_samples_split=10, min_samples_leaf=20 \n",
      "[CV]  criterion=entropy, bootstrap=True, n_estimators=100, max_features=25, class_weight=balanced, max_depth=None, min_samples_split=10, min_samples_leaf=20, score=0.3097345132743363, total=   1.4s\n",
      "[Parallel(n_jobs=1)]: Done 497 out of 497 | elapsed: 23.4min remaining:    0.0s\n",
      "[CV] criterion=entropy, bootstrap=True, n_estimators=100, max_features=25, class_weight=balanced, max_depth=None, min_samples_split=10, min_samples_leaf=20 \n",
      "[CV]  criterion=entropy, bootstrap=True, n_estimators=100, max_features=25, class_weight=balanced, max_depth=None, min_samples_split=10, min_samples_leaf=20, score=0.22321428571428573, total=   1.3s\n",
      "[Parallel(n_jobs=1)]: Done 498 out of 498 | elapsed: 23.4min remaining:    0.0s\n",
      "[CV] criterion=entropy, bootstrap=True, n_estimators=100, max_features=25, class_weight=balanced, max_depth=None, min_samples_split=10, min_samples_leaf=20 \n",
      "[CV]  criterion=entropy, bootstrap=True, n_estimators=100, max_features=25, class_weight=balanced, max_depth=None, min_samples_split=10, min_samples_leaf=20, score=0.36866359447004604, total=   1.3s\n",
      "[Parallel(n_jobs=1)]: Done 499 out of 499 | elapsed: 23.4min remaining:    0.0s\n",
      "[CV] criterion=entropy, bootstrap=True, n_estimators=100, max_features=25, class_weight=balanced, max_depth=None, min_samples_split=10, min_samples_leaf=20 \n",
      "[CV]  criterion=entropy, bootstrap=True, n_estimators=100, max_features=25, class_weight=balanced, max_depth=None, min_samples_split=10, min_samples_leaf=20, score=0.40669856459330145, total=   1.2s\n",
      "[Parallel(n_jobs=1)]: Done 500 out of 500 | elapsed: 23.5min finished\n",
      "Wall time: 23min 29s\n"
     ]
    },
    {
     "data": {
      "text/plain": [
       "RandomizedSearchCV(cv=10, error_score='raise',\n",
       "          estimator=RandomForestClassifier(bootstrap=True, class_weight=None, criterion='gini',\n",
       "            max_depth=None, max_features='auto', max_leaf_nodes=None,\n",
       "            min_impurity_decrease=0.0, min_impurity_split=None,\n",
       "            min_samples_leaf=1, min_samples_split=2,\n",
       "            min_weight_fraction_leaf=0.0, n_estimators=10, n_jobs=1,\n",
       "            oob_score=False, random_state=10, verbose=0, warm_start=False),\n",
       "          fit_params=None, iid=True, n_iter=50, n_jobs=1,\n",
       "          param_distributions={'criterion': ['entropy', 'gini'], 'bootstrap': [True, False], 'n_estimators': [100, 200, 300], 'max_features': [5, 10, 20, 25], 'class_weight': [None, 'balanced'], 'min_samples_split': [10, 15, 20], 'max_depth': [None, 5, 10, 15, 20], 'min_samples_leaf': [10, 15, 20]},\n",
       "          pre_dispatch='2*n_jobs', random_state=None, refit=True,\n",
       "          return_train_score='warn',\n",
       "          scoring=make_scorer(fbeta_score, beta=2), verbose=500)"
      ]
     },
     "execution_count": 25,
     "metadata": {},
     "output_type": "execute_result"
    }
   ],
   "source": [
    "# %time grid_search.fit(Tr_x,Tr_y)\n",
    "%time random_search.fit(Tr_x, Tr_y)"
   ]
  },
  {
   "cell_type": "code",
   "execution_count": 26,
   "metadata": {},
   "outputs": [
    {
     "data": {
      "text/plain": [
       "RandomForestClassifier(bootstrap=False, class_weight='balanced',\n",
       "            criterion='gini', max_depth=5, max_features=20,\n",
       "            max_leaf_nodes=None, min_impurity_decrease=0.0,\n",
       "            min_impurity_split=None, min_samples_leaf=10,\n",
       "            min_samples_split=15, min_weight_fraction_leaf=0.0,\n",
       "            n_estimators=300, n_jobs=1, oob_score=False, random_state=10,\n",
       "            verbose=0, warm_start=False)"
      ]
     },
     "execution_count": 26,
     "metadata": {},
     "output_type": "execute_result"
    }
   ],
   "source": [
    "# grid_search.best_estimator_\n",
    "random_search.best_estimator_"
   ]
  },
  {
   "cell_type": "code",
   "execution_count": 27,
   "metadata": {},
   "outputs": [],
   "source": [
    "# modellr=grid_search.best_estimator_\n",
    "# modelrf=grid_search.best_estimator_\n",
    "modelrf = random_search.best_estimator_"
   ]
  },
  {
   "cell_type": "code",
   "execution_count": 28,
   "metadata": {},
   "outputs": [
    {
     "name": "stdout",
     "output_type": "stream",
     "text": [
      "Model with rank: 1\n",
      "Mean validation score: 0.369 (std: 0.03514)\n",
      "Parameters: {'criterion': 'gini', 'bootstrap': False, 'n_estimators': 300, 'max_features': 20, 'class_weight': 'balanced', 'max_depth': 5, 'min_samples_split': 15, 'min_samples_leaf': 10}\n",
      "\n",
      "Model with rank: 2\n",
      "Mean validation score: 0.369 (std: 0.05544)\n",
      "Parameters: {'criterion': 'entropy', 'bootstrap': True, 'n_estimators': 300, 'max_features': 20, 'class_weight': 'balanced', 'max_depth': 5, 'min_samples_split': 20, 'min_samples_leaf': 10}\n",
      "\n",
      "Model with rank: 3\n",
      "Mean validation score: 0.368 (std: 0.03341)\n",
      "Parameters: {'criterion': 'gini', 'bootstrap': False, 'n_estimators': 100, 'max_features': 25, 'class_weight': 'balanced', 'max_depth': 5, 'min_samples_split': 20, 'min_samples_leaf': 15}\n",
      "\n",
      "Model with rank: 4\n",
      "Mean validation score: 0.365 (std: 0.04524)\n",
      "Parameters: {'criterion': 'entropy', 'bootstrap': True, 'n_estimators': 200, 'max_features': 20, 'class_weight': 'balanced', 'max_depth': 5, 'min_samples_split': 10, 'min_samples_leaf': 20}\n",
      "\n",
      "Model with rank: 5\n",
      "Mean validation score: 0.356 (std: 0.04313)\n",
      "Parameters: {'criterion': 'gini', 'bootstrap': True, 'n_estimators': 200, 'max_features': 10, 'class_weight': 'balanced', 'max_depth': 5, 'min_samples_split': 10, 'min_samples_leaf': 15}\n",
      "\n"
     ]
    }
   ],
   "source": [
    "def report(results, n_top=3):\n",
    "    for i in range(1, n_top + 1):\n",
    "        candidates = np.flatnonzero(results['rank_test_score'] == i)\n",
    "        for candidate in candidates:\n",
    "            print(\"Model with rank: {0}\".format(i))\n",
    "            print(\"Mean validation score: {0:.3f} (std: {1:.5f})\".format(\n",
    "                  results['mean_test_score'][candidate],\n",
    "                  results['std_test_score'][candidate]))\n",
    "            print(\"Parameters: {0}\".format(results['params'][candidate]))\n",
    "            print(\"\")\n",
    "\n",
    "# report(grid_search.cv_results_,5)\n",
    "report(random_search.cv_results_,5)"
   ]
  },
  {
   "cell_type": "code",
   "execution_count": 29,
   "metadata": {},
   "outputs": [
    {
     "data": {
      "text/plain": [
       "RandomForestClassifier(bootstrap=False, class_weight='balanced',\n",
       "            criterion='gini', max_depth=5, max_features=20,\n",
       "            max_leaf_nodes=None, min_impurity_decrease=0.0,\n",
       "            min_impurity_split=None, min_samples_leaf=10,\n",
       "            min_samples_split=15, min_weight_fraction_leaf=0.0,\n",
       "            n_estimators=300, n_jobs=1, oob_score=False, random_state=10,\n",
       "            verbose=0, warm_start=False)"
      ]
     },
     "execution_count": 29,
     "metadata": {},
     "output_type": "execute_result"
    }
   ],
   "source": [
    "# modellr.fit(Tr_x,Tr_y)\n",
    "modelrf.fit(Tr_x,Tr_y)"
   ]
  },
  {
   "cell_type": "code",
   "execution_count": 30,
   "metadata": {},
   "outputs": [
    {
     "data": {
      "text/plain": [
       "array([0.01, 0.02, 0.03, 0.04, 0.05, 0.06, 0.07, 0.08, 0.09, 0.1 , 0.11,\n",
       "       0.12, 0.13, 0.14, 0.15, 0.16, 0.17, 0.18, 0.19, 0.2 , 0.21, 0.22,\n",
       "       0.23, 0.24, 0.25, 0.26, 0.27, 0.28, 0.29, 0.3 , 0.31, 0.32, 0.33,\n",
       "       0.34, 0.35, 0.36, 0.37, 0.38, 0.39, 0.4 , 0.41, 0.42, 0.43, 0.44,\n",
       "       0.45, 0.46, 0.47, 0.48, 0.49, 0.5 , 0.51, 0.52, 0.53, 0.54, 0.55,\n",
       "       0.56, 0.57, 0.58, 0.59, 0.6 , 0.61, 0.62, 0.63, 0.64, 0.65, 0.66,\n",
       "       0.67, 0.68, 0.69, 0.7 , 0.71, 0.72, 0.73, 0.74, 0.75, 0.76, 0.77,\n",
       "       0.78, 0.79, 0.8 , 0.81, 0.82, 0.83, 0.84, 0.85, 0.86, 0.87, 0.88,\n",
       "       0.89, 0.9 , 0.91, 0.92, 0.93, 0.94, 0.95, 0.96, 0.97, 0.98, 0.99])"
      ]
     },
     "execution_count": 30,
     "metadata": {},
     "output_type": "execute_result"
    }
   ],
   "source": [
    "cutoffs=np.linspace(0.01,0.99,99)\n",
    "\n",
    "cutoffs"
   ]
  },
  {
   "cell_type": "code",
   "execution_count": 31,
   "metadata": {},
   "outputs": [
    {
     "data": {
      "text/plain": [
       "array([0.5315889 , 0.31235278, 0.49299001, ..., 0.62088338, 0.47497439,\n",
       "       0.33732113])"
      ]
     },
     "execution_count": 31,
     "metadata": {},
     "output_type": "execute_result"
    }
   ],
   "source": [
    "# train_score=modellr.predict_proba(Tr_x)[:,1]\n",
    "train_score = modelrf.predict_proba(Tr_x)[:,1]\n",
    "train_score"
   ]
  },
  {
   "cell_type": "code",
   "execution_count": 32,
   "metadata": {},
   "outputs": [
    {
     "data": {
      "text/plain": [
       "array([[0.4684111 , 0.5315889 ],\n",
       "       [0.68764722, 0.31235278],\n",
       "       [0.50700999, 0.49299001],\n",
       "       ...,\n",
       "       [0.37911662, 0.62088338],\n",
       "       [0.52502561, 0.47497439],\n",
       "       [0.66267887, 0.33732113]])"
      ]
     },
     "execution_count": 32,
     "metadata": {},
     "output_type": "execute_result"
    }
   ],
   "source": [
    "# modellr.predict_proba(Tr_x)\n",
    "modelrf.predict_proba(Tr_x)"
   ]
  },
  {
   "cell_type": "code",
   "execution_count": 33,
   "metadata": {},
   "outputs": [],
   "source": [
    "real=Tr_y"
   ]
  },
  {
   "cell_type": "code",
   "execution_count": 34,
   "metadata": {},
   "outputs": [
    {
     "data": {
      "text/plain": [
       "array([ True,  True,  True, ...,  True,  True,  True])"
      ]
     },
     "execution_count": 34,
     "metadata": {},
     "output_type": "execute_result"
    }
   ],
   "source": [
    "train_score>0.2"
   ]
  },
  {
   "cell_type": "code",
   "execution_count": 35,
   "metadata": {},
   "outputs": [],
   "source": [
    "KS_all=[]\n",
    "\n",
    "for cutoff in cutoffs:\n",
    "    \n",
    "    predicted=(train_score>cutoff).astype(int)\n",
    "\n",
    "    TP=((predicted==1) & (real==1)).sum()\n",
    "    TN=((predicted==0) & (real==0)).sum()\n",
    "    FP=((predicted==1) & (real==0)).sum()\n",
    "    FN=((predicted==0) & (real==1)).sum()\n",
    "    \n",
    "    P=TP+FN\n",
    "    N=TN+FP\n",
    "      \n",
    "    KS=(TP/P)-(FP/N)\n",
    "    \n",
    "    \n",
    "    KS_all.append(KS)\n",
    "\n",
    "# try out what cutoffs you get when you use F_beta scores with different values of betas [0.5 , 5]\n",
    "# beta < 1 : you will get cutoff , which is high ( favours precision)\n",
    "# beta > 1 : you will get cutoff , which is low (favours precision )"
   ]
  },
  {
   "cell_type": "code",
   "execution_count": 36,
   "metadata": {},
   "outputs": [
    {
     "data": {
      "text/plain": [
       "[(0.0, 0.01),\n",
       " (0.0, 0.02),\n",
       " (0.0, 0.03),\n",
       " (0.0, 0.04),\n",
       " (0.0, 0.05),\n",
       " (0.0, 0.060000000000000005),\n",
       " (0.0, 0.06999999999999999),\n",
       " (0.0, 0.08),\n",
       " (0.0, 0.09),\n",
       " (0.0, 0.09999999999999999),\n",
       " (0.0, 0.11),\n",
       " (0.0, 0.12),\n",
       " (0.0, 0.13),\n",
       " (0.0, 0.14),\n",
       " (0.0005480453050785705, 0.15000000000000002),\n",
       " (0.0031055900621117516, 0.16),\n",
       " (0.004932407745707024, 0.17),\n",
       " (0.010047497259773497, 0.18000000000000002),\n",
       " (0.01717208622579469, 0.19),\n",
       " (0.02831567409572522, 0.2),\n",
       " (0.035622944830105974, 0.21000000000000002),\n",
       " (0.0496894409937888, 0.22),\n",
       " (0.06375593715747163, 0.23),\n",
       " (0.08238947753014247, 0.24000000000000002),\n",
       " (0.10010960906101574, 0.25),\n",
       " (0.11965655827548416, 0.26),\n",
       " (0.14011691633175005, 0.27),\n",
       " (0.1695286810376324, 0.28),\n",
       " (0.20442089879430037, 0.29000000000000004),\n",
       " (0.23328461819510415, 0.3),\n",
       " (0.26238036443962887, 0.31),\n",
       " (0.2981859910380944, 0.32),\n",
       " (0.33179943641624565, 0.33),\n",
       " (0.3606285092747744, 0.34),\n",
       " (0.38261436508636437, 0.35000000000000003),\n",
       " (0.41139409286953155, 0.36000000000000004),\n",
       " (0.4283981958600531, 0.37),\n",
       " (0.43025441060982117, 0.38),\n",
       " (0.44068196993940006, 0.39),\n",
       " (0.4424888396138065, 0.4),\n",
       " (0.443100928527333, 0.41000000000000003),\n",
       " (0.45452588831634605, 0.42000000000000004),\n",
       " (0.46098379381737703, 0.43),\n",
       " (0.4684884448532037, 0.44),\n",
       " (0.4778692586479869, 0.45),\n",
       " (0.49148639965731417, 0.46),\n",
       " (0.5130921933990988, 0.47000000000000003),\n",
       " (0.5191007437457742, 0.48000000000000004),\n",
       " (0.5256919859398033, 0.49),\n",
       " (0.52936031984008, 0.5),\n",
       " (0.5343074261188734, 0.51),\n",
       " (0.5345541514956808, 0.52),\n",
       " (0.5208971144679762, 0.53),\n",
       " (0.5131205405700511, 0.54),\n",
       " (0.4951284861770795, 0.55),\n",
       " (0.4795459413150568, 0.56),\n",
       " (0.45594009717830164, 0.5700000000000001),\n",
       " (0.4321022261978254, 0.5800000000000001),\n",
       " (0.42190144423586523, 0.59),\n",
       " (0.41530495256573396, 0.6),\n",
       " (0.4016825620803044, 0.61),\n",
       " (0.37542048303579306, 0.62),\n",
       " (0.3671798554504261, 0.63),\n",
       " (0.34830903875793195, 0.64),\n",
       " (0.31922274157039127, 0.65),\n",
       " (0.29615024420562824, 0.66),\n",
       " (0.28512004501950705, 0.67),\n",
       " (0.2516493853913379, 0.68),\n",
       " (0.2233778068948719, 0.6900000000000001),\n",
       " (0.1723004044196389, 0.7000000000000001),\n",
       " (0.1608554966214372, 0.7100000000000001),\n",
       " (0.12788353722298515, 0.72),\n",
       " (0.11032613945128275, 0.73),\n",
       " (0.08702161524279876, 0.74),\n",
       " (0.029051650645265607, 0.75),\n",
       " (0.01614528870018772, 0.76),\n",
       " (0.013637089018515952, 0.77),\n",
       " (0.008255326118453378, 0.78),\n",
       " (0.0, 0.79),\n",
       " (0.0, 0.8),\n",
       " (0.0, 0.81),\n",
       " (0.0, 0.8200000000000001),\n",
       " (0.0, 0.8300000000000001),\n",
       " (0.0, 0.8400000000000001),\n",
       " (0.0, 0.85),\n",
       " (0.0, 0.86),\n",
       " (0.0, 0.87),\n",
       " (0.0, 0.88),\n",
       " (0.0, 0.89),\n",
       " (0.0, 0.9),\n",
       " (0.0, 0.91),\n",
       " (0.0, 0.92),\n",
       " (0.0, 0.93),\n",
       " (0.0, 0.9400000000000001),\n",
       " (0.0, 0.9500000000000001),\n",
       " (0.0, 0.9600000000000001),\n",
       " (0.0, 0.97),\n",
       " (0.0, 0.98),\n",
       " (0.0, 0.99)]"
      ]
     },
     "execution_count": 36,
     "metadata": {},
     "output_type": "execute_result"
    }
   ],
   "source": [
    "list(zip(KS_all,cutoffs))"
   ]
  },
  {
   "cell_type": "code",
   "execution_count": 37,
   "metadata": {},
   "outputs": [
    {
     "data": {
      "text/plain": [
       "0.5345541514956808"
      ]
     },
     "execution_count": 37,
     "metadata": {},
     "output_type": "execute_result"
    }
   ],
   "source": [
    "max(KS_all)"
   ]
  },
  {
   "cell_type": "code",
   "execution_count": 38,
   "metadata": {},
   "outputs": [
    {
     "data": {
      "text/plain": [
       "0.52"
      ]
     },
     "execution_count": 38,
     "metadata": {},
     "output_type": "execute_result"
    }
   ],
   "source": [
    "mycutoff=cutoffs[KS_all==max(KS_all)][0]\n",
    "mycutoff"
   ]
  },
  {
   "cell_type": "code",
   "execution_count": 39,
   "metadata": {},
   "outputs": [],
   "source": [
    "# modellr.intercept_"
   ]
  },
  {
   "cell_type": "code",
   "execution_count": 40,
   "metadata": {},
   "outputs": [],
   "source": [
    "# list(zip(Tr_x.columns,modellr.coef_[0]))\n",
    "# list(zip(Tr_x.columns, modelrf.coef_[0]))"
   ]
  },
  {
   "cell_type": "code",
   "execution_count": 41,
   "metadata": {},
   "outputs": [
    {
     "data": {
      "text/plain": [
       "array([[0.66024915, 0.33975085],\n",
       "       [0.31261102, 0.68738898],\n",
       "       [0.34984497, 0.65015503],\n",
       "       ...,\n",
       "       [0.43482628, 0.56517372],\n",
       "       [0.47024643, 0.52975357],\n",
       "       [0.5701612 , 0.4298388 ]])"
      ]
     },
     "execution_count": 41,
     "metadata": {},
     "output_type": "execute_result"
    }
   ],
   "source": [
    "# modellr.predict_proba(test_data)\n",
    "modelrf.predict_proba(test_data)"
   ]
  },
  {
   "cell_type": "code",
   "execution_count": 42,
   "metadata": {},
   "outputs": [
    {
     "data": {
      "text/plain": [
       "array([0., 1.])"
      ]
     },
     "execution_count": 42,
     "metadata": {},
     "output_type": "execute_result"
    }
   ],
   "source": [
    "# modellr.classes_\n",
    "modelrf.classes_"
   ]
  },
  {
   "cell_type": "code",
   "execution_count": 43,
   "metadata": {},
   "outputs": [],
   "source": [
    "# test_score=modellr.predict_proba(test_data)[:,1]\n",
    "test_score = modelrf.predict_proba(test_data)[:,1]"
   ]
  },
  {
   "cell_type": "code",
   "execution_count": 44,
   "metadata": {},
   "outputs": [
    {
     "data": {
      "text/plain": [
       "array([False,  True,  True, ...,  True,  True, False])"
      ]
     },
     "execution_count": 44,
     "metadata": {},
     "output_type": "execute_result"
    }
   ],
   "source": [
    "test_score>mycutoff"
   ]
  },
  {
   "cell_type": "code",
   "execution_count": 45,
   "metadata": {},
   "outputs": [
    {
     "data": {
      "text/plain": [
       "array([0, 1, 1, ..., 1, 1, 0])"
      ]
     },
     "execution_count": 45,
     "metadata": {},
     "output_type": "execute_result"
    }
   ],
   "source": [
    "test_classes=(test_score>mycutoff).astype(int)\n",
    "test_classes"
   ]
  },
  {
   "cell_type": "code",
   "execution_count": 46,
   "metadata": {},
   "outputs": [
    {
     "name": "stdout",
     "output_type": "stream",
     "text": [
      "(5822, 344)\n"
     ]
    },
    {
     "data": {
      "text/plain": [
       "(5822,)"
      ]
     },
     "execution_count": 46,
     "metadata": {},
     "output_type": "execute_result"
    }
   ],
   "source": [
    "print(Tr_x.shape)\n",
    "Tr_y.shape"
   ]
  },
  {
   "cell_type": "code",
   "execution_count": 47,
   "metadata": {},
   "outputs": [],
   "source": [
    "# train_score=modellr.predict_proba(Tr_x)[:,1]\n",
    "train_score = modelrf.predict_proba(Tr_x)[:,1]\n",
    "train_classes=(train_score>mycutoff).astype(int)\n",
    "\n",
    "real=Tr_y"
   ]
  },
  {
   "cell_type": "code",
   "execution_count": 48,
   "metadata": {},
   "outputs": [
    {
     "data": {
      "text/plain": [
       "array([[4216,   82],\n",
       "       [1258,  266]], dtype=int64)"
      ]
     },
     "execution_count": 48,
     "metadata": {},
     "output_type": "execute_result"
    }
   ],
   "source": [
    "confusion_matrix(train_classes, Tr_y)"
   ]
  },
  {
   "cell_type": "code",
   "execution_count": 49,
   "metadata": {},
   "outputs": [
    {
     "data": {
      "text/plain": [
       "0.0    5474\n",
       "1.0     348\n",
       "Name: V86, dtype: int64"
      ]
     },
     "execution_count": 49,
     "metadata": {},
     "output_type": "execute_result"
    }
   ],
   "source": [
    "Tr_y.value_counts()"
   ]
  },
  {
   "cell_type": "code",
   "execution_count": 50,
   "metadata": {},
   "outputs": [
    {
     "data": {
      "text/plain": [
       "array([0.5315889 , 0.31235278, 0.49299001, ..., 0.62088338, 0.47497439,\n",
       "       0.33732113])"
      ]
     },
     "execution_count": 50,
     "metadata": {},
     "output_type": "execute_result"
    }
   ],
   "source": [
    "# modellr.predict_proba(Tr_x)[:,1]\n",
    "modelrf.predict_proba(Tr_x)[:,1]"
   ]
  },
  {
   "cell_type": "code",
   "execution_count": 51,
   "metadata": {},
   "outputs": [],
   "source": [
    "# y_pred_proba = modellr.predict_proba(Tr_x)[:,1]\n",
    "y_pred_proba = modelrf.predict_proba(Tr_x)[:,1]\n",
    "fpr, tpr, threshold = metrics.roc_curve(Tr_y, y_pred_proba)\n",
    "roc_auc = metrics.auc(fpr, tpr)"
   ]
  },
  {
   "cell_type": "code",
   "execution_count": 52,
   "metadata": {},
   "outputs": [
    {
     "name": "stdout",
     "output_type": "stream",
     "text": [
      "Confusion Matrix:\n",
      "[[4216   82]\n",
      " [1258  266]]\n",
      "\n",
      "Accuracy:0.7698385434558571\n",
      "\n",
      "             precision    recall  f1-score   support\n",
      "\n",
      "          0       0.77      0.98      0.86      4298\n",
      "          1       0.76      0.17      0.28      1524\n",
      "\n",
      "avg / total       0.77      0.77      0.71      5822\n",
      "\n",
      "\n",
      "AUC:0.841904152965534\n",
      "F2_Score:0.45610425240054875\n"
     ]
    }
   ],
   "source": [
    "auc = metrics.roc_auc_score(Tr_y, y_pred_proba)\n",
    "f2_score = fbeta_score(Tr_y,train_classes,beta=2)\n",
    "print(\"Confusion Matrix:\\n{}\".format(confusion_matrix(train_classes, Tr_y)))\n",
    "print(\"\")\n",
    "print(\"Accuracy:{}\".format(accuracy_score(train_classes,Tr_y)))\n",
    "print(\"\")\n",
    "print(classification_report(train_classes,Tr_y))\n",
    "print(\"\")\n",
    "print(\"AUC:{}\".format(auc))\n",
    "print(\"F2_Score:{}\".format(f2_score))"
   ]
  },
  {
   "cell_type": "code",
   "execution_count": 53,
   "metadata": {},
   "outputs": [
    {
     "data": {
      "image/png": "[encoded data removed]",
      "text/plain": [
       "<Figure size 432x288 with 1 Axes>"
      ]
     },
     "metadata": {},
     "output_type": "display_data"
    }
   ],
   "source": [
    "plt.plot(fpr,tpr,label=\"RevGrid Data, auc=\"+str(auc))\n",
    "plt.legend(loc=4)\n",
    "plt.show()"
   ]
  },
  {
   "cell_type": "code",
   "execution_count": 54,
   "metadata": {},
   "outputs": [
    {
     "data": {
      "image/png": "[encoded data removed]",
      "text/plain": [
       "<Figure size 432x288 with 1 Axes>"
      ]
     },
     "metadata": {},
     "output_type": "display_data"
    }
   ],
   "source": [
    "plt.title('Receiver Operating Characteristic')\n",
    "plt.plot(fpr, tpr, 'b',label='AUC = %0.2f'% roc_auc)\n",
    "plt.legend(loc='lower right')\n",
    "plt.plot([0,1],[0,1],'r--')\n",
    "plt.xlim([0,1.0])\n",
    "plt.ylim([0,1.0])\n",
    "plt.ylabel('True Positive Rate')\n",
    "plt.xlabel('False Positive Rate')\n",
    "plt.show()"
   ]
  },
  {
   "cell_type": "code",
   "execution_count": 55,
   "metadata": {},
   "outputs": [],
   "source": [
    "# subm = pd.DataFrame(test_data[\"\"])"
   ]
  },
  {
   "cell_type": "code",
   "execution_count": 56,
   "metadata": {},
   "outputs": [
    {
     "data": {
      "text/html": [
       "<div>\n",
       "<style scoped>\n",
       "    .dataframe tbody tr th:only-of-type {\n",
       "        vertical-align: middle;\n",
       "    }\n",
       "\n",
       "    .dataframe tbody tr th {\n",
       "        vertical-align: top;\n",
       "    }\n",
       "\n",
       "    .dataframe thead th {\n",
       "        text-align: right;\n",
       "    }\n",
       "</style>\n",
       "<table border=\"1\" class=\"dataframe\">\n",
       "  <thead>\n",
       "    <tr style=\"text-align: right;\">\n",
       "      <th></th>\n",
       "      <th>V86</th>\n",
       "    </tr>\n",
       "  </thead>\n",
       "  <tbody>\n",
       "    <tr>\n",
       "      <th>0</th>\n",
       "      <td>0</td>\n",
       "    </tr>\n",
       "    <tr>\n",
       "      <th>1</th>\n",
       "      <td>1</td>\n",
       "    </tr>\n",
       "    <tr>\n",
       "      <th>2</th>\n",
       "      <td>1</td>\n",
       "    </tr>\n",
       "    <tr>\n",
       "      <th>3</th>\n",
       "      <td>0</td>\n",
       "    </tr>\n",
       "    <tr>\n",
       "      <th>4</th>\n",
       "      <td>0</td>\n",
       "    </tr>\n",
       "  </tbody>\n",
       "</table>\n",
       "</div>"
      ],
      "text/plain": [
       "   V86\n",
       "0    0\n",
       "1    1\n",
       "2    1\n",
       "3    0\n",
       "4    0"
      ]
     },
     "execution_count": 56,
     "metadata": {},
     "output_type": "execute_result"
    }
   ],
   "source": [
    "subm = {\"V86\":test_classes}\n",
    "subm = pd.DataFrame(subm, test_data.index)\n",
    "subm.head()"
   ]
  },
  {
   "cell_type": "code",
   "execution_count": 57,
   "metadata": {},
   "outputs": [],
   "source": [
    "subm.to_csv(\"my_submission_11sep_rf.csv\",index=False)"
   ]
  },
  {
   "cell_type": "code",
   "execution_count": 58,
   "metadata": {},
   "outputs": [
    {
     "data": {
      "text/plain": [
       "0    2967\n",
       "1    1033\n",
       "Name: V86, dtype: int64"
      ]
     },
     "execution_count": 58,
     "metadata": {},
     "output_type": "execute_result"
    }
   ],
   "source": [
    "subm[\"V86\"].value_counts()"
   ]
  },
  {
   "cell_type": "code",
   "execution_count": 59,
   "metadata": {},
   "outputs": [
    {
     "data": {
      "text/html": [
       "<div>\n",
       "<style scoped>\n",
       "    .dataframe tbody tr th:only-of-type {\n",
       "        vertical-align: middle;\n",
       "    }\n",
       "\n",
       "    .dataframe tbody tr th {\n",
       "        vertical-align: top;\n",
       "    }\n",
       "\n",
       "    .dataframe thead th {\n",
       "        text-align: right;\n",
       "    }\n",
       "</style>\n",
       "<table border=\"1\" class=\"dataframe\">\n",
       "  <thead>\n",
       "    <tr style=\"text-align: right;\">\n",
       "      <th></th>\n",
       "      <th>features</th>\n",
       "      <th>importance</th>\n",
       "    </tr>\n",
       "  </thead>\n",
       "  <tbody>\n",
       "    <tr>\n",
       "      <th>311</th>\n",
       "      <td>V47_6</td>\n",
       "      <td>0.165134</td>\n",
       "    </tr>\n",
       "    <tr>\n",
       "      <th>310</th>\n",
       "      <td>V47_0</td>\n",
       "      <td>0.094692</td>\n",
       "    </tr>\n",
       "    <tr>\n",
       "      <th>329</th>\n",
       "      <td>V68_0</td>\n",
       "      <td>0.088366</td>\n",
       "    </tr>\n",
       "    <tr>\n",
       "      <th>320</th>\n",
       "      <td>V59_4</td>\n",
       "      <td>0.049628</td>\n",
       "    </tr>\n",
       "    <tr>\n",
       "      <th>330</th>\n",
       "      <td>V68_1</td>\n",
       "      <td>0.037380</td>\n",
       "    </tr>\n",
       "    <tr>\n",
       "      <th>322</th>\n",
       "      <td>V59_2</td>\n",
       "      <td>0.028886</td>\n",
       "    </tr>\n",
       "    <tr>\n",
       "      <th>326</th>\n",
       "      <td>V65_0</td>\n",
       "      <td>0.027689</td>\n",
       "    </tr>\n",
       "    <tr>\n",
       "      <th>304</th>\n",
       "      <td>V43_7</td>\n",
       "      <td>0.021299</td>\n",
       "    </tr>\n",
       "    <tr>\n",
       "      <th>307</th>\n",
       "      <td>V44_2</td>\n",
       "      <td>0.017781</td>\n",
       "    </tr>\n",
       "    <tr>\n",
       "      <th>2</th>\n",
       "      <td>V1_8</td>\n",
       "      <td>0.017718</td>\n",
       "    </tr>\n",
       "    <tr>\n",
       "      <th>306</th>\n",
       "      <td>V44_0</td>\n",
       "      <td>0.016402</td>\n",
       "    </tr>\n",
       "    <tr>\n",
       "      <th>339</th>\n",
       "      <td>V80_1</td>\n",
       "      <td>0.015664</td>\n",
       "    </tr>\n",
       "    <tr>\n",
       "      <th>319</th>\n",
       "      <td>V59_0</td>\n",
       "      <td>0.013898</td>\n",
       "    </tr>\n",
       "    <tr>\n",
       "      <th>340</th>\n",
       "      <td>V80_0</td>\n",
       "      <td>0.013773</td>\n",
       "    </tr>\n",
       "    <tr>\n",
       "      <th>292</th>\n",
       "      <td>V42_3</td>\n",
       "      <td>0.013687</td>\n",
       "    </tr>\n",
       "    <tr>\n",
       "      <th>335</th>\n",
       "      <td>V75_0</td>\n",
       "      <td>0.012112</td>\n",
       "    </tr>\n",
       "    <tr>\n",
       "      <th>285</th>\n",
       "      <td>V40_0</td>\n",
       "      <td>0.010890</td>\n",
       "    </tr>\n",
       "    <tr>\n",
       "      <th>44</th>\n",
       "      <td>V5_2</td>\n",
       "      <td>0.009770</td>\n",
       "    </tr>\n",
       "    <tr>\n",
       "      <th>207</th>\n",
       "      <td>V30_0</td>\n",
       "      <td>0.009631</td>\n",
       "    </tr>\n",
       "    <tr>\n",
       "      <th>315</th>\n",
       "      <td>V54_0</td>\n",
       "      <td>0.009092</td>\n",
       "    </tr>\n",
       "    <tr>\n",
       "      <th>114</th>\n",
       "      <td>V16_0</td>\n",
       "      <td>0.008251</td>\n",
       "    </tr>\n",
       "    <tr>\n",
       "      <th>241</th>\n",
       "      <td>V34_4</td>\n",
       "      <td>0.007920</td>\n",
       "    </tr>\n",
       "    <tr>\n",
       "      <th>147</th>\n",
       "      <td>V21_0</td>\n",
       "      <td>0.007379</td>\n",
       "    </tr>\n",
       "    <tr>\n",
       "      <th>216</th>\n",
       "      <td>V31_9</td>\n",
       "      <td>0.006392</td>\n",
       "    </tr>\n",
       "    <tr>\n",
       "      <th>42</th>\n",
       "      <td>V5_5</td>\n",
       "      <td>0.006028</td>\n",
       "    </tr>\n",
       "    <tr>\n",
       "      <th>163</th>\n",
       "      <td>V23_1</td>\n",
       "      <td>0.005786</td>\n",
       "    </tr>\n",
       "    <tr>\n",
       "      <th>260</th>\n",
       "      <td>V37_2</td>\n",
       "      <td>0.005708</td>\n",
       "    </tr>\n",
       "    <tr>\n",
       "      <th>226</th>\n",
       "      <td>V32_7</td>\n",
       "      <td>0.005450</td>\n",
       "    </tr>\n",
       "    <tr>\n",
       "      <th>293</th>\n",
       "      <td>V42_4</td>\n",
       "      <td>0.005154</td>\n",
       "    </tr>\n",
       "    <tr>\n",
       "      <th>238</th>\n",
       "      <td>V34_0</td>\n",
       "      <td>0.004776</td>\n",
       "    </tr>\n",
       "    <tr>\n",
       "      <th>...</th>\n",
       "      <td>...</td>\n",
       "      <td>...</td>\n",
       "    </tr>\n",
       "    <tr>\n",
       "      <th>166</th>\n",
       "      <td>V23_6</td>\n",
       "      <td>0.000138</td>\n",
       "    </tr>\n",
       "    <tr>\n",
       "      <th>288</th>\n",
       "      <td>V40_3</td>\n",
       "      <td>0.000132</td>\n",
       "    </tr>\n",
       "    <tr>\n",
       "      <th>313</th>\n",
       "      <td>V49_4</td>\n",
       "      <td>0.000120</td>\n",
       "    </tr>\n",
       "    <tr>\n",
       "      <th>70</th>\n",
       "      <td>V9_1</td>\n",
       "      <td>0.000111</td>\n",
       "    </tr>\n",
       "    <tr>\n",
       "      <th>298</th>\n",
       "      <td>V42_8</td>\n",
       "      <td>0.000100</td>\n",
       "    </tr>\n",
       "    <tr>\n",
       "      <th>22</th>\n",
       "      <td>V1_22</td>\n",
       "      <td>0.000096</td>\n",
       "    </tr>\n",
       "    <tr>\n",
       "      <th>11</th>\n",
       "      <td>V1_24</td>\n",
       "      <td>0.000092</td>\n",
       "    </tr>\n",
       "    <tr>\n",
       "      <th>220</th>\n",
       "      <td>V31_5</td>\n",
       "      <td>0.000086</td>\n",
       "    </tr>\n",
       "    <tr>\n",
       "      <th>150</th>\n",
       "      <td>V21_3</td>\n",
       "      <td>0.000082</td>\n",
       "    </tr>\n",
       "    <tr>\n",
       "      <th>76</th>\n",
       "      <td>V10_4</td>\n",
       "      <td>0.000080</td>\n",
       "    </tr>\n",
       "    <tr>\n",
       "      <th>289</th>\n",
       "      <td>V40_4</td>\n",
       "      <td>0.000079</td>\n",
       "    </tr>\n",
       "    <tr>\n",
       "      <th>10</th>\n",
       "      <td>V1_34</td>\n",
       "      <td>0.000078</td>\n",
       "    </tr>\n",
       "    <tr>\n",
       "      <th>18</th>\n",
       "      <td>V1_1</td>\n",
       "      <td>0.000070</td>\n",
       "    </tr>\n",
       "    <tr>\n",
       "      <th>180</th>\n",
       "      <td>V25_6</td>\n",
       "      <td>0.000054</td>\n",
       "    </tr>\n",
       "    <tr>\n",
       "      <th>27</th>\n",
       "      <td>V1_4</td>\n",
       "      <td>0.000049</td>\n",
       "    </tr>\n",
       "    <tr>\n",
       "      <th>3</th>\n",
       "      <td>V1_39</td>\n",
       "      <td>0.000046</td>\n",
       "    </tr>\n",
       "    <tr>\n",
       "      <th>24</th>\n",
       "      <td>V1_29</td>\n",
       "      <td>0.000044</td>\n",
       "    </tr>\n",
       "    <tr>\n",
       "      <th>266</th>\n",
       "      <td>V37_7</td>\n",
       "      <td>0.000035</td>\n",
       "    </tr>\n",
       "    <tr>\n",
       "      <th>274</th>\n",
       "      <td>V38_1</td>\n",
       "      <td>0.000034</td>\n",
       "    </tr>\n",
       "    <tr>\n",
       "      <th>37</th>\n",
       "      <td>V4_5</td>\n",
       "      <td>0.000030</td>\n",
       "    </tr>\n",
       "    <tr>\n",
       "      <th>179</th>\n",
       "      <td>V25_5</td>\n",
       "      <td>0.000023</td>\n",
       "    </tr>\n",
       "    <tr>\n",
       "      <th>21</th>\n",
       "      <td>V1_30</td>\n",
       "      <td>0.000018</td>\n",
       "    </tr>\n",
       "    <tr>\n",
       "      <th>331</th>\n",
       "      <td>V69_0</td>\n",
       "      <td>0.000000</td>\n",
       "    </tr>\n",
       "    <tr>\n",
       "      <th>23</th>\n",
       "      <td>V1_2</td>\n",
       "      <td>0.000000</td>\n",
       "    </tr>\n",
       "    <tr>\n",
       "      <th>283</th>\n",
       "      <td>V39_7</td>\n",
       "      <td>0.000000</td>\n",
       "    </tr>\n",
       "    <tr>\n",
       "      <th>327</th>\n",
       "      <td>V66_0</td>\n",
       "      <td>0.000000</td>\n",
       "    </tr>\n",
       "    <tr>\n",
       "      <th>338</th>\n",
       "      <td>V78_0</td>\n",
       "      <td>0.000000</td>\n",
       "    </tr>\n",
       "    <tr>\n",
       "      <th>318</th>\n",
       "      <td>V55_4</td>\n",
       "      <td>0.000000</td>\n",
       "    </tr>\n",
       "    <tr>\n",
       "      <th>342</th>\n",
       "      <td>V84_0</td>\n",
       "      <td>0.000000</td>\n",
       "    </tr>\n",
       "    <tr>\n",
       "      <th>28</th>\n",
       "      <td>V1_26</td>\n",
       "      <td>0.000000</td>\n",
       "    </tr>\n",
       "  </tbody>\n",
       "</table>\n",
       "<p>344 rows × 2 columns</p>\n",
       "</div>"
      ],
      "text/plain": [
       "    features  importance\n",
       "311    V47_6    0.165134\n",
       "310    V47_0    0.094692\n",
       "329    V68_0    0.088366\n",
       "320    V59_4    0.049628\n",
       "330    V68_1    0.037380\n",
       "322    V59_2    0.028886\n",
       "326    V65_0    0.027689\n",
       "304    V43_7    0.021299\n",
       "307    V44_2    0.017781\n",
       "2       V1_8    0.017718\n",
       "306    V44_0    0.016402\n",
       "339    V80_1    0.015664\n",
       "319    V59_0    0.013898\n",
       "340    V80_0    0.013773\n",
       "292    V42_3    0.013687\n",
       "335    V75_0    0.012112\n",
       "285    V40_0    0.010890\n",
       "44      V5_2    0.009770\n",
       "207    V30_0    0.009631\n",
       "315    V54_0    0.009092\n",
       "114    V16_0    0.008251\n",
       "241    V34_4    0.007920\n",
       "147    V21_0    0.007379\n",
       "216    V31_9    0.006392\n",
       "42      V5_5    0.006028\n",
       "163    V23_1    0.005786\n",
       "260    V37_2    0.005708\n",
       "226    V32_7    0.005450\n",
       "293    V42_4    0.005154\n",
       "238    V34_0    0.004776\n",
       "..       ...         ...\n",
       "166    V23_6    0.000138\n",
       "288    V40_3    0.000132\n",
       "313    V49_4    0.000120\n",
       "70      V9_1    0.000111\n",
       "298    V42_8    0.000100\n",
       "22     V1_22    0.000096\n",
       "11     V1_24    0.000092\n",
       "220    V31_5    0.000086\n",
       "150    V21_3    0.000082\n",
       "76     V10_4    0.000080\n",
       "289    V40_4    0.000079\n",
       "10     V1_34    0.000078\n",
       "18      V1_1    0.000070\n",
       "180    V25_6    0.000054\n",
       "27      V1_4    0.000049\n",
       "3      V1_39    0.000046\n",
       "24     V1_29    0.000044\n",
       "266    V37_7    0.000035\n",
       "274    V38_1    0.000034\n",
       "37      V4_5    0.000030\n",
       "179    V25_5    0.000023\n",
       "21     V1_30    0.000018\n",
       "331    V69_0    0.000000\n",
       "23      V1_2    0.000000\n",
       "283    V39_7    0.000000\n",
       "327    V66_0    0.000000\n",
       "338    V78_0    0.000000\n",
       "318    V55_4    0.000000\n",
       "342    V84_0    0.000000\n",
       "28     V1_26    0.000000\n",
       "\n",
       "[344 rows x 2 columns]"
      ]
     },
     "execution_count": 59,
     "metadata": {},
     "output_type": "execute_result"
    }
   ],
   "source": [
    "feat_imp_df=pd.DataFrame({'features':Tr_x.columns,'importance':modelrf.feature_importances_})\n",
    "\n",
    "feat_imp_df.sort_values('importance',ascending=False)"
   ]
  },
  {
   "cell_type": "code",
   "execution_count": 60,
   "metadata": {},
   "outputs": [
    {
     "data": {
      "text/plain": [
       "[<matplotlib.lines.Line2D at 0x49ce2ee748>]"
      ]
     },
     "execution_count": 60,
     "metadata": {},
     "output_type": "execute_result"
    },
    {
     "data": {
      "image/png": "[encoded data removed]",
      "text/plain": [
       "<Figure size 432x288 with 1 Axes>"
      ]
     },
     "metadata": {},
     "output_type": "display_data"
    }
   ],
   "source": [
    "plt.plot(feat_imp_df[\"importance\"],feat_imp_df.index,\"o\")"
   ]
  },
  {
   "cell_type": "code",
   "execution_count": null,
   "metadata": {},
   "outputs": [],
   "source": []
  },
  {
   "cell_type": "code",
   "execution_count": null,
   "metadata": {},
   "outputs": [],
   "source": []
  }
 ],
 "metadata": {
  "kernelspec": {
   "display_name": "Python [default]",
   "language": "python",
   "name": "python3"
  },
  "language_info": {
   "codemirror_mode": {
    "name": "ipython",
    "version": 3
   },
   "file_extension": ".py",
   "mimetype": "text/x-python",
   "name": "python",
   "nbconvert_exporter": "python",
   "pygments_lexer": "ipython3",
   "version": "3.5.5"
  }
 },
 "nbformat": 4,
 "nbformat_minor": 2
}
